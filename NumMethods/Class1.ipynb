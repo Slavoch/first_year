{
 "cells": [
  {
   "cell_type": "code",
   "execution_count": 2,
   "id": "3e3d3105-2acb-4f8b-84e5-d344d2cc0911",
   "metadata": {},
   "outputs": [
    {
     "name": "stdout",
     "output_type": "stream",
     "text": [
      "1.1102230246251565e-16\n"
     ]
    }
   ],
   "source": [
    "masheps = 1\n",
    "\n",
    "while (1 +masheps) - 1 > 0 :\n",
    "    masheps = masheps/2\n",
    "print(masheps)\n",
    "    "
   ]
  },
  {
   "cell_type": "code",
   "execution_count": 21,
   "id": "82b8d84c-751f-4b0a-80f7-3292229a4e60",
   "metadata": {},
   "outputs": [],
   "source": [
    "import  numpy as np\n",
    "kmax = 1000\n",
    "y = np.zeros(kmax)\n",
    "y[0] = 1\n",
    "#y[1] = (1/1)*1\n",
    "#for k in range(2,kmax):\n",
    "#    y[k] = (y[k-1] / k)*k\n",
    "#er = abs(y-1)    \n",
    "for k in range(1,kmax):\n",
    "    \n",
    "    y[k] = (y[k-1] / (2**k))*(2**k)"
   ]
  },
  {
   "cell_type": "code",
   "execution_count": 22,
   "id": "85a8560a-3982-48f1-beea-4255ddc3bfa6",
   "metadata": {},
   "outputs": [],
   "source": [
    "er = abs(y-1) "
   ]
  },
  {
   "cell_type": "code",
   "execution_count": 23,
   "id": "6504fc58-54b5-4fd9-9ee6-afa5c59e4287",
   "metadata": {},
   "outputs": [
    {
     "data": {
      "image/png": "[encoded data removed]",
      "text/plain": [
       "<Figure size 432x288 with 1 Axes>"
      ]
     },
     "metadata": {
      "needs_background": "light"
     },
     "output_type": "display_data"
    }
   ],
   "source": [
    "import matplotlib.pyplot as plt\n",
    "import numpy as np\n",
    "\n",
    "plt.plot(er)\n",
    "\n",
    "plt.show()"
   ]
  },
  {
   "cell_type": "code",
   "execution_count": null,
   "id": "749ab6b3-67d2-4620-b186-28d48543c223",
   "metadata": {},
   "outputs": [],
   "source": []
  }
 ],
 "metadata": {
  "kernelspec": {
   "display_name": "Python 3 (ipykernel)",
   "language": "python",
   "name": "python3"
  },
  "language_info": {
   "codemirror_mode": {
    "name": "ipython",
    "version": 3
   },
   "file_extension": ".py",
   "mimetype": "text/x-python",
   "name": "python",
   "nbconvert_exporter": "python",
   "pygments_lexer": "ipython3",
   "version": "3.9.7"
  }
 },
 "nbformat": 4,
 "nbformat_minor": 5
}
