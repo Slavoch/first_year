{
 "cells": [
  {
   "cell_type": "markdown",
   "id": "69a48d7e",
   "metadata": {},
   "source": [
    "!pip install opencv-python"
   ]
  },
  {
   "cell_type": "code",
   "execution_count": 4,
   "id": "ca395072",
   "metadata": {
    "scrolled": true
   },
   "outputs": [
    {
     "name": "stdout",
     "output_type": "stream",
     "text": [
      "0\n",
      "12\n",
      "29\n",
      "29\n"
     ]
    },
    {
     "data": {
      "text/plain": [
       "-1"
      ]
     },
     "execution_count": 4,
     "metadata": {},
     "output_type": "execute_result"
    }
   ],
   "source": [
    "import numpy as np\n",
    "import cv2\n",
    "\n",
    "cam = cv2.VideoCapture(0)\n",
    "\n",
    "cv2.namedWindow('frame')\n",
    "\n",
    "def change_val(inp):\n",
    "    print(inp)\n",
    "\n",
    "cv2.createTrackbar('val', 'frame', 0, 255, change_val)\n",
    "\n",
    "while (True):\n",
    "    #read frame\n",
    "    retvalue, frame = cam.read()\n",
    "    \n",
    "    #print(retvalue, frame.shape, type(frame[0, 0, 0]))\n",
    "    \n",
    "    #frame[200 : 400, 300 : 500, :] += 100\n",
    "    #frame = 255 - frame\n",
    "    \n",
    "    low_th = (cv2.getTrackbarPos('val', 'frame'), 0, 0)\n",
    "    high_th = (255, 255, 255)\n",
    "\n",
    "    hsv_image = cv2.cvtColor(frame, cv2.COLOR_RGB2HSV)\n",
    "    \n",
    "    mask = cv2.inRange(frame, low_th, high_th)\n",
    "    \n",
    "    #..., kernel size\n",
    "    #blurred = cv2.blur(frame, (15, 15))\n",
    "    \n",
    "    #cv2.circle(blurred, (200, 300), 50, (200, 120, 30), 6)\n",
    "    #cv2.rectangle(image, (x0, y0), (x1, y1), (r, g, b), thickness)\n",
    "    \n",
    "    kernel = np.ones((7, 7), np.uint8)\n",
    "    eroded = cv2.dilate(mask, kernel)\n",
    "    \n",
    "    #show frame\n",
    "    cv2.imshow(\"frame\", frame)\n",
    "    cv2.imshow(\"hsv\", hsv_image)\n",
    "    \n",
    "    masks = np.concatenate((mask, eroded), axis=1)\n",
    "    cv2.imshow(\"masks\", masks)\n",
    "    \n",
    "    #waiting for the user pressing key\n",
    "    key = cv2.waitKey(150) & 0xFF\n",
    "    \n",
    "    if (key == ord('q')):\n",
    "        break\n",
    "\n",
    "cam.release()\n",
    "\n",
    "cv2.destroyAllWindows()\n",
    "cv2.waitKey(10)"
   ]
  },
  {
   "cell_type": "code",
   "execution_count": 3,
   "id": "c24f6f08",
   "metadata": {},
   "outputs": [
    {
     "data": {
      "text/plain": [
       "-1"
      ]
     },
     "execution_count": 3,
     "metadata": {},
     "output_type": "execute_result"
    }
   ],
   "source": [
    "import cv2\n",
    "\n",
    "image = cv2.imread(\"rgb_basket.jpg\")\n",
    "\n",
    "cv2.imshow(\"frame\", image)\n",
    "\n",
    "cv2.waitKey(0)\n",
    "cv2.destroyAllWindows()\n",
    "cv2.waitKey(10)"
   ]
  },
  {
   "cell_type": "code",
   "execution_count": null,
   "id": "d690eb48",
   "metadata": {},
   "outputs": [],
   "source": [
    "#====================================\n",
    "#distance measuring\n",
    "#====================================\n",
    "\n",
    "cv2.findContours\n",
    "cv2.arcLength\n",
    "cv2.approxPolyDP\n",
    "\n",
    "#====================================\n",
    "#image warping\n",
    "#====================================\n",
    "\n",
    "def order_points(pts):\n",
    "    # initialzie a list of coordinates that will be ordered\n",
    "    # such that the first entry in the list is the top-left,\n",
    "    # the second entry is the top-right, the third is the\n",
    "    # bottom-right, and the fourth is the bottom-left\n",
    "    rect = np.zeros((4, 2), dtype=\"float32\")\n",
    "    \n",
    "    # the top-left point will have the smallest sum, whereas\n",
    "    # the bottom-right point will have the largest sum\n",
    "    s = pts.sum(axis=1)\n",
    "    rect[0] = pts[np.argmin(s)]\n",
    "    rect[2] = pts[np.argmax(s)]\n",
    "    \n",
    "    # now, compute the difference between the points, the\n",
    "    # top-right point will have the smallest difference,\n",
    "    # whereas the bottom-left will have the largest difference\n",
    "    diff = np.diff(pts, axis=1)\n",
    "    rect[1] = pts[np.argmin(diff)]\n",
    "    rect[3] = pts[np.argmax(diff)]\n",
    "    \n",
    "    # return the ordered coordinates\n",
    "    return rect\n",
    "\n",
    "def four_point_transform(image, pts):\n",
    "    # obtain a consistent order of the points and unpack them\n",
    "    # individually\n",
    "    rect = order_points(pts)\n",
    "    (tl, tr, br, bl) = rect\n",
    "    \n",
    "    # compute the width of the new image, which will be the\n",
    "    # maximum distance between bottom-right and bottom-left\n",
    "    # x-coordiates or the top-right and top-left x-coordinates\n",
    "    widthA = np.sqrt(((br[0] - bl[0]) ** 2) + ((br[1] - bl[1]) ** 2))\n",
    "    widthB = np.sqrt(((tr[0] - tl[0]) ** 2) + ((tr[1] - tl[1]) ** 2))\n",
    "    maxWidth = max(int(widthA), int(widthB))\n",
    "    \n",
    "    # compute the height of the new image, which will be the\n",
    "    # maximum distance between the top-right and bottom-right\n",
    "    # y-coordinates or the top-left and bottom-left y-coordinates\n",
    "    heightA = np.sqrt(((tr[0] - br[0]) ** 2) + ((tr[1] - br[1]) ** 2))\n",
    "    heightB = np.sqrt(((tl[0] - bl[0]) ** 2) + ((tl[1] - bl[1]) ** 2))\n",
    "    maxHeight = max(int(heightA), int(heightB))\n",
    "    \n",
    "    # now that we have the dimensions of the new image, construct\n",
    "    # the set of destination points to obtain a \"birds eye view\",\n",
    "    # (i.e. top-down view) of the image, again specifying points\n",
    "    # in the top-left, top-right, bottom-right, and bottom-left\n",
    "    # order\n",
    "    dst = np.array([\n",
    "        [0, 0],\n",
    "        [maxWidth - 1, 0],\n",
    "        [maxWidth - 1, maxHeight - 1],\n",
    "        [0, maxHeight - 1]], dtype=\"float32\")\n",
    "    \n",
    "    # compute the perspective transform matrix and then apply it\n",
    "    M = cv2.getPerspectiveTransform(rect, dst)\n",
    "    warped = cv2.warpPerspective(image, M, (maxWidth, maxHeight))\n",
    "    \n",
    "    # return the warped image\n",
    "    return warped\n",
    "\n",
    "#patch distance\n",
    "\n",
    "\n",
    "#gradients\n",
    "cv2.filter2d"
   ]
  }
 ],
 "metadata": {
  "kernelspec": {
   "display_name": "Python 3",
   "language": "python",
   "name": "python3"
  },
  "language_info": {
   "codemirror_mode": {
    "name": "ipython",
    "version": 3
   },
   "file_extension": ".py",
   "mimetype": "text/x-python",
   "name": "python",
   "nbconvert_exporter": "python",
   "pygments_lexer": "ipython3",
   "version": "3.9.6"
  }
 },
 "nbformat": 4,
 "nbformat_minor": 5
}
