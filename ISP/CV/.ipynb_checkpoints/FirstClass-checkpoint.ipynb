{
 "cells": [
  {
   "cell_type": "code",
   "execution_count": 33,
   "id": "53731a44-0681-4973-be06-dbe31264c856",
   "metadata": {},
   "outputs": [],
   "source": [
    "import cv2\n",
    "import numpy as np"
   ]
  },
  {
   "cell_type": "code",
   "execution_count": 36,
   "id": "94eb2159-b4d4-4daf-9760-fbd4db464c9e",
   "metadata": {},
   "outputs": [
    {
     "data": {
      "text/plain": [
       "-1"
      ]
     },
     "execution_count": 36,
     "metadata": {},
     "output_type": "execute_result"
    }
   ],
   "source": [
    "cam = cv2.VideoCapture(0)\n",
    "\n",
    "cv2.namedWindow('frame')\n",
    "\n",
    "def change_val(inp):\n",
    "    print(inp)\n",
    "\n",
    "cv2.createTrackbar('frame','val',0,255,change_val)\n",
    "\n",
    "while(1):\n",
    "    retvalue, frame = cam.read()\n",
    "    \n",
    "    #print(retvalue, frame.shape, type(frame[0,0,0]))\n",
    "    #frame[200:400,300:500,:] +=100\n",
    "    #frame = 255 - frame\n",
    "    \n",
    "    mask = cv2.inRange(frame,(100,100,100), (200, 200, 200))\n",
    "    \n",
    "    blurred = cv2.blur(frame, (1,1))\n",
    "    #cv2.circle(blurred,(200,300),50,(200,120,30),6)\n",
    "    \n",
    "    low_th = (cv2.getTrackbarPos(\"frame\",\"val\"),0,0)\n",
    "    high_th = (255,255,255)\n",
    "    \n",
    "    kernel = np.ones((7,7),np.uint8)\n",
    "    eroded = cv2.dilate(mask,kernel)\n",
    "    \n",
    "    cv2.imshow(\"frame\",frame)\n",
    "    \n",
    "    cv2.imshow(\"blurred\",eroded)\n",
    "    #cv2.imshow(\"mask\",mask)\n",
    "    \n",
    "    \n",
    "    \n",
    "    key = cv2.waitKey(30) & 0xFF\n",
    "    \n",
    "    if(key == ord('q')):\n",
    "        break\n",
    "\n",
    "cam.release()\n",
    "cv2.destroyAllWindows()\n",
    "cv2.waitKey(10)"
   ]
  },
  {
   "cell_type": "code",
   "execution_count": 5,
   "id": "4e1fb7cf-b8a4-408e-a138-6844ddbc978f",
   "metadata": {},
   "outputs": [
    {
     "data": {
      "text/plain": [
       "-1"
      ]
     },
     "execution_count": 5,
     "metadata": {},
     "output_type": "execute_result"
    }
   ],
   "source": [
    "import cv2\n",
    "\n",
    "image = cv2.imread(\"\")"
   ]
  },
  {
   "cell_type": "code",
   "execution_count": 25,
   "id": "14e541fa-f1c6-44fa-b441-db1f61c46dbb",
   "metadata": {},
   "outputs": [
    {
     "data": {
      "text/plain": [
       "200"
      ]
     },
     "execution_count": 25,
     "metadata": {},
     "output_type": "execute_result"
    }
   ],
   "source": [
    "200 & 0xFF"
   ]
  },
  {
   "cell_type": "code",
   "execution_count": 30,
   "id": "f0847d91-1068-4201-a474-57ae6c0da67f",
   "metadata": {},
   "outputs": [
    {
     "data": {
      "text/plain": [
       "'6'"
      ]
     },
     "execution_count": 30,
     "metadata": {},
     "output_type": "execute_result"
    }
   ],
   "source": [
    "chr(54)"
   ]
  },
  {
   "cell_type": "code",
   "execution_count": null,
   "id": "07eb90ff-0a45-4225-a3af-37e68f668d31",
   "metadata": {},
   "outputs": [],
   "source": []
  }
 ],
 "metadata": {
  "kernelspec": {
   "display_name": "Python 3 (ipykernel)",
   "language": "python",
   "name": "python3"
  },
  "language_info": {
   "codemirror_mode": {
    "name": "ipython",
    "version": 3
   },
   "file_extension": ".py",
   "mimetype": "text/x-python",
   "name": "python",
   "nbconvert_exporter": "python",
   "pygments_lexer": "ipython3",
   "version": "3.9.7"
  }
 },
 "nbformat": 4,
 "nbformat_minor": 5
}
