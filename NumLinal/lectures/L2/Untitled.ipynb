{
 "cells": [
  {
   "cell_type": "code",
   "execution_count": 2,
   "id": "f6ddfe81-4765-44e2-9374-84d1ca091959",
   "metadata": {},
   "outputs": [],
   "source": [
    "import numpy as np\n",
    "import sympy"
   ]
  },
  {
   "cell_type": "code",
   "execution_count": 4,
   "id": "e4fb776f-5c0f-4cf3-88ba-fa74bdb17cc1",
   "metadata": {},
   "outputs": [],
   "source": [
    "A = np.random.rand(3,3)"
   ]
  },
  {
   "cell_type": "code",
   "execution_count": 5,
   "id": "96196dd0-7823-48e8-99ca-1a833f344160",
   "metadata": {},
   "outputs": [
    {
     "data": {
      "text/plain": [
       "array([[2.17379071, 1.1001279 , 1.47323692],\n",
       "       [1.1001279 , 0.58699362, 0.67516554],\n",
       "       [1.47323692, 0.67516554, 1.16342329]])"
      ]
     },
     "execution_count": 5,
     "metadata": {},
     "output_type": "execute_result"
    }
   ],
   "source": [
    "A.transpose() @ A"
   ]
  },
  {
   "cell_type": "code",
   "execution_count": 6,
   "id": "97ba010d-467e-4d96-929d-ff8c02d305f9",
   "metadata": {},
   "outputs": [
    {
     "data": {
      "text/plain": [
       "array([[1.34598562, 0.97141284, 1.44227797],\n",
       "       [0.97141284, 0.70177267, 1.05445569],\n",
       "       [1.44227797, 1.05445569, 1.87644934]])"
      ]
     },
     "execution_count": 6,
     "metadata": {},
     "output_type": "execute_result"
    }
   ],
   "source": [
    "A @ A.transpose()"
   ]
  },
  {
   "cell_type": "code",
   "execution_count": 8,
   "id": "e40c60dd-4f5c-43ea-846d-2c5c15387536",
   "metadata": {},
   "outputs": [],
   "source": [
    "A = sympy.Matrix([[-1,3,-1],[-3,5,-1],[-3,3,1]])"
   ]
  },
  {
   "cell_type": "code",
   "execution_count": 11,
   "id": "ecc60602-2ee5-48bb-aca6-bfadffb77565",
   "metadata": {},
   "outputs": [],
   "source": [
    "D = sympy.diag(1,2,2)"
   ]
  },
  {
   "cell_type": "code",
   "execution_count": 13,
   "id": "1c3ca217-f674-4e13-ba4d-545792875ebc",
   "metadata": {},
   "outputs": [
    {
     "data": {
      "text/latex": [
       "$\\displaystyle 5$"
      ],
      "text/plain": [
       "5"
      ]
     },
     "execution_count": 13,
     "metadata": {},
     "output_type": "execute_result"
    }
   ],
   "source": [
    "D.trace()"
   ]
  },
  {
   "cell_type": "code",
   "execution_count": 14,
   "id": "1e96278b-cbc9-459f-9016-6120fd6edf98",
   "metadata": {},
   "outputs": [
    {
     "data": {
      "text/latex": [
       "$\\displaystyle 5$"
      ],
      "text/plain": [
       "5"
      ]
     },
     "execution_count": 14,
     "metadata": {},
     "output_type": "execute_result"
    }
   ],
   "source": [
    "A.trace()"
   ]
  },
  {
   "cell_type": "code",
   "execution_count": null,
   "id": "5c887de5-cbad-4ef3-a166-ae4105ff1b8e",
   "metadata": {},
   "outputs": [],
   "source": []
  }
 ],
 "metadata": {
  "kernelspec": {
   "display_name": "Python 3 (ipykernel)",
   "language": "python",
   "name": "python3"
  },
  "language_info": {
   "codemirror_mode": {
    "name": "ipython",
    "version": 3
   },
   "file_extension": ".py",
   "mimetype": "text/x-python",
   "name": "python",
   "nbconvert_exporter": "python",
   "pygments_lexer": "ipython3",
   "version": "3.8.12"
  }
 },
 "nbformat": 4,
 "nbformat_minor": 5
}
