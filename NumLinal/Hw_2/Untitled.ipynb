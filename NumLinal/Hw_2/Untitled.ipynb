{
 "cells": [
  {
   "cell_type": "code",
   "execution_count": 67,
   "id": "e3bfdcd3-7f6d-45eb-8dc4-345e771d5472",
   "metadata": {},
   "outputs": [],
   "source": [
    "import sympy as sp\n",
    "P, e = sp.symbols('p epsilon')"
   ]
  },
  {
   "cell_type": "code",
   "execution_count": null,
   "id": "6cd5e241-d20a-4c98-a382-e9aa914ac560",
   "metadata": {},
   "outputs": [],
   "source": []
  },
  {
   "cell_type": "code",
   "execution_count": 129,
   "id": "b622cb98-5874-4055-aa57-50ab244d27ce",
   "metadata": {},
   "outputs": [],
   "source": [
    "def Diag(items,pos):\n",
    "    M = sp.zeros(len(items) + abs(pos),len(items) + abs(pos))\n",
    "    if(pos >= 0):\n",
    "        for (i,item) in enumerate(items):\n",
    "            M[i,i+pos] = item\n",
    "    elif(pos < 0):\n",
    "        pos = -pos\n",
    "        for (i,item) in enumerate(items):\n",
    "            M[i+pos,i] = item\n",
    "            \n",
    "            \n",
    "    return M    \n",
    "matrix = Diag([P]*4,0) + Diag([1]*3,1)"
   ]
  },
  {
   "cell_type": "code",
   "execution_count": 130,
   "id": "7a623e0f-a0f9-421e-b28d-9792bd5db782",
   "metadata": {},
   "outputs": [],
   "source": [
    "matrix[-1,0] = e\n"
   ]
  },
  {
   "cell_type": "code",
   "execution_count": 131,
   "id": "ae60a72c-2361-4e85-bd89-ce1ec1f9e05a",
   "metadata": {},
   "outputs": [
    {
     "data": {
      "text/plain": [
       "[-epsilon**(1/4), epsilon**(1/4), -I*epsilon**(1/4), I*epsilon**(1/4)]"
      ]
     },
     "execution_count": 131,
     "metadata": {},
     "output_type": "execute_result"
    }
   ],
   "source": [
    "sp.solve(sp.det(matrix),P)"
   ]
  },
  {
   "cell_type": "code",
   "execution_count": 132,
   "id": "54b0f544-2fe9-40e0-b3d5-405b03a46e09",
   "metadata": {},
   "outputs": [
    {
     "data": {
      "text/latex": [
       "$\\displaystyle - \\epsilon + p^{4}$"
      ],
      "text/plain": [
       "-epsilon + p**4"
      ]
     },
     "execution_count": 132,
     "metadata": {},
     "output_type": "execute_result"
    }
   ],
   "source": [
    "sp.det(matrix)"
   ]
  },
  {
   "cell_type": "code",
   "execution_count": 133,
   "id": "ae8d90cc-ebc9-475b-8cc3-bf00ae703483",
   "metadata": {},
   "outputs": [
    {
     "data": {
      "text/latex": [
       "$\\displaystyle \\left[\\begin{matrix}p & 1 & 0 & 0\\\\0 & p & 1 & 0\\\\0 & 0 & p & 1\\\\\\epsilon & 0 & 0 & p\\end{matrix}\\right]$"
      ],
      "text/plain": [
       "Matrix([\n",
       "[      p, 1, 0, 0],\n",
       "[      0, p, 1, 0],\n",
       "[      0, 0, p, 1],\n",
       "[epsilon, 0, 0, p]])"
      ]
     },
     "execution_count": 133,
     "metadata": {},
     "output_type": "execute_result"
    }
   ],
   "source": [
    "matrix"
   ]
  },
  {
   "cell_type": "code",
   "execution_count": null,
   "id": "b7739626-3992-441e-bf50-b8404b2109c5",
   "metadata": {},
   "outputs": [],
   "source": []
  },
  {
   "cell_type": "code",
   "execution_count": null,
   "id": "3121719d-0682-4b43-9766-1b8f7c8cd69b",
   "metadata": {},
   "outputs": [],
   "source": []
  }
 ],
 "metadata": {
  "kernelspec": {
   "display_name": "Python 3 (ipykernel)",
   "language": "python",
   "name": "python3"
  },
  "language_info": {
   "codemirror_mode": {
    "name": "ipython",
    "version": 3
   },
   "file_extension": ".py",
   "mimetype": "text/x-python",
   "name": "python",
   "nbconvert_exporter": "python",
   "pygments_lexer": "ipython3",
   "version": "3.8.12"
  }
 },
 "nbformat": 4,
 "nbformat_minor": 5
}
