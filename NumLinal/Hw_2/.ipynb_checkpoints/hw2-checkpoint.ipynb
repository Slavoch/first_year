{
 "cells": [
  {
   "cell_type": "markdown",
   "metadata": {
    "id": "t9v1vX4-OGIT"
   },
   "source": [
    "# Problem set 2 (45 + 50 + 33 + 15 = 143 pts)"
   ]
  },
  {
   "cell_type": "markdown",
   "metadata": {
    "id": "FOMNJ4TcOGIV"
   },
   "source": [
    "## Problem 1 (LU decomposition) 45 pts\n"
   ]
  },
  {
   "cell_type": "markdown",
   "metadata": {
    "id": "pYHDl6ppOGIV",
    "tags": []
   },
   "source": [
    "### 1. LU  for band matrices and Cholesky decomposition (13 pts)\n",
    "\n",
    "The complexity to find an LU decomposition of a dense $n\\times n$ matrix is $\\mathcal{O}(n^3)$.\n",
    "Significant reduction in complexity can be achieved if the matrix has a certain structure, e.g. it is sparse. \n",
    "In the following task we consider an important example of $LU$ for a special type of matrices –– band matrices with top left entry equal to 1 and the bandwidth $m$ equal to 3 or 5 which called tridiagonal and pentadiagonal respectively. The bands may be ```[1, 2, 1]``` and ```[1, 1, 2, 1, 1]``` respectively\n",
    "\n",
    "- (4 pts) Write a function ```band_lu(diag_broadcast, n)``` which computes LU decomposition for tridiagonal or pentadiagonal matrix with top left entry equal to 1 with given diagonal bands. \n",
    "For example, input parametres ```(diag_broadcast = [1,2,1], n = 4)``` mean that we need to find LU decomposition for the triangular matrix of the form:\n",
    "\n",
    "$$A = \\begin{pmatrix}\n",
    "1 & 1 & 0 & 0\\\\\n",
    "1 & 2 & 1 & 0 \\\\\n",
    "0 & 1 & 2 & 1 \\\\\n",
    "0 & 0 & 1 & 2 \\\\\n",
    "\\end{pmatrix}.$$\n",
    "\n",
    "Provide the extensive testing of the implemented function that will works correctly for large $n$,  e.g. $n=100$.\n",
    "As an output it is considered to make ```L``` and ```U``` - 2D arrays representing diagonals in factors $L$ (```L[0]``` keeps first lower diagonal, ```L[1]``` keeps second lower, ...), and $U$ (```U[:,0]``` keeps main diagonal, ```U[:,1]``` keeps first upper, ...).\n",
    "\n",
    "- (2 pts) Compare execution time of the band LU decomposition using standard function from ```scipy```, i.e. which takes the whole matrix and does not know about its special structure, and band decomposition of yours implementation. Comment on the results.\n",
    "\n",
    "- (7 pts) Write a function ```cholesky(n)``` for computing Cholesky decomposition. It should take the the single argument - the matrix that will be factorized and return the single output - lower-triangular factor $L$. Think about the efficiency of your implementation and if necessary update it to achieve the best performance (eliminate Python loops, where it is possible and so on). Explicitly describe the difference with LU decomposition that reduces the complexity from $2n^3/3$ for LU to $n^3/3$ for Cholesky. \n",
    "Test the implemented function on the Pascal matrix of given size $n$ for $n = 5, 10, 50$. \n",
    "Pascal matrix is square matrix of the following form (here for $n=4$)\n",
    "$$P = \\begin{pmatrix}\n",
    "1 & 1 & 1 & 1\\\\\n",
    "1 & 2 & 3 & 4 \\\\\n",
    "1 & 3 & 6 & 10 \\\\\n",
    "1 & 4 & 10 & 20 \\\\\n",
    "\\end{pmatrix}.$$\n",
    "\n",
    "    [Here](https://en.wikipedia.org/wiki/Pascal_matrix) you can find more details about such matrices and analytical form for factor $L$ from Cholesky decomposition. Compare the result of your implementation with analytical expression in terms of some matrix norm of difference.  "
   ]
  },
  {
   "cell_type": "code",
   "execution_count": 1,
   "metadata": {
    "id": "BvY7icWBOGIW"
   },
   "outputs": [
    {
     "name": "stdout",
     "output_type": "stream",
     "text": [
      "[[ 1. 10.  0. ...  0.  0.  0.]\n",
      " [ 7.  8. 10. ...  0.  0.  0.]\n",
      " [ 0.  7.  8. ...  0.  0.  0.]\n",
      " ...\n",
      " [ 0.  0.  0. ...  8. 10.  0.]\n",
      " [ 0.  0.  0. ...  7.  8. 10.]\n",
      " [ 0.  0.  0. ...  0.  7.  8.]]\n",
      "[[1. 4. 5. ... 0. 0. 0.]\n",
      " [2. 3. 4. ... 0. 0. 0.]\n",
      " [7. 2. 3. ... 0. 0. 0.]\n",
      " ...\n",
      " [0. 0. 0. ... 3. 4. 5.]\n",
      " [0. 0. 0. ... 2. 3. 4.]\n",
      " [0. 0. 0. ... 7. 2. 3.]]\n"
     ]
    }
   ],
   "source": [
    "from scipy.sparse import diags # can be used with broadcasting of scalars if desired dimensions are large\n",
    "import numpy as np\n",
    "\n",
    "# INPUT : diag_broadcast - list of diagonals value to broadcast,length equal to 3 or 5; n - integer, band matrix shape.\n",
    "# OUTPUT : L - 2D np.ndarray, L.shape[0] depends on bandwidth, L.shape[1] = n-1, do not store main diagonal, where all ones;                  add zeros to the right side of rows to handle with changing length of diagonals.\n",
    "#          U - 2D np.ndarray, U.shape[0] = n, U.shape[1] depends on bandwidth;\n",
    "#              add zeros to the bottom of columns to handle with changing length of diagonals.\n",
    "def band_lu (diag_broadcast, n):\n",
    "    if len(diag_broadcast) == 3:\n",
    "        L = np.zeros(n-1)\n",
    "        U = np.zeros((n,2))\n",
    "        U[0,0] = 1 \n",
    "        U[0,1] = diag_broadcast[2]\n",
    "        for i in range (1,n):\n",
    "            if U[i-1,0] == 0:\n",
    "                raise Exception('Problems: Need pivoting')\n",
    "            else :\n",
    "                L[i-1] = diag_broadcast[0]/U[i-1,0]\n",
    "                U[i,0] =  diag_broadcast[1] - diag_broadcast[2]*L[i-1]\n",
    "                U[i,1] = diag_broadcast[2]\n",
    "      \n",
    "    if len(diag_broadcast) == 5:\n",
    "        U = np.zeros((n, 3))\n",
    "        L = np.zeros((n-1, 2), dtype=float)\n",
    "        U[0, 0] = 1\n",
    "        U[0, 1] = diag_broadcast[3]\n",
    "        U[0, 2] = diag_broadcast[4]\n",
    "        L[0, 0] = diag_broadcast[1] \n",
    "        U[1, 0] = diag_broadcast[2]  - U[0, 1]*L[0, 0]\n",
    "        for i in range(1, n-1):\n",
    "            \n",
    "            if U[i,0] == 0:\n",
    "                raise Exception('Problems: Need pivoting')\n",
    "            U[i, 2] = diag_broadcast[4]\n",
    "            L[i-1,1] = diag_broadcast[0]/U[i-1, 0]\n",
    "            U[i, 1] = diag_broadcast[3] - diag_broadcast[4]*L[i-1, 0]\n",
    "            L[i, 0] = (diag_broadcast[1] - L[i-1, 1]*U[i-1, 1])/U[i, 0]\n",
    "            U[i+1, 0] = diag_broadcast[2] - diag_broadcast[4] * L[i-1, 1] - L[i, 0]*U[i, 1]\n",
    "\n",
    "    return L, U\n",
    "\n",
    "##_____________Tests_______________________\n",
    "\n",
    "n = 1000\n",
    "L,U = band_lu([7,8,10],n)\n",
    "L_3 = np.diag([1]*n, 0) + np.diag(L, -1)\n",
    "U_3 = np.diag(U[:,0],0) +np.diag(U[:-1,1],1)\n",
    "print(L_3 @ U_3)\n",
    "\n",
    "L,U = band_lu([7,2,3,4,5],n)\n",
    "L_5 = np.diag([1]*n, 0) + np.diag(L[:,0], -1)+np.diag(L[:-1,1], -2)\n",
    "U_5 = np.diag(U[:,0],0) +np.diag(U[:-1,1],1)+np.diag(U[:-2,2],2)\n",
    "print(L_5 @ U_5)"
   ]
  },
  {
   "cell_type": "code",
   "execution_count": 2,
   "metadata": {
    "id": "XVySYJbTOGIa"
   },
   "outputs": [
    {
     "name": "stdout",
     "output_type": "stream",
     "text": [
      "18.7 ms ± 1.29 ms per loop (mean ± std. dev. of 5 runs, 20 loops each)\n",
      "3.72 ms ± 416 µs per loop (mean ± std. dev. of 5 runs, 20 loops each)\n"
     ]
    }
   ],
   "source": [
    "from scipy.linalg import lu\n",
    "import timeit\n",
    "n=1000\n",
    "diag = [7,2,3,4,5]\n",
    "A = np.diag([diag[0]] * (n-2),-2) + np.diag([diag[1]] * (n-1),-1) +np.diag([diag[2]] * (n),0)+np.diag([diag[3]] * (n-1),1)+np.diag([diag[4]] * (n-2),2)\n",
    "\n",
    "\n",
    "%timeit -n20 -r5 lu(A)\n",
    "%timeit -n20 -r5 band_lu(diag,n)"
   ]
  },
  {
   "cell_type": "markdown",
   "metadata": {},
   "source": [
    "As you can see  band_lu approximatly 5 times faster"
   ]
  },
  {
   "cell_type": "code",
   "execution_count": 5,
   "metadata": {},
   "outputs": [
    {
     "name": "stdout",
     "output_type": "stream",
     "text": [
      "[[   1    0    0 ...    0    0    0]\n",
      " [   1    1    0 ...    0    0    0]\n",
      " [   1    2    1 ...    0    0    0]\n",
      " ...\n",
      " [   1   47 1081 ...    1    0    0]\n",
      " [   1   48 1128 ...   48    1    0]\n",
      " [   1   49 1176 ... 1176   49    1]]\n",
      "9.9 ms ± 127 µs per loop (mean ± std. dev. of 5 runs, 100 loops each)\n",
      "234 µs ± 3.35 µs per loop (mean ± std. dev. of 5 runs, 100 loops each)\n",
      "70.9 µs ± 3.45 µs per loop (mean ± std. dev. of 5 runs, 100 loops each)\n"
     ]
    }
   ],
   "source": [
    "import math\n",
    "from scipy.linalg import pascal\n",
    "def cholesky(matrix):\n",
    "    n = matrix.shape[0]\n",
    "    lower = [[0 for x in range(n)]\n",
    "                for y in range(n)];\n",
    " \n",
    "    for i in range(n):\n",
    "        for j in range(i + 1):\n",
    "            sum1 = 0\n",
    " \n",
    "            \n",
    "            if (j == i):\n",
    "                for k in range(j):\n",
    "                    sum1 += pow(lower[j][k], 2)\n",
    "                lower[j][j] = int(math.sqrt(matrix[j][j] - sum1))\n",
    "            \n",
    "            else:\n",
    "                for k in range(j):\n",
    "                    sum1 += (lower[i][k] *lower[j][k])\n",
    "                if(lower[j][j] > 0):\n",
    "                    lower[i][j] = int((matrix[i][j] - sum1) / lower[j][j])\n",
    "    return lower\n",
    "    \n",
    "print(np.array(cholesky(pascal(50))))\n",
    "%timeit -n100 -r5 cholesky(pascal(50))\n",
    "%timeit -n100 -r5 cholesky(pascal(10))\n",
    "%timeit -n100 -r5 cholesky(pascal(5))"
   ]
  },
  {
   "cell_type": "markdown",
   "metadata": {},
   "source": [
    "For Cholesky algorithm i used int() because for large n > 30 algorithm breaks even scipy.linalg.cholesky breaks:"
   ]
  },
  {
   "cell_type": "code",
   "execution_count": 6,
   "metadata": {},
   "outputs": [
    {
     "ename": "NameError",
     "evalue": "name 'scipy' is not defined",
     "output_type": "error",
     "traceback": [
      "\u001b[1;31m---------------------------------------------------------------------------\u001b[0m",
      "\u001b[1;31mNameError\u001b[0m                                 Traceback (most recent call last)",
      "\u001b[1;32m~\\AppData\\Local\\Temp/ipykernel_10984/2208999859.py\u001b[0m in \u001b[0;36m<module>\u001b[1;34m\u001b[0m\n\u001b[1;32m----> 1\u001b[1;33m \u001b[0mscipy\u001b[0m\u001b[1;33m.\u001b[0m\u001b[0mlinalg\u001b[0m\u001b[1;33m.\u001b[0m\u001b[0mcholesky\u001b[0m\u001b[1;33m(\u001b[0m\u001b[0mpascal\u001b[0m\u001b[1;33m(\u001b[0m\u001b[1;36m30\u001b[0m\u001b[1;33m)\u001b[0m\u001b[1;33m)\u001b[0m\u001b[1;33m\u001b[0m\u001b[1;33m\u001b[0m\u001b[0m\n\u001b[0m",
      "\u001b[1;31mNameError\u001b[0m: name 'scipy' is not defined"
     ]
    }
   ],
   "source": [
    "scipy.linalg.cholesky(pascal(30))"
   ]
  },
  {
   "cell_type": "markdown",
   "metadata": {},
   "source": [
    "For this task all L[i,j] - int so i used int() it makes algorithm stable for large n>30\n",
    "\n",
    "As soon as we spend $O(2/3 n^3) $  for LU, in Cholesky we need twise less operations, because we dont need U, it means that we get complexity $O(1/3 n^3) $ for cholesky"
   ]
  },
  {
   "cell_type": "markdown",
   "metadata": {
    "id": "_iM6NwHQOGId",
    "tags": []
   },
   "source": [
    "### 2. Stability of LU (8 pts)\n",
    "\n",
    "* (4 pts) Show, that for these  matrices $A$ and $B$ LU decomposition fails. Why does it happen?\n",
    "\n",
    "\n",
    "\n",
    "$\n",
    "A = \\begin{pmatrix}\n",
    "0 & 1 \\\\\n",
    "2 & 3\n",
    "\\end{pmatrix}.$ \n",
    "\n",
    "$B = \\begin{pmatrix}\n",
    "1 & 1 & 0\\\\\n",
    "1 & 1 & 2 \\\\\n",
    "1 & 2 & 1\n",
    "\\end{pmatrix}.$ \n",
    "\n",
    "* (4 pts) In the LU decomposition, a pivot position is a position of the element that identifies the row and column that will be eliminated in the current step. For example, first pivot in LU is usually the left top element. What value of $c$ leads to zero in the second pivot position? What $c$ produces zero in the third pivot position? What modification of LU should we use in order to address the possible zeros in pivot position?\n",
    "\n",
    "$A = \\begin{pmatrix}\n",
    "1 & c & 0\\\\\n",
    "2 & 4 & 1 \\\\\n",
    "3 & 5 & 1\n",
    "\\end{pmatrix}.$ "
   ]
  },
  {
   "cell_type": "markdown",
   "metadata": {},
   "source": [
    "----------Answers------------------\n",
    "* a)\n",
    "\n",
    "$\n",
    "A = \\begin{pmatrix}\n",
    "0 & 1 \\\\\n",
    "2 & 3\n",
    "\\end{pmatrix}.$ \n",
    "\n",
    "$\n",
    "LU = \\begin{pmatrix}\n",
    "1 & 0 \\\\\n",
    "l_{21} & 1\n",
    "\\end{pmatrix}\n",
    "\\begin{pmatrix}\n",
    "u_{11} & u_{12} \\\\\n",
    "0 & u_{22}\n",
    "\\end{pmatrix}\n",
    "=\n",
    "\\begin{pmatrix}\n",
    "u_{11} & u_{12} \\\\\n",
    "l_{21}u_{11} & l_{21} u_{12}+u_{22}\n",
    "\\end{pmatrix}\n",
    "=\n",
    "\\begin{pmatrix}\n",
    "0 & 1 \\\\\n",
    "2 & 3\n",
    "\\end{pmatrix}. => u_{11} = 0 => l_{22} * 0 = 2 => l_{22}$ doesn't  exist\n",
    "\n",
    "\n",
    "\n",
    "$B = \\begin{pmatrix}\n",
    "1 & 1 & 0\\\\\n",
    "1 & 1 & 2 \\\\\n",
    "1 & 2 & 1\n",
    "\\end{pmatrix}.$\n",
    "\n",
    "$LU \n",
    "= \\begin{pmatrix}\n",
    "1 & 0 & 0\\\\\n",
    "l_{21} & 1 & 0\\\\\n",
    "l_{31}&l_{32}& 1\\\\\n",
    "\\end{pmatrix}\n",
    "$\n",
    "$\n",
    "\\begin{pmatrix}\n",
    "u_{11} & u_{12} & u_{13} \\\\\n",
    "0 & u_{22} & u_{23}\\\\\n",
    "0 & 0 & u_{33}\\\\\n",
    "\\end{pmatrix}\n",
    "$\n",
    "$=\\begin{pmatrix}\n",
    "u_{11} & u_{12} & u_{13} \\\\\n",
    "u_{11}l_{21} &u_{12}l_{21}+ u_{22} & u_{13}l_{21} + u_{23}\\\\\n",
    "u_{11}l_{31} & u_{12}l_{31} +u_{22}l_{32} & u_{13}l_{31}+ u_{23}l_{32} +u_{33}\\\\\n",
    "\\end{pmatrix} => \\begin{pmatrix}\n",
    "1 & 1 & 0 \\\\\n",
    "l_{21} &l_{21}+ u_{22} &  u_{23}\\\\\n",
    "l_{31} & l_{31} +u_{22}l_{32} & u_{23}l_{32} +u_{33}\\\\\n",
    "\\end{pmatrix}=>\\begin{pmatrix}\n",
    "1 & 1 & 0 \\\\\n",
    "1 &1+ u_{22} &  u_{23}\\\\\n",
    "1 & 1 +u_{22}l_{32} & u_{23}l_{32} +u_{33}\\\\\n",
    "\\end{pmatrix}=> u_{22} =0, u_{22}l_{32} =1 => u_{22}$ doesn't exist\n",
    "\n",
    "LU decomposition exists only if the leading principal minors are not 0. But in our case they does."
   ]
  },
  {
   "cell_type": "markdown",
   "metadata": {
    "id": "CmkB9hxwOGId"
   },
   "source": [
    "* b)\n",
    "$A = \\begin{pmatrix}\n",
    "1 & c & 0\\\\\n",
    "2 & 4 & 1 \\\\\n",
    "3 & 5 & 1\n",
    "\\end{pmatrix}.=>\n",
    "\\begin{pmatrix}\n",
    "1 & c & 0\\\\\n",
    "0 & 4-2c & 1 \\\\\n",
    "0 & 5-3c & 1\n",
    "\\end{pmatrix}.=> c =2$ leads to 0 second pivot position\n",
    "\n",
    "$\n",
    "\\begin{pmatrix}\n",
    "1 & c & 0\\\\\n",
    "0 & 4-2c & 1 \\\\\n",
    "0 & 5-3c & 1\n",
    "\\end{pmatrix}\n",
    "=>\n",
    "\\begin{pmatrix}\n",
    "1 & c & 0\\\\\n",
    "0 & 1 & 1/p \\\\\n",
    "0 & 5-3c & 1\n",
    "\\end{pmatrix}\n",
    "=>\n",
    "\\begin{pmatrix}\n",
    "1 & 0 & -c/p\\\\\n",
    "0 & 1 & 1/p \\\\\n",
    "0 & 0 & 1-(5-3c)/p\n",
    "\\end{pmatrix}.=> 1-(5-3c)/p = 1-(5-3c) / (4-2c) = 0 => c = 1\n",
    "$ leads to 0 third pivot position\n",
    "\n",
    "Solution like in scipy.linalg.lu, they return PLU where P is permutation - so this factorisation allways exists."
   ]
  },
  {
   "cell_type": "markdown",
   "metadata": {
    "id": "YFc3BR_TOGIj"
   },
   "source": [
    "### 3. Implementation of PLU decomposition (14 pts)\n",
    "\n",
    "As you have noticed before, LU decomposition may fail. In order to make it stable, we can use LU decomposition with pivoting  (PLU).\n",
    "\n",
    "We want to find such permutation matrix $P$ that LU decomposition of $PA$ exists\n",
    "\n",
    "$$ PA = LU $$\n",
    "\n",
    "- (7 pts) Implement efficiently PLU decomposition (without loops and with appropriate level of BLAS operations).  Also, pay attention to the way of permutation matrix storage.\n",
    "\n",
    "- (4 pts ) Compare your function for computing PLU with built-in function on matrices of such type ```(mirror_diag = [1,2,1], n = 4)```. (Bandwidth and matrix size may vary). So, you can pass them as dense 2D NumPy array and do not tune your implementation to this special structure. Compare them in terms of running time (use ```%timeit``` magic) for range of dimensions to recover the asymptotic rate of time increasing and in terms of acuracy. We expect you plot the running time vs matrix dimension for built-in function and your implementation. So you should get the plot with two lines.\n",
    "Consider additionally one of the pathological examples from above, where LU fails, but PLU has to work.\n",
    "\n",
    "\n",
    "$$A = \\begin{pmatrix}\n",
    "0 & 0 & 1 & 1 \\\\\n",
    " 0 &1 & 2 & 1  \\\\\n",
    " 1 & 2 & 1  & 0\\\\\n",
    "1 & 2  & 0 & 0  \\\\\n",
    "\\end{pmatrix}.$$\n",
    "\n",
    "\n",
    "- (3 pts) Discuss the obtained results and explain how is it possible to accelerate computing the PLU factorization. \n",
    "\n",
    "NumPy or JAX are both ok in this problem, but please use the single library for all implementations. "
   ]
  },
  {
   "cell_type": "code",
   "execution_count": 8,
   "metadata": {
    "id": "32HpfOPMOGIg"
   },
   "outputs": [
    {
     "name": "stdout",
     "output_type": "stream",
     "text": [
      "[[0. 0.]\n",
      " [0. 0.]]\n",
      "[[0. 0. 0.]\n",
      " [0. 0. 0.]\n",
      " [0. 0. 0.]]\n"
     ]
    }
   ],
   "source": [
    "\"\"\"def plu(A):\n",
    "    n = A.shape[0]\n",
    "    U = A.copy()\n",
    "    L = np.eye(n, dtype=np.double)\n",
    "    P = np.eye(n, dtype=np.double)\n",
    "    \n",
    "    for i in range(n):\n",
    "        \n",
    "        \n",
    "        for k in range(i, n): \n",
    "            if np.isclose(U[i, i], 0.0):                \n",
    "                U[[i]],U[[k+1]] = U[[k+1]],U[[i]]\n",
    "                P[[i]],P[[k+1]] = P[[k+1]],P[[i]]\n",
    "            \n",
    "        factor = U[i+1:, i] / U[i, i]\n",
    "        L[i+1:, i] = factor\n",
    "        U[i+1:] -= factor[:, np.newaxis] * U[i]\n",
    "    return P, L, U\n",
    "\"\"\"\n",
    "\n",
    "def plu(A):\n",
    "    n = A.shape[0]\n",
    "    U = A.copy()\n",
    "    L = np.eye(n, dtype=np.double)\n",
    "    P = np.eye(n, dtype=np.double)\n",
    "    \n",
    "    for i in range(n):\n",
    "        \n",
    "        #rows Permutation\n",
    "        if np.isclose(U[i, i], 0.0):\n",
    "            for k in range(i, n):\n",
    "                 if(~np.isclose(U[k, i], 0.0)):\n",
    "                        U[[i]],U[[k]] = U[[k]],U[[i]]\n",
    "                        P[[i]],P[[k]] = P[[k]],P[[i]]\n",
    "                        break\n",
    "        factor = U[i+1:, i] / U[i, i]\n",
    "        L[i+1:, i] = factor\n",
    "        U[i+1:] -= factor[:, np.newaxis] * U[i]\n",
    "    return P, L, U\n",
    "\n",
    "\n",
    "A =np.array([[0,1],[2,3]],dtype = np.double)\n",
    "P,L,U = plu(A)\n",
    "print( P@A -  L @U)\n",
    "\n",
    "\n",
    "B =np.array([[0,1,1],[0,1,2],[7,2,1]],dtype = np.double)\n",
    "P,L,U = plu(B)\n",
    "print( P @ B -  L @U)"
   ]
  },
  {
   "cell_type": "code",
   "execution_count": 10,
   "metadata": {},
   "outputs": [
    {
     "name": "stdout",
     "output_type": "stream",
     "text": [
      "[[0. 4. 1. 2.]\n",
      " [4. 1. 2. 1.]\n",
      " [1. 2. 1. 4.]\n",
      " [2. 1. 4. 0.]]\n"
     ]
    }
   ],
   "source": [
    "from scipy.sparse import diags\n",
    "import scipy\n",
    "\n",
    "\n",
    "def make_mirror_diag(band,n):\n",
    "    positions = list(range(- (len(band)- 1) //2,(len(band)- 1) //2 +1))\n",
    "    return np.flip(diags(band,positions,shape=(n,n)).toarray(),axis=1)\n",
    "\n",
    "\n",
    "\n",
    "band = [4,1,2,1,4]\n",
    "n = 4\n",
    "\n",
    "A = make_mirror_diag(band,n)\n",
    "print(A)\n",
    "ar_time_MY =[]\n",
    "ar_time_scipy =[]\n",
    "\n",
    "\n",
    "N = np.linspace(5,100,20).astype(np.int64)\n",
    "for n in N:\n",
    "    A = make_mirror_diag(band,n)\n",
    "    ar_time_MY.append(timeit.timeit(lambda: plu(A) , number=1))\n",
    "    ar_time_scipy.append(timeit.timeit(lambda: scipy.linalg.lu(A) , number=1))\n",
    "    "
   ]
  },
  {
   "cell_type": "code",
   "execution_count": 13,
   "metadata": {},
   "outputs": [
    {
     "data": {
      "image/png": "[encoded data removed]",
      "text/plain": [
       "<Figure size 432x288 with 1 Axes>"
      ]
     },
     "metadata": {
      "needs_background": "light"
     },
     "output_type": "display_data"
    }
   ],
   "source": [
    "import matplotlib.pyplot as plt\n",
    "\n",
    "plt.plot(N,ar_time_MY)\n",
    "\n",
    "plt.plot(N,ar_time_scipy)\n",
    "plt.legend(['My_lu','My_lu_2','Scipy_lu'])\n",
    "plt.xlabel('dimension of matrix')\n",
    "plt.ylabel('t, sec')\n",
    "plt.show()"
   ]
  },
  {
   "cell_type": "markdown",
   "metadata": {},
   "source": [
    "* 3 pts) Discuss the obtained results and explain how is it possible to accelerate computing the PLU factorization. \n",
    "\n",
    "In conclution it is important to say that scimpy is fantastic. to make our calculation faster we need to consider the features of matrises, implement special algorithm for special matrises, i guess scimpy do the same."
   ]
  },
  {
   "cell_type": "markdown",
   "metadata": {
    "id": "EQwdRJSIOGIg"
   },
   "source": [
    "### 4. Block LU (10 pts)\n",
    "\n",
    "Let $A = \\begin{bmatrix} A_{11} & A_{12} \\\\ A_{21} & A_{22} \\end{bmatrix}$ be a block matrix. The goal is to solve the linear system\n",
    "\n",
    "$$\n",
    "     \\begin{bmatrix} A_{11} & A_{12} \\\\ A_{21} & A_{22} \\end{bmatrix} \\begin{bmatrix} u_1 \\\\ u_2 \\end{bmatrix} = \\begin{bmatrix} f_1 \\\\ f_2 \\end{bmatrix}.\n",
    "$$\n",
    "\n",
    "* (2 pts) Using block elimination find matrix $S$ and right-hand side $\\hat{f_2}$ so that $u_2$ can be found from $S u_2 = \\hat{f_2}$. Note that the matrix $S$ is called <span style=\"color:red\">Schur complement</span> of the block $A_{11}$.\n",
    "* (4 pts) Using Schur complement properties prove that \n",
    "\n",
    "$$\\det(X+AB) = \\det(X)\\det(I+BX^{-1}A), $$\n",
    "\n",
    "\n",
    "where $X$ - nonsingular square matrix.\n",
    "* (4 pts) Let matrix $F \\in \\mathbb{R}^{m \\times n}$ and $G \\in \\mathbb{R}^{n \\times m}$. Prove that \n",
    "\n",
    "$$\\det(I_m - FG) = \\det(I_n - GF).$$"
   ]
  },
  {
   "cell_type": "markdown",
   "metadata": {
    "id": "4RBDYAWUOGIj"
   },
   "source": [
    "### 4. Answers\n",
    "* 1)\n",
    "$$A_{11} u_1 + A_{12}u_2=f_1$$\n",
    "$$A_{21} u_1 + A_{22} u_2 = f_2$$\n",
    "from first:\n",
    "$$u_1=A_{11}^{-1}f_1- A_{11}^{-1}A_{12}u_2$$\n",
    "to second:\n",
    "$$A_{21}( A_{11}^{-1}f_1 - A_{11}^{-1}A_{12}u_2) + A_{22} u_2 = f_2$$\n",
    "$$A_{21}A_{11}^{-1}f_1 - (A_{21}A_{11}^{-1}A_{12} - A_{22}) u_2 = f_2$$\n",
    "$$(A_{22} - A_{21}A_{11}^{-1}A_{12}) u_2 = f_2- A_{21}A_{11}^{-1}f_1 $$\n",
    "denote:\n",
    "$$S=A_{22} - A_{21}A_{11}^{-1}A_{12}$$\n",
    "$$\\hat{f_2} =  f_2- A_{21}A_{11}^{-1}f_1 $$\n",
    "$$Su_2 = \\hat{f_2}$$\n",
    "* 2)\n",
    "$$\\det(X+AB) = det \\begin{bmatrix} X & A \\\\ -B & I \\end{bmatrix} =det ( \\begin{bmatrix} X & 0 \\\\ -B & I \\end{bmatrix} \\begin{bmatrix} I & X^{-1} A \\\\ 0 & I + B X^{-1}A \\end{bmatrix})=$$\n",
    "$$=\\det(X)\\det(I+BX^{-1}A)$$\n",
    "* 3) \n",
    "Using prev. task:\n",
    "$$\\det(X+AB) = \\det(X)\\det(I+BX^{-1}A)$$\n",
    "it is possible to exchange $A = -F , B = G, X = I_m$\n",
    "$$\\det(I_m-FG) = \\det(I_m)\\det(I_n - G I_m^{-1} F)$$\n",
    "$$\\det(I_m-FG) = \\det(I_n - G F)$$"
   ]
  },
  {
   "cell_type": "markdown",
   "metadata": {},
   "source": [
    "## Problem 2 (eigenvalues)  (50 pts)\n",
    "\n",
    "### 1. Theoretical tasks (15 pts)\n",
    "\n",
    "* (2 pts) Prove that eigenvectors that correspond to distinct eigenvalues are linearly independent.\n",
    "\n",
    "* (3 pts) $A$ is a matrix such that $a_{i,j} \\ge 0$ and $\\sum_{j}a_{i,j} = 1$ (sum of the elements in each row is 1). Prove that $A$ has an eigenvalue $\\lambda=1$ and that any eigenvalue $\\lambda_i$: $|\\lambda_i| \\le 1$.\n",
    "\n",
    "* (5 pts) Prove that normal matrix is Hermitian iff its eigenvalues are real. Prove that normal matrix is unitary iff its eigenvalues satisfy $|\\lambda| = 1$. \n",
    "\n",
    "* (5 pts) The following problem illustrates instability of the Jordan form. Find theoretically the eigenvalues of the perturbed Jordan block (there is only one $\\varepsilon$ - in the left lower corner):\n",
    "\n",
    "$$\n",
    "    J(\\varepsilon) = \n",
    "    \\begin{bmatrix} \n",
    "     \\lambda & 1 & & & 0 \\\\ \n",
    "     0 & \\lambda & 1 & & \\\\ \n",
    "     & 0 & \\ddots & \\ddots & \\\\ \n",
    "     & & 0 & \\lambda & 1 \\\\ \n",
    "     \\varepsilon & & & 0 & \\lambda  \\\\ \n",
    "    \\end{bmatrix}_{n\\times n}\n",
    "$$\n",
    "\n",
    "   Comment how eigenvalues of $J(0)$ are perturbed for large $n$."
   ]
  },
  {
   "cell_type": "markdown",
   "metadata": {},
   "source": [
    "### Answers\n",
    "* 1)\n",
    "    Let $\\forall u_i$ are independent eigenvectors of $A$. for: $i =1...j$. But exist $u_{j+1}$ such that $u_{j+1} = \\sum^{j}_{i}c_i u_i$ then:\n",
    "$$Au_{j+1} = A\\sum^{j}_{i}c_i u_i = \\sum^{j}_{i}c_i \\lambda_i u_i$$\n",
    "$$Au_{j+1} = \\lambda_{j+1}u_{j+1} = \\lambda_{j+1}\\sum^{j}_{i}c_i u_i$$\n",
    "$$\\lambda_{j+1}\\sum^{j}_{i}c_i u_i - \\sum^{j}_{i}c_i \\lambda_i u_i = \\sum^{j}_{i} ( \\lambda_{j+1} - \\lambda_i)c_i u_i = 0$$\n",
    "So far as $u_i$ are independent then:\n",
    "$\\lambda_{j+1} - \\lambda_i = 0$ => if $\\lambda_{j+1} - \\lambda_i \\neq 0$ then$u_{j+1}$ independent eigenvector\n",
    "* 2) Let $x^T = (1,1,...,1)$ then Ax = x, because sum of elements in each row is 1. => $\\lambda_1 = 1$\n",
    "\n",
    "Consider e-value $\\lambda$ then exist x such that:\n",
    "$$Ax = \\lambda x$$\n",
    "consider row: $\\sum_{j}a_{i,j} x_j = \\lambda x_i$\n",
    "so far as $\\sum_{j}a_{i,j} = 1 =>\\sum_{j}a_{i,j} x_j <= x_{max}$\n",
    "\n",
    "But exist $i$ such that $\\lambda x_i = \\lambda x_{max}$\n",
    "\n",
    "summing up:\n",
    "\n",
    "$$\\sum_{j}a_{i,j} x_j = \\lambda x_{max} <=x_{max}$$\n",
    "$$\\lambda <= 1$$\n",
    "\n",
    "* 3)\n",
    "$A$ is normal therefore can be expressed as $ A = U^* \\Lambda U$\n",
    "\n",
    "$U$ is unitary, $\\Lambda$ is diagonal, consisting of e-values.\n",
    "\n",
    "Since $A$ is Hermitian we have:\n",
    "\n",
    "$$A^* = A = U^* \\Lambda U = U^* \\Lambda^* U$$\n",
    "Therefore $\\Lambda = \\Lambda^*$ => e-values are real.\n",
    "\n",
    "Unitary matrices satisfy the condition: $AA^* = A^*A =I$\n",
    "$$A = U^* \\Lambda U$$\n",
    "$$AA^* = U^* \\Lambda U U^* \\Lambda^* U = U^* \\Lambda \\Lambda^* U = I$$\n",
    "$$ U U^* \\Lambda \\Lambda^* U U^* = U I U^* = I$$\n",
    "$$\\Lambda \\Lambda^* = I => |\\lambda| = 1$$  \n",
    "\n",
    "* 4)\n",
    "$$\n",
    "    J(\\varepsilon) - I \\lambda_i = \n",
    "    \\begin{bmatrix} \n",
    "     \\lambda-\\lambda_i & 1 & & & 0 \\\\ \n",
    "     0 & \\lambda-\\lambda_i & 1 & & \\\\ \n",
    "     & 0 & \\ddots & \\ddots & \\\\ \n",
    "     & & 0 & \\lambda-\\lambda_i & 1 \\\\ \n",
    "     \\varepsilon & & & 0 & \\lambda-\\lambda_i  \\\\ \n",
    "    \\end{bmatrix}_{n\\times n}\n",
    "$$\n",
    "\n",
    "$$det(J(\\varepsilon) - I \\lambda_i) = (\\lambda - \\lambda_i)^n + (-1)^{n+1} \\varepsilon = 0 $$\n",
    "$$(\\lambda - \\lambda_i)^n = (-1)^n \\varepsilon $$\n",
    "if n is even:\n",
    "$$(\\lambda - \\lambda_i)^n = (e^{2 k \\pi}) \\varepsilon $$\n",
    "$$(\\lambda - \\lambda_i) = (e^{2 k \\pi/n}) \\varepsilon^{1/n} $$\n",
    "$$\\lambda_i =\\lambda - (e^{2 k \\pi/n}) \\varepsilon^{1/n} $$\n",
    "if n is odd\n",
    "$$(\\lambda - \\lambda_i)^n = (e^{i \\pi + 2 k \\pi}) \\varepsilon $$\n",
    "$$(\\lambda - \\lambda_i) = (e^{(i \\pi + 2 k \\pi)/n})\\varepsilon^{1/n} $$\n",
    "$$\\lambda_i = \\lambda - (e^{(i \\pi + 2 k \\pi)/n}) \\varepsilon^{1/n}$$\n",
    "\n",
    "e-values decay to n values in complex space. if $J(0)$ then $\\varepsilon =0$ then there are n times $\\lambda$ e-value."
   ]
  },
  {
   "cell_type": "markdown",
   "metadata": {
    "id": "xWcyqKyrOGIp"
   },
   "source": [
    "### 2. PageRank (35 pts)\n",
    "\n",
    "\n",
    "#### Damping factor importance\n",
    "\n",
    "* (5 pts) Write the function ```pagerank_matrix(G)``` that takes an adjacency matrix $G$ (in both sparse and dense formats) as an input and outputs the corresponding PageRank matrix $A$."
   ]
  },
  {
   "cell_type": "code",
   "execution_count": 133,
   "metadata": {
    "id": "2jktwIc8OGIp"
   },
   "outputs": [],
   "source": [
    "# INPUT:  G - np.ndarray or sparse matrix\n",
    "# OUTPUT: A - np.ndarray (of size G.shape) or sparse matrix\n",
    "import numpy as np\n",
    "\n",
    "def pagerank_matrix(G):\n",
    "    if (sparse.issparse(G)):\n",
    "        v = np.sum(G, axis = 1)\n",
    "        v = np.where(v==0,1,v)\n",
    "        D = sparse.diags(np.squeeze(np.asarray(1/v)))\n",
    "        return G.T @ D\n",
    "    else:\n",
    "        r = np.sum(G, axis = 0)\n",
    "        r =[i if i!=0 else 1 for i in r]\n",
    "        A = G/r\n",
    "        return A"
   ]
  },
  {
   "cell_type": "markdown",
   "metadata": {
    "id": "BtVmgGnYOGIs"
   },
   "source": [
    "* (3 pts) Find PageRank matrix $A$ that corresponds to the following graph: <img src=\"graph.png\" width='250'>\n",
    "What is its largest eigenvalue? What multiplicity does it have?\n",
    "\n",
    "\n",
    "* (5 pts) Implement the power method for a given matrix $A$, an initial guess $x_0$ and a number of iterations ```num_iter```. It should be organized as a function ```power_method(A, x0, num_iter)``` that outputs approximation to eigenvector $x$, eigenvalue $\\lambda$ and history of residuals $\\{\\|Ax_k - \\lambda_k x_k\\|_2\\}$. Make sure that the method converges to the correct solution on a matrix $\\begin{bmatrix} 2 & -1 \\\\ -1 & 2 \\end{bmatrix}$ which is known to have the largest eigenvalue equal to $3$."
   ]
  },
  {
   "cell_type": "code",
   "execution_count": 134,
   "metadata": {},
   "outputs": [
    {
     "name": "stdout",
     "output_type": "stream",
     "text": [
      "[[0.  0.  0.5 0.  0. ]\n",
      " [1.  0.  0.5 0.  0. ]\n",
      " [0.  1.  0.  0.  0. ]\n",
      " [0.  0.  0.  0.  1. ]\n",
      " [0.  0.  0.  1.  0. ]]\n",
      "(1.0000000000000002+0j)\n",
      "[-0.5+0.5j -0.5-0.5j  1. +0.j   1. +0.j  -1. +0.j ]\n"
     ]
    }
   ],
   "source": [
    "G = np.array([[0, 0, 1, 0, 0],\n",
    "              [1, 0, 1, 0, 0],\n",
    "              [0, 1, 0, 0, 0],\n",
    "              [0, 0, 0, 0, 1],\n",
    "              [0, 0, 0, 1, 0]])\n",
    "\n",
    "\n",
    "A = pagerank_matrix(G)\n",
    "print(A)\n",
    "print(max(np.linalg.eigvals(A)))\n",
    "print(np.linalg.eigvals(pagerank_matrix(A)))"
   ]
  },
  {
   "cell_type": "markdown",
   "metadata": {},
   "source": [
    "Largest e-value is 1. we have 2 e-vals equal to 1."
   ]
  },
  {
   "cell_type": "code",
   "execution_count": 169,
   "metadata": {
    "id": "uLo7A--rOGIs"
   },
   "outputs": [
    {
     "data": {
      "text/plain": [
       "2.9999999929654413"
      ]
     },
     "execution_count": 169,
     "metadata": {},
     "output_type": "execute_result"
    }
   ],
   "source": [
    "# INPUT:  A - np.ndarray (2D), x0 - np.ndarray (1D), num_iter - integer (positive)\n",
    "# OUTPUT: x - np.ndarray (of size x0), l - float, res - np.ndarray (of size num_iter + 1 [include initial guess])\n",
    "def power_method(A, x0, num_iter): # 5 pts\n",
    "    res = np.zeros(num_iter)\n",
    "    \n",
    "    for i in range(num_iter):\n",
    "        x0 = x0/np.linalg.norm(x0, ord = 2)\n",
    "        l = x0 @ (A @ x0)\n",
    "        error = np.linalg.norm(A @ x0 - l * x0, ord = 2)\n",
    "        res[i] = error\n",
    "        x0 = A @ x0\n",
    "    \n",
    "    x0 = x0/np.linalg.norm(x0, ord = 2)\n",
    "    l = x0 @ (A @ x0)\n",
    "    res[-1] = np.linalg.norm(A @ x0-l*x0, ord = 2)\n",
    "    return x0, l, res\n",
    "\n",
    "T = np.array([[2,-1], [-1,2]])\n",
    "x0 = np.random.random(2)\n",
    "x,l,errors = power_method(T, x0, 10)\n",
    "\n",
    "l"
   ]
  },
  {
   "cell_type": "markdown",
   "metadata": {
    "id": "9hAowO6zOGIu"
   },
   "source": [
    "* (2 pts) Run the power method for the graph presented above and plot residuals $\\|Ax_k - \\lambda_k x_k\\|_2$ as a function of $k$ for ```num_iter=100``` and random initial guess ```x0```.  Explain the absence of convergence. \n",
    "\n",
    "\n",
    "* (2 pts) Consider the same graph, but with additional self loop at node 4 (self loop is an edge that connects a vertex with itself). Plot residuals as in the previous task and discuss the convergence. Now, run the power method with ```num_iter=100``` for 10 different initial guesses and print/plot the resulting approximated eigenvectors. Why do they depend on the initial guess?\n",
    "\n",
    "\n",
    "In order to avoid this problem Larry Page and Sergey Brin [proposed](http://ilpubs.stanford.edu:8090/422/1/1999-66.pdf) to use the following regularization technique:\n",
    "\n",
    "$$\n",
    "A_d = dA + \\frac{1-d}{N} \\begin{pmatrix} 1 & \\dots & 1 \\\\ \\vdots & & \\vdots \\\\ 1 & \\dots & 1 \\end{pmatrix},\n",
    "$$\n",
    "\n",
    "where $d$ is a small parameter in $[0,1]$ (typically $d=0.85$), which is called **damping factor**, $A$ is of size $N\\times N$. Now $A_d$ is the matrix with multiplicity of the largest eigenvalue equal to 1. \n",
    "Recall that computing the eigenvector of the PageRank matrix, which corresponds to the largest eigenvalue, has the following interpretation. Consider a person who stays in a random node of a graph (i.e. opens a random web page); at each step s/he follows one of the outcoming edges uniformly at random (i.e. opens one of the links). So the person randomly walks through the graph and the eigenvector we are looking for is exactly his/her stationary distribution â€” for each node it tells you the probability of visiting this particular node. Therefore, if the person has started from a part of the graph which is not connected with the other part, he will never get there.  In the regularized model, the person at each step follows one of the outcoming links with probability $d$ OR teleports to a random node from the whole graph with probability $(1-d)$.\n",
    "\n",
    "* (2 pts) Now, run the power method with $A_d$ and plot residuals $\\|A_d x_k - \\lambda_k x_k\\|_2$ as a function of $k$ for $d=0.97$, ```num_iter=100``` and a random initial guess ```x0```.\n",
    "\n",
    "* (5 pts) Find the second largest in the absolute value eigenvalue of the obtained matrix $A_d$. How and why is it connected to the damping factor $d$? What is the convergence rate of the PageRank algorithm when using damping factor?\n",
    "\n",
    "Usually, graphs that arise in various areas are sparse (social, web, road networks, etc.) and, thus, computation of a matrix-vector product for corresponding PageRank matrix $A$ is much cheaper than $\\mathcal{O}(N^2)$. However, if $A_d$ is calculated directly, it becomes dense and, therefore, $\\mathcal{O}(N^2)$ cost grows prohibitively large for  big $N$.\n",
    "\n",
    "\n",
    "* (2 pts) Implement fast matrix-vector product for $A_d$ as a function ```pagerank_matvec(A, d, x)```, which takes a PageRank matrix $A$ (in sparse format, e.g., ```csr_matrix```), damping factor $d$ and a vector $x$ as an input and returns $A_dx$ as an output. \n",
    "\n",
    "* (1 pts) Generate a random adjacency matrix of size $10000 \\times 10000$ with only 100 non-zero elements and compare ```pagerank_matvec``` performance with direct evaluation of $A_dx$."
   ]
  },
  {
   "cell_type": "code",
   "execution_count": 170,
   "metadata": {},
   "outputs": [
    {
     "name": "stdout",
     "output_type": "stream",
     "text": [
      "0.20096017942223102\n",
      "0.20096446007310848\n"
     ]
    }
   ],
   "source": [
    "G = np.array([[0, 0, 1, 0, 0],\n",
    "              [1, 0, 1, 0, 0],\n",
    "              [0, 1, 0, 0, 0],\n",
    "              [0, 0, 0, 0, 1],\n",
    "              [0, 0, 0, 1, 0]])\n",
    "\n",
    "\n",
    "A = pagerank_matrix(G)\n",
    "\n",
    "x0 = np.random.random(5)\n",
    "x,l,er = power_method(A,x0,1000)\n",
    "print(er[-1])\n",
    "x,l,er = power_method(A,x0,20)\n",
    "print(er[-1])"
   ]
  },
  {
   "cell_type": "code",
   "execution_count": 171,
   "metadata": {},
   "outputs": [
    {
     "data": {
      "text/plain": [
       "Text(0.5, 1.0, 'residuals from itterations')"
      ]
     },
     "execution_count": 171,
     "metadata": {},
     "output_type": "execute_result"
    },
    {
     "data": {
      "image/png": "[encoded data removed]",
      "text/plain": [
       "<Figure size 864x432 with 1 Axes>"
      ]
     },
     "metadata": {
      "needs_background": "light"
     },
     "output_type": "display_data"
    }
   ],
   "source": [
    "import matplotlib.pyplot as plt\n",
    "G = np.array([[0, 0, 1, 0, 0],\n",
    "              [1, 0, 1, 0, 0],\n",
    "              [0, 1, 0, 0, 0],\n",
    "              [0, 0, 0, 0, 1],\n",
    "              [0, 0, 0, 1, 0]])\n",
    "A = pagerank_matrix(G)\n",
    "\n",
    "legend = []\n",
    "fig, ax =plt.subplots(1)\n",
    "fig.set_size_inches(12, 6)\n",
    "\n",
    "for i in range(10):\n",
    "    x0 = np.random.random(5)\n",
    "    x,l,er = power_method(A,x0,100)\n",
    "    ax.plot(er)\n",
    "    legend.append(\"[x1,x2,..] = \" +str([round(i*10)/10 for i in x]))\n",
    "ax.legend(legend)\n",
    "ax.set_title('residuals from itterations')"
   ]
  },
  {
   "cell_type": "code",
   "execution_count": null,
   "metadata": {},
   "outputs": [],
   "source": []
  },
  {
   "cell_type": "markdown",
   "metadata": {},
   "source": [
    "Error to high.The algorithm cannot converge, because of 2 independent loops 3-4 and 0-1-2, the algorithm cant estimate the difference between ranks of this 2 loops. \n",
    "in other words How much rank of page 3 or 4 more or less than rank of 0,1,2."
   ]
  },
  {
   "cell_type": "code",
   "execution_count": 172,
   "metadata": {},
   "outputs": [
    {
     "data": {
      "text/plain": [
       "Text(0.5, 1.0, 'residuals from itterations')"
      ]
     },
     "execution_count": 172,
     "metadata": {},
     "output_type": "execute_result"
    },
    {
     "data": {
      "image/png": "[encoded data removed]",
      "text/plain": [
       "<Figure size 864x432 with 1 Axes>"
      ]
     },
     "metadata": {
      "needs_background": "light"
     },
     "output_type": "display_data"
    }
   ],
   "source": [
    "import matplotlib.pyplot as plt\n",
    "G = np.array([[0, 0, 1, 0, 0],\n",
    "              [1, 0, 1, 0, 0],\n",
    "              [0, 1, 0, 0, 0],\n",
    "              [0, 0, 0, 0, 1],\n",
    "              [0, 0, 0, 1, 1]])\n",
    "A = pagerank_matrix(G)\n",
    "\n",
    "legend = []\n",
    "fig, ax =plt.subplots(1)\n",
    "fig.set_size_inches(12, 6)\n",
    "\n",
    "for i in range(10):\n",
    "    x0 = np.random.random(5)\n",
    "    x,l,er = power_method(A,x0,100)\n",
    "    ax.semilogy(er)\n",
    "    legend.append(\"[x1,x2,..] = \" + str([round(i*100)/100 for i in x]))\n",
    "ax.legend(legend)\n",
    "ax.set_title('residuals from itterations')\n"
   ]
  },
  {
   "cell_type": "markdown",
   "metadata": {},
   "source": [
    "Suppose in this situation rank of 4 is twice more then rank of 3rd page. 2nd and 1rst ranks twice bigger then rank of 0 page, but how much sum of ranks of loop 0-1-2 more then sum of ranks of loop 3-4 depend on initial condition."
   ]
  },
  {
   "cell_type": "code",
   "execution_count": 173,
   "metadata": {},
   "outputs": [
    {
     "data": {
      "image/png": "[encoded data removed]",
      "text/plain": [
       "<Figure size 432x288 with 1 Axes>"
      ]
     },
     "metadata": {
      "needs_background": "light"
     },
     "output_type": "display_data"
    }
   ],
   "source": [
    "G = np.array([[0, 0, 1, 0, 0],\n",
    "              [1, 0, 1, 0, 0],\n",
    "              [0, 1, 0, 0, 0],\n",
    "              [0, 0, 0, 0, 1],\n",
    "              [0, 0, 0, 1, 1]])\n",
    "d = 0.97\n",
    "A = pagerank_matrix(G)\n",
    "A = d* A + (1-d)/ A.shape[0]* np.ones(A.shape[0])\n",
    "\n",
    "x0 = np.random.random(5)\n",
    "x,l,er = power_method(A,x0,100)\n",
    "plt.plot(er)\n",
    "plt.legend(['residuals'])\n",
    "plt.xlabel('iteration')\n",
    "plt.title(\"with damping factor\")\n",
    "plt.show()"
   ]
  },
  {
   "cell_type": "code",
   "execution_count": 174,
   "metadata": {},
   "outputs": [
    {
     "name": "stdout",
     "output_type": "stream",
     "text": [
      "e-vals with damping factor:  [0.97 1.  ]\n",
      "e-vals without damping factor: [1. 1.]\n"
     ]
    }
   ],
   "source": [
    "G = np.array([[0, 0, 1, 0, 0],\n",
    "              [1, 0, 1, 0, 0],\n",
    "              [0, 1, 0, 0, 0],\n",
    "              [0, 0, 0, 0, 1],\n",
    "              [0, 0, 0, 1, 1]])\n",
    "d = 0.97\n",
    "A = pagerank_matrix(G)\n",
    "B = d* A + (1-d)/ A.shape[0]* np.ones(A.shape[0])\n",
    "\n",
    "\n",
    "print('e-vals with damping factor: ',np.abs(sorted(np.linalg.eigvals(B))[-2:]))\n",
    "print('e-vals without damping factor:',np.abs(sorted(np.linalg.eigvals(A))[-2:]))"
   ]
  },
  {
   "cell_type": "markdown",
   "metadata": {},
   "source": [
    "E-vals are slightly changed. Consider system $Ax=\\lambda x$, we changed matrix, now it is $M = A + B$ then: $(A+B)x=\\lambda x + Bx$, we suppose $Bx \\approx \\delta$ is small therefore $(A+B)x=\\lambda x + \\delta$"
   ]
  },
  {
   "cell_type": "code",
   "execution_count": 175,
   "metadata": {
    "id": "4o3LKx5UOGIv"
   },
   "outputs": [
    {
     "data": {
      "text/plain": [
       "array([0.41719582, 1.14179569, 0.19633789, 0.4769788 , 1.0682293 ])"
      ]
     },
     "execution_count": 175,
     "metadata": {},
     "output_type": "execute_result"
    }
   ],
   "source": [
    "# INPUT:  A - np.ndarray (2D), d - float (from 0.0 to 1.0), x - np.ndarray (1D, size of A.shape[0/1])\n",
    "# OUTPUT: y - np.ndarray (1D, size of x)\n",
    "from scipy import sparse\n",
    "import numpy as np\n",
    "\n",
    "\n",
    "def pagerank_matvec(B, d, x): # 2 pts\n",
    "    N = x.shape[0]\n",
    "    x_sum = sum(x)\n",
    "    ones_by_x = np.array([x_sum]* N)\n",
    "    return d * (B @ x) +  (1-d)/N * ones_by_x\n",
    "\n",
    "\n",
    "G = np.array([[0, 0, 1, 0, 0],\n",
    "              [1, 0, 1, 0, 0],\n",
    "              [0, 1, 0, 0, 0],\n",
    "              [0, 0, 0, 0, 1],\n",
    "              [0, 0, 0, 1, 1]])\n",
    "d = 0.97\n",
    "A = pagerank_matrix(G)  \n",
    "A = sparse.csr_matrix(A)\n",
    "x = np.random.random(A.shape[0])\n",
    "\n",
    "pagerank_matvec(A,d,x)"
   ]
  },
  {
   "cell_type": "code",
   "execution_count": 176,
   "metadata": {},
   "outputs": [
    {
     "name": "stdout",
     "output_type": "stream",
     "text": [
      "Count of non_zero :  100.0\n"
     ]
    }
   ],
   "source": [
    "N = 10000\n",
    "non_zeros = 100\n",
    "M = np.zeros((N,N))\n",
    "ind_i = np.random.choice(N,non_zeros,replace = False)\n",
    "ind_j = np.random.choice(N,non_zeros,replace = False)\n",
    "for i, j in zip(ind_i,ind_j):\n",
    "    M[i,j] = 1\n",
    "print('Count of non_zero : ', sum(sum(M)))\n"
   ]
  },
  {
   "cell_type": "code",
   "execution_count": 177,
   "metadata": {},
   "outputs": [],
   "source": [
    "d = 0.97\n",
    "A = pagerank_matrix(M)\n",
    "A_sparse = sparse.csr_matrix(A)\n",
    "x = np.random.random(A.shape[0])"
   ]
  },
  {
   "cell_type": "code",
   "execution_count": 178,
   "metadata": {},
   "outputs": [
    {
     "name": "stdout",
     "output_type": "stream",
     "text": [
      "For sparse A:\n",
      "1.44 ms ± 0 ns per loop (mean ± std. dev. of 1 run, 2 loops each)\n",
      "For Ad @ x:\n",
      "35.6 ms ± 0 ns per loop (mean ± std. dev. of 1 run, 2 loops each)\n"
     ]
    }
   ],
   "source": [
    "import timeit\n",
    "print('For sparse A:')\n",
    "%timeit -n2 -r1 pagerank_matvec(A_sparse,d,x)\n",
    "Ad = d* A + (1-d)/ A.shape[0]* np.ones(A.shape[0])\n",
    "print('For Ad @ x:')\n",
    "%timeit -n2 -r1 Ad @ x"
   ]
  },
  {
   "cell_type": "markdown",
   "metadata": {
    "id": "ru70NGUlOGIy"
   },
   "source": [
    "#### DBLP: computer science bibliography\n",
    "\n",
    "Download the dataset from [here](https://goo.gl/oZVxEa), unzip it and put `dblp_authors.npz`  and `dblp_graph.npz` in the same folder with this notebook. Each value (author name) from `dblp_authors.npz` corresponds to the row/column of the matrix from `dblp_graph.npz`. Value at row `i` and column `j` of the matrix from `dblp_graph.npz` corresponds to the number of times author `i` cited papers of the author `j`. Let us now find the most significant scientists according to PageRank model over DBLP data.\n",
    "\n",
    "* (4 pts) Load the weighted adjacency matrix and the authors list into Python using ```load_dblp(...)``` function. Print its density (fraction of nonzero elements). Find top-10 most cited authors from the weighted adjacency matrix. Now, make all the weights of the adjacency matrix equal to 1 for simplicity (consider only existence of connection between authors, not its weight). Obtain the PageRank matrix $A$ from the adjacency matrix and verify that it is stochastic.\n",
    " \n",
    " \n",
    "* (1 pts) In order to provide ```pagerank_matvec``` to your ```power_method``` (without rewriting it) for fast calculation of $A_dx$, you can create a ```LinearOperator```: \n",
    "```python\n",
    "L = scipy.sparse.linalg.LinearOperator(A.shape, matvec=lambda x, A=A, d=d: pagerank_matvec(A, d, x))\n",
    "```\n",
    "Calling ```L@x``` or ```L.dot(x)``` will result in calculation of ```pagerank_matvec(A, d, x)``` and, thus, you can plug $L$ instead of the matrix $A$ in the ```power_method``` directly. **Note:** though in the previous subtask graph was very small (so you could disparage fast matvec implementation), here it is very large (but sparse), so that direct evaluation of $A_dx$ will require $\\sim 10^{12}$ matrix elements to store - good luck with that (^_<).\n",
    "\n",
    "\n",
    "* (2 pts) Run the power method starting from the vector of all ones and plot residuals $\\|A_dx_k - \\lambda_k x_k\\|_2$  as a function of $k$ for $d=0.85$.\n",
    "\n",
    "\n",
    "* (1 pts) Print names of the top-10 authors according to PageRank over DBLP when $d=0.85$. Comment on your findings."
   ]
  },
  {
   "cell_type": "code",
   "execution_count": 179,
   "metadata": {
    "id": "L5ZnW7m-OGIz"
   },
   "outputs": [],
   "source": [
    "from scipy.sparse import load_npz\n",
    "import numpy as np\n",
    "def load_dblp(path_auth, path_graph):\n",
    "    G = load_npz(path_graph).astype(float)\n",
    "    with np.load(path_auth) as data: authors = data['authors']\n",
    "    return G, authors\n",
    "G, authors = load_dblp('dblp_authors.npz', 'dblp_graph.npz')"
   ]
  },
  {
   "cell_type": "code",
   "execution_count": 180,
   "metadata": {
    "id": "QynfixvjOGI1"
   },
   "outputs": [
    {
     "name": "stdout",
     "output_type": "stream",
     "text": [
      "density  4.4986518152305776e-05\n",
      "\n",
      "David G. Lowe 335649\n",
      "David E. Culler 334688\n",
      "Ion Stoica 633904\n",
      "Jitendra Malik 732480\n",
      "Cordelia Schmid 293002\n",
      "Anil K. Jain 108524\n",
      "Jiawei Han 720105\n",
      "Hari Balakrishnan 563408\n",
      "Andrew Zisserman 101227\n",
      "Scott Shenker 1391413\n"
     ]
    }
   ],
   "source": [
    "# Your code is here\n",
    "print('density ',G.count_nonzero() / (G.shape[0] * G.shape[1]))\n",
    "print()\n",
    "\n",
    "n = np.sum(G, axis = 0)\n",
    "top = np.asarray(np.argsort(n))[0][-10:]\n",
    "\n",
    "for i in top:\n",
    "    print(authors[int(i)], int(i))"
   ]
  },
  {
   "cell_type": "code",
   "execution_count": 181,
   "metadata": {},
   "outputs": [
    {
     "data": {
      "text/plain": [
       "matrix([[0., 1., 1., ..., 1., 0., 0.]])"
      ]
     },
     "execution_count": 181,
     "metadata": {},
     "output_type": "execute_result"
    }
   ],
   "source": [
    "A = pagerank_matrix(G)\n",
    "A.sum(axis = 0)"
   ]
  },
  {
   "cell_type": "code",
   "execution_count": 184,
   "metadata": {},
   "outputs": [],
   "source": [
    "from scipy.sparse import linalg\n",
    "d = 0.85\n",
    "L = linalg.LinearOperator(A.shape, matvec=lambda x, A=A, d=d: pagerank_matvec(A, d, x))\n"
   ]
  },
  {
   "cell_type": "code",
   "execution_count": 185,
   "metadata": {},
   "outputs": [],
   "source": [
    "x,l,res = power_method(L, np.random.random(L.shape[0]), 20)"
   ]
  },
  {
   "cell_type": "code",
   "execution_count": 224,
   "metadata": {},
   "outputs": [
    {
     "name": "stdout",
     "output_type": "stream",
     "text": [
      "top 10\n",
      "Hari Balakrishnan     563408         weight :  0.07344693029163138\n",
      "Anil K. Jain     108524         weight :  0.07409863743644951\n",
      "Takeo Kanade     1516121         weight :  0.07560945069416515\n",
      "Robert Endre Tarjan     1313064         weight :  0.07638554585839755\n",
      "David E. Culler     334688         weight :  0.0768154821906873\n",
      "Geoffrey E. Hinton     499500         weight :  0.07792450854327075\n",
      "Jitendra Malik     732480         weight :  0.07913283084643918\n",
      "Andrew Zisserman     101227         weight :  0.08132426645206002\n",
      "David E. Goldberg     334728         weight :  0.08626502816281056\n",
      "Scott Shenker     1391413         weight :  0.08903843622389855\n"
     ]
    },
    {
     "data": {
      "image/png": "[encoded data removed]",
      "text/plain": [
       "<Figure size 432x288 with 1 Axes>"
      ]
     },
     "metadata": {
      "needs_background": "light"
     },
     "output_type": "display_data"
    }
   ],
   "source": [
    "plt.plot(res)\n",
    "plt.legend(['residuals'])\n",
    "print(\"top 10\")\n",
    "for i in np.argsort(x)[-10:]:\n",
    "    print(authors[int(i)],\"   \",int(i),\"        weight : \" ,x[i])"
   ]
  },
  {
   "cell_type": "markdown",
   "metadata": {
    "id": "hQ2vaIyMOGI3"
   },
   "source": [
    "## Problem 3. QR algorithm (33 pts)\n",
    "\n",
    "* Implement QR-algorithm without shifts. Prototype of the function is given below"
   ]
  },
  {
   "cell_type": "code",
   "execution_count": 292,
   "metadata": {
    "id": "rMHBZLojOGI3"
   },
   "outputs": [],
   "source": [
    "# INPUT: \n",
    "# A_init - square matrix, \n",
    "# num_iter - number of iterations for QR algorithm\n",
    "# OUTPUT: \n",
    "# Ak - transformed matrix A_init given by QR algorithm, \n",
    "# convergence - numpy array of shape (num_iter, ), \n",
    "# where we store the maximal number from the Chebyshev norm \n",
    "# of triangular part of the Ak for every iteration\n",
    "def qr_algorithm(A_init, num_iter): # 3 pts\n",
    "    # enter your code here\n",
    "    \n",
    "    convergence = np.zeros(num_iter)\n",
    "    Ak = A_init\n",
    "    for i in range(num_iter):\n",
    "        Q, R = np.linalg.qr(Ak)\n",
    "        Ak = R @ Q\n",
    "        convergence[i] = np.max(np.abs(np.tril(Ak) - np.diag(Ak.diagonal())))\n",
    "        #convergence[i] = np.max(np.abs(np.tril(Ak)))\n",
    "    return Ak, convergence\n",
    "    \n",
    "\n"
   ]
  },
  {
   "cell_type": "code",
   "execution_count": null,
   "metadata": {},
   "outputs": [],
   "source": []
  },
  {
   "cell_type": "markdown",
   "metadata": {
    "id": "UNrCBNRUOGI6"
   },
   "source": [
    "#### Symmetric case (3 pts)\n",
    "- Create symmetric tridiagonal $11 \\times 11$ matrix with elements $-1, 2, -1$ on sub-, main- and upper diagonal respectively without using loops.\n",
    "- Run $400$ iterations of the QR algorithm for this matrix.\n",
    "- Plot the output matrix with function ```plt.spy(Ak, precision=1e-7)```.\n",
    "- Plot convergence of QR-algorithm."
   ]
  },
  {
   "cell_type": "code",
   "execution_count": 293,
   "metadata": {
    "id": "NuKwQGXbOGI6"
   },
   "outputs": [
    {
     "data": {
      "text/plain": [
       "<matplotlib.image.AxesImage at 0x2d88eb0a7f0>"
      ]
     },
     "execution_count": 293,
     "metadata": {},
     "output_type": "execute_result"
    },
    {
     "data": {
      "image/png": "[encoded data removed]",
      "text/plain": [
       "<Figure size 432x288 with 1 Axes>"
      ]
     },
     "metadata": {
      "needs_background": "light"
     },
     "output_type": "display_data"
    }
   ],
   "source": [
    "# Your solution is here\n",
    "A = np.diag([2] * 11,0) +np.diag([-1] * 10,1) + np.diag([-1] * 10,-1)\n",
    "Ak, conv = qr_algorithm(A,1000)\n",
    "plt.spy(Ak, precision=1e-7)"
   ]
  },
  {
   "cell_type": "code",
   "execution_count": 295,
   "metadata": {},
   "outputs": [
    {
     "data": {
      "text/plain": [
       "Text(0, 0.5, 'Convergence')"
      ]
     },
     "execution_count": 295,
     "metadata": {},
     "output_type": "execute_result"
    },
    {
     "data": {
      "image/png": "[encoded data removed]",
      "text/plain": [
       "<Figure size 432x288 with 1 Axes>"
      ]
     },
     "metadata": {
      "needs_background": "light"
     },
     "output_type": "display_data"
    }
   ],
   "source": [
    "plt.plot(conv)\n",
    "plt.title('Convergence of QR-algorithm')\n",
    "plt.xlabel(\"iterations\")\n",
    "plt.ylabel(\"Convergence\")"
   ]
  },
  {
   "cell_type": "markdown",
   "metadata": {
    "id": "-lomV2K-OGI8"
   },
   "source": [
    "#### Nonsymmetric case (5 pts)\n",
    "\n",
    "- Create nonsymmetric tridiagonal $11 \\times 11$ matrix with elements $5, 3, -2$ on sub-, main- and upper diagonal respectively without using loops.\n",
    "- Run $250$ iterations of the QR algorithm for this matrix.\n",
    "- Plot the result matrix with function ```plt.spy(Ak, precision=1e-7)```. Is this matrix lower triangular? How does this correspond to the claim about convergence of the QR algorithm?"
   ]
  },
  {
   "cell_type": "code",
   "execution_count": 299,
   "metadata": {
    "id": "C2lGBHjaOGI9"
   },
   "outputs": [
    {
     "data": {
      "text/plain": [
       "<matplotlib.image.AxesImage at 0x2d88fd40790>"
      ]
     },
     "execution_count": 299,
     "metadata": {},
     "output_type": "execute_result"
    },
    {
     "data": {
      "image/png": "[encoded data removed]",
      "text/plain": [
       "<Figure size 432x288 with 1 Axes>"
      ]
     },
     "metadata": {
      "needs_background": "light"
     },
     "output_type": "display_data"
    }
   ],
   "source": [
    "A = np.diag([3] * 11,0) +np.diag([5] * 10,1) + np.diag([-2] * 10,-1)\n",
    "Ak, conv = qr_algorithm(A,250)\n",
    "plt.spy(Ak, precision=1e-7)"
   ]
  },
  {
   "cell_type": "code",
   "execution_count": 304,
   "metadata": {},
   "outputs": [
    {
     "data": {
      "text/plain": [
       "Text(0, 0.5, 'Convergence')"
      ]
     },
     "execution_count": 304,
     "metadata": {},
     "output_type": "execute_result"
    },
    {
     "data": {
      "image/png": "[encoded data removed]",
      "text/plain": [
       "<Figure size 432x288 with 1 Axes>"
      ]
     },
     "metadata": {
      "needs_background": "light"
     },
     "output_type": "display_data"
    }
   ],
   "source": [
    "plt.plot(conv)\n",
    "plt.title('Convergence of QR-algorithm')\n",
    "plt.xlabel(\"iterations\")\n",
    "plt.ylabel(\"Convergence\")"
   ]
  },
  {
   "cell_type": "markdown",
   "metadata": {},
   "source": [
    "it doesn't converge"
   ]
  },
  {
   "cell_type": "code",
   "execution_count": null,
   "metadata": {},
   "outputs": [],
   "source": []
  },
  {
   "cell_type": "markdown",
   "metadata": {},
   "source": [
    "### QR algorithms with Rayleigh Quotient shift (10 pts)\n",
    "\n",
    "In the lectures the Rayleigh Quotient shift was introduced to speed up convergence of power method. Here we ask you to generalize this approach to construct the shifts in QR algorithm.\n",
    "\n",
    "- How to compute the Rayleigh Quotient shift in QR algorithm fast? Provide formulas and explanations how they can be simplified.\n",
    "- Implement explicit QR algorithm with Rayleigh Quotient shift. Please do not worry about implicit orthogonalization, we want to compare convergence only in terms of iterations.\n",
    "- Test your implementation in the symmetric case. Plot the convergence of QR algorithm with and without shift. Choose the dimension $n \\sim 100 $ for more representative results. \n",
    "- How the convergence of the shifted algorithm compares to the simple QR? Why? "
   ]
  },
  {
   "cell_type": "code",
   "execution_count": 316,
   "metadata": {},
   "outputs": [],
   "source": [
    "def qr_algorithm_reileigh(A_init, num_iter):\n",
    "    # enter your code here\n",
    "    Ak = A_init \n",
    "    n = Ak.shape[0]\n",
    "    convergence = np.zeros(num_iter)\n",
    "    \n",
    "    for k in range(0, num_iter):\n",
    "        lam = Ak[-1, -1]\n",
    "        Qk, Rk = np.linalg.qr(Ak - lam * np.identity(n))\n",
    "        Ak = Rk @ Qk + lam * np.identity(n)\n",
    "        convergence[k] = np.max(np.abs(np.tril(Ak) - np.diag(Ak.diagonal())))\n",
    "    return Ak, convergence\n",
    "    \n"
   ]
  },
  {
   "cell_type": "code",
   "execution_count": 347,
   "metadata": {},
   "outputs": [
    {
     "data": {
      "text/plain": [
       "<matplotlib.legend.Legend at 0x2d8973c85e0>"
      ]
     },
     "execution_count": 347,
     "metadata": {},
     "output_type": "execute_result"
    },
    {
     "data": {
      "image/png": "[encoded data removed]",
      "text/plain": [
       "<Figure size 432x288 with 1 Axes>"
      ]
     },
     "metadata": {
      "needs_background": "light"
     },
     "output_type": "display_data"
    }
   ],
   "source": [
    "\n",
    "A = np.random.random((100,100))*100\n",
    "\n",
    "Ak1, conv1 = qr_algorithm(A,10)\n",
    "Ak2,conv2 = qr_algorithm_reileigh(A,10)\n",
    "\n",
    "plt.plot(conv1)\n",
    "plt.plot(conv2)\n",
    "plt.legend(['qr',\"qr_shift\"])\n",
    "\n",
    "#print(Ak2[1,0],Ak1[1,0])\n",
    "#print(Ak2.diagonal())\n",
    "#print(np.linalg.eigvals(A))\n",
    "#print(Ak1.diagonal())"
   ]
  },
  {
   "cell_type": "markdown",
   "metadata": {},
   "source": [
    "So far as:\n",
    "$$ A_k - s_kI=Q_k R_k $$\n",
    "$$ A_{k+1} = R_k Q_k +s_k I $$\n",
    "Convergence depends on the ratio between the eigenvalues. In shifted QR algorithm we have different ratio as in standart QR alg\n",
    "$$ |\\frac{\\lambda_{m+1}-s_k}{\\lambda_{m}-s_k} |$$\n"
   ]
  },
  {
   "cell_type": "markdown",
   "metadata": {},
   "source": [
    "- Try QR with Rayleigh Quotient shift for a simple matrix $A = \\begin{bmatrix}\n",
    "0 & 1 \\\\\n",
    "1 & 0\n",
    "\\end{bmatrix}$. Does anything change from iteration to iteration? Does shift affect convergence here? Why?"
   ]
  },
  {
   "cell_type": "code",
   "execution_count": 352,
   "metadata": {},
   "outputs": [
    {
     "data": {
      "image/png": "[encoded data removed]",
      "text/plain": [
       "<Figure size 432x288 with 1 Axes>"
      ]
     },
     "metadata": {
      "needs_background": "light"
     },
     "output_type": "display_data"
    },
    {
     "data": {
      "text/plain": [
       "<matplotlib.image.AxesImage at 0x2d898532100>"
      ]
     },
     "execution_count": 352,
     "metadata": {},
     "output_type": "execute_result"
    },
    {
     "data": {
      "image/png": "[encoded data removed]",
      "text/plain": [
       "<Figure size 432x288 with 1 Axes>"
      ]
     },
     "metadata": {
      "needs_background": "light"
     },
     "output_type": "display_data"
    }
   ],
   "source": [
    "# symmetric case\n",
    "A = np.array([[0,1],[1,0]])\n",
    "Ak,conv = qr_algorithm_reileigh(A,100)\n",
    "plt.plot(conv)\n",
    "plt.title('convergence')\n",
    "plt.show()\n",
    "plt.spy(Ak, precision=1e-7)"
   ]
  },
  {
   "cell_type": "markdown",
   "metadata": {},
   "source": [
    "it doesn't converge. because on every step shift is zero."
   ]
  },
  {
   "cell_type": "markdown",
   "metadata": {},
   "source": [
    "### QR with Wilkinson shift  (15 pts)\n",
    "\n",
    "To solve the problem that appears in the last example, we can use the Wilkinson shift:\n",
    "\n",
    "$$\\mu = a_m - \\frac {sign(\\delta) b^2_{m-1}} {(|\\delta| + \\sqrt{\\delta^2 + b^2_{m-1}} )},$$\n",
    "\n",
    "where $\\delta = \\frac{(a_{m-1} - a_m)}{2}$. If $\\delta = 0$, then instead of $sign(\\delta)$ you have to choose $1$ or $-1$ arbitrary.\n",
    "The numbers $a_m, b_{m-1}, a_{m-1}$ are taken from matrix $B$:\n",
    "\n",
    "$$\n",
    "    B = \n",
    "    \\begin{bmatrix} \n",
    "     a_{m-1} & b_{m-1} \\\\ \n",
    "     b_{m-1} & a_m \\\\ \n",
    "    \\end{bmatrix},\n",
    "$$  \n",
    "which is a lower right bottom submatrix of $A^{(k)}$. Here $k$ is an iteration counter in QR algorithm.\n",
    "\n",
    "- Compare convergence in the symmetric cases: \n",
    "    - distinctive eigenvalues\n",
    "    - two coincident eigenvalues\n",
    "    - maximum and minimum eigenvalues with the same absolute value\n",
    "Choose the dimension $n \\sim 100 $ for more representative results.\n",
    "What do you observe? "
   ]
  },
  {
   "cell_type": "code",
   "execution_count": 389,
   "metadata": {},
   "outputs": [],
   "source": [
    "def qr_algorithm_wilkinson(A_init, num_iter):\n",
    "    Ak = A_init \n",
    "    n = Ak.shape[1]\n",
    "    convergence = np.zeros(num_iter)\n",
    "    mu = 0    \n",
    "    l = np.eye(Ak.shape[0])\n",
    "    for k in range(0, num_iter):\n",
    "        delta = (Ak[-2, -2] - Ak[-1, -1]) / 2\n",
    "        if delta == 0:\n",
    "             mu = Ak[-1, -1] - 1 * (Ak[-1,  - 2])**2 / \\\n",
    "             (np.abs(delta) + np.linalg.norm([delta, Ak[-1, -2]]))\n",
    "        else:\n",
    "            mu = Ak[-1, -1] - np.sign(delta) * (Ak[-1, -2])**2 / \\\n",
    "             (np.abs(delta) + np.linalg.norm([delta, Ak[-1, -2]]))\n",
    "        \n",
    "        Q, R = np.linalg.qr(Ak -  l*mu)\n",
    "        Ak = R @ Q + l*mu\n",
    "        convergence[k] = np.max(np.abs(np.tril(Ak) - np.diag(Ak.diagonal())))      \n",
    "        \n",
    "    return Ak, convergence"
   ]
  },
  {
   "cell_type": "code",
   "execution_count": 446,
   "metadata": {},
   "outputs": [
    {
     "data": {
      "image/png": "[encoded data removed]",
      "text/plain": [
       "<Figure size 432x288 with 1 Axes>"
      ]
     },
     "metadata": {
      "needs_background": "light"
     },
     "output_type": "display_data"
    },
    {
     "data": {
      "image/png": "[encoded data removed]",
      "text/plain": [
       "<Figure size 432x288 with 1 Axes>"
      ]
     },
     "metadata": {
      "needs_background": "light"
     },
     "output_type": "display_data"
    }
   ],
   "source": [
    "# Your solution is here\n",
    "n = 100\n",
    "A = np.diag([2] * n,0) +np.diag([1] * (n-1),1) + np.diag([1] * (n-1),-1)\n",
    "#A = np.random.random((100,100))*10000\n",
    "\n",
    "N = 200\n",
    "Ak,conv  = qr_algorithm_wilkinson(A,N)\n",
    "Ak1,conv1 = qr_algorithm(A,N)\n",
    "Ak2,conv2 = qr_algorithm_reileigh(A,N)\n",
    "\n",
    "plt.title(\"convergence\")\n",
    "plt.plot(conv)\n",
    "plt.plot(conv1)\n",
    "plt.plot(conv2)\n",
    "plt.legend([\"qr_wilkinson\",\"qr\",\"qr_reileigh\"])\n",
    "plt.show()\n",
    "\n",
    "plt.title(\"Abs(e-vals) of different algs\")\n",
    "e_vals = np.sort(np.linalg.eigvals(A))\n",
    "Ak1 = np.sort(Ak1.diagonal())\n",
    "Ak2 = np.sort(Ak2.diagonal())\n",
    "Ak = np.sort(Ak.diagonal())\n",
    "X = range(n)\n",
    "plt.scatter(X,np.abs(e_vals),s= 10)\n",
    "plt.scatter(X,np.abs(Ak1),s= 4)\n",
    "plt.scatter(X,np.abs(Ak2),s= 4)\n",
    "plt.scatter(X,np.abs(Ak),s= 4)\n",
    "plt.legend([\"true e-vals\",\"qr\",\"qr_reileigh\",\"qr_wilkinson\"])\n",
    "plt.show()"
   ]
  },
  {
   "cell_type": "markdown",
   "metadata": {
    "id": "c_8OYe7wOGI-"
   },
   "source": [
    "## Problem 4. (Movie Recommender system) 15 pts\n",
    "\n",
    "Imagine the world without NLA where you have free evenings and you can watch movies!  \n",
    "But it is always hard to choose a movie to watch. \n",
    "In this problem we suggest you to build your own movie recommender system based on SVD decomposition, so you can combine two perfect things: Numerical Linear Algebra and cinematography!"
   ]
  },
  {
   "cell_type": "markdown",
   "metadata": {
    "id": "W2duSA-Su7CI"
   },
   "source": [
    "In order to build recommender system you need data. \n",
    "Here you are https://grouplens.org/datasets/movielens/1m/\n",
    "\n",
    "Usually all recommender systems may be devided into two groups\n",
    "\n",
    "#### Collaborative filtering. \n",
    "\n",
    "This approach is based on user-item interaction.\n",
    "It has one important assumption: user who has liked an item in the past will also likes the same in the future. Suppose the user A likes the films about vampires. \n",
    "He is Twilight saga fan and he has watched the film \"What we do in the shadows\" and liked it or unliked it, in other words he evaluated it somehow. And suppose another user B, who has the similair behavior to the first user (he is also Twilight saga fan). And the chance, that he will estimate \"What we do in the shadows\" in the same way that user A did, is huge. So, the purpose of the collaborative filtering is to predict a user's behavior based on behavior of the simular users.\n",
    "\n",
    "#### Content based filtering.\n",
    "\n",
    "Collaborative filtering has some essential flaws. The main one is called \"cold start\". \"Cold start\" happens when the new user comes and he has not react anyhow to the items. So we do not know his past behavior and we do not know what to advise. Here content based filtering helps. Often resources gather some extra info about users and items before a user comes down to utilising the resource. So, for example we would know that user likes horror movies before he watched anything on the resource."
   ]
  },
  {
   "cell_type": "markdown",
   "metadata": {
    "id": "mMvQV1zSu7Cg"
   },
   "source": [
    "\n",
    "- In this task you will implement Collaborative filtering based on SVD (we will use the function from the proper package and check if the result recommender system advices the similar movies)"
   ]
  },
  {
   "cell_type": "markdown",
   "metadata": {
    "id": "tMN7EK6gu7Ch"
   },
   "source": [
    "1) (1 pts)  Explore the data. Construct the interaction matrix $M$ of size $m \\times n$ which contains the information of how a certain user rated a certain film. \n",
    "\n",
    "2) (5 pts)  Compute SVD of this matrix. Remeber that matrix $M$ is sparse (one user can hardly watch all the movies) so the good choice would be to use method from ```scipy.sparse.linalg``` package\n",
    "\n",
    "$$ M = USV^{\\top}, $$\n",
    "\n",
    "where $U$ is a $m \\times r $ orthogonal matrix with left singular vectors, which represents the relationship between users and latent factors, $S$ is a $r \\times r $ diagonal matrix, which describes the strength of each latent factor and $V^\\top$ is a $r \\times n$ matrix with right singular vectors, which represent the embeddings of  items (movies in our case) in latent space.\n",
    "Describe any simple heuristic to choose appropriate value for $r$ and explain why do you expect that it will work.\n"
   ]
  },
  {
   "cell_type": "code",
   "execution_count": 471,
   "metadata": {
    "id": "qxYtnm7au7Ci"
   },
   "outputs": [
    {
     "name": "stderr",
     "output_type": "stream",
     "text": [
      "C:\\Users\\Slava\\anaconda3\\lib\\site-packages\\pandas\\util\\_decorators.py:311: ParserWarning: Falling back to the 'python' engine because the 'c' engine does not support regex separators (separators > 1 char and different from '\\s+' are interpreted as regex); you can avoid this warning by specifying engine='python'.\n",
      "  return func(*args, **kwargs)\n"
     ]
    },
    {
     "data": {
      "text/html": [
       "<div>\n",
       "<style scoped>\n",
       "    .dataframe tbody tr th:only-of-type {\n",
       "        vertical-align: middle;\n",
       "    }\n",
       "\n",
       "    .dataframe tbody tr th {\n",
       "        vertical-align: top;\n",
       "    }\n",
       "\n",
       "    .dataframe thead th {\n",
       "        text-align: right;\n",
       "    }\n",
       "</style>\n",
       "<table border=\"1\" class=\"dataframe\">\n",
       "  <thead>\n",
       "    <tr style=\"text-align: right;\">\n",
       "      <th>MovieID</th>\n",
       "      <th>1</th>\n",
       "      <th>2</th>\n",
       "      <th>3</th>\n",
       "      <th>4</th>\n",
       "      <th>5</th>\n",
       "      <th>6</th>\n",
       "      <th>7</th>\n",
       "      <th>8</th>\n",
       "      <th>9</th>\n",
       "      <th>10</th>\n",
       "      <th>...</th>\n",
       "      <th>3943</th>\n",
       "      <th>3944</th>\n",
       "      <th>3945</th>\n",
       "      <th>3946</th>\n",
       "      <th>3947</th>\n",
       "      <th>3948</th>\n",
       "      <th>3949</th>\n",
       "      <th>3950</th>\n",
       "      <th>3951</th>\n",
       "      <th>3952</th>\n",
       "    </tr>\n",
       "    <tr>\n",
       "      <th>UserID</th>\n",
       "      <th></th>\n",
       "      <th></th>\n",
       "      <th></th>\n",
       "      <th></th>\n",
       "      <th></th>\n",
       "      <th></th>\n",
       "      <th></th>\n",
       "      <th></th>\n",
       "      <th></th>\n",
       "      <th></th>\n",
       "      <th></th>\n",
       "      <th></th>\n",
       "      <th></th>\n",
       "      <th></th>\n",
       "      <th></th>\n",
       "      <th></th>\n",
       "      <th></th>\n",
       "      <th></th>\n",
       "      <th></th>\n",
       "      <th></th>\n",
       "      <th></th>\n",
       "    </tr>\n",
       "  </thead>\n",
       "  <tbody>\n",
       "    <tr>\n",
       "      <th>1</th>\n",
       "      <td>5.0</td>\n",
       "      <td>0.0</td>\n",
       "      <td>0.0</td>\n",
       "      <td>0.0</td>\n",
       "      <td>0.0</td>\n",
       "      <td>0.0</td>\n",
       "      <td>0.0</td>\n",
       "      <td>0.0</td>\n",
       "      <td>0.0</td>\n",
       "      <td>0.0</td>\n",
       "      <td>...</td>\n",
       "      <td>0.0</td>\n",
       "      <td>0.0</td>\n",
       "      <td>0.0</td>\n",
       "      <td>0.0</td>\n",
       "      <td>0.0</td>\n",
       "      <td>0.0</td>\n",
       "      <td>0.0</td>\n",
       "      <td>0.0</td>\n",
       "      <td>0.0</td>\n",
       "      <td>0.0</td>\n",
       "    </tr>\n",
       "    <tr>\n",
       "      <th>2</th>\n",
       "      <td>0.0</td>\n",
       "      <td>0.0</td>\n",
       "      <td>0.0</td>\n",
       "      <td>0.0</td>\n",
       "      <td>0.0</td>\n",
       "      <td>0.0</td>\n",
       "      <td>0.0</td>\n",
       "      <td>0.0</td>\n",
       "      <td>0.0</td>\n",
       "      <td>0.0</td>\n",
       "      <td>...</td>\n",
       "      <td>0.0</td>\n",
       "      <td>0.0</td>\n",
       "      <td>0.0</td>\n",
       "      <td>0.0</td>\n",
       "      <td>0.0</td>\n",
       "      <td>0.0</td>\n",
       "      <td>0.0</td>\n",
       "      <td>0.0</td>\n",
       "      <td>0.0</td>\n",
       "      <td>0.0</td>\n",
       "    </tr>\n",
       "    <tr>\n",
       "      <th>3</th>\n",
       "      <td>0.0</td>\n",
       "      <td>0.0</td>\n",
       "      <td>0.0</td>\n",
       "      <td>0.0</td>\n",
       "      <td>0.0</td>\n",
       "      <td>0.0</td>\n",
       "      <td>0.0</td>\n",
       "      <td>0.0</td>\n",
       "      <td>0.0</td>\n",
       "      <td>0.0</td>\n",
       "      <td>...</td>\n",
       "      <td>0.0</td>\n",
       "      <td>0.0</td>\n",
       "      <td>0.0</td>\n",
       "      <td>0.0</td>\n",
       "      <td>0.0</td>\n",
       "      <td>0.0</td>\n",
       "      <td>0.0</td>\n",
       "      <td>0.0</td>\n",
       "      <td>0.0</td>\n",
       "      <td>0.0</td>\n",
       "    </tr>\n",
       "    <tr>\n",
       "      <th>4</th>\n",
       "      <td>0.0</td>\n",
       "      <td>0.0</td>\n",
       "      <td>0.0</td>\n",
       "      <td>0.0</td>\n",
       "      <td>0.0</td>\n",
       "      <td>0.0</td>\n",
       "      <td>0.0</td>\n",
       "      <td>0.0</td>\n",
       "      <td>0.0</td>\n",
       "      <td>0.0</td>\n",
       "      <td>...</td>\n",
       "      <td>0.0</td>\n",
       "      <td>0.0</td>\n",
       "      <td>0.0</td>\n",
       "      <td>0.0</td>\n",
       "      <td>0.0</td>\n",
       "      <td>0.0</td>\n",
       "      <td>0.0</td>\n",
       "      <td>0.0</td>\n",
       "      <td>0.0</td>\n",
       "      <td>0.0</td>\n",
       "    </tr>\n",
       "    <tr>\n",
       "      <th>5</th>\n",
       "      <td>0.0</td>\n",
       "      <td>0.0</td>\n",
       "      <td>0.0</td>\n",
       "      <td>0.0</td>\n",
       "      <td>0.0</td>\n",
       "      <td>2.0</td>\n",
       "      <td>0.0</td>\n",
       "      <td>0.0</td>\n",
       "      <td>0.0</td>\n",
       "      <td>0.0</td>\n",
       "      <td>...</td>\n",
       "      <td>0.0</td>\n",
       "      <td>0.0</td>\n",
       "      <td>0.0</td>\n",
       "      <td>0.0</td>\n",
       "      <td>0.0</td>\n",
       "      <td>0.0</td>\n",
       "      <td>0.0</td>\n",
       "      <td>0.0</td>\n",
       "      <td>0.0</td>\n",
       "      <td>0.0</td>\n",
       "    </tr>\n",
       "    <tr>\n",
       "      <th>...</th>\n",
       "      <td>...</td>\n",
       "      <td>...</td>\n",
       "      <td>...</td>\n",
       "      <td>...</td>\n",
       "      <td>...</td>\n",
       "      <td>...</td>\n",
       "      <td>...</td>\n",
       "      <td>...</td>\n",
       "      <td>...</td>\n",
       "      <td>...</td>\n",
       "      <td>...</td>\n",
       "      <td>...</td>\n",
       "      <td>...</td>\n",
       "      <td>...</td>\n",
       "      <td>...</td>\n",
       "      <td>...</td>\n",
       "      <td>...</td>\n",
       "      <td>...</td>\n",
       "      <td>...</td>\n",
       "      <td>...</td>\n",
       "      <td>...</td>\n",
       "    </tr>\n",
       "    <tr>\n",
       "      <th>6036</th>\n",
       "      <td>0.0</td>\n",
       "      <td>0.0</td>\n",
       "      <td>0.0</td>\n",
       "      <td>2.0</td>\n",
       "      <td>0.0</td>\n",
       "      <td>3.0</td>\n",
       "      <td>0.0</td>\n",
       "      <td>0.0</td>\n",
       "      <td>0.0</td>\n",
       "      <td>0.0</td>\n",
       "      <td>...</td>\n",
       "      <td>0.0</td>\n",
       "      <td>0.0</td>\n",
       "      <td>0.0</td>\n",
       "      <td>0.0</td>\n",
       "      <td>0.0</td>\n",
       "      <td>0.0</td>\n",
       "      <td>0.0</td>\n",
       "      <td>0.0</td>\n",
       "      <td>0.0</td>\n",
       "      <td>0.0</td>\n",
       "    </tr>\n",
       "    <tr>\n",
       "      <th>6037</th>\n",
       "      <td>0.0</td>\n",
       "      <td>0.0</td>\n",
       "      <td>0.0</td>\n",
       "      <td>0.0</td>\n",
       "      <td>0.0</td>\n",
       "      <td>0.0</td>\n",
       "      <td>0.0</td>\n",
       "      <td>0.0</td>\n",
       "      <td>0.0</td>\n",
       "      <td>0.0</td>\n",
       "      <td>...</td>\n",
       "      <td>0.0</td>\n",
       "      <td>0.0</td>\n",
       "      <td>0.0</td>\n",
       "      <td>0.0</td>\n",
       "      <td>0.0</td>\n",
       "      <td>0.0</td>\n",
       "      <td>0.0</td>\n",
       "      <td>0.0</td>\n",
       "      <td>0.0</td>\n",
       "      <td>0.0</td>\n",
       "    </tr>\n",
       "    <tr>\n",
       "      <th>6038</th>\n",
       "      <td>0.0</td>\n",
       "      <td>0.0</td>\n",
       "      <td>0.0</td>\n",
       "      <td>0.0</td>\n",
       "      <td>0.0</td>\n",
       "      <td>0.0</td>\n",
       "      <td>0.0</td>\n",
       "      <td>0.0</td>\n",
       "      <td>0.0</td>\n",
       "      <td>0.0</td>\n",
       "      <td>...</td>\n",
       "      <td>0.0</td>\n",
       "      <td>0.0</td>\n",
       "      <td>0.0</td>\n",
       "      <td>0.0</td>\n",
       "      <td>0.0</td>\n",
       "      <td>0.0</td>\n",
       "      <td>0.0</td>\n",
       "      <td>0.0</td>\n",
       "      <td>0.0</td>\n",
       "      <td>0.0</td>\n",
       "    </tr>\n",
       "    <tr>\n",
       "      <th>6039</th>\n",
       "      <td>0.0</td>\n",
       "      <td>0.0</td>\n",
       "      <td>0.0</td>\n",
       "      <td>0.0</td>\n",
       "      <td>0.0</td>\n",
       "      <td>0.0</td>\n",
       "      <td>0.0</td>\n",
       "      <td>0.0</td>\n",
       "      <td>0.0</td>\n",
       "      <td>0.0</td>\n",
       "      <td>...</td>\n",
       "      <td>0.0</td>\n",
       "      <td>0.0</td>\n",
       "      <td>0.0</td>\n",
       "      <td>0.0</td>\n",
       "      <td>0.0</td>\n",
       "      <td>0.0</td>\n",
       "      <td>0.0</td>\n",
       "      <td>0.0</td>\n",
       "      <td>0.0</td>\n",
       "      <td>0.0</td>\n",
       "    </tr>\n",
       "    <tr>\n",
       "      <th>6040</th>\n",
       "      <td>3.0</td>\n",
       "      <td>0.0</td>\n",
       "      <td>0.0</td>\n",
       "      <td>0.0</td>\n",
       "      <td>0.0</td>\n",
       "      <td>0.0</td>\n",
       "      <td>0.0</td>\n",
       "      <td>0.0</td>\n",
       "      <td>0.0</td>\n",
       "      <td>0.0</td>\n",
       "      <td>...</td>\n",
       "      <td>0.0</td>\n",
       "      <td>0.0</td>\n",
       "      <td>0.0</td>\n",
       "      <td>0.0</td>\n",
       "      <td>0.0</td>\n",
       "      <td>0.0</td>\n",
       "      <td>0.0</td>\n",
       "      <td>0.0</td>\n",
       "      <td>0.0</td>\n",
       "      <td>0.0</td>\n",
       "    </tr>\n",
       "  </tbody>\n",
       "</table>\n",
       "<p>6040 rows × 3706 columns</p>\n",
       "</div>"
      ],
      "text/plain": [
       "MovieID  1     2     3     4     5     6     7     8     9     10    ...  \\\n",
       "UserID                                                               ...   \n",
       "1         5.0   0.0   0.0   0.0   0.0   0.0   0.0   0.0   0.0   0.0  ...   \n",
       "2         0.0   0.0   0.0   0.0   0.0   0.0   0.0   0.0   0.0   0.0  ...   \n",
       "3         0.0   0.0   0.0   0.0   0.0   0.0   0.0   0.0   0.0   0.0  ...   \n",
       "4         0.0   0.0   0.0   0.0   0.0   0.0   0.0   0.0   0.0   0.0  ...   \n",
       "5         0.0   0.0   0.0   0.0   0.0   2.0   0.0   0.0   0.0   0.0  ...   \n",
       "...       ...   ...   ...   ...   ...   ...   ...   ...   ...   ...  ...   \n",
       "6036      0.0   0.0   0.0   2.0   0.0   3.0   0.0   0.0   0.0   0.0  ...   \n",
       "6037      0.0   0.0   0.0   0.0   0.0   0.0   0.0   0.0   0.0   0.0  ...   \n",
       "6038      0.0   0.0   0.0   0.0   0.0   0.0   0.0   0.0   0.0   0.0  ...   \n",
       "6039      0.0   0.0   0.0   0.0   0.0   0.0   0.0   0.0   0.0   0.0  ...   \n",
       "6040      3.0   0.0   0.0   0.0   0.0   0.0   0.0   0.0   0.0   0.0  ...   \n",
       "\n",
       "MovieID  3943  3944  3945  3946  3947  3948  3949  3950  3951  3952  \n",
       "UserID                                                               \n",
       "1         0.0   0.0   0.0   0.0   0.0   0.0   0.0   0.0   0.0   0.0  \n",
       "2         0.0   0.0   0.0   0.0   0.0   0.0   0.0   0.0   0.0   0.0  \n",
       "3         0.0   0.0   0.0   0.0   0.0   0.0   0.0   0.0   0.0   0.0  \n",
       "4         0.0   0.0   0.0   0.0   0.0   0.0   0.0   0.0   0.0   0.0  \n",
       "5         0.0   0.0   0.0   0.0   0.0   0.0   0.0   0.0   0.0   0.0  \n",
       "...       ...   ...   ...   ...   ...   ...   ...   ...   ...   ...  \n",
       "6036      0.0   0.0   0.0   0.0   0.0   0.0   0.0   0.0   0.0   0.0  \n",
       "6037      0.0   0.0   0.0   0.0   0.0   0.0   0.0   0.0   0.0   0.0  \n",
       "6038      0.0   0.0   0.0   0.0   0.0   0.0   0.0   0.0   0.0   0.0  \n",
       "6039      0.0   0.0   0.0   0.0   0.0   0.0   0.0   0.0   0.0   0.0  \n",
       "6040      0.0   0.0   0.0   0.0   0.0   0.0   0.0   0.0   0.0   0.0  \n",
       "\n",
       "[6040 rows x 3706 columns]"
      ]
     },
     "execution_count": 471,
     "metadata": {},
     "output_type": "execute_result"
    }
   ],
   "source": [
    "# Importing Libraries\n",
    "import numpy as np\n",
    "import pandas as pd\n",
    "\n",
    "# Read the dataset\n",
    "movies = pd.read_table(\"movies.dat\",header=None,sep='::')\n",
    "movies.columns= ['MovieID', 'Title', 'Genres']\n",
    "\n",
    "ratings = pd.read_table(\"ratings.dat\",header=None,sep='::')\n",
    "ratings.columns= ['UserID', 'MovieID', 'Rating', 'Timestamp']\n",
    "\n",
    "users = pd.read_table(\"users.dat\",header=None,sep='::')\n",
    "users.columns= [\"UserID\",\"Gender\",\"Age\",\"Occupation\",\"Zip-code\"]\n",
    "\n",
    "# Create the interaction matrix\n",
    "M = ratings.pivot(index = 'UserID', columns ='MovieID', values = 'Rating').fillna(0)\n",
    "# Normalize the matrix\n",
    "M"
   ]
  },
  {
   "cell_type": "code",
   "execution_count": null,
   "metadata": {},
   "outputs": [],
   "source": []
  },
  {
   "cell_type": "code",
   "execution_count": 472,
   "metadata": {
    "id": "3zUd9OvBu7Cj"
   },
   "outputs": [],
   "source": [
    "# Compute Singular Value Decomposition of interaction matrix. You can use built-in functions\n",
    "\n",
    "U,S, V = scipy.sparse.linalg.svds(M)"
   ]
  },
  {
   "cell_type": "code",
   "execution_count": 477,
   "metadata": {},
   "outputs": [
    {
     "data": {
      "text/plain": [
       "(6,)"
      ]
     },
     "execution_count": 477,
     "metadata": {},
     "output_type": "execute_result"
    }
   ],
   "source": [
    "S.shape"
   ]
  },
  {
   "cell_type": "markdown",
   "metadata": {},
   "source": [
    "r = 6, => rank of M is 6, M is too empty, and i dont need to choose r, r is realy small"
   ]
  },
  {
   "cell_type": "markdown",
   "metadata": {
    "id": "SMXnKF5Tu7Cj"
   },
   "source": [
    "3) (2 pts) In order to get weighted item-latent factors, we can multiply $S$ and $V^{T}$. Please, remember that $S$ is diagonal and multiply them efficiently."
   ]
  },
  {
   "cell_type": "code",
   "execution_count": 488,
   "metadata": {
    "id": "VEW4M5Ovu7Cj"
   },
   "outputs": [],
   "source": [
    "# Your solutuion is here\n",
    "from scipy.sparse import diags\n",
    "item_latent_factors = diags(S,0) @ V"
   ]
  },
  {
   "cell_type": "markdown",
   "metadata": {
    "id": "eEMDQkkqu7Ck"
   },
   "source": [
    "Now we have vectors that represent our item space. In other words we have $N$ movies and $N$ vectors which describe each movie, a.k.a. embeddings. \n",
    "In order to know if two movies are similar or not we need just to check if the corresponding vectors are similair or not. How we can do this?\n",
    "\n",
    "4) (2 pts)  Implement the cosine metric. If the cosine metric between two vectors equals to $1$ both vectors are collinear, if $0$ vectors are orthogonal, as a result corresponding movies are completely different.\n",
    "\n",
    "$$\n",
    "cosine(u,v) = \\frac{u^{\\top}v}{\\|u\\|_2\\|v\\|_2}\n",
    "$$"
   ]
  },
  {
   "cell_type": "code",
   "execution_count": 489,
   "metadata": {
    "id": "lAR4dXMOOGI_"
   },
   "outputs": [],
   "source": [
    "# Your solutuion is here\n",
    "def cosine_metric(u,v):\n",
    "    cos = (u.T @ v) / (np.linalg.norm(u) * np.linalg.norm(v))\n",
    "    return cos"
   ]
  },
  {
   "cell_type": "markdown",
   "metadata": {
    "id": "6wRZh8ALu7C1"
   },
   "source": [
    "5) (5 pts) Check your result. Implement the fuction, which finds and prints $k$ similar movies to the one you have chosen"
   ]
  },
  {
   "cell_type": "code",
   "execution_count": 585,
   "metadata": {
    "id": "26g7MzeWu7C1"
   },
   "outputs": [],
   "source": [
    "# Your solutuion is here\n",
    "def find_similar_2(your_movie_vec,vectors,k):\n",
    "    \n",
    "    cosines = np.zeros((len(vectors),2))\n",
    "    \n",
    "    for i,factor in enumerate(vectors):\n",
    "        cosines[i,1]= cosine_metric(your_movie_vec,factor)\n",
    "        cosines[i,0] = i\n",
    "    \n",
    "    cosines = cosines[(-1*cosines[:, 1]).argsort()]\n",
    "    \n",
    "    name = []\n",
    "    gendre =[]\n",
    "    for i in range(0,k):\n",
    "        name.append(movies[movies.MovieID == cosines[i,0]].values[0][1])\n",
    "        gendre.append(movies[movies.MovieID == cosines[i,0]].values[0][2])\n",
    "    return name,gendre"
   ]
  },
  {
   "cell_type": "code",
   "execution_count": 626,
   "metadata": {},
   "outputs": [
    {
     "name": "stdout",
     "output_type": "stream",
     "text": [
      "Father of the Bride Part II (1995) ------ Comedy\n",
      "Toy Story (1995) ------ Animation|Children's|Comedy\n",
      "Jumanji (1995) ------ Adventure|Children's|Fantasy\n",
      "Waiting to Exhale (1995) ------ Comedy|Drama\n"
     ]
    }
   ],
   "source": [
    "names,gen = find_similar_2(item_latent_factors[5],item_latent_factors,4)\n",
    "for i in range(len(gen)):\n",
    "    print(names[i],\"------\",gen[i])\n"
   ]
  },
  {
   "cell_type": "code",
   "execution_count": null,
   "metadata": {},
   "outputs": [],
   "source": []
  },
  {
   "cell_type": "markdown",
   "metadata": {
    "id": "oPIQfKcmu7C2"
   },
   "source": [
    "Enjoy watching the recommended movies!\n"
   ]
  },
  {
   "cell_type": "code",
   "execution_count": null,
   "metadata": {},
   "outputs": [],
   "source": []
  },
  {
   "cell_type": "code",
   "execution_count": null,
   "metadata": {},
   "outputs": [],
   "source": []
  },
  {
   "cell_type": "code",
   "execution_count": null,
   "metadata": {},
   "outputs": [],
   "source": []
  },
  {
   "cell_type": "code",
   "execution_count": null,
   "metadata": {},
   "outputs": [],
   "source": []
  },
  {
   "cell_type": "code",
   "execution_count": null,
   "metadata": {},
   "outputs": [],
   "source": []
  },
  {
   "cell_type": "code",
   "execution_count": null,
   "metadata": {},
   "outputs": [],
   "source": []
  },
  {
   "cell_type": "code",
   "execution_count": null,
   "metadata": {},
   "outputs": [],
   "source": []
  }
 ],
 "metadata": {
  "colab": {
   "collapsed_sections": [],
   "name": "hw2_problem_1_3.ipynb",
   "provenance": []
  },
  "kernelspec": {
   "display_name": "Python 3 (ipykernel)",
   "language": "python",
   "name": "python3"
  },
  "language_info": {
   "codemirror_mode": {
    "name": "ipython",
    "version": 3
   },
   "file_extension": ".py",
   "mimetype": "text/x-python",
   "name": "python",
   "nbconvert_exporter": "python",
   "pygments_lexer": "ipython3",
   "version": "3.8.12"
  }
 },
 "nbformat": 4,
 "nbformat_minor": 4
}
