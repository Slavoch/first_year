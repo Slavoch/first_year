{
 "cells": [
  {
   "cell_type": "markdown",
   "metadata": {
    "id": "feQHvD0LuOz7"
   },
   "source": [
    "# Problem set 3 (90 pts)\n",
    "\n",
    "## Important note: the template for your solution filename is Name_Surname_PS3.ipynb\n",
    "\n",
    "### The correct answer to the bonus question can be used as an additional reason to increase the final grade in the border case"
   ]
  },
  {
   "cell_type": "markdown",
   "metadata": {
    "id": "dh0nKsm46hpo"
   },
   "source": [
    "## Problem 2 (65 pts)\n",
    "### On the performance of conjugate gradient method for BTTB matrices.\n",
    "\n",
    "You are given 2D image (QR-code) and convolution operator $T$. The application of $T$ results in smoothing of the image. In exact arithmetic, the proposed $T$ is non-singular. However, it becomes rather ill-conditioned with increasing $N$ in finite precision arithmetic. In this task you need to study how the conjugate gradient method performs in this case."
   ]
  },
  {
   "cell_type": "markdown",
   "metadata": {
    "id": "3gi5DJJz6hps"
   },
   "source": [
    "The original passcode is given below:"
   ]
  },
  {
   "cell_type": "code",
   "execution_count": 251,
   "metadata": {
    "id": "mxPusfbx6hps",
    "outputId": "2fe5ac3f-c23e-4f3d-dc69-b211ec69506b"
   },
   "outputs": [
    {
     "data": {
      "text/plain": [
       "(-0.5, 329.5, 329.5, -0.5)"
      ]
     },
     "execution_count": 251,
     "metadata": {},
     "output_type": "execute_result"
    },
    {
     "data": {
      "image/png": "[encoded data removed]",
      "text/plain": [
       "<Figure size 432x288 with 1 Axes>"
      ]
     },
     "metadata": {
      "needs_background": "light"
     },
     "output_type": "display_data"
    }
   ],
   "source": [
    "import matplotlib.pyplot as plt\n",
    "x = plt.imread('qrcode.gif')[:,:,0]\n",
    "n = x.shape[0]\n",
    "plt.imshow(x, cmap=\"gray\")\n",
    "plt.axis(\"off\")"
   ]
  },
  {
   "cell_type": "code",
   "execution_count": 3,
   "metadata": {},
   "outputs": [
    {
     "data": {
      "text/plain": [
       "330"
      ]
     },
     "execution_count": 3,
     "metadata": {},
     "output_type": "execute_result"
    }
   ],
   "source": [
    "n"
   ]
  },
  {
   "cell_type": "markdown",
   "metadata": {
    "id": "uHzqVBAK6hpu"
   },
   "source": [
    "Blurring can be performed by convolving $n\\times n$ QR-code with the following filter:\n",
    "\n",
    "$$T_{i_1j_1,i_2j_2} = T_{i_1-j_1,i_2-j_2} = \\frac{\\alpha}{\\pi}e^{-\\alpha[(i_1-j_1)^2 + (i_2-j_2)^2]}, \\quad i_1,j_1,i_2,j_2 = 1 \\ldots n, \\quad 1 > \\alpha > 0.$$\n",
    "\n",
    "You know from lectures that this convolution can be viewed as a matrix-vector multiplication of some BTTB matrix $T$ of size $n^2 \\times n^2$."
   ]
  },
  {
   "cell_type": "code",
   "execution_count": null,
   "metadata": {
    "id": "Ccbk2rGNG9Bp"
   },
   "outputs": [],
   "source": [
    "for i in range(4):\n",
    "  for j in range(4):\n",
    "    for k in range(4):\n",
    "      for n in range(4):\n",
    "        print(f'{i,j,k,n}-th power is {(i-j)**2+(k-n)**2}')"
   ]
  },
  {
   "cell_type": "markdown",
   "metadata": {
    "id": "nQSQVkG86hpu"
   },
   "source": [
    "## Task 1 (15 pts) \n",
    "\n",
    "- Write function `T_matvec()` that performs multiplication of $T$ by a given vector $x$ efficiently. Remember about FFT.\n",
    "- Use `scipy.sparse.linalg.LinearOperator` to create an object that has attribute `.dot()` (this object will be further used in the iterative process). Note that `.dot()` input and output must be 1D vectors, so do not forget to use reshape."
   ]
  },
  {
   "cell_type": "code",
   "execution_count": 5,
   "metadata": {
    "id": "7iihCYcSosVC"
   },
   "outputs": [],
   "source": [
    "import numpy as np"
   ]
  },
  {
   "cell_type": "code",
   "execution_count": 71,
   "metadata": {
    "id": "DB41RYHLnSt2"
   },
   "outputs": [],
   "source": [
    "def construct_circ(alpha, n):\n",
    "  circ = np.zeros((2*n-1, 2*n-1))\n",
    "  indices = list(range(n))\n",
    "  indices.extend((list(range(-n+1,0))))\n",
    "  for i in range(len(indices)):\n",
    "    for j in range(len(indices)):\n",
    "      circ[i,j] = alpha/np.pi*(np.exp(-alpha*((indices[i])**2+(indices[j])**2)))\n",
    "  #print(circ.shape)\n",
    "  return circ\n"
   ]
  },
  {
   "cell_type": "code",
   "execution_count": 7,
   "metadata": {
    "id": "B1YLS-8vqu1y"
   },
   "outputs": [],
   "source": [
    "def construct_mat(x):\n",
    "  n = x.shape[0]\n",
    "  mat = np.pad(x, (0,n-1))\n",
    "  return mat"
   ]
  },
  {
   "cell_type": "code",
   "execution_count": 74,
   "metadata": {
    "colab": {
     "base_uri": "https://localhost:8080/"
    },
    "id": "XzLL9U8Vrh39",
    "outputId": "e380e248-c6f2-4ed6-9087-ab086865226c"
   },
   "outputs": [
    {
     "data": {
      "text/plain": [
       "array([[1., 1., 1., 1., 0., 0., 0.],\n",
       "       [1., 1., 1., 1., 0., 0., 0.],\n",
       "       [1., 1., 1., 1., 0., 0., 0.],\n",
       "       [1., 1., 1., 1., 0., 0., 0.],\n",
       "       [0., 0., 0., 0., 0., 0., 0.],\n",
       "       [0., 0., 0., 0., 0., 0., 0.],\n",
       "       [0., 0., 0., 0., 0., 0., 0.]])"
      ]
     },
     "execution_count": 74,
     "metadata": {},
     "output_type": "execute_result"
    }
   ],
   "source": [
    "construct_mat(np.ones((4,4)))"
   ]
  },
  {
   "cell_type": "code",
   "execution_count": 101,
   "metadata": {},
   "outputs": [
    {
     "data": {
      "text/plain": [
       "array([[255, 255, 255, ..., 255, 255, 255],\n",
       "       [255, 255, 255, ..., 255, 255, 255],\n",
       "       [255, 255, 255, ..., 255, 255, 255],\n",
       "       ...,\n",
       "       [255, 255, 255, ..., 255, 255, 255],\n",
       "       [255, 255, 255, ..., 255, 255, 255],\n",
       "       [255, 255, 255, ..., 255, 255, 255]], dtype=uint8)"
      ]
     },
     "execution_count": 101,
     "metadata": {},
     "output_type": "execute_result"
    }
   ],
   "source": [
    "x"
   ]
  },
  {
   "cell_type": "code",
   "execution_count": 46,
   "metadata": {
    "id": "SKiL6Iky6hpv"
   },
   "outputs": [],
   "source": [
    "def T_matvec(x, alpha):\n",
    "    #pass\n",
    "    x = x.reshape(int(np.sqrt(x.shape[0])),int(np.sqrt(x.shape[0])))\n",
    "    n = x.shape[0]\n",
    "    y = np.real(np.fft.ifft2(np.fft.fft2(construct_circ(alpha, n))*np.fft.fft2(construct_mat(x))))\n",
    "    return y[:n,:n].reshape(-1)\n",
    "    #return y.reshape(-1)\n",
    "\n",
    "# T = spla.LinearOperator((n**2, n**2), matvec = lambda x : T_matvec(x, alpha))\n",
    "# your code is here"
   ]
  },
  {
   "cell_type": "code",
   "execution_count": 9,
   "metadata": {},
   "outputs": [],
   "source": [
    "from scipy import signal\n"
   ]
  },
  {
   "cell_type": "code",
   "execution_count": 96,
   "metadata": {},
   "outputs": [
    {
     "data": {
      "text/plain": [
       "(9,)"
      ]
     },
     "execution_count": 96,
     "metadata": {},
     "output_type": "execute_result"
    }
   ],
   "source": [
    "np.ones((3,3)).reshape(-1).shape"
   ]
  },
  {
   "cell_type": "code",
   "execution_count": 97,
   "metadata": {},
   "outputs": [
    {
     "data": {
      "text/plain": [
       "(108900,)"
      ]
     },
     "execution_count": 97,
     "metadata": {},
     "output_type": "execute_result"
    }
   ],
   "source": [
    "x.shape\n",
    "y = x.reshape(-1)\n",
    "y.shape"
   ]
  },
  {
   "cell_type": "code",
   "execution_count": 47,
   "metadata": {
    "id": "_LiwhaYJtVb0"
   },
   "outputs": [],
   "source": [
    "from scipy.sparse import linalg\n",
    "alpha = 1\n",
    "LA = linalg.LinearOperator((n**2,n**2), matvec = lambda x : T_matvec(x, alpha))"
   ]
  },
  {
   "cell_type": "markdown",
   "metadata": {
    "id": "Vpj3Llkc6hpv"
   },
   "source": [
    "**Remark.** The obtained matrix $T$ is positive definite (at least in the exact arithmetic), hence the conjugate gradient method can be applied to solve with $T$.\n",
    "\n",
    "**Bonus question: Prove the remark above.**"
   ]
  },
  {
   "cell_type": "markdown",
   "metadata": {
    "id": "0VMvWA9WjfJx"
   },
   "source": [
    "Let us consider the leading principal minors, as they by Sylvester's criterion may determine the posdef nature. \n",
    "\n",
    "The first LPM is of the form,\n",
    "\n",
    "$$\\begin{pmatrix} T_{11} \\end{pmatrix} = \\begin{pmatrix} t_{1111} & t_{1112} & t_{1113} &\\dots \\\\ t_{1121} & t_{1122} & t_{1123} &\\dots \\end{pmatrix}$$\n",
    "By the form of this matrix' element it is symmetric. \n",
    "$$\\begin{pmatrix} a & b & c &\\dots \\\\ b & c & d &\\dots \\end{pmatrix}$$\n",
    "\n",
    "Its determinant is $$a\\begin{bmatrix}a&b&\\dots\\\\ b & a & \\dots\\end{bmatrix} - b\\begin{bmatrix}b&b&\\dots\\\\ c & a & \\dots\\end{bmatrix} +c\\begin{bmatrix}b&a&\\dots\\\\ c & b & \\dots\\end{bmatrix}+\\dots$$\n",
    "\n",
    "We note: $$a>b>c>d>\\dots$$\n",
    "\n",
    "We use the Leibniz formula of the determinant:  \n",
    "$$det(T_{11}) = \\epsilon_{i_1 i_2 i_3 \\dots i_n}t_{1i_1}t_{2i_2}\\dots t_{ni_n}$$\n",
    "\n",
    "We rewrite the determinant as sum of pairwise differences:\n",
    "\n",
    "$$det(T_{11}) = t_{11}t_{22}\\dots t_{nn} - t_{12}t_{21}\\dots t_{nn} + t_{12}t_{23}t_{31}\\dots t_{nn} - \\dots$$\n",
    "\n",
    "The greatest elements of the matrix lie on the diagonal by construction, and nowhere else. All off-diagonal elements are lesser than the diagonal ones. \n",
    "\n",
    "Additionally, by construction the magnitude of a product of a matrix's elements is inversely dependent on the sum of absolute values of the pairwise index differences for elements of the product. \n",
    "\n",
    "We start with the unpermuted sequence, for which the sum is zero. At each step we pick such a nontrivial permutation that the sum increases by the least possible amount. We obtain then the determinant of kind $a-b+c-d+e-f+\\dots$, where $a\\ge b \\ge c \\ge d\\ge \\dots$. This expression is nonnegative. We then note that $a>b$, since we cannot pick a nontrivial permutation that does not increase the sum of absolute values of the pairwise index differences of an unpermuted sequence. Then the expression is positive, and the first LPM is positive too. \n",
    "\n",
    "Now consider the second LPM.\n",
    "It is of the form $$\\begin{pmatrix}T_{11}&T_{12}\\\\T_{21}&T_{22}\\end{pmatrix}$$\n",
    "\n",
    "$$T_{i,j,k,l} = T_{in+k, jn+l}$$\n",
    "$$\\begin{pmatrix}A&B\\\\B&A\\end{pmatrix}$$\n",
    "$$det(A-B)det(A+B)$$\n",
    "$$det(A+B)>0$$\n",
    "$$det(A-B) = exp(-alpha)det(A) >0$$\n",
    "\n",
    "The generalisation to higher-order LPMs should not prove very troublesome from here on."
   ]
  },
  {
   "cell_type": "markdown",
   "metadata": {
    "id": "fyoFYerG6hpw"
   },
   "source": [
    "## Task 2 (10 pts) \n",
    "- For $\\alpha \\in \\{ 0.1, 0.01,0.001\\}$ compute $y=Tx$ and deconvolve $x$ using `scipy.sparse.linalg.cg` with $tol \\in \\{10^{-3}, 10^{-4}, 10^{-5}, 10^{-6}, 10^{-7}\\}$. For each pair $\\alpha$, $tol$ write out `num_iters` and relative error $e = \\frac{\\|x - x^*\\|_2}{\\|x\\|_2}$ .\n",
    "- Comment on the results: \n",
    "\n",
    "    1) why the relative error does not converge to zero? \n",
    "    \n",
    "    2) why the relative error converges to different values for different $\\alpha$?"
   ]
  },
  {
   "cell_type": "code",
   "execution_count": 123,
   "metadata": {},
   "outputs": [],
   "source": [
    "nnn = construct_circ(.001,x.shape[0])"
   ]
  },
  {
   "cell_type": "code",
   "execution_count": 116,
   "metadata": {},
   "outputs": [
    {
     "data": {
      "text/plain": [
       "1.0"
      ]
     },
     "execution_count": 116,
     "metadata": {},
     "output_type": "execute_result"
    }
   ],
   "source": [
    "k = np.sqrt(np.abs(np.linalg.eigvals(nnn)).max()/np.abs(np.linalg.eigvals(nnn)).min())\n",
    "(np.sqrt(k)-1)/(np.sqrt(k)+1)"
   ]
  },
  {
   "cell_type": "code",
   "execution_count": 124,
   "metadata": {},
   "outputs": [
    {
     "data": {
      "text/plain": [
       "3.061343734769307e-98"
      ]
     },
     "execution_count": 124,
     "metadata": {},
     "output_type": "execute_result"
    }
   ],
   "source": [
    "nnn[np.abs(nnn)>0].min()"
   ]
  },
  {
   "cell_type": "code",
   "execution_count": 118,
   "metadata": {},
   "outputs": [
    {
     "data": {
      "text/plain": [
       "False"
      ]
     },
     "execution_count": 118,
     "metadata": {},
     "output_type": "execute_result"
    }
   ],
   "source": [
    "np.all(np.linalg.eigvals(nnn) > 0)"
   ]
  },
  {
   "cell_type": "code",
   "execution_count": 1,
   "metadata": {
    "id": "1ZziAoPv6hpw"
   },
   "outputs": [],
   "source": [
    "# your code is here\n",
    "from scipy import sparse"
   ]
  },
  {
   "cell_type": "code",
   "execution_count": 102,
   "metadata": {},
   "outputs": [
    {
     "data": {
      "text/plain": [
       "(330, 330)"
      ]
     },
     "execution_count": 102,
     "metadata": {},
     "output_type": "execute_result"
    }
   ],
   "source": [
    "x.shape"
   ]
  },
  {
   "cell_type": "code",
   "execution_count": 51,
   "metadata": {},
   "outputs": [],
   "source": [
    "def solve_sparse(A, b, tol, maxiter):\n",
    "    num_iters = 0\n",
    "\n",
    "    def callback(xk):\n",
    "        nonlocal num_iters\n",
    "        num_iters+=1\n",
    "\n",
    "    x,status=linalg.cg(A, b,tol=tol, callback=callback, maxiter = maxiter)\n",
    "    print(status)\n",
    "    return x,status,num_iters"
   ]
  },
  {
   "cell_type": "code",
   "execution_count": 141,
   "metadata": {},
   "outputs": [
    {
     "name": "stdout",
     "output_type": "stream",
     "text": [
      "11\n",
      "Error of 0.12847145208381036 in 11 iters at 0.1;-3\n",
      "46\n",
      "Error of 0.10191431361088153 in 46 iters at 0.1;-4\n",
      "136\n",
      "Error of 0.09586763786282183 in 136 iters at 0.1;-5\n",
      "787\n",
      "Error of 0.07219466311014011 in 787 iters at 0.1;-6\n",
      "2375\n",
      "Error of 0.06678284923880298 in 2375 iters at 0.1;-7\n",
      "18\n",
      "Error of 0.2151919309181162 in 18 iters at 0.01;-3\n",
      "53\n",
      "Error of 0.20193916147301713 in 53 iters at 0.01;-4\n",
      "169\n",
      "Error of 0.19716583755859354 in 169 iters at 0.01;-5\n",
      "564\n",
      "Error of 0.19487075035913684 in 564 iters at 0.01;-6\n",
      "2532\n",
      "Error of 0.18957325617869322 in 2532 iters at 0.01;-7\n",
      "13\n",
      "Error of 0.43627179661633714 in 13 iters at 0.001;-3\n",
      "50\n",
      "Error of 0.4197951783360356 in 50 iters at 0.001;-4\n",
      "163\n",
      "Error of 0.4000549001472259 in 163 iters at 0.001;-5\n",
      "544\n",
      "Error of 0.3804390150989798 in 544 iters at 0.001;-6\n",
      "1593\n",
      "Error of 0.3696250307699775 in 1593 iters at 0.001;-7\n"
     ]
    }
   ],
   "source": [
    "for a in [.1, .01, .001]:\n",
    "    y = T_matvec(x.reshape(-1),a)\n",
    "    LA = linalg.LinearOperator((n**2,n**2), matvec = lambda x : T_matvec(x, a))\n",
    "    for t in [-3, -4, -5, -6, -7]:\n",
    "        x1,_,ni = solve_sparse(LA, y, 10**t, 10_000)\n",
    "        print(ni)\n",
    "        print(f'Error of {np.linalg.norm(x1-x.reshape(-1))/np.linalg.norm(x.reshape(-1))} in {ni} iters at {a};{t}')"
   ]
  },
  {
   "cell_type": "code",
   "execution_count": 53,
   "metadata": {},
   "outputs": [],
   "source": [
    "from scipy.sparse import linalg\n",
    "alpha = .01\n",
    "LA = linalg.LinearOperator((n**2,n**2), matvec = lambda x : T_matvec(x, alpha))"
   ]
  },
  {
   "cell_type": "code",
   "execution_count": 54,
   "metadata": {},
   "outputs": [],
   "source": [
    "y = T_matvec(x.reshape(-1),alpha)\n",
    "yhat = y+np.random.standard_normal(y.shape)"
   ]
  },
  {
   "cell_type": "code",
   "execution_count": 70,
   "metadata": {},
   "outputs": [
    {
     "data": {
      "text/plain": [
       "0.005514669590836127"
      ]
     },
     "execution_count": 70,
     "metadata": {},
     "output_type": "execute_result"
    }
   ],
   "source": [
    "np.linalg.norm(yhat-y)/np.linalg.norm(y)"
   ]
  },
  {
   "cell_type": "markdown",
   "metadata": {},
   "source": [
    "The nonconvergence to zero is probably due to the upper bound being dependent on a product of a nonzero quantity and the starting error. As can be seen at the start of this task (everywhere here demonstrated on the BCCB embedding with hope that it demonstrates the effecct well because the 4d array does not readily allow such analysis; this should be the case because the action of BCCB embedding on a vector is in some sense equivalent to the original operator), the great disparity of eigenvalues leads to the matrix having, numerically speaking, prefactor of 1 (before raising to power) in the convergence bound, thus hampering convergence and explaining why it is hard to go to zero. Additionally, the matrix contains exponentials so great that they are numerically zero, thus distorting the theoretical positive definiteness and even becoming singular (which explodes the condition number and further destroys convergence). In the demonstrations at the top of this task it is shown that not all its eigenvalues are real positive. Different alpha-values introduce different amounts of zeros into the matrix, thereby leading to wholly different eigenvalue distributions and most likely causing the difference in convergence.\n",
    "\n",
    "In short: the terrible condition number is to blame; the matrix is singular; everything is bad; convergence rate has an upper bound of 1."
   ]
  },
  {
   "cell_type": "markdown",
   "metadata": {
    "id": "lJ4XOLfw6hpx"
   },
   "source": [
    "In all further tasks fix $\\alpha = 0.01$. Compute $y = Tx$, and add vector with Gaussian noise from $\\mathcal{N}(0, 1)$ to $y$ and get the final right-hand side $\\hat{y}$.\n",
    "\n",
    "## Task 3 (10 pts)\n",
    "- Try to deconvolve $\\hat{y}$ with matrix $T$ using $tol=10^{-5}$ in CG. Explain, why CG does not converge.\n",
    "- Suggest how CG can still be used to recover $x$. What are drawbacks of the suggested approach?"
   ]
  },
  {
   "cell_type": "code",
   "execution_count": null,
   "metadata": {
    "id": "JzT0Wfzl6hpx"
   },
   "outputs": [],
   "source": [
    "# your code is here"
   ]
  },
  {
   "cell_type": "code",
   "execution_count": 62,
   "metadata": {},
   "outputs": [
    {
     "name": "stdout",
     "output_type": "stream",
     "text": [
      "1000\n"
     ]
    },
    {
     "data": {
      "text/plain": [
       "(array([1.34693022e+08, 1.36440611e+07, 2.21251174e+08, ...,\n",
       "        7.26263724e+07, 1.32358888e+08, 2.75453142e+08]),\n",
       " 1000,\n",
       " 1000)"
      ]
     },
     "execution_count": 62,
     "metadata": {},
     "output_type": "execute_result"
    }
   ],
   "source": [
    "out = solve_sparse(LA, yhat, 10**-5, 1000)\n",
    "out"
   ]
  },
  {
   "cell_type": "code",
   "execution_count": 65,
   "metadata": {},
   "outputs": [
    {
     "name": "stdout",
     "output_type": "stream",
     "text": [
      "0\n"
     ]
    },
    {
     "data": {
      "text/plain": [
       "(array([251.04438444, 253.33790118, 254.45565882, ..., 253.21875669,\n",
       "        252.40031151, 250.66428526]),\n",
       " 0,\n",
       " 168)"
      ]
     },
     "execution_count": 65,
     "metadata": {},
     "output_type": "execute_result"
    }
   ],
   "source": [
    "out = solve_sparse(LA, y, 10**-5, 1000)\n",
    "out"
   ]
  },
  {
   "cell_type": "code",
   "execution_count": 63,
   "metadata": {},
   "outputs": [
    {
     "data": {
      "text/plain": [
       "1.8628055949364586"
      ]
     },
     "execution_count": 63,
     "metadata": {},
     "output_type": "execute_result"
    }
   ],
   "source": [
    "np.linalg.norm(T_matvec(out[0], alpha).reshape(-1)-x.reshape(-1))/np.linalg.norm(x.reshape(-1))"
   ]
  },
  {
   "cell_type": "code",
   "execution_count": 66,
   "metadata": {},
   "outputs": [
    {
     "name": "stdout",
     "output_type": "stream",
     "text": [
      "1\n",
      "0.45695462309754825 at 1 iters\n",
      "2\n",
      "0.42265873631888845 at 2 iters\n",
      "3\n",
      "0.41245056108519534 at 3 iters\n",
      "4\n",
      "0.40933055589805195 at 4 iters\n",
      "5\n",
      "0.40736866947174755 at 5 iters\n",
      "6\n",
      "0.4063618018824413 at 6 iters\n",
      "7\n",
      "0.4058379596986744 at 7 iters\n",
      "8\n",
      "0.40538459878497113 at 8 iters\n",
      "9\n",
      "0.4049984388235274 at 9 iters\n",
      "10\n",
      "0.40475460057767615 at 10 iters\n",
      "11\n",
      "0.4044596972079169 at 11 iters\n",
      "12\n",
      "0.40431713177999795 at 12 iters\n",
      "13\n",
      "0.404259965207611 at 13 iters\n",
      "14\n",
      "0.40444937291539074 at 14 iters\n",
      "15\n",
      "0.40506825934166857 at 15 iters\n",
      "16\n",
      "0.40515386439266604 at 16 iters\n",
      "17\n",
      "0.40868842902398267 at 17 iters\n",
      "18\n",
      "0.4103491893096297 at 18 iters\n",
      "19\n",
      "0.4111998821603509 at 19 iters\n",
      "20\n",
      "0.41676103877551607 at 20 iters\n",
      "21\n",
      "0.41746779402278655 at 21 iters\n",
      "22\n",
      "0.4244384189322726 at 22 iters\n",
      "23\n",
      "0.4320651714630875 at 23 iters\n",
      "24\n",
      "0.4331737268791863 at 24 iters\n",
      "25\n",
      "0.4402735671084492 at 25 iters\n",
      "26\n",
      "0.44622232765227104 at 26 iters\n",
      "27\n",
      "0.44888802061916505 at 27 iters\n",
      "28\n",
      "0.4612948724552929 at 28 iters\n",
      "29\n",
      "0.4645790908693247 at 29 iters\n",
      "30\n",
      "0.46202805291868365 at 30 iters\n",
      "31\n",
      "0.4595040952210034 at 31 iters\n",
      "32\n",
      "0.4622038362325836 at 32 iters\n",
      "33\n",
      "0.47476698788333016 at 33 iters\n",
      "34\n",
      "0.49474179471362145 at 34 iters\n",
      "35\n",
      "0.5012733412453424 at 35 iters\n",
      "36\n",
      "0.48480686610787016 at 36 iters\n",
      "37\n",
      "0.48501084653746246 at 37 iters\n",
      "38\n",
      "0.49024269384981617 at 38 iters\n",
      "39\n",
      "0.5027232409035134 at 39 iters\n",
      "40\n",
      "0.5081729541511926 at 40 iters\n",
      "41\n",
      "0.5099665721513593 at 41 iters\n",
      "42\n",
      "0.4902965008378067 at 42 iters\n",
      "43\n",
      "0.49856697115973436 at 43 iters\n",
      "44\n",
      "0.5131549968387192 at 44 iters\n",
      "45\n",
      "0.505589143500128 at 45 iters\n",
      "46\n",
      "0.5211200260019875 at 46 iters\n",
      "47\n",
      "0.5103283733577743 at 47 iters\n",
      "48\n",
      "0.5180006453977377 at 48 iters\n",
      "49\n",
      "0.5252883988070195 at 49 iters\n",
      "50\n",
      "0.5286805202097633 at 50 iters\n",
      "51\n",
      "0.5389294642410394 at 51 iters\n",
      "52\n",
      "0.5388686687873783 at 52 iters\n",
      "53\n",
      "0.5317478233307745 at 53 iters\n",
      "54\n",
      "0.5458963653180091 at 54 iters\n",
      "55\n",
      "0.5463608982223468 at 55 iters\n",
      "56\n",
      "0.5494293330731432 at 56 iters\n",
      "57\n",
      "0.5441745898973422 at 57 iters\n",
      "58\n",
      "0.5553140364826752 at 58 iters\n",
      "59\n",
      "0.5448319808603659 at 59 iters\n",
      "60\n",
      "0.5412433183926375 at 60 iters\n",
      "61\n",
      "0.5439626647139783 at 61 iters\n",
      "62\n",
      "0.5629218591416146 at 62 iters\n",
      "63\n",
      "0.5648500169239914 at 63 iters\n",
      "64\n",
      "0.5686523943442157 at 64 iters\n",
      "65\n",
      "0.5584369784732973 at 65 iters\n",
      "66\n",
      "0.5746222366351751 at 66 iters\n",
      "67\n",
      "0.5827026663316123 at 67 iters\n",
      "68\n",
      "0.5824283699581233 at 68 iters\n",
      "69\n",
      "0.5610756119384744 at 69 iters\n",
      "70\n",
      "0.5626241142969097 at 70 iters\n",
      "71\n",
      "0.5801233789656823 at 71 iters\n",
      "72\n",
      "0.5764705974597972 at 72 iters\n",
      "73\n",
      "0.5879491962300336 at 73 iters\n",
      "74\n",
      "0.5936991838759337 at 74 iters\n",
      "75\n",
      "0.5845696714929595 at 75 iters\n",
      "76\n",
      "0.5993058436921769 at 76 iters\n",
      "77\n",
      "0.5927051037681503 at 77 iters\n",
      "78\n",
      "0.6037796049309678 at 78 iters\n",
      "79\n",
      "0.6128355367249987 at 79 iters\n",
      "80\n",
      "0.6235314620657381 at 80 iters\n",
      "81\n",
      "0.6173007344287085 at 81 iters\n",
      "82\n",
      "0.6148987404003065 at 82 iters\n",
      "83\n",
      "0.5974851608983418 at 83 iters\n",
      "84\n",
      "0.6238085623403116 at 84 iters\n",
      "85\n",
      "0.6240388918034145 at 85 iters\n",
      "86\n",
      "0.602897285854395 at 86 iters\n",
      "87\n",
      "0.6035048721082159 at 87 iters\n",
      "88\n",
      "0.5991139358700902 at 88 iters\n",
      "89\n",
      "0.6154587599051414 at 89 iters\n",
      "90\n",
      "0.6220552561407657 at 90 iters\n",
      "91\n",
      "0.6436835559629713 at 91 iters\n",
      "92\n",
      "0.6445494344277939 at 92 iters\n",
      "93\n",
      "0.6647978189500784 at 93 iters\n",
      "94\n",
      "0.6474773725269918 at 94 iters\n",
      "95\n",
      "0.6325024754351088 at 95 iters\n",
      "96\n",
      "0.648150785316171 at 96 iters\n",
      "97\n",
      "0.6336276845738352 at 97 iters\n",
      "98\n",
      "0.6435723086417976 at 98 iters\n",
      "99\n",
      "0.6397655333635884 at 99 iters\n",
      "100\n",
      "0.6719634866106952 at 100 iters\n"
     ]
    }
   ],
   "source": [
    "mock = []\n",
    "for i in range(1,101):\n",
    "    mock2 = solve_sparse(LA, yhat, 10**-5, i)\n",
    "    mock.append(mock2[0])\n",
    "    print(f'{np.linalg.norm(T_matvec(mock2[0], alpha).reshape(-1)-x.reshape(-1))/np.linalg.norm(x.reshape(-1))} at {i} iters')"
   ]
  },
  {
   "cell_type": "code",
   "execution_count": 68,
   "metadata": {},
   "outputs": [
    {
     "name": "stdout",
     "output_type": "stream",
     "text": [
      "[74.75176261 82.51943942 91.22408442 ... 90.24850952 82.39110251\n",
      " 74.42029705]\n",
      "[127.87870174 139.60059567 153.84089331 ... 151.07390366 139.18007051\n",
      " 126.89400931]\n",
      "[161.0318552  173.74964542 191.6137182  ... 185.9763376  172.7483122\n",
      " 158.91542582]\n",
      "[175.37552095 187.02646683 207.74218537 ... 197.97138493 185.00564124\n",
      " 171.49305152]\n",
      "[191.8014743  202.02340628 227.75259151 ... 211.26110448 198.20444787\n",
      " 184.93114839]\n",
      "[205.06410242 213.95364871 245.60635145 ... 221.34431469 207.79676832\n",
      " 194.56295548]\n",
      "[213.52850559 220.26967691 259.91989369 ... 225.24900451 211.11971409\n",
      " 198.20443012]\n",
      "[220.96422923 223.08347647 278.36677044 ... 224.33680338 209.09039165\n",
      " 196.98662866]\n",
      "[233.61733613 228.34655226 310.46374349 ... 222.11924331 204.59361231\n",
      " 193.50151868]\n",
      "[266.80135608 249.67378287 382.00077906 ... 224.65024631 202.03139362\n",
      " 191.77019866]\n",
      "[326.03425471 289.25766607 510.3486253  ... 235.22590281 202.58783907\n",
      " 192.61825246]\n",
      "[388.23276001 322.09882589 671.57789684 ... 254.52413731 205.72008348\n",
      " 194.64636142]\n",
      "[449.63648184 337.59507205 882.43281991 ... 275.03717    199.92233635\n",
      " 185.87641056]\n",
      "[ 524.27560386  345.54933605 1180.1967924  ...  253.38757662  140.26981532\n",
      "  123.39676205]\n",
      "[ 652.12838668  360.8726371  1697.57690876 ...  132.24718544  -43.89129217\n",
      "  -62.19117232]\n",
      "[ 806.7803402   369.23211024 2355.89626586 ...  -18.51862493 -279.30179495\n",
      " -302.35362606]\n",
      "[1003.95688609  384.23560952 3180.27922324 ... -148.61085595 -519.09001132\n",
      " -553.23119347]\n",
      "[1357.84800683  457.42211842 4521.85182446 ... -330.5293697  -871.12180936\n",
      " -922.43973073]\n",
      "[ 1881.10675292   604.75287848  6388.54227758 ...  -561.11981818\n",
      " -1325.6931214  -1396.04539768]\n",
      "[ 2442.38589383   700.79350692  8574.5563696  ...  -738.65378794\n",
      " -1770.50252895 -1861.93598589]\n",
      "[ 3053.97378846   729.06141184 11195.37187501 ...  -815.12746418\n",
      " -2175.60631504 -2293.51566295]\n",
      "[ 3772.90818735   764.5216775  14280.21084114 ...  -823.40620533\n",
      " -2557.8642031  -2698.37974097]\n",
      "[ 4967.59802483   965.15036127 18963.23945471 ...  -880.59452787\n",
      " -3142.11978438 -3296.33569888]\n",
      "[ 6427.99343802  1370.94346082 24186.58820397 ... -1017.06401866\n",
      " -3827.53500474 -3979.96917838]\n",
      "[ 8071.35245722  1843.23766469 30016.7076664  ... -1184.33806062\n",
      " -4594.59516796 -4733.5096275 ]\n",
      "[ 9788.53782399  2144.96168188 36726.59360078 ... -1302.58271447\n",
      " -5421.95017019 -5535.68565571]\n",
      "[11480.32273061  2226.56911994 44113.35606661 ... -1276.88573665\n",
      " -6187.8333525  -6259.76691962]\n",
      "[13199.58287079  2229.54392177 52031.57133922 ... -1144.06081523\n",
      " -6873.85808304 -6869.71796448]\n",
      "[15314.78008712  2229.62116702 61903.29510633 ... -1034.54531701\n",
      " -7725.70181224 -7574.44039827]\n",
      "[17451.69433786  2282.66386123 71771.28692706 ... -1076.31183943\n",
      " -8656.9798974  -8298.55710516]\n",
      "[19536.51250877  2313.13583467 81510.02848622 ... -1147.65943142\n",
      " -9553.56862927 -8938.85374748]\n",
      "[ 21508.69626291   2243.10629356  91124.67840067 ...   -940.52785274\n",
      " -10145.58818271  -9252.8107702 ]\n",
      "[ 23719.99758233   2020.63325182 102566.42368529 ...   -479.42406201\n",
      " -10608.65394666  -9344.31495106]\n",
      "[ 2.59536143e+04  1.67451782e+03  1.14823500e+05 ... -1.06986115e+02\n",
      " -1.11633745e+04 -9.42887660e+03]\n",
      "[ 2.82032661e+04  9.22182497e+02  1.28846568e+05 ...  4.33360671e+01\n",
      " -1.19931762e+04 -9.60499706e+03]\n",
      "[ 29868.57825172   -237.4710354  141538.33474738 ...    296.80878966\n",
      " -12559.58367056  -9468.43432097]\n",
      "[ 31147.36713363  -1413.0264363  152434.24670849 ...   1195.52771669\n",
      " -12281.06823524  -8501.79178912]\n",
      "[ 32694.48685006  -2766.78735501 165436.69310799 ...   3029.09003476\n",
      " -11048.07019129  -6339.24772036]\n",
      "[ 34259.5202088   -4289.57976579 179176.00234027 ...   5261.32373159\n",
      "  -9285.1920914   -3437.60171156]\n",
      "[ 3.58696042e+04 -5.99177288e+03  1.93922062e+05 ...  7.80252701e+03\n",
      " -7.11263937e+03  8.88495777e+01]\n",
      "[ 37318.72022134  -8101.42622339 209529.36587446 ...  10648.26102967\n",
      "  -4556.15548612   4208.92478809]\n",
      "[ 37967.54229326 -10193.47747153 220990.34337185 ...  12775.99393385\n",
      "  -2578.82741432   7458.47841753]\n",
      "[ 38013.29284534 -12954.85173872 231932.08873159 ...  14739.89676228\n",
      "   -683.13458092  10737.22068597]\n",
      "[ 37754.80110994 -16577.4264327  244575.03222314 ...  16756.31041932\n",
      "   1348.09212022  14522.40616611]\n",
      "[ 37748.8611665  -19913.98196222 257278.55014961 ...  18595.99094956\n",
      "   3288.60539325  18289.54256391]\n",
      "[ 38518.45000381 -22744.66921645 271798.51702724 ...  20953.38054224\n",
      "   5831.73792899  22891.54777348]\n",
      "[ 39889.95390704 -25127.65315015 287395.02782699 ...  23857.89693575\n",
      "   9000.34119692  28270.26726747]\n",
      "[ 41338.6464461  -27219.43686694 301960.8794957  ...  26699.56306612\n",
      "  12185.01901368  33612.79128847]\n",
      "[ 42979.44624705 -29768.35655019 318847.20325603 ...  29728.62966301\n",
      "  15727.98665714  39808.88661361]\n",
      "[ 44360.18438526 -32567.85795446 335240.01227728 ...  32027.52048442\n",
      "  18642.53759845  45480.29313959]\n",
      "[ 45279.6547849  -35918.21750411 351176.08806773 ...  33568.85118586\n",
      "  20902.52410982  50645.59933941]\n",
      "[ 45883.44403351 -40350.16116444 369030.51771519 ...  34580.23003124\n",
      "  22863.65632463  56120.38260405]\n",
      "[ 46486.78250113 -45497.09459514 388769.00216056 ...  35267.2204315\n",
      "  24757.91059808  62117.8555568 ]\n",
      "[ 47261.99694495 -49597.32717355 405154.28331571 ...  36039.24990206\n",
      "  26662.93401479  67558.85422741]\n",
      "[ 48485.56426617 -54053.05837319 423795.00280138 ...  37434.4452531\n",
      "  29485.04072351  74533.00554476]\n",
      "[ 50319.50876824 -58537.69815283 444119.41816813 ...  39609.75028601\n",
      "  33356.73693578  83047.02812319]\n",
      "[ 52760.81212951 -62041.51733632 463261.43539922 ...  41902.88338523\n",
      "  37358.27506808  91466.14192449]\n",
      "[ 56162.42407041 -65020.21912117 483801.58709588 ...  44647.22640081\n",
      "  42022.7378053  100894.33572908]\n",
      "[ 60072.04765183 -67420.44971969 503947.67303765 ...  47591.53822241\n",
      "  46923.53062398 110507.32828033]\n",
      "[ 64825.02252131 -69405.59786449 525290.74063301 ...  51035.88643749\n",
      "  52512.94475922 121125.04702364]\n",
      "[ 69727.39512812 -70802.65736008 544976.35296446 ...  54732.27174944\n",
      "  58238.09005787 131515.15191744]\n",
      "[ 75456.13273148 -71968.44682719 566029.22766293 ...  59241.08263952\n",
      "  64970.89224134 143287.33748937]\n",
      "[ 82310.25635192 -72759.02951265 589087.87708951 ...  64439.50643506\n",
      "  72636.36394513 156482.5538519 ]\n",
      "[ 90836.8473678  -72785.0446484  614979.20883657 ...  70171.82130869\n",
      "  81132.67165828 171121.77396061]\n",
      "[100399.46417724 -71702.13177371 641174.62922963 ...  75541.43280889\n",
      "  89257.64872373 185326.89433   ]\n",
      "[111970.87949596 -69161.5956114  669953.27443922 ...  81051.36619074\n",
      "  97715.86759293 200261.47790358]\n",
      "[124843.67616705 -65755.75468016 700345.87680147 ...  86971.44206917\n",
      " 106726.29018944 216036.68681229]\n",
      "[137673.65307227 -62311.15293319 730020.07427007 ...  93301.58422852\n",
      " 116112.09466823 232086.24124458]\n",
      "[151116.8430606  -58747.70910392 760800.35836172 ... 100470.66515169\n",
      " 126520.59272895 249507.00782939]\n",
      "[164386.94982705 -55233.07033481 790928.87740606 ... 107807.17709489\n",
      " 137142.75050735 267129.66232778]\n",
      "[177087.17018941 -51824.45540913 819533.11968044 ... 115344.87632675\n",
      " 147871.65138948 284590.24712206]\n",
      "[190269.54325565 -48343.42629534 849126.44060582 ... 123823.16934649\n",
      " 159729.61652222 303522.33301214]\n",
      "[204474.50712092 -44741.83290303 880942.52115821 ... 133822.67652313\n",
      " 173468.99395531 325027.18945164]\n",
      "[219174.61936611 -41062.74792219 913571.34861071 ... 144840.66362952\n",
      " 188425.35736439 348089.83075123]\n",
      "[234686.9110072  -37313.94473393 947646.66898722 ... 156848.01786067\n",
      " 204696.93942348 373043.865455  ]\n",
      "[249512.50502188 -33609.46890767 979473.35387497 ... 168324.51323973\n",
      " 220250.93889251 396835.72436704]\n",
      "[ 265994.85743812  -29049.68748477 1013775.57419995 ...  180618.99517355\n",
      "  236961.57114435  422430.14582904]\n",
      "[ 284365.71496447  -23555.18921824 1050901.39957142 ...  193517.61739546\n",
      "  254694.38872508  449833.64240103]\n",
      "[ 304572.39563398  -17392.71671849 1090919.79671908 ...  207272.69860105\n",
      "  273764.31611592  479490.45540957]\n",
      "[ 325510.43164257  -11056.90700463 1131694.42973153 ...  221344.05702539\n",
      "  293392.66748115  510139.26334396]\n",
      "[ 347314.470696     -4649.15248972 1173488.13136846 ...  235475.67387001\n",
      "  313456.77024246  541858.15446979]\n",
      "[ 368631.75426521    1923.97324999 1213190.22254271 ...  248471.69024772\n",
      "  332235.03917501  571875.81664705]\n",
      "[ 389460.55842899    8976.40565727 1250603.63041671 ...  260516.65029461\n",
      "  349770.5372475   599990.20080095]\n",
      "[ 414046.11509003   18130.72754533 1293096.47739582 ...  273700.58458041\n",
      "  369233.19420283  631425.59610214]\n",
      "[ 439652.8968695    28360.66137011 1336118.72250998 ...  286375.52505818\n",
      "  388272.34444892  662521.0273175 ]\n",
      "[ 466773.11315661   39606.77613529 1380830.90382847 ...  299075.5150392\n",
      "  407588.36221396  694364.47291742]\n",
      "[ 492043.78519986   50143.74228567 1422087.05626104 ...  310051.9860879\n",
      "  424739.1966209   723230.16439083]\n",
      "[ 516643.04889939   60273.84849965 1462160.53926139 ...  319318.13004606\n",
      "  440171.93651755  750335.77774265]\n",
      "[ 540380.77449375   69956.84442243 1500864.53162964 ...  327298.73458767\n",
      "  454245.56860721  775926.87968301]\n",
      "[ 567642.27377266   81050.81138826 1545359.63440088 ...  336166.04996071\n",
      "  470217.48976335  805320.1436443 ]\n",
      "[ 596509.44178      92952.45809096 1592429.84345807 ...  345317.15973723\n",
      "  486963.70533399  836370.46116735]\n",
      "[ 626732.27550235  105514.41772983 1641716.15756445 ...  354702.6739264\n",
      "  504385.44191803  868888.80182339]\n",
      "[ 660297.78326506  119444.06908656 1696608.38856296 ...  364884.09624265\n",
      "  523638.58631206  905153.22064368]\n",
      "[ 696728.4521184   134519.81815739 1756426.69854913 ...  376177.88349211\n",
      "  544881.56398646  945080.86863549]\n",
      "[ 729841.89929464  148200.65423011 1811064.38663176 ...  387004.84489879\n",
      "  564821.29010261  982190.85338356]\n",
      "[ 759947.84202477  160741.92595472 1860957.6132266  ...  397284.07314019\n",
      "  583436.71475169 1016541.88108422]\n",
      "[ 791611.26563447  174024.55963254 1913636.77159828 ...  408727.92964833\n",
      "  603702.56547609 1053480.97986746]\n",
      "[ 823806.8320254   187662.35353795 1967349.01935997 ...  420809.86500062\n",
      "  624822.28932088 1091680.5437746 ]\n",
      "[ 856175.21723643  201599.05277732 2021324.03208418 ...  432802.51874685\n",
      "  645929.96506446 1130005.37510265]\n",
      "[ 888571.29218565  215720.73568397 2075197.97946476 ...  444551.86424061\n",
      "  666819.75005414 1168169.09245091]\n"
     ]
    }
   ],
   "source": [
    "for a in mock: \n",
    "    print(a)"
   ]
  },
  {
   "cell_type": "code",
   "execution_count": 69,
   "metadata": {},
   "outputs": [
    {
     "name": "stdout",
     "output_type": "stream",
     "text": [
      "[75.01607311 82.94894159 90.64735838 ... 90.64735838 82.94894159\n",
      " 75.01607311]\n",
      "[128.38650425 140.55372094 151.99426106 ... 151.99426104 140.55372093\n",
      " 128.38650425]\n",
      "[161.49623575 175.08398198 187.41259281 ... 187.41262363 175.08400542\n",
      " 161.49625346]\n",
      "[175.35314153 188.51374187 200.05187667 ... 200.04959776 188.51189021\n",
      " 175.35164766]\n",
      "[189.768684   202.53509585 213.35801971 ... 213.3918794  202.56392693\n",
      " 189.79302275]\n",
      "[199.55503704 212.13032504 222.58620124 ... 222.48754862 212.04207001\n",
      " 199.47702553]\n",
      "[204.02114206 216.24923805 226.27615658 ... 226.21269517 216.19895259\n",
      " 203.9819747 ]\n",
      "[206.53436952 218.19232709 227.59172274 ... 227.97963438 218.54875469\n",
      " 206.85718057]\n",
      "[209.23691707 220.37582942 229.19878759 ... 229.64025896 220.76252294\n",
      " 209.57175485]\n",
      "[213.76072191 224.54511865 232.94182067 ... 232.36530092 223.98417935\n",
      " 213.22688216]\n",
      "[219.22963945 229.71567734 237.73932881 ... 236.10148297 228.19402066\n",
      " 217.83715917]\n",
      "[222.9475285  233.09937145 240.7431934  ... 239.9670308  232.40961806\n",
      " 222.34218762]\n",
      "[225.1186824  234.88228046 242.11994652 ... 243.49042385 236.21074718\n",
      " 226.38063339]\n",
      "[226.61754001 236.0410377  242.9401287  ... 245.1402843  238.15704188\n",
      " 228.61471799]\n",
      "[228.1958067  237.29235561 243.8758571  ... 244.82725359 238.24210058\n",
      " 229.12085954]\n",
      "[229.29173525 238.09358167 244.39465024 ... 244.40273857 238.11531537\n",
      " 229.3241306 ]\n",
      "[230.10325905 238.67433415 244.75308596 ... 244.54179875 238.42599134\n",
      " 229.83178242]\n",
      "[231.4179924  239.76415768 245.62392867 ... 244.73967201 238.817841\n",
      " 230.44468256]\n",
      "[233.05657802 241.21046434 246.88079957 ... 244.86130618 239.16003595\n",
      " 231.029623  ]\n",
      "[234.00718882 241.95418206 247.42528188 ... 245.39155197 239.89001129\n",
      " 231.96691404]\n",
      "[234.4504     242.17009526 247.43034434 ... 246.49284974 241.17202592\n",
      " 233.42621694]\n",
      "[234.78226593 242.30686377 247.39062773 ... 247.68106471 242.53179319\n",
      " 234.94709411]\n",
      "[235.6032986  242.92523548 247.82109945 ... 248.8147442  243.89940178\n",
      " 236.53562323]\n",
      "[236.88563126 244.05469305 248.80114337 ... 249.50167897 244.80867987\n",
      " 237.66150636]\n",
      "[238.18408081 245.21283859 249.81771207 ... 249.93790289 245.43109771\n",
      " 238.47401188]\n",
      "[239.06452627 245.91613274 250.34754017 ... 250.39625682 246.05005003\n",
      " 239.26429769]\n",
      "[239.51922716 246.18679536 250.44845017 ... 251.00071854 246.78817548\n",
      " 240.14928348]\n",
      "[239.83549431 246.35365404 250.48730942 ... 251.60295653 247.51278481\n",
      " 241.00829586]\n",
      "[240.24020446 246.60437184 250.60995715 ... 252.07525199 248.14687955\n",
      " 241.81770829]\n",
      "[240.76737808 246.99729747 250.88891895 ... 252.15944423 248.40591467\n",
      " 242.26574884]\n",
      "[241.32966833 247.43371006 251.21214158 ... 252.02794547 248.42848428\n",
      " 242.45836925]\n",
      "[241.83706468 247.82597602 251.49654155 ... 252.05037681 248.53491862\n",
      " 242.66802072]\n",
      "[242.36735096 248.24372183 251.8086653  ... 252.11574383 248.63366693\n",
      " 242.82813357]\n",
      "[242.90240056 248.69323301 252.1833425  ... 251.94270936 248.47086966\n",
      " 242.71149381]\n",
      "[243.35638791 249.05569636 252.47263464 ... 251.37347972 247.92372953\n",
      " 242.23284721]\n",
      "[243.5484897  249.14770113 252.48616194 ... 250.7866833  247.36909258\n",
      " 241.7525212 ]\n",
      "[243.68082158 249.1983078  252.47365952 ... 250.67568617 247.28355177\n",
      " 241.71823112]\n",
      "[243.95611121 249.3913701  252.60275064 ... 250.97298848 247.62177309\n",
      " 242.11267919]\n",
      "[244.30107307 249.65135107 252.79340059 ... 251.4051508  248.12743051\n",
      " 242.6967893 ]\n",
      "[244.73649112 250.00426468 253.08046413 ... 251.93142688 248.75110087\n",
      " 243.41753779]\n",
      "[245.1655994  250.34943191 253.36311466 ... 252.5769264  249.50625698\n",
      " 244.27991331]\n",
      "[245.30795693 250.42253251 253.38756644 ... 253.0566163  250.06616134\n",
      " 244.91898858]\n",
      "[245.1704606  250.21461926 253.13245795 ... 253.39834235 250.46954273\n",
      " 245.38637715]\n",
      "[244.87398649 249.83869826 252.70395344 ... 253.61309353 250.74104658\n",
      " 245.72178447]\n",
      "[244.68355187 249.57860033 252.39641753 ... 253.73237993 250.90765374\n",
      " 245.94497723]\n",
      "[244.79992082 249.64197856 252.42177066 ... 253.98230962 251.18672484\n",
      " 246.26274817]\n",
      "[245.15943042 249.95782342 252.70274842 ... 254.42084876 251.6392423\n",
      " 246.73759757]\n",
      "[245.55496796 250.31742383 253.03041641 ... 254.87224149 252.09535325\n",
      " 247.20512562]\n",
      "[245.98720634 250.71631595 253.40046501 ... 255.29598085 252.51944122\n",
      " 247.6395207 ]\n",
      "[246.31953696 251.02749996 253.69845648 ... 255.49306716 252.71456024\n",
      " 247.84757089]\n",
      "[246.47690381 251.17024593 253.83922441 ... 255.44684836 252.66335536\n",
      " 247.81213373]\n",
      "[246.47509769 251.15348242 253.82658096 ... 255.14275892 252.35470458\n",
      " 247.52863537]\n",
      "[246.3649222  251.02829638 253.71084071 ... 254.61003963 251.82256047\n",
      " 247.03479526]\n",
      "[246.25350984 250.90309931 253.59167184 ... 254.16241304 251.38351224\n",
      " 246.63450795]\n",
      "[246.11198826 250.73833156 253.42479525 ... 253.72033495 250.96223157\n",
      " 246.26540366]\n",
      "[245.95948686 250.54916273 253.22033288 ... 253.33068362 250.60920627\n",
      " 245.98013945]\n",
      "[245.87904759 250.42874032 253.07800836 ... 252.9869831  250.31678591\n",
      " 245.76588824]\n",
      "[245.86570413 250.36689233 252.98416499 ... 252.66067625 250.05687259\n",
      " 245.59882251]\n",
      "[245.88644734 250.33242848 252.90947096 ... 252.36679169 249.83768994\n",
      " 245.47924559]\n",
      "[245.93539954 250.31882994 252.84832665 ... 252.10775293 249.66373577\n",
      " 245.41413498]\n",
      "[245.98670659 250.30959053 252.79147603 ... 251.96687363 249.59901074\n",
      " 245.44391469]\n",
      "[246.02748709 250.27977006 252.70314577 ... 251.91848694 249.62529683\n",
      " 245.56052789]\n",
      "[246.08821121 250.25537496 252.60479143 ... 251.91766101 249.70179844\n",
      " 245.72911086]\n",
      "[246.22680616 250.29242917 252.5496843  ... 251.91784713 249.78339273\n",
      " 245.90738151]\n",
      "[246.4832088  250.44593942 252.60641221 ... 251.86926557 249.81153212\n",
      " 246.02743293]\n",
      "[246.90769149 250.76800582 252.82908033 ... 251.7717444  249.78558516\n",
      " 246.08902519]\n",
      "[247.4426561  251.19582205 253.15081595 ... 251.66678969 249.74753422\n",
      " 246.13424752]\n",
      "[247.98335376 251.62627894 253.47161354 ... 251.60473264 249.74416062\n",
      " 246.20472419]\n",
      "[248.53717322 252.06447962 253.79595437 ... 251.58522876 249.78059377\n",
      " 246.31136118]\n",
      "[249.02946749 252.45738994 254.09359946 ... 251.56823646 249.81504863\n",
      " 246.40829841]\n",
      "[249.43303263 252.78743307 254.35640191 ... 251.59218122 249.87922229\n",
      " 246.52022554]\n",
      "[249.77883201 253.07442288 254.59319511 ... 251.6704597  249.99116875\n",
      " 246.6709793 ]\n",
      "[250.0532849  253.3026089  254.78616537 ... 251.82717027 250.17526444\n",
      " 246.8848826 ]\n",
      "[250.25957311 253.47535042 254.93789514 ... 252.05822093 250.4280854\n",
      " 247.15899016]\n",
      "[250.39070918 253.5795432  255.02871353 ... 252.34185246 250.73154755\n",
      " 247.47905271]\n",
      "[250.45685316 253.62991179 255.07524263 ... 252.62505277 251.02817814\n",
      " 247.7845734 ]\n",
      "[250.51520303 253.68337781 255.1357688  ... 252.93016706 251.34174093\n",
      " 248.10130226]\n",
      "[250.56106671 253.73519835 255.20552792 ... 253.222792   251.6390083\n",
      " 248.397866  ]\n",
      "[250.56732629 253.75380528 255.24928219 ... 253.52578772 251.94255612\n",
      " 248.69655432]\n",
      "[250.51634859 253.71630038 255.23863548 ... 253.84704325 252.26079582\n",
      " 249.00641712]\n",
      "[250.39006669 253.59816138 255.14274615 ... 254.16840476 252.58149027\n",
      " 249.32077037]\n",
      "[250.25259343 253.4632952  255.02329472 ... 254.46762892 252.88487834\n",
      " 249.62264328]\n",
      "[250.15721635 253.36600123 254.93444818 ... 254.76678079 253.19176292\n",
      " 249.93153402]\n",
      "[250.11838146 253.31872325 254.8873351  ... 255.09853735 253.5388837\n",
      " 250.28732118]\n",
      "[250.14733791 253.33461288 254.89686746 ... 255.43050654 253.89254295\n",
      " 250.6558584 ]\n",
      "[250.22488272 253.39261537 254.94081697 ... 255.7848559  254.27136016\n",
      " 251.0528873 ]\n",
      "[250.29995321 253.44339298 254.97146807 ... 256.07169963 254.58035251\n",
      " 251.38044473]\n",
      "[250.34772855 253.46321985 254.96715154 ... 256.23901254 254.77278261\n",
      " 251.59697355]\n",
      "[250.36610865 253.45452279 254.93507893 ... 256.31155394 254.87064361\n",
      " 251.72107969]\n",
      "[250.36539864 253.42378503 254.87860261 ... 256.35385553 254.94181048\n",
      " 251.82317448]\n",
      "[250.36074148 253.39002468 254.82014386 ... 256.3678916  254.98815926\n",
      " 251.90422038]\n",
      "[250.34972353 253.3497973  254.7553659  ... 256.355266   255.01212179\n",
      " 251.96746746]\n",
      "[250.31854882 253.2865224  254.66568427 ... 256.30452688 255.00577335\n",
      " 252.0089378 ]\n",
      "[250.25866989 253.19013919 254.54037273 ... 256.234183   254.98793749\n",
      " 252.04819883]\n",
      "[250.17805033 253.07588173 254.40085176 ... 256.17687378 254.98000384\n",
      " 252.09457329]\n",
      "[250.09299195 252.96361636 254.27010059 ... 256.13581682 254.98347811\n",
      " 252.14718875]\n",
      "[249.9919354  252.83674604 254.12781816 ... 256.118817   255.01365108\n",
      " 252.22918341]\n",
      "[249.88530276 252.70705528 253.98656184 ... 256.12463212 255.06794759\n",
      " 252.33617318]\n",
      "[249.78736755 252.58813556 253.85881017 ... 256.12977587 255.12370249\n",
      " 252.44664949]\n",
      "[249.70554028 252.48516612 253.74653286 ... 256.1301907  255.17484048\n",
      " 252.55262756]\n"
     ]
    }
   ],
   "source": [
    "for a in mock1: \n",
    "    print(a)"
   ]
  },
  {
   "cell_type": "code",
   "execution_count": 67,
   "metadata": {},
   "outputs": [
    {
     "name": "stdout",
     "output_type": "stream",
     "text": [
      "1\n",
      "0.4569478464428679 at 1 iters\n",
      "2\n",
      "0.4227357330383099 at 2 iters\n",
      "3\n",
      "0.4126702177458366 at 3 iters\n",
      "4\n",
      "0.4097229742168913 at 4 iters\n",
      "5\n",
      "0.4080252231659362 at 5 iters\n",
      "6\n",
      "0.40727444977006505 at 6 iters\n",
      "7\n",
      "0.40696863545303436 at 7 iters\n",
      "8\n",
      "0.4067773604445039 at 8 iters\n",
      "9\n",
      "0.4066599235907994 at 9 iters\n",
      "10\n",
      "0.40658341619827326 at 10 iters\n",
      "11\n",
      "0.406522350015801 at 11 iters\n",
      "12\n",
      "0.4064808934547364 at 12 iters\n",
      "13\n",
      "0.4064500110014874 at 13 iters\n",
      "14\n",
      "0.4064277474102479 at 14 iters\n",
      "15\n",
      "0.4064087393112389 at 15 iters\n",
      "16\n",
      "0.40639505713626406 at 16 iters\n",
      "17\n",
      "0.40638717436297406 at 17 iters\n",
      "18\n",
      "0.4063793046477908 at 18 iters\n",
      "19\n",
      "0.40637255882310747 at 19 iters\n",
      "20\n",
      "0.40636780563703045 at 20 iters\n",
      "21\n",
      "0.40636371156515627 at 21 iters\n",
      "22\n",
      "0.40636078141113324 at 22 iters\n",
      "23\n",
      "0.40635784637350464 at 23 iters\n",
      "24\n",
      "0.4063554512713164 at 24 iters\n",
      "25\n",
      "0.40635358219447243 at 25 iters\n",
      "26\n",
      "0.4063519084333677 at 26 iters\n",
      "27\n",
      "0.40635042971870344 at 27 iters\n",
      "28\n",
      "0.40634923542044415 at 28 iters\n",
      "29\n",
      "0.40634798102633585 at 29 iters\n",
      "30\n",
      "0.4063469050708883 at 30 iters\n",
      "31\n",
      "0.406346033769918 at 31 iters\n",
      "32\n",
      "0.40634537410570926 at 32 iters\n",
      "33\n",
      "0.4063447957549519 at 33 iters\n",
      "34\n",
      "0.40634430680640177 at 34 iters\n",
      "35\n",
      "0.406343789246341 at 35 iters\n",
      "36\n",
      "0.4063433181541179 at 36 iters\n",
      "37\n",
      "0.4063429756304734 at 37 iters\n",
      "38\n",
      "0.40634264497822126 at 38 iters\n",
      "39\n",
      "0.40634234955978443 at 39 iters\n",
      "40\n",
      "0.40634205781747257 at 40 iters\n",
      "41\n",
      "0.4063417558604375 at 41 iters\n",
      "42\n",
      "0.4063415234964151 at 42 iters\n",
      "43\n",
      "0.4063413362177833 at 43 iters\n",
      "44\n",
      "0.4063411512175931 at 44 iters\n",
      "45\n",
      "0.4063409818062914 at 45 iters\n",
      "46\n",
      "0.40634082935460897 at 46 iters\n",
      "47\n",
      "0.40634067990587813 at 47 iters\n",
      "48\n",
      "0.4063405635786416 at 48 iters\n",
      "49\n",
      "0.4063404481630958 at 49 iters\n",
      "50\n",
      "0.40634034807708347 at 50 iters\n",
      "51\n",
      "0.40634026213622904 at 51 iters\n",
      "52\n",
      "0.4063401728686213 at 52 iters\n",
      "53\n",
      "0.4063400801807771 at 53 iters\n",
      "54\n",
      "0.4063400126927296 at 54 iters\n",
      "55\n",
      "0.4063399422984015 at 55 iters\n",
      "56\n",
      "0.4063398709098192 at 56 iters\n",
      "57\n",
      "0.4063398071741741 at 57 iters\n",
      "58\n",
      "0.40633974600880374 at 58 iters\n",
      "59\n",
      "0.40633968754661653 at 59 iters\n",
      "60\n",
      "0.40633963124256267 at 60 iters\n",
      "61\n",
      "0.4063395854508425 at 61 iters\n",
      "62\n",
      "0.40633954423005186 at 62 iters\n",
      "63\n",
      "0.4063395031281583 at 63 iters\n",
      "64\n",
      "0.40633946161860224 at 64 iters\n",
      "65\n",
      "0.4063394229110204 at 65 iters\n",
      "66\n",
      "0.4063393870830192 at 66 iters\n",
      "67\n",
      "0.4063393517191359 at 67 iters\n",
      "68\n",
      "0.4063393176703884 at 68 iters\n",
      "69\n",
      "0.4063392820621711 at 69 iters\n",
      "70\n",
      "0.40633925005740396 at 70 iters\n",
      "71\n",
      "0.4063392230758293 at 71 iters\n",
      "72\n",
      "0.4063391970039935 at 72 iters\n",
      "73\n",
      "0.4063391719788765 at 73 iters\n",
      "74\n",
      "0.40633914814396027 at 74 iters\n",
      "75\n",
      "0.4063391244989117 at 75 iters\n",
      "76\n",
      "0.40633910507983556 at 76 iters\n",
      "77\n",
      "0.40633908619528664 at 77 iters\n",
      "78\n",
      "0.4063390686668354 at 78 iters\n",
      "79\n",
      "0.4063390514919182 at 79 iters\n",
      "80\n",
      "0.4063390349284832 at 80 iters\n",
      "81\n",
      "0.4063390177933895 at 81 iters\n",
      "82\n",
      "0.40633900180139265 at 82 iters\n",
      "83\n",
      "0.4063389872354283 at 83 iters\n",
      "84\n",
      "0.4063389729393904 at 84 iters\n",
      "85\n",
      "0.406338958615224 at 85 iters\n",
      "86\n",
      "0.4063389437662405 at 86 iters\n",
      "87\n",
      "0.40633893072355276 at 87 iters\n",
      "88\n",
      "0.4063389193217554 at 88 iters\n",
      "89\n",
      "0.4063389095506484 at 89 iters\n",
      "90\n",
      "0.4063389004538486 at 90 iters\n",
      "91\n",
      "0.4063388912437959 at 91 iters\n",
      "92\n",
      "0.40633888377526267 at 92 iters\n",
      "93\n",
      "0.40633887412156816 at 93 iters\n",
      "94\n",
      "0.4063388668283645 at 94 iters\n",
      "95\n",
      "0.4063388541670064 at 95 iters\n",
      "96\n",
      "0.4063388546467072 at 96 iters\n",
      "97\n",
      "0.4063388336323405 at 97 iters\n",
      "98\n",
      "0.4063388513755309 at 98 iters\n",
      "99\n",
      "0.4063387979661686 at 99 iters\n",
      "100\n",
      "0.4063388749048835 at 100 iters\n"
     ]
    }
   ],
   "source": [
    "mock1 = []\n",
    "for i in range(1,101):\n",
    "    mock2 = solve_sparse(LA, y, 10**-5, i)\n",
    "    mock1.append(mock2[0])\n",
    "    print(f'{np.linalg.norm(T_matvec(mock2[0], alpha).reshape(-1)-x.reshape(-1))/np.linalg.norm(x.reshape(-1))} at {i} iters')"
   ]
  },
  {
   "cell_type": "code",
   "execution_count": 199,
   "metadata": {},
   "outputs": [],
   "source": [
    "def construct_circ_shift(alpha, n):\n",
    "  circ = np.zeros((2*n-1, 2*n-1))\n",
    "  indices = list(range(n))\n",
    "  indices.extend((list(range(-n+1,0))))\n",
    "  for i in range(len(indices)):\n",
    "    for j in range(len(indices)):\n",
    "      circ[i,j] = alpha/np.pi*(np.exp(200-alpha*((indices[i])**2+(indices[j])**2)))\n",
    "  #print(circ.shape)\n",
    "  return circ"
   ]
  },
  {
   "cell_type": "code",
   "execution_count": 242,
   "metadata": {},
   "outputs": [
    {
     "ename": "LinAlgError",
     "evalue": "Singular matrix",
     "output_type": "error",
     "traceback": [
      "\u001b[1;31m---------------------------------------------------------------------------\u001b[0m",
      "\u001b[1;31mLinAlgError\u001b[0m                               Traceback (most recent call last)",
      "\u001b[1;32m<ipython-input-242-a840795c12e9>\u001b[0m in \u001b[0;36m<module>\u001b[1;34m\u001b[0m\n\u001b[1;32m----> 1\u001b[1;33m \u001b[0mnp\u001b[0m\u001b[1;33m.\u001b[0m\u001b[0mlinalg\u001b[0m\u001b[1;33m.\u001b[0m\u001b[0minv\u001b[0m\u001b[1;33m(\u001b[0m\u001b[0mconstruct_circ\u001b[0m\u001b[1;33m(\u001b[0m\u001b[1;36m.001\u001b[0m\u001b[1;33m,\u001b[0m \u001b[0mx\u001b[0m\u001b[1;33m.\u001b[0m\u001b[0mshape\u001b[0m\u001b[1;33m[\u001b[0m\u001b[1;36m0\u001b[0m\u001b[1;33m]\u001b[0m\u001b[1;33m)\u001b[0m\u001b[1;33m)\u001b[0m\u001b[1;33m\u001b[0m\u001b[1;33m\u001b[0m\u001b[0m\n\u001b[0m",
      "\u001b[1;32m<__array_function__ internals>\u001b[0m in \u001b[0;36minv\u001b[1;34m(*args, **kwargs)\u001b[0m\n",
      "\u001b[1;32m~\\anaconda3\\lib\\site-packages\\numpy\\linalg\\linalg.py\u001b[0m in \u001b[0;36minv\u001b[1;34m(a)\u001b[0m\n\u001b[0;32m    543\u001b[0m     \u001b[0msignature\u001b[0m \u001b[1;33m=\u001b[0m \u001b[1;34m'D->D'\u001b[0m \u001b[1;32mif\u001b[0m \u001b[0misComplexType\u001b[0m\u001b[1;33m(\u001b[0m\u001b[0mt\u001b[0m\u001b[1;33m)\u001b[0m \u001b[1;32melse\u001b[0m \u001b[1;34m'd->d'\u001b[0m\u001b[1;33m\u001b[0m\u001b[1;33m\u001b[0m\u001b[0m\n\u001b[0;32m    544\u001b[0m     \u001b[0mextobj\u001b[0m \u001b[1;33m=\u001b[0m \u001b[0mget_linalg_error_extobj\u001b[0m\u001b[1;33m(\u001b[0m\u001b[0m_raise_linalgerror_singular\u001b[0m\u001b[1;33m)\u001b[0m\u001b[1;33m\u001b[0m\u001b[1;33m\u001b[0m\u001b[0m\n\u001b[1;32m--> 545\u001b[1;33m     \u001b[0mainv\u001b[0m \u001b[1;33m=\u001b[0m \u001b[0m_umath_linalg\u001b[0m\u001b[1;33m.\u001b[0m\u001b[0minv\u001b[0m\u001b[1;33m(\u001b[0m\u001b[0ma\u001b[0m\u001b[1;33m,\u001b[0m \u001b[0msignature\u001b[0m\u001b[1;33m=\u001b[0m\u001b[0msignature\u001b[0m\u001b[1;33m,\u001b[0m \u001b[0mextobj\u001b[0m\u001b[1;33m=\u001b[0m\u001b[0mextobj\u001b[0m\u001b[1;33m)\u001b[0m\u001b[1;33m\u001b[0m\u001b[1;33m\u001b[0m\u001b[0m\n\u001b[0m\u001b[0;32m    546\u001b[0m     \u001b[1;32mreturn\u001b[0m \u001b[0mwrap\u001b[0m\u001b[1;33m(\u001b[0m\u001b[0mainv\u001b[0m\u001b[1;33m.\u001b[0m\u001b[0mastype\u001b[0m\u001b[1;33m(\u001b[0m\u001b[0mresult_t\u001b[0m\u001b[1;33m,\u001b[0m \u001b[0mcopy\u001b[0m\u001b[1;33m=\u001b[0m\u001b[1;32mFalse\u001b[0m\u001b[1;33m)\u001b[0m\u001b[1;33m)\u001b[0m\u001b[1;33m\u001b[0m\u001b[1;33m\u001b[0m\u001b[0m\n\u001b[0;32m    547\u001b[0m \u001b[1;33m\u001b[0m\u001b[0m\n",
      "\u001b[1;32m~\\anaconda3\\lib\\site-packages\\numpy\\linalg\\linalg.py\u001b[0m in \u001b[0;36m_raise_linalgerror_singular\u001b[1;34m(err, flag)\u001b[0m\n\u001b[0;32m     86\u001b[0m \u001b[1;33m\u001b[0m\u001b[0m\n\u001b[0;32m     87\u001b[0m \u001b[1;32mdef\u001b[0m \u001b[0m_raise_linalgerror_singular\u001b[0m\u001b[1;33m(\u001b[0m\u001b[0merr\u001b[0m\u001b[1;33m,\u001b[0m \u001b[0mflag\u001b[0m\u001b[1;33m)\u001b[0m\u001b[1;33m:\u001b[0m\u001b[1;33m\u001b[0m\u001b[1;33m\u001b[0m\u001b[0m\n\u001b[1;32m---> 88\u001b[1;33m     \u001b[1;32mraise\u001b[0m \u001b[0mLinAlgError\u001b[0m\u001b[1;33m(\u001b[0m\u001b[1;34m\"Singular matrix\"\u001b[0m\u001b[1;33m)\u001b[0m\u001b[1;33m\u001b[0m\u001b[1;33m\u001b[0m\u001b[0m\n\u001b[0m\u001b[0;32m     89\u001b[0m \u001b[1;33m\u001b[0m\u001b[0m\n\u001b[0;32m     90\u001b[0m \u001b[1;32mdef\u001b[0m \u001b[0m_raise_linalgerror_nonposdef\u001b[0m\u001b[1;33m(\u001b[0m\u001b[0merr\u001b[0m\u001b[1;33m,\u001b[0m \u001b[0mflag\u001b[0m\u001b[1;33m)\u001b[0m\u001b[1;33m:\u001b[0m\u001b[1;33m\u001b[0m\u001b[1;33m\u001b[0m\u001b[0m\n",
      "\u001b[1;31mLinAlgError\u001b[0m: Singular matrix"
     ]
    }
   ],
   "source": [
    "np.linalg.inv(construct_circ(.001, x.shape[0]))"
   ]
  },
  {
   "cell_type": "code",
   "execution_count": 234,
   "metadata": {},
   "outputs": [],
   "source": [
    "def T_matvec_1(x, alpha):\n",
    "    #pass\n",
    "    x = x.reshape(int(np.sqrt(x.shape[0])),int(np.sqrt(x.shape[0])))\n",
    "    n = x.shape[0]\n",
    "    y1 = np.real(np.fft.ifft2(np.fft.fft2(construct_circ(alpha, n))*np.fft.fft2((construct_circ(alpha, n)).T)))\n",
    "    #y1 = np.linalg.cholesky(y1)\n",
    "    y = np.real(np.fft.ifft2(np.fft.fft2(y1)*np.fft.fft2(construct_mat(x))))\n",
    "    return y[:n,:n].reshape(-1)"
   ]
  },
  {
   "cell_type": "code",
   "execution_count": 201,
   "metadata": {},
   "outputs": [
    {
     "data": {
      "text/plain": [
       "array([ 2.88274645e+85+0.00000000e+00j, -1.66759711e+71+0.00000000e+00j,\n",
       "        1.02088003e+71+0.00000000e+00j, -6.97712104e+70+0.00000000e+00j,\n",
       "       -4.37104761e+70+0.00000000e+00j,  4.68350811e+70+0.00000000e+00j,\n",
       "        4.28495827e+70+0.00000000e+00j,  2.25909954e+69+7.76877475e+68j,\n",
       "        2.25909954e+69-7.76877475e+68j, -1.30590224e+69+0.00000000e+00j,\n",
       "       -3.50743016e+68+7.53159678e+68j, -3.50743016e+68-7.53159678e+68j,\n",
       "        6.30234550e+68+0.00000000e+00j,  2.78180344e+68+0.00000000e+00j,\n",
       "       -9.42706961e+67+1.56412169e+68j, -9.42706961e+67-1.56412169e+68j,\n",
       "       -2.41412569e+67+2.02436087e+67j, -2.41412569e+67-2.02436087e+67j,\n",
       "       -1.10353992e+67+2.86866347e+67j, -1.10353992e+67-2.86866347e+67j,\n",
       "        1.73366601e+67+0.00000000e+00j,  6.51432679e+66+0.00000000e+00j,\n",
       "       -6.67543579e+65+2.34349748e+66j, -6.67543579e+65-2.34349748e+66j,\n",
       "        7.63905784e+65+0.00000000e+00j, -1.96941782e+65+0.00000000e+00j,\n",
       "        1.32877541e+65+0.00000000e+00j,  3.88274347e+64+0.00000000e+00j,\n",
       "       -2.91749180e+64+0.00000000e+00j,  2.51083711e+63+0.00000000e+00j,\n",
       "       -5.87597242e+62+1.92644056e+63j, -5.87597242e+62-1.92644056e+63j,\n",
       "        1.55789215e+63+0.00000000e+00j,  1.05309739e+62+0.00000000e+00j,\n",
       "       -9.39184553e+61+0.00000000e+00j,  6.02720408e+60+0.00000000e+00j,\n",
       "        8.75763565e+59+0.00000000e+00j, -7.29366204e+59+0.00000000e+00j,\n",
       "       -2.68739553e+59+0.00000000e+00j,  1.09021951e+58+0.00000000e+00j,\n",
       "       -5.65509053e+57+0.00000000e+00j, -1.45264102e+56+2.04646435e+56j,\n",
       "       -1.45264102e+56-2.04646435e+56j,  1.70987622e+56+1.52236197e+56j,\n",
       "        1.70987622e+56-1.52236197e+56j, -2.37174636e+55+0.00000000e+00j,\n",
       "       -1.02728425e+55+0.00000000e+00j,  5.94204941e+54+1.20429062e+54j,\n",
       "        5.94204941e+54-1.20429062e+54j,  1.72399399e+54+3.65380700e+54j,\n",
       "        1.72399399e+54-3.65380700e+54j, -3.82300220e+54+1.01746555e+54j,\n",
       "       -3.82300220e+54-1.01746555e+54j, -5.77563676e+53+1.71647066e+54j,\n",
       "       -5.77563676e+53-1.71647066e+54j, -5.07703764e+53+6.66267343e+53j,\n",
       "       -5.07703764e+53-6.66267343e+53j,  3.61724474e+53+0.00000000e+00j,\n",
       "        2.25344608e+53+1.83054163e+53j,  2.25344608e+53-1.83054163e+53j,\n",
       "       -1.80222356e+53+2.95810803e+52j, -1.80222356e+53-2.95810803e+52j,\n",
       "        6.33706611e+52+0.00000000e+00j, -5.62726914e+52+0.00000000e+00j,\n",
       "       -4.88601195e+52+0.00000000e+00j,  1.50054883e+52+3.27066466e+52j,\n",
       "        1.50054883e+52-3.27066466e+52j,  1.40251181e+52+4.40898368e+51j,\n",
       "        1.40251181e+52-4.40898368e+51j,  1.68343869e+51+1.29628306e+52j,\n",
       "        1.68343869e+51-1.29628306e+52j, -1.11572606e+52+3.58927802e+51j,\n",
       "       -1.11572606e+52-3.58927802e+51j, -3.43755629e+51+0.00000000e+00j,\n",
       "       -2.16303123e+51+2.11805284e+51j, -2.16303123e+51-2.11805284e+51j,\n",
       "        1.66212910e+51+2.32443532e+51j,  1.66212910e+51-2.32443532e+51j,\n",
       "        3.00297376e+51+0.00000000e+00j, -1.04247662e+51+1.24933044e+51j,\n",
       "       -1.04247662e+51-1.24933044e+51j,  1.37179961e+51+0.00000000e+00j,\n",
       "       -6.00067222e+50+0.00000000e+00j, -3.13046801e+49+5.25230315e+50j,\n",
       "       -3.13046801e+49-5.25230315e+50j,  3.73441345e+50+0.00000000e+00j,\n",
       "       -2.94175792e+50+0.00000000e+00j,  2.38783338e+50+0.00000000e+00j,\n",
       "        1.37203659e+50+0.00000000e+00j, -4.59774177e+49+1.14794139e+50j,\n",
       "       -4.59774177e+49-1.14794139e+50j, -1.02889959e+50+0.00000000e+00j,\n",
       "       -1.88408521e+49+0.00000000e+00j,  1.02270770e+49+0.00000000e+00j,\n",
       "        1.50324326e+48+6.45867413e+48j,  1.50324326e+48-6.45867413e+48j,\n",
       "        5.99749706e+48+0.00000000e+00j, -3.48622773e+48+4.97443290e+48j,\n",
       "       -3.48622773e+48-4.97443290e+48j, -2.22866286e+48+0.00000000e+00j,\n",
       "        2.01713903e+48+0.00000000e+00j,  9.26944159e+47+0.00000000e+00j,\n",
       "        9.22140602e+46+9.09611479e+47j,  9.22140602e+46-9.09611479e+47j,\n",
       "       -7.73919790e+47+0.00000000e+00j, -3.63597824e+47+6.72240857e+47j,\n",
       "       -3.63597824e+47-6.72240857e+47j,  4.21402871e+47+4.66360579e+47j,\n",
       "        4.21402871e+47-4.66360579e+47j, -4.36333640e+47+0.00000000e+00j,\n",
       "        3.96458591e+47+0.00000000e+00j, -1.26574060e+47+3.33848512e+47j,\n",
       "       -1.26574060e+47-3.33848512e+47j,  1.09435080e+47+2.02015224e+47j,\n",
       "        1.09435080e+47-2.02015224e+47j,  1.62379177e+47+0.00000000e+00j,\n",
       "       -1.53879816e+47+0.00000000e+00j, -2.84259046e+44+1.14581049e+47j,\n",
       "       -2.84259046e+44-1.14581049e+47j,  4.47789006e+46+4.28700581e+46j,\n",
       "        4.47789006e+46-4.28700581e+46j, -6.31205993e+46+0.00000000e+00j,\n",
       "       -2.53895748e+46+0.00000000e+00j, -5.84615976e+45+1.72522832e+46j,\n",
       "       -5.84615976e+45-1.72522832e+46j, -3.72308218e+45+0.00000000e+00j,\n",
       "        2.03158326e+45+0.00000000e+00j,  9.17685594e+43+0.00000000e+00j,\n",
       "        2.61356799e+42+3.52614685e+42j,  2.61356799e+42-3.52614685e+42j,\n",
       "        1.18368767e+40+2.62571896e+39j,  1.18368767e+40-2.62571896e+39j,\n",
       "        8.16369222e+37+0.00000000e+00j, -1.52048654e+37+0.00000000e+00j,\n",
       "        4.02552916e+36+1.16887272e+37j,  4.02552916e+36-1.16887272e+37j,\n",
       "       -5.42817665e+36+6.58782424e+36j, -5.42817665e+36-6.58782424e+36j,\n",
       "       -7.20402910e+36+0.00000000e+00j,  3.61262156e+36+6.08297239e+36j,\n",
       "        3.61262156e+36-6.08297239e+36j,  6.44774238e+36+2.31108118e+36j,\n",
       "        6.44774238e+36-2.31108118e+36j,  5.56346920e+35+5.90652481e+36j,\n",
       "        5.56346920e+35-5.90652481e+36j,  5.08943752e+36+0.00000000e+00j,\n",
       "       -1.98169172e+36+3.82265029e+36j, -1.98169172e+36-3.82265029e+36j,\n",
       "        3.38119752e+36+6.76358786e+35j,  3.38119752e+36-6.76358786e+35j,\n",
       "       -1.51335855e+36+2.70641037e+36j, -1.51335855e+36-2.70641037e+36j,\n",
       "        6.54483943e+35+2.33760367e+36j,  6.54483943e+35-2.33760367e+36j,\n",
       "       -2.23278845e+36+0.00000000e+00j, -2.05795268e+36+8.89803694e+35j,\n",
       "       -2.05795268e+36-8.89803694e+35j, -1.84013679e+36+0.00000000e+00j,\n",
       "        1.52392270e+36+8.27108751e+35j,  1.52392270e+36-8.27108751e+35j,\n",
       "        3.06811664e+35+1.33767785e+36j,  3.06811664e+35-1.33767785e+36j,\n",
       "        8.49293482e+35+0.00000000e+00j, -4.24662726e+35+5.36670773e+35j,\n",
       "       -4.24662726e+35-5.36670773e+35j,  3.21663219e+35+0.00000000e+00j,\n",
       "       -1.02217775e+35+0.00000000e+00j, -1.91321877e+34+0.00000000e+00j,\n",
       "       -1.42817480e+33+0.00000000e+00j, -6.94981925e+30+1.38259925e+31j,\n",
       "       -6.94981925e+30-1.38259925e+31j,  1.38610940e+30+0.00000000e+00j,\n",
       "       -1.15796812e+30+0.00000000e+00j, -6.55883629e+28+9.49034735e+29j,\n",
       "       -6.55883629e+28-9.49034735e+29j, -4.96517598e+29+6.52025488e+29j,\n",
       "       -4.96517598e+29-6.52025488e+29j,  9.34261506e+29+0.00000000e+00j,\n",
       "        5.04439140e+29+6.12716024e+29j,  5.04439140e+29-6.12716024e+29j,\n",
       "       -5.93946177e+29+1.77146156e+29j, -5.93946177e+29-1.77146156e+29j,\n",
       "        7.02791088e+29+0.00000000e+00j,  5.54145835e+29+2.20974971e+29j,\n",
       "        5.54145835e+29-2.20974971e+29j, -3.16236051e+29+3.38827908e+29j,\n",
       "       -3.16236051e+29-3.38827908e+29j,  1.09411600e+29+3.13492309e+29j,\n",
       "        1.09411600e+29-3.13492309e+29j, -1.47351691e+28+2.79955799e+29j,\n",
       "       -1.47351691e+28-2.79955799e+29j, -2.16724772e+29+9.91231123e+28j,\n",
       "       -2.16724772e+29-9.91231123e+28j,  2.13796154e+29+7.54635275e+28j,\n",
       "        2.13796154e+29-7.54635275e+28j,  2.12914758e+28+1.54223868e+29j,\n",
       "        2.12914758e+28-1.54223868e+29j, -1.26967994e+29+0.00000000e+00j,\n",
       "       -8.44785513e+28+0.00000000e+00j, -2.85478060e+28+4.24055600e+28j,\n",
       "       -2.85478060e+28-4.24055600e+28j,  2.98136208e+28+2.95541627e+28j,\n",
       "        2.98136208e+28-2.95541627e+28j,  3.32340719e+28+0.00000000e+00j,\n",
       "       -1.12902093e+28+0.00000000e+00j,  8.26968815e+27+0.00000000e+00j,\n",
       "        5.23959624e+23+5.30277241e+23j,  5.23959624e+23-5.30277241e+23j,\n",
       "        8.63765915e+21+2.12792040e+22j,  8.63765915e+21-2.12792040e+22j,\n",
       "       -1.62228834e+22+0.00000000e+00j,  1.57060372e+22+0.00000000e+00j,\n",
       "        1.41517549e+22+0.00000000e+00j,  9.63746182e+21+1.71296607e+21j,\n",
       "        9.63746182e+21-1.71296607e+21j,  1.43888006e+19+1.00329151e+22j,\n",
       "        1.43888006e+19-1.00329151e+22j, -7.02429047e+21+8.29877784e+21j,\n",
       "       -7.02429047e+21-8.29877784e+21j, -8.27681707e+21+4.86178577e+21j,\n",
       "       -8.27681707e+21-4.86178577e+21j, -5.44409317e+21+8.13666429e+21j,\n",
       "       -5.44409317e+21-8.13666429e+21j,  4.87016640e+21+7.30848739e+21j,\n",
       "        4.87016640e+21-7.30848739e+21j,  3.43008465e+20+7.74257361e+21j,\n",
       "        3.43008465e+20-7.74257361e+21j,  4.03405674e+21+3.96770339e+21j,\n",
       "        4.03405674e+21-3.96770339e+21j,  1.69781945e+21+3.06269846e+21j,\n",
       "        1.69781945e+21-3.06269846e+21j, -4.30585874e+21+0.00000000e+00j,\n",
       "       -3.76939373e+21+0.00000000e+00j, -2.81142993e+21+2.22739092e+21j,\n",
       "       -2.81142993e+21-2.22739092e+21j,  2.00883157e+21+3.89164438e+20j,\n",
       "        2.00883157e+21-3.89164438e+20j, -8.26627838e+20+1.31828464e+21j,\n",
       "       -8.26627838e+20-1.31828464e+21j,  3.94473550e+20+1.30291848e+21j,\n",
       "        3.94473550e+20-1.30291848e+21j, -1.35544312e+21+0.00000000e+00j,\n",
       "       -8.58037801e+19+0.00000000e+00j,  5.98811409e+16+1.35883875e+17j,\n",
       "        5.98811409e+16-1.35883875e+17j, -6.89695719e+16+1.16691050e+17j,\n",
       "       -6.89695719e+16-1.16691050e+17j, -1.33211122e+17+0.00000000e+00j,\n",
       "        2.89325940e+16+1.07062702e+17j,  2.89325940e+16-1.07062702e+17j,\n",
       "       -1.03864775e+17+0.00000000e+00j,  9.98842744e+16+1.06876285e+16j,\n",
       "        9.98842744e+16-1.06876285e+16j,  6.45825394e+16+6.32099344e+16j,\n",
       "        6.45825394e+16-6.32099344e+16j, -3.72765465e+16+7.01168974e+16j,\n",
       "       -3.72765465e+16-7.01168974e+16j, -4.27573298e+16+3.13013106e+16j,\n",
       "       -4.27573298e+16-3.13013106e+16j, -2.99551819e+15+4.96031930e+16j,\n",
       "       -2.99551819e+15-4.96031930e+16j, -2.58279238e+16+4.00752706e+16j,\n",
       "       -2.58279238e+16-4.00752706e+16j,  3.53811325e+16+1.98302872e+16j,\n",
       "        3.53811325e+16-1.98302872e+16j,  3.08136971e+16+0.00000000e+00j,\n",
       "       -2.69766239e+16+0.00000000e+00j,  2.21837687e+16+0.00000000e+00j,\n",
       "       -1.83595786e+16+9.61578005e+15j, -1.83595786e+16-9.61578005e+15j,\n",
       "        7.75027046e+15+0.00000000e+00j,  3.61067760e+15+0.00000000e+00j,\n",
       "        1.62779943e+13+3.29223072e+15j,  1.62779943e+13-3.29223072e+15j,\n",
       "       -2.51714649e+14+0.00000000e+00j,  5.98380336e+13+3.95978081e+13j,\n",
       "        5.98380336e+13-3.95978081e+13j,  9.47558622e+10+3.19907708e+12j,\n",
       "        9.47558622e+10-3.19907708e+12j, -1.44842351e+10+6.90648953e+10j,\n",
       "       -1.44842351e+10-6.90648953e+10j,  4.35073402e+09+0.00000000e+00j,\n",
       "        2.10726093e+09+5.58044371e+08j,  2.10726093e+09-5.58044371e+08j,\n",
       "       -2.15911747e+09+0.00000000e+00j, -1.35073435e+09+1.12715301e+09j,\n",
       "       -1.35073435e+09-1.12715301e+09j, -2.27998209e+08+1.58266876e+09j,\n",
       "       -2.27998209e+08-1.58266876e+09j,  2.07307742e+08+1.25074960e+09j,\n",
       "        2.07307742e+08-1.25074960e+09j,  5.27017953e+08+1.03868470e+09j,\n",
       "        5.27017953e+08-1.03868470e+09j, -8.22462462e+08+6.34784776e+08j,\n",
       "       -8.22462462e+08-6.34784776e+08j,  1.03057242e+09+4.93661541e+07j,\n",
       "        1.03057242e+09-4.93661541e+07j, -8.24791707e+08+0.00000000e+00j,\n",
       "        5.84231022e+07+7.95054993e+08j,  5.84231022e+07-7.95054993e+08j,\n",
       "        5.81562287e+08+1.25203884e+08j,  5.81562287e+08-1.25203884e+08j,\n",
       "       -2.46855393e+08+4.96780381e+08j, -2.46855393e+08-4.96780381e+08j,\n",
       "       -4.22025933e+08+0.00000000e+00j,  1.59779783e+08+1.62583072e+08j,\n",
       "        1.59779783e+08-1.62583072e+08j, -1.40797222e+08+0.00000000e+00j,\n",
       "       -9.91152273e+06+3.63351229e+07j, -9.91152273e+06-3.63351229e+07j,\n",
       "        1.24711170e+07+0.00000000e+00j,  1.32992556e+05+4.69597579e+05j,\n",
       "        1.32992556e+05-4.69597579e+05j,  5.67657353e+04+0.00000000e+00j,\n",
       "       -4.65554730e+04+0.00000000e+00j, -2.46723993e+04+0.00000000e+00j,\n",
       "        8.11181515e+03+8.34167609e+03j,  8.11181515e+03-8.34167609e+03j,\n",
       "       -3.97620870e+03+1.09069193e+04j, -3.97620870e+03-1.09069193e+04j,\n",
       "       -1.08489507e+04+0.00000000e+00j,  1.47370702e+03+6.84120607e+03j,\n",
       "        1.47370702e+03-6.84120607e+03j,  6.86188931e+03+0.00000000e+00j,\n",
       "       -5.68267337e+03+1.12833256e+03j, -5.68267337e+03-1.12833256e+03j,\n",
       "        4.94962059e+03+1.35213392e+03j,  4.94962059e+03-1.35213392e+03j,\n",
       "        4.26938711e+03+0.00000000e+00j,  3.15433885e+03+3.01050378e+03j,\n",
       "        3.15433885e+03-3.01050378e+03j, -1.05959043e+03+4.68001787e+03j,\n",
       "       -1.05959043e+03-4.68001787e+03j, -4.38943951e+03+2.05150660e+03j,\n",
       "       -4.38943951e+03-2.05150660e+03j,  1.04970430e+03+3.45919579e+03j,\n",
       "        1.04970430e+03-3.45919579e+03j, -2.55146704e+03+2.63393516e+03j,\n",
       "       -2.55146704e+03-2.63393516e+03j, -1.47429456e+03+2.43536028e+03j,\n",
       "       -1.47429456e+03-2.43536028e+03j, -2.31211059e+03+0.00000000e+00j,\n",
       "       -1.14156430e+03+0.00000000e+00j,  8.29226695e+02+2.51615888e+02j,\n",
       "        8.29226695e+02-2.51615888e+02j,  7.37272812e+01+5.19513679e+02j,\n",
       "        7.37272812e+01-5.19513679e+02j, -7.84831614e+01+0.00000000e+00j,\n",
       "        1.15726722e+01+0.00000000e+00j, -4.06875240e-02+2.21305988e-01j,\n",
       "       -4.06875240e-02-2.21305988e-01j,  1.49278522e-01+0.00000000e+00j,\n",
       "        1.17046271e-02+2.85274589e-02j,  1.17046271e-02-2.85274589e-02j,\n",
       "        1.83907769e-03+6.45824526e-03j,  1.83907769e-03-6.45824526e-03j,\n",
       "       -5.52174341e-03+0.00000000e+00j,  4.37482419e-03+1.90904635e-03j,\n",
       "        4.37482419e-03-1.90904635e-03j, -4.05534806e-03+2.31270748e-03j,\n",
       "       -4.05534806e-03-2.31270748e-03j, -1.02195695e-03+3.74404147e-03j,\n",
       "       -1.02195695e-03-3.74404147e-03j,  3.52545340e-03+0.00000000e+00j,\n",
       "       -2.75732827e-03+2.18305196e-03j, -2.75732827e-03-2.18305196e-03j,\n",
       "        2.48866295e-03+0.00000000e+00j,  6.07786630e-04+2.23202750e-03j,\n",
       "        6.07786630e-04-2.23202750e-03j, -1.65342607e-03+1.63114067e-03j,\n",
       "       -1.65342607e-03-1.63114067e-03j,  9.05332712e-04+1.28829661e-03j,\n",
       "        9.05332712e-04-1.28829661e-03j, -9.85755319e-04+6.05393690e-04j,\n",
       "       -9.85755319e-04-6.05393690e-04j,  1.04625916e-03+0.00000000e+00j,\n",
       "       -1.00048885e-03+0.00000000e+00j,  6.95817017e-04+0.00000000e+00j,\n",
       "        2.37464139e-04+2.92406422e-04j,  2.37464139e-04-2.92406422e-04j,\n",
       "        5.68260735e-05+1.21291760e-04j,  5.68260735e-05-1.21291760e-04j,\n",
       "       -2.38222114e-05+0.00000000e+00j,  1.28671606e-05+0.00000000e+00j,\n",
       "       -1.06054333e-08+9.02043239e-09j, -1.06054333e-08-9.02043239e-09j,\n",
       "        2.41077029e-10+2.95727607e-09j,  2.41077029e-10-2.95727607e-09j,\n",
       "       -2.06797924e-09+0.00000000e+00j,  1.27452057e-09+9.41130048e-10j,\n",
       "        1.27452057e-09-9.41130048e-10j, -1.04537790e-09+3.67718366e-10j,\n",
       "       -1.04537790e-09-3.67718366e-10j,  1.19410990e-09+0.00000000e+00j,\n",
       "        5.42723788e-12+7.55441296e-10j,  5.42723788e-12-7.55441296e-10j,\n",
       "        7.60181883e-10+0.00000000e+00j, -1.30911578e-10+6.45811283e-10j,\n",
       "       -1.30911578e-10-6.45811283e-10j,  5.97900942e-10+0.00000000e+00j,\n",
       "       -4.84792274e-10+2.18055791e-10j, -4.84792274e-10-2.18055791e-10j,\n",
       "       -2.87582432e-10+0.00000000e+00j,  6.69120436e-11+0.00000000e+00j,\n",
       "       -1.01352921e-11+0.00000000e+00j,  4.18136791e-12+0.00000000e+00j,\n",
       "       -3.90208945e-15+0.00000000e+00j, -3.19018121e-16+0.00000000e+00j,\n",
       "        4.92637562e-18+0.00000000e+00j, -6.67836844e-18+0.00000000e+00j,\n",
       "        2.46980236e-20+4.34273592e-18j,  2.46980236e-20-4.34273592e-18j,\n",
       "       -3.74586808e-18+0.00000000e+00j, -1.71644727e-18+3.05990910e-18j,\n",
       "       -1.71644727e-18-3.05990910e-18j,  2.11744756e-18+1.52280490e-18j,\n",
       "        2.11744756e-18-1.52280490e-18j, -5.35154683e-19+2.46247805e-18j,\n",
       "       -5.35154683e-19-2.46247805e-18j,  1.38224692e-18+1.66896634e-18j,\n",
       "        1.38224692e-18-1.66896634e-18j,  1.90566214e-18+0.00000000e+00j,\n",
       "       -6.50263235e-19+1.79811163e-18j, -6.50263235e-19-1.79811163e-18j,\n",
       "       -1.98343966e-19+1.85608045e-18j, -1.98343966e-19-1.85608045e-18j,\n",
       "       -1.26482870e-18+5.51441221e-19j, -1.26482870e-18-5.51441221e-19j,\n",
       "       -1.30682818e-18+0.00000000e+00j, -1.03652450e-18+0.00000000e+00j,\n",
       "        9.26897647e-19+0.00000000e+00j,  4.30117897e-19+7.68409814e-19j,\n",
       "        4.30117897e-19-7.68409814e-19j, -6.49811028e-20+6.27924846e-19j,\n",
       "       -6.49811028e-20-6.27924846e-19j,  4.48085988e-19+0.00000000e+00j,\n",
       "        4.86001336e-19+0.00000000e+00j, -3.93315297e-19+1.66818162e-19j,\n",
       "       -3.93315297e-19-1.66818162e-19j,  3.20648790e-19+1.83556002e-19j,\n",
       "        3.20648790e-19-1.83556002e-19j,  5.38639494e-22+0.00000000e+00j,\n",
       "       -5.82946214e-23+0.00000000e+00j,  3.38010694e-26+4.36914480e-25j,\n",
       "        3.38010694e-26-4.36914480e-25j, -3.43239604e-26+0.00000000e+00j,\n",
       "       -5.67586690e-29+1.00189105e-28j, -5.67586690e-29-1.00189105e-28j,\n",
       "        7.60105900e-29+2.67501671e-29j,  7.60105900e-29-2.67501671e-29j,\n",
       "       -6.46831298e-29+0.00000000e+00j,  4.89470814e-29+0.00000000e+00j,\n",
       "       -2.13812467e-29+4.32922609e-29j, -2.13812467e-29-4.32922609e-29j,\n",
       "       -1.03127765e-29+4.49244380e-29j, -1.03127765e-29-4.49244380e-29j,\n",
       "       -4.22753857e-29+5.87719087e-30j, -4.22753857e-29-5.87719087e-30j,\n",
       "        1.25894528e-29+4.08536824e-29j,  1.25894528e-29-4.08536824e-29j,\n",
       "       -2.75715727e-29+2.56581607e-29j, -2.75715727e-29-2.56581607e-29j,\n",
       "        4.00272865e-29+0.00000000e+00j, -1.21414137e-30+3.32520803e-29j,\n",
       "       -1.21414137e-30-3.32520803e-29j,  1.45309700e-29+2.52955415e-29j,\n",
       "        1.45309700e-29-2.52955415e-29j, -2.06454656e-29+6.45725420e-30j,\n",
       "       -2.06454656e-29-6.45725420e-30j,  1.99244024e-29+9.57955143e-31j,\n",
       "        1.99244024e-29-9.57955143e-31j,  4.59234578e-31+8.56935317e-30j,\n",
       "        4.59234578e-31-8.56935317e-30j,  3.64750832e-30+2.02315678e-30j,\n",
       "        3.64750832e-30-2.02315678e-30j, -2.82922271e-30+0.00000000e+00j,\n",
       "        7.90506982e-31+0.00000000e+00j,  9.07445564e-32+0.00000000e+00j,\n",
       "       -1.86127216e-32+2.19398184e-32j, -1.86127216e-32-2.19398184e-32j,\n",
       "        6.77096117e-33+0.00000000e+00j,  1.93358633e-34+0.00000000e+00j,\n",
       "       -1.03831489e-37+0.00000000e+00j,  2.58864254e-37+0.00000000e+00j,\n",
       "       -2.12787370e-39+7.09801658e-40j, -2.12787370e-39-7.09801658e-40j,\n",
       "        7.97140203e-40+2.08260640e-39j,  7.97140203e-40-2.08260640e-39j,\n",
       "        1.46183833e-39+1.34253565e-39j,  1.46183833e-39-1.34253565e-39j,\n",
       "        1.64963850e-39+0.00000000e+00j, -1.32511314e-39+8.90243410e-40j,\n",
       "       -1.32511314e-39-8.90243410e-40j, -5.71406704e-40+1.41321254e-39j,\n",
       "       -5.71406704e-40-1.41321254e-39j,  3.74640404e-41+1.43622034e-39j,\n",
       "        3.74640404e-41-1.43622034e-39j,  8.97356466e-40+8.76414957e-40j,\n",
       "        8.97356466e-40-8.76414957e-40j, -1.10579965e-39+0.00000000e+00j,\n",
       "       -7.79558862e-40+5.58306647e-40j, -7.79558862e-40-5.58306647e-40j,\n",
       "        1.12555301e-39+0.00000000e+00j,  8.72623302e-40+2.91366416e-40j,\n",
       "        8.72623302e-40-2.91366416e-40j,  3.62278727e-40+7.51040931e-40j,\n",
       "        3.62278727e-40-7.51040931e-40j, -4.60636858e-40+0.00000000e+00j,\n",
       "        2.20337327e-41+4.70843771e-40j,  2.20337327e-41-4.70843771e-40j,\n",
       "        3.78816958e-40+0.00000000e+00j,  1.73016125e-40+0.00000000e+00j,\n",
       "        1.26639141e-41+4.48234393e-42j,  1.26639141e-41-4.48234393e-42j,\n",
       "       -1.07160264e-43+7.16068896e-44j, -1.07160264e-43-7.16068896e-44j,\n",
       "        8.64838851e-44+0.00000000e+00j,  3.34746276e-44+0.00000000e+00j,\n",
       "        9.28432615e-45+0.00000000e+00j,  5.67095560e-47+0.00000000e+00j,\n",
       "       -3.36452216e-47+2.29401248e-47j, -3.36452216e-47-2.29401248e-47j,\n",
       "        1.09177568e-48+3.60753009e-47j,  1.09177568e-48-3.60753009e-47j,\n",
       "        3.05847418e-47+1.62417502e-47j,  3.05847418e-47-1.62417502e-47j,\n",
       "        2.62754258e-47+0.00000000e+00j, -1.94224873e-47+1.07013018e-47j,\n",
       "       -1.94224873e-47-1.07013018e-47j, -1.61471299e-47+8.13521590e-48j,\n",
       "       -1.61471299e-47-8.13521590e-48j,  1.77004281e-47+0.00000000e+00j,\n",
       "        1.25091073e-47+1.00008630e-47j,  1.25091073e-47-1.00008630e-47j,\n",
       "        1.02153570e-48+1.53432529e-47j,  1.02153570e-48-1.53432529e-47j,\n",
       "       -1.31026161e-47+5.36612713e-48j, -1.31026161e-47-5.36612713e-48j,\n",
       "       -3.14874706e-48+8.70211563e-48j, -3.14874706e-48-8.70211563e-48j,\n",
       "        8.83661696e-48+0.00000000e+00j, -6.74761901e-48+0.00000000e+00j,\n",
       "        6.70496861e-50+6.12000969e-48j,  6.70496861e-50-6.12000969e-48j,\n",
       "       -2.13816698e-48+4.27892545e-48j, -2.13816698e-48-4.27892545e-48j,\n",
       "        2.92861341e-48+3.86605465e-48j,  2.92861341e-48-3.86605465e-48j,\n",
       "        4.07546227e-48+1.63678745e-48j,  4.07546227e-48-1.63678745e-48j,\n",
       "        2.26962907e-48+0.00000000e+00j, -6.04513235e-49+0.00000000e+00j,\n",
       "        8.27075607e-51+0.00000000e+00j, -1.72036016e-51+0.00000000e+00j,\n",
       "        4.10473543e-52+0.00000000e+00j, -3.45920633e-54+2.24768029e-53j,\n",
       "       -3.45920633e-54-2.24768029e-53j,  6.46674797e-54+9.93472154e-54j,\n",
       "        6.46674797e-54-9.93472154e-54j, -2.28177655e-54+1.07175486e-53j,\n",
       "       -2.28177655e-54-1.07175486e-53j, -8.90402190e-54+4.66715796e-54j,\n",
       "       -8.90402190e-54-4.66715796e-54j, -8.76740288e-54+0.00000000e+00j,\n",
       "        1.03348062e-53+0.00000000e+00j,  9.87623517e-54+0.00000000e+00j,\n",
       "       -3.94571077e-54+4.36728654e-54j, -3.94571077e-54-4.36728654e-54j,\n",
       "        5.54057617e-54+0.00000000e+00j,  1.51684264e-54+4.27640439e-54j,\n",
       "        1.51684264e-54-4.27640439e-54j,  3.46780392e-54+2.88995399e-54j,\n",
       "        3.46780392e-54-2.88995399e-54j, -1.68475789e-54+2.62730042e-54j,\n",
       "       -1.68475789e-54-2.62730042e-54j,  2.79224307e-54+0.00000000e+00j,\n",
       "       -2.52463898e-54+2.02531845e-55j, -2.52463898e-54-2.02531845e-55j,\n",
       "        1.18523578e-54+1.47115516e-54j,  1.18523578e-54-1.47115516e-54j,\n",
       "       -3.20782826e-55+1.32158332e-54j, -3.20782826e-55-1.32158332e-54j,\n",
       "       -9.67423955e-55+6.88810922e-55j, -9.67423955e-55-6.88810922e-55j,\n",
       "        8.31809891e-55+0.00000000e+00j, -2.94529903e-55+2.36464044e-55j,\n",
       "       -2.94529903e-55-2.36464044e-55j,  1.69505777e-55+0.00000000e+00j,\n",
       "        2.07454861e-57+0.00000000e+00j,  1.86711970e-58+0.00000000e+00j,\n",
       "        1.26754095e-60+5.39845798e-60j,  1.26754095e-60-5.39845798e-60j,\n",
       "       -1.16135088e-60+7.61475944e-61j, -1.16135088e-60-7.61475944e-61j,\n",
       "        3.91344099e-61+3.44213756e-61j,  3.91344099e-61-3.44213756e-61j,\n",
       "       -1.81395260e-61+4.47014742e-61j, -1.81395260e-61-4.47014742e-61j,\n",
       "       -3.51326765e-61+0.00000000e+00j,  1.69153029e-61+2.42870035e-61j,\n",
       "        1.69153029e-61-2.42870035e-61j,  2.13193382e-61+4.83002524e-62j,\n",
       "        2.13193382e-61-4.83002524e-62j,  1.73160271e-61+0.00000000e+00j,\n",
       "       -1.24253184e-61+1.27856803e-61j, -1.24253184e-61-1.27856803e-61j,\n",
       "       -2.04918803e-62+1.61295870e-61j, -2.04918803e-62-1.61295870e-61j,\n",
       "       -1.39687515e-61+0.00000000e+00j, -4.11955136e-62+0.00000000e+00j,\n",
       "        1.99945539e-62+3.55678423e-62j,  1.99945539e-62-3.55678423e-62j,\n",
       "        2.50309365e-63+0.00000000e+00j,  0.00000000e+00+0.00000000e+00j,\n",
       "        0.00000000e+00+0.00000000e+00j,  0.00000000e+00+0.00000000e+00j,\n",
       "        0.00000000e+00+0.00000000e+00j,  0.00000000e+00+0.00000000e+00j,\n",
       "        0.00000000e+00+0.00000000e+00j,  0.00000000e+00+0.00000000e+00j,\n",
       "        0.00000000e+00+0.00000000e+00j,  0.00000000e+00+0.00000000e+00j,\n",
       "        0.00000000e+00+0.00000000e+00j,  0.00000000e+00+0.00000000e+00j,\n",
       "        0.00000000e+00+0.00000000e+00j,  0.00000000e+00+0.00000000e+00j,\n",
       "        0.00000000e+00+0.00000000e+00j,  0.00000000e+00+0.00000000e+00j,\n",
       "        0.00000000e+00+0.00000000e+00j,  0.00000000e+00+0.00000000e+00j,\n",
       "        0.00000000e+00+0.00000000e+00j,  0.00000000e+00+0.00000000e+00j,\n",
       "        0.00000000e+00+0.00000000e+00j,  0.00000000e+00+0.00000000e+00j,\n",
       "        0.00000000e+00+0.00000000e+00j,  0.00000000e+00+0.00000000e+00j,\n",
       "        0.00000000e+00+0.00000000e+00j,  0.00000000e+00+0.00000000e+00j,\n",
       "        0.00000000e+00+0.00000000e+00j,  0.00000000e+00+0.00000000e+00j,\n",
       "        0.00000000e+00+0.00000000e+00j,  0.00000000e+00+0.00000000e+00j,\n",
       "        0.00000000e+00+0.00000000e+00j,  0.00000000e+00+0.00000000e+00j,\n",
       "        0.00000000e+00+0.00000000e+00j,  0.00000000e+00+0.00000000e+00j,\n",
       "        0.00000000e+00+0.00000000e+00j,  0.00000000e+00+0.00000000e+00j,\n",
       "        0.00000000e+00+0.00000000e+00j,  0.00000000e+00+0.00000000e+00j,\n",
       "        0.00000000e+00+0.00000000e+00j,  0.00000000e+00+0.00000000e+00j,\n",
       "        0.00000000e+00+0.00000000e+00j,  0.00000000e+00+0.00000000e+00j,\n",
       "        0.00000000e+00+0.00000000e+00j,  0.00000000e+00+0.00000000e+00j,\n",
       "        0.00000000e+00+0.00000000e+00j,  0.00000000e+00+0.00000000e+00j,\n",
       "        0.00000000e+00+0.00000000e+00j])"
      ]
     },
     "execution_count": 201,
     "metadata": {},
     "output_type": "execute_result"
    }
   ],
   "source": [
    "np.linalg.eigvals(construct_circ_shift(alpha, x.shape[0]))"
   ]
  },
  {
   "cell_type": "code",
   "execution_count": 235,
   "metadata": {},
   "outputs": [],
   "source": [
    "LA1 = linalg.LinearOperator((n**2,n**2), matvec = lambda x : T_matvec_1(x, alpha))"
   ]
  },
  {
   "cell_type": "code",
   "execution_count": 236,
   "metadata": {},
   "outputs": [
    {
     "name": "stdout",
     "output_type": "stream",
     "text": [
      "800\n"
     ]
    },
    {
     "data": {
      "text/plain": [
       "array([1.20680613e+08, 8.79687162e+06, 2.74983444e+08, ...,\n",
       "       7.03703760e+07, 1.29547411e+08, 2.53813481e+08])"
      ]
     },
     "execution_count": 236,
     "metadata": {},
     "output_type": "execute_result"
    }
   ],
   "source": [
    "mock2 = solve_sparse(LA1, yhat, 10**-5, 800)\n",
    "mock2[0]"
   ]
  },
  {
   "cell_type": "code",
   "execution_count": 208,
   "metadata": {},
   "outputs": [
    {
     "data": {
      "text/plain": [
       "5.1064275098259235e+91"
      ]
     },
     "execution_count": 208,
     "metadata": {},
     "output_type": "execute_result"
    }
   ],
   "source": [
    "np.linalg.norm(mock2[0]-(x.reshape(-1)*np.exp(200)))"
   ]
  },
  {
   "cell_type": "code",
   "execution_count": 209,
   "metadata": {},
   "outputs": [
    {
     "data": {
      "text/plain": [
       "array([1.21610232e-79, 9.47766695e-81, 1.90971092e-79, ...,\n",
       "       6.78585343e-80, 1.20666425e-79, 2.44162770e-79])"
      ]
     },
     "execution_count": 209,
     "metadata": {},
     "output_type": "execute_result"
    }
   ],
   "source": [
    "mock2[0]*np.exp(-200)"
   ]
  },
  {
   "cell_type": "code",
   "execution_count": 211,
   "metadata": {},
   "outputs": [
    {
     "data": {
      "text/plain": [
       "array([1.84262331e+89, 1.84262331e+89, 1.84262331e+89, ...,\n",
       "       1.84262331e+89, 1.84262331e+89, 1.84262331e+89])"
      ]
     },
     "execution_count": 211,
     "metadata": {},
     "output_type": "execute_result"
    }
   ],
   "source": [
    "x.reshape(-1)*np.exp(200)"
   ]
  },
  {
   "cell_type": "markdown",
   "metadata": {},
   "source": [
    "The lack of convergence may be explained if one once again refers to the numerical singularity of the matrix in question due to inordinately large negative exponents. This makes the upper bound stray well outside of the realm of convergence. We may ameliorate this by forcing a nonsingular matrix, e.g. by regularisation (refer to t4). I cannot think of a drawback except the need to choose the regularisation parameter, which is done in t4."
   ]
  },
  {
   "cell_type": "markdown",
   "metadata": {
    "id": "ez3m0Y-n6hpy"
   },
   "source": [
    "## Task 4 (10 pts)\n",
    "\n",
    "- Implement Tikhonov regularization, i.e. deconvolve $\\hat{y}$ with the perturbed matrix $T_{\\lambda} = T + \\lambda^2I$ instead of $T$. Modify `T_matvec()` according to the template below.\n",
    "- Perform computations for all $\\lambda \\in \\{10, 1, 0.1\\}$ and $tol \\in \\{10^{-3}, 10^{-4}, 10^{-5},10^{-6}, 10^{-7} \\}$. For each pair $(\\lambda, tol)$ write out `num_iters` and relative error $e = \\frac{\\|x - x^*\\|_2}{\\|x\\|_2}$. Comment on the results: \n",
    "    - Compare robustness of the convergence with task 2. What the observed results indicate?"
   ]
  },
  {
   "cell_type": "code",
   "execution_count": 473,
   "metadata": {},
   "outputs": [],
   "source": [
    "def construct_circ1(alpha, n, lamb):\n",
    "  circ = np.zeros((2*n-1, 2*n-1))\n",
    "  indices = list(range(n))\n",
    "  indices.extend((list(range(-n+1,0))))\n",
    "  for i in range(len(indices)):\n",
    "    for j in range(len(indices)):\n",
    "      circ[i,j] = alpha/np.pi*(np.exp(-alpha*((indices[i])**2+(indices[j])**2)))+lamb**2*(i==j)*(i==0)\n",
    "  #print(circ.shape)\n",
    "  return circ\n",
    "def construct_mat(x):\n",
    "  n = x.shape[0]\n",
    "  mat = np.pad(x, (0,n-1))\n",
    "  return mat"
   ]
  },
  {
   "cell_type": "code",
   "execution_count": 474,
   "metadata": {
    "id": "IIs9QI7R6hpy"
   },
   "outputs": [],
   "source": [
    "def T_lmbda_matvec(x, aplha, lmbda):\n",
    "    #pass\n",
    "    x = x.reshape(int(np.sqrt(x.shape[0])),int(np.sqrt(x.shape[0])))\n",
    "    n = x.shape[0]\n",
    "    y = np.fft.ifft2(np.fft.fft2(construct_circ1(aplha, n,lmbda))*np.fft.fft2(construct_mat(x)))\n",
    "    return y[:n,:n].reshape(-1)\n",
    "\n",
    "# your code is here"
   ]
  },
  {
   "cell_type": "code",
   "execution_count": 475,
   "metadata": {},
   "outputs": [],
   "source": [
    " LA = linalg.LinearOperator((n**2,n**2), matvec = lambda x : T_lmbda_matvec(x, a, l))"
   ]
  },
  {
   "cell_type": "code",
   "execution_count": 476,
   "metadata": {},
   "outputs": [],
   "source": [
    "def solve_sparse(A, b, tol, maxiter):\n",
    "    num_iters = 0\n",
    "\n",
    "    def callback(xk):\n",
    "        nonlocal num_iters\n",
    "        num_iters+=1\n",
    "\n",
    "    x,status=linalg.cg(A, b,tol=tol, callback=callback, maxiter = maxiter)\n",
    "    print(status)\n",
    "    return x,status,num_iters"
   ]
  },
  {
   "cell_type": "code",
   "execution_count": 477,
   "metadata": {},
   "outputs": [
    {
     "name": "stdout",
     "output_type": "stream",
     "text": [
      "0\n",
      "2\n",
      "Error of 6.383297050861237e-06 in 2 iters at 10;-3\n",
      "0\n",
      "2\n",
      "Error of 6.383297050861237e-06 in 2 iters at 10;-4\n",
      "0\n",
      "2\n",
      "Error of 6.383297050861237e-06 in 2 iters at 10;-5\n",
      "0\n",
      "3\n",
      "Error of 1.796745082293203e-08 in 3 iters at 10;-6\n",
      "0\n",
      "3\n",
      "Error of 1.796745082293203e-08 in 3 iters at 10;-7\n",
      "0\n",
      "4\n",
      "Error of 0.0008695349520350509 in 4 iters at 1;-3\n",
      "0\n",
      "6\n",
      "Error of 2.623345029779994e-05 in 6 iters at 1;-4\n",
      "0\n",
      "7\n",
      "Error of 4.162276309569275e-06 in 7 iters at 1;-5\n",
      "0\n",
      "8\n",
      "Error of 7.452012058867805e-07 in 8 iters at 1;-6\n",
      "0\n",
      "9\n",
      "Error of 1.2466899201309202e-07 in 9 iters at 1;-7\n",
      "0\n",
      "19\n",
      "Error of 0.01742034557608857 in 19 iters at 0.1;-3\n",
      "0\n",
      "30\n",
      "Error of 0.0016838464324930595 in 30 iters at 0.1;-4\n",
      "0\n",
      "41\n",
      "Error of 0.00016169082150316457 in 41 iters at 0.1;-5\n",
      "0\n",
      "52\n",
      "Error of 1.6982572723936437e-05 in 52 iters at 0.1;-6\n",
      "0\n",
      "63\n",
      "Error of 1.8001733055356342e-06 in 63 iters at 0.1;-7\n"
     ]
    }
   ],
   "source": [
    "a = .01\n",
    "for l in [10, 1, .1]:\n",
    "    y = T_lmbda_matvec(x.reshape(-1),a, l)\n",
    "    LA = linalg.LinearOperator((n**2,n**2), matvec = lambda x : T_lmbda_matvec(x, a, l))\n",
    "    for t in [-3, -4, -5, -6, -7]:\n",
    "        x1,_,ni = solve_sparse(LA, y, 10**t, 10_000)\n",
    "        print(ni)\n",
    "        print(f'Error of {np.linalg.norm(x1-x.reshape(-1))/np.linalg.norm(x.reshape(-1))} in {ni} iters at {l};{t}')"
   ]
  },
  {
   "cell_type": "code",
   "execution_count": 478,
   "metadata": {},
   "outputs": [
    {
     "name": "stdout",
     "output_type": "stream",
     "text": [
      "0\n",
      "2\n",
      "Error of 4.709597922134163e-05 in 2 iters at 10;-3\n",
      "0\n",
      "2\n",
      "Error of 4.7228331908291794e-05 in 2 iters at 10;-4\n",
      "0\n",
      "2\n",
      "Error of 4.724893794171456e-05 in 2 iters at 10;-5\n",
      "0\n",
      "3\n",
      "Error of 4.6673625605609274e-05 in 3 iters at 10;-6\n",
      "0\n",
      "3\n",
      "Error of 4.673332350487908e-05 in 3 iters at 10;-7\n",
      "0\n",
      "4\n",
      "Error of 0.0047274218106049285 in 4 iters at 1;-3\n",
      "0\n",
      "6\n",
      "Error of 0.00465897715692675 in 6 iters at 1;-4\n",
      "0\n",
      "7\n",
      "Error of 0.004648778713674873 in 7 iters at 1;-5\n",
      "0\n",
      "8\n",
      "Error of 0.004677933234524155 in 8 iters at 1;-6\n",
      "0\n",
      "9\n",
      "Error of 0.004649926584997763 in 9 iters at 1;-7\n",
      "0\n",
      "20\n",
      "Error of 0.45885518480161175 in 20 iters at 0.1;-3\n",
      "0\n",
      "30\n",
      "Error of 0.46219939011384664 in 30 iters at 0.1;-4\n",
      "0\n",
      "41\n",
      "Error of 0.4610694657276371 in 41 iters at 0.1;-5\n",
      "0\n",
      "52\n",
      "Error of 0.4622284184133177 in 52 iters at 0.1;-6\n",
      "0\n",
      "64\n",
      "Error of 0.4620854848741109 in 64 iters at 0.1;-7\n"
     ]
    }
   ],
   "source": [
    "a = .01\n",
    "for l in [10, 1, .1]:\n",
    "    y = T_lmbda_matvec(x.reshape(-1),a, l)\n",
    "    LA = linalg.LinearOperator((n**2,n**2), matvec = lambda x : T_lmbda_matvec(x, a, l))\n",
    "    for t in [-3, -4, -5, -6, -7]:\n",
    "        x1,_,ni = solve_sparse(LA, y+np.random.standard_normal(y.shape), 10**t, 10_000)\n",
    "        print(ni)\n",
    "        print(f'Error of {np.linalg.norm(x1-x.reshape(-1))/np.linalg.norm(x.reshape(-1))} in {ni} iters at {l};{t}')"
   ]
  },
  {
   "cell_type": "markdown",
   "metadata": {},
   "source": [
    "We observe great increases in solution quality across the board since the conditioning is now remedied. We also observe significant robustness in presence of noise except at low regularisation parameters. It is therefore desirable to stick to large regularisation parameters."
   ]
  },
  {
   "cell_type": "markdown",
   "metadata": {
    "id": "ut0QG1AW6hpy"
   },
   "source": [
    "## Task 5 (20 pts)\n",
    "\n",
    "- Implement BCCB preconditioner for $T_{\\lambda}$ based on Strang preconditioner for Toeplitz matrix (hint: build circulants using first columns of Toeplitz matrices on both levels). You know from lectures that circulants can be explicitly inverted using convolution theorem. Implement the corresponding matvec according to the template provided below.\n",
    "- Check speedup in iterations and runtime that can be gained from the preconditioning for $\\alpha = 0.01$, $\\lambda = 1$ compared with Task 4. Explain results."
   ]
  },
  {
   "cell_type": "markdown",
   "metadata": {},
   "source": [
    "After Strang, we notice that the matrix is strongly diagonally dominated and thus generate the preconditioner from a number of central diagonals. It is much better than to use the quickly decaying first column. Refer to the papers: \n",
    "\n",
    "https://www.math.cuhk.edu.hk/~rchan/paper/gstrang.pdf\n",
    "\n",
    "https://www.cfm.brown.edu/faculty/gk/APMA2821F/Strang%20Paper.pdf\n",
    "\n",
    "https://sci-hub.ru/10.1137/0910009"
   ]
  },
  {
   "cell_type": "code",
   "execution_count": 479,
   "metadata": {},
   "outputs": [
    {
     "data": {
      "text/plain": [
       "array([1, 3, 5])"
      ]
     },
     "execution_count": 479,
     "metadata": {},
     "output_type": "execute_result"
    }
   ],
   "source": [
    "np.array([[1,2],[3,4],[5,6]])[:,0]"
   ]
  },
  {
   "cell_type": "code",
   "execution_count": 480,
   "metadata": {},
   "outputs": [],
   "source": [
    "def construct_prec(mat):\n",
    "    A = mat[:,0]\n",
    "    n = A.shape[0]\n",
    "    B = np.zeros_like(A)\n",
    "    for i in range(len(A)):\n",
    "        B[i] = A[i] if i<=np.floor(n/2) else A[n-i]\n",
    "    return scipy.linalg.circulant(B)"
   ]
  },
  {
   "cell_type": "code",
   "execution_count": 481,
   "metadata": {},
   "outputs": [],
   "source": [
    "def prec_matvec(x, alpha, lmbda):\n",
    "    #pass\n",
    "    n = int(np.sqrt(x.shape[0]))\n",
    "    A = construct_circ2(n,alpha,lmbda)\n",
    "    A = construct_prec(A)\n",
    "    z = x.reshape(int(np.sqrt(x.shape[0])),int(np.sqrt(x.shape[0])))\n",
    "    y = np.fft.ifft2(np.fft.fft2(A)*np.fft.fft2(z)) \n",
    "    return y.T.reshape(-1)"
   ]
  },
  {
   "cell_type": "code",
   "execution_count": 492,
   "metadata": {},
   "outputs": [],
   "source": [
    "def construct_circ2(n,a,l):\n",
    "    A = np.zeros((n,n))\n",
    "    indices = list(range(0, n // 2))\n",
    "    indices.extend(list(range(-n // 2, 0)))\n",
    "    #indices = list(range(-n//2,n//2))\n",
    "    for i in range(len(indices)):\n",
    "        for j in range(len(indices)):\n",
    "            A[i,j] = a/np.pi*(np.exp(-a*((indices[i])**2+(indices[j])**2)))+l**2*(i==j)*(i==0)\n",
    "    return A"
   ]
  },
  {
   "cell_type": "code",
   "execution_count": 483,
   "metadata": {},
   "outputs": [],
   "source": [
    "import scipy\n",
    "from scipy.sparse import linalg"
   ]
  },
  {
   "cell_type": "code",
   "execution_count": 484,
   "metadata": {
    "id": "DiJcm6XQ6hpz"
   },
   "outputs": [],
   "source": [
    "def C_inv_matvec(x, alpha, lmbda):\n",
    "    #pass\n",
    "    n = int(np.sqrt(x.shape[0]))\n",
    "    A = construct_circ2(n,alpha,lmbda)\n",
    "    z = x.reshape(int(np.sqrt(x.shape[0])),int(np.sqrt(x.shape[0])))\n",
    "    z = np.array(np.split(x,n))\n",
    "    y = np.fft.ifft2(1/np.fft.fft2(A)*np.fft.fft2(z)) \n",
    "    return y.reshape(-1)\n",
    "# your code is here"
   ]
  },
  {
   "cell_type": "code",
   "execution_count": 485,
   "metadata": {},
   "outputs": [],
   "source": [
    "def solve_sparse(A, b, tol, maxiter, M):\n",
    "    num_iters = 0\n",
    "\n",
    "    def callback(xk):\n",
    "        nonlocal num_iters\n",
    "        num_iters+=1\n",
    "\n",
    "    x,status=linalg.cg(A, b,tol=tol, callback=callback, maxiter = maxiter, M = M)\n",
    "    print(status)\n",
    "    return x,status,num_iters"
   ]
  },
  {
   "cell_type": "code",
   "execution_count": 486,
   "metadata": {},
   "outputs": [
    {
     "data": {
      "text/plain": [
       "array([2.52475248-1.20623439e-16j, 2.52475248+4.95552924e-17j,\n",
       "       2.52475248+1.11452323e-16j, ..., 2.52475248+1.46421175e-16j,\n",
       "       2.52475248+3.27923890e-16j, 2.52475248+3.90269429e-17j])"
      ]
     },
     "execution_count": 486,
     "metadata": {},
     "output_type": "execute_result"
    }
   ],
   "source": [
    "C_inv_matvec(x.reshape(-1),.01,10)"
   ]
  },
  {
   "cell_type": "code",
   "execution_count": 487,
   "metadata": {},
   "outputs": [
    {
     "data": {
      "text/plain": [
       "330"
      ]
     },
     "execution_count": 487,
     "metadata": {},
     "output_type": "execute_result"
    }
   ],
   "source": [
    "#LA = linalg.LinearOperator((n**1,n**1), matvec = lambda x : C_inv_matvec(x, a, l))\n",
    "n"
   ]
  },
  {
   "cell_type": "code",
   "execution_count": 493,
   "metadata": {},
   "outputs": [
    {
     "name": "stdout",
     "output_type": "stream",
     "text": [
      "108900\n",
      "0\n",
      "3\n",
      "Error of 0.0003550459605658973 in 3 iters at 1;-3\n",
      "0\n",
      "4\n",
      "Error of 7.2527349162392166e-06 in 4 iters at 1;-4\n",
      "0\n",
      "4\n",
      "Error of 7.2527349162392166e-06 in 4 iters at 1;-5\n",
      "0\n",
      "5\n",
      "Error of 2.934446358214183e-07 in 5 iters at 1;-6\n",
      "0\n",
      "6\n",
      "Error of 1.636634516262729e-08 in 6 iters at 1;-7\n"
     ]
    }
   ],
   "source": [
    "a = .01\n",
    "for l in [1]:\n",
    "    y = T_lmbda_matvec(x.reshape(-1),a, l)\n",
    "    print(y.shape[0])\n",
    "    LA = linalg.LinearOperator((n**2,n**2), matvec = lambda x : T_lmbda_matvec(x, a, l))\n",
    "    LB = linalg.LinearOperator((n**2,n**2), matvec = lambda x : C_inv_matvec(x, a, l))\n",
    "    for t in [-3, -4, -5, -6, -7]:\n",
    "        x1,_,ni = solve_sparse(LA, y, 10**t, 10_000, M = LB)\n",
    "        print(ni)\n",
    "        print(f'Error of {np.linalg.norm(x1-x.reshape(-1))/np.linalg.norm(x.reshape(-1))} in {ni} iters at {l};{t}')"
   ]
  },
  {
   "cell_type": "code",
   "execution_count": 495,
   "metadata": {},
   "outputs": [],
   "source": [
    "import timeit"
   ]
  },
  {
   "cell_type": "code",
   "execution_count": 499,
   "metadata": {},
   "outputs": [
    {
     "name": "stdout",
     "output_type": "stream",
     "text": [
      "108900\n",
      "0\n",
      "3\n",
      "Error of 0.004663627692853663 in 3 iters at 1;-3\n",
      "0\n",
      "4\n",
      "Error of 0.004651632547008422 in 4 iters at 1;-4\n",
      "0\n",
      "4\n",
      "Error of 0.004648079198802542 in 4 iters at 1;-5\n",
      "0\n",
      "5\n",
      "Error of 0.00466844687289018 in 5 iters at 1;-6\n",
      "0\n",
      "6\n",
      "Error of 0.004661311115261449 in 6 iters at 1;-7\n"
     ]
    }
   ],
   "source": [
    "a = .01\n",
    "for l in [1]:\n",
    "    y = T_lmbda_matvec(x.reshape(-1),a, l)\n",
    "    print(y.shape[0])\n",
    "    LA = linalg.LinearOperator((n**2,n**2), matvec = lambda x : T_lmbda_matvec(x, a, l))\n",
    "    LB = linalg.LinearOperator((n**2,n**2), matvec = lambda x : C_inv_matvec(x, a, l))\n",
    "    for t in [-3, -4, -5, -6, -7]:\n",
    "        x1,_,ni = solve_sparse(LA, y+np.random.standard_normal(y.shape), 10**t, 10_000, LB)\n",
    "        print(ni)\n",
    "        print(f'Error of {np.linalg.norm(x1-x.reshape(-1))/np.linalg.norm(x.reshape(-1))} in {ni} iters at {l};{t}')"
   ]
  },
  {
   "cell_type": "code",
   "execution_count": 516,
   "metadata": {},
   "outputs": [
    {
     "name": "stdout",
     "output_type": "stream",
     "text": [
      "108900\n",
      "0\n",
      "4\n",
      "Error of 0.004751393276818727 in 4 iters at 1;-3\n",
      "0\n",
      "6\n",
      "Error of 0.004674301901728936 in 6 iters at 1;-4\n",
      "0\n",
      "7\n",
      "Error of 0.0046773173231941835 in 7 iters at 1;-5\n",
      "0\n",
      "8\n",
      "Error of 0.004678515858791974 in 8 iters at 1;-6\n",
      "0\n",
      "9\n",
      "Error of 0.0046633124750770985 in 9 iters at 1;-7\n"
     ]
    }
   ],
   "source": [
    "a = .01\n",
    "for l in [1]:\n",
    "    y = T_lmbda_matvec(x.reshape(-1),a, l)\n",
    "    print(y.shape[0])\n",
    "    LA = linalg.LinearOperator((n**2,n**2), matvec = lambda x : T_lmbda_matvec(x, a, l))\n",
    "    LB = linalg.LinearOperator((n**2,n**2), matvec = lambda x : C_inv_matvec(x, a, l))\n",
    "    for t in [-3, -4, -5, -6, -7]:\n",
    "        x1,_,ni = solve_sparse(LA, y+np.random.standard_normal(y.shape), 10**t, 10_000, None)\n",
    "        print(ni)\n",
    "        print(f'Error of {np.linalg.norm(x1-x.reshape(-1))/np.linalg.norm(x.reshape(-1))} in {ni} iters at {l};{t}')"
   ]
  },
  {
   "cell_type": "code",
   "execution_count": 504,
   "metadata": {},
   "outputs": [],
   "source": [
    "l = 1\n",
    "y = T_lmbda_matvec(x.reshape(-1),a, l)\n",
    "LA = linalg.LinearOperator((n**2,n**2), matvec = lambda x : T_lmbda_matvec(x, a, l))\n",
    "LB = linalg.LinearOperator((n**2,n**2), matvec = lambda x : C_inv_matvec(x, a, l))"
   ]
  },
  {
   "cell_type": "code",
   "execution_count": 505,
   "metadata": {},
   "outputs": [
    {
     "name": "stdout",
     "output_type": "stream",
     "text": [
      "0\n",
      "0\n",
      "0\n",
      "0\n",
      "0\n",
      "0\n",
      "0\n",
      "0\n",
      "8.14 s ± 357 ms per loop (mean ± std. dev. of 7 runs, 1 loop each)\n"
     ]
    }
   ],
   "source": [
    "%%timeit\n",
    "x1,_,ni = solve_sparse(LA, y+np.random.standard_normal(y.shape), 10**-3, 10_000, LB)"
   ]
  },
  {
   "cell_type": "code",
   "execution_count": 506,
   "metadata": {},
   "outputs": [
    {
     "name": "stdout",
     "output_type": "stream",
     "text": [
      "0\n",
      "0\n",
      "0\n",
      "0\n",
      "0\n",
      "0\n",
      "0\n",
      "0\n",
      "8.75 s ± 200 ms per loop (mean ± std. dev. of 7 runs, 1 loop each)\n"
     ]
    }
   ],
   "source": [
    "%%timeit\n",
    "x1,_,ni = solve_sparse(LA, y+np.random.standard_normal(y.shape), 10**-3, 10_000, None)"
   ]
  },
  {
   "cell_type": "code",
   "execution_count": 507,
   "metadata": {},
   "outputs": [
    {
     "name": "stdout",
     "output_type": "stream",
     "text": [
      "0\n",
      "0\n",
      "0\n",
      "0\n",
      "0\n",
      "0\n",
      "0\n",
      "0\n",
      "9.92 s ± 265 ms per loop (mean ± std. dev. of 7 runs, 1 loop each)\n"
     ]
    }
   ],
   "source": [
    "%%timeit\n",
    "x1,_,ni = solve_sparse(LA, y+np.random.standard_normal(y.shape), 10**-4, 10_000, LB)"
   ]
  },
  {
   "cell_type": "code",
   "execution_count": 508,
   "metadata": {},
   "outputs": [
    {
     "name": "stdout",
     "output_type": "stream",
     "text": [
      "0\n",
      "0\n",
      "0\n",
      "0\n",
      "0\n",
      "0\n",
      "0\n",
      "0\n",
      "11.3 s ± 289 ms per loop (mean ± std. dev. of 7 runs, 1 loop each)\n"
     ]
    }
   ],
   "source": [
    "%%timeit\n",
    "x1,_,ni = solve_sparse(LA, y+np.random.standard_normal(y.shape), 10**-4, 10_000, None)"
   ]
  },
  {
   "cell_type": "code",
   "execution_count": 510,
   "metadata": {},
   "outputs": [
    {
     "name": "stdout",
     "output_type": "stream",
     "text": [
      "0\n",
      "0\n",
      "0\n",
      "0\n",
      "0\n",
      "0\n",
      "0\n",
      "0\n",
      "9.89 s ± 203 ms per loop (mean ± std. dev. of 7 runs, 1 loop each)\n"
     ]
    }
   ],
   "source": [
    "%%timeit\n",
    "x1,_,ni = solve_sparse(LA, y+np.random.standard_normal(y.shape), 10**-5, 10_000, LB)"
   ]
  },
  {
   "cell_type": "code",
   "execution_count": 511,
   "metadata": {},
   "outputs": [
    {
     "name": "stdout",
     "output_type": "stream",
     "text": [
      "0\n",
      "0\n",
      "0\n",
      "0\n",
      "0\n",
      "0\n",
      "0\n",
      "0\n",
      "12.7 s ± 359 ms per loop (mean ± std. dev. of 7 runs, 1 loop each)\n"
     ]
    }
   ],
   "source": [
    "%%timeit\n",
    "x1,_,ni = solve_sparse(LA, y+np.random.standard_normal(y.shape), 10**-5, 10_000, None)"
   ]
  },
  {
   "cell_type": "code",
   "execution_count": 512,
   "metadata": {},
   "outputs": [
    {
     "name": "stdout",
     "output_type": "stream",
     "text": [
      "0\n",
      "0\n",
      "0\n",
      "0\n",
      "0\n",
      "0\n",
      "0\n",
      "0\n",
      "11.9 s ± 445 ms per loop (mean ± std. dev. of 7 runs, 1 loop each)\n"
     ]
    }
   ],
   "source": [
    "%%timeit\n",
    "x1,_,ni = solve_sparse(LA, y+np.random.standard_normal(y.shape), 10**-6, 10_000, LB)"
   ]
  },
  {
   "cell_type": "code",
   "execution_count": 513,
   "metadata": {},
   "outputs": [
    {
     "name": "stdout",
     "output_type": "stream",
     "text": [
      "0\n",
      "0\n",
      "0\n",
      "0\n",
      "0\n",
      "0\n",
      "0\n",
      "0\n",
      "14.2 s ± 320 ms per loop (mean ± std. dev. of 7 runs, 1 loop each)\n"
     ]
    }
   ],
   "source": [
    "%%timeit\n",
    "x1,_,ni = solve_sparse(LA, y+np.random.standard_normal(y.shape), 10**-6, 10_000, None)"
   ]
  },
  {
   "cell_type": "code",
   "execution_count": 514,
   "metadata": {},
   "outputs": [
    {
     "name": "stdout",
     "output_type": "stream",
     "text": [
      "0\n",
      "0\n",
      "0\n",
      "0\n",
      "0\n",
      "0\n",
      "0\n",
      "0\n",
      "13.3 s ± 313 ms per loop (mean ± std. dev. of 7 runs, 1 loop each)\n"
     ]
    }
   ],
   "source": [
    "%%timeit\n",
    "x1,_,ni = solve_sparse(LA, y+np.random.standard_normal(y.shape), 10**-7, 10_000, LB)"
   ]
  },
  {
   "cell_type": "code",
   "execution_count": 515,
   "metadata": {},
   "outputs": [
    {
     "name": "stdout",
     "output_type": "stream",
     "text": [
      "0\n",
      "0\n",
      "0\n",
      "0\n",
      "0\n",
      "0\n",
      "0\n",
      "0\n",
      "15 s ± 264 ms per loop (mean ± std. dev. of 7 runs, 1 loop each)\n"
     ]
    }
   ],
   "source": [
    "%%timeit\n",
    "x1,_,ni = solve_sparse(LA, y+np.random.standard_normal(y.shape), 10**-7, 10_000, None)"
   ]
  },
  {
   "cell_type": "markdown",
   "metadata": {},
   "source": [
    "The manifest enhancement of convergence is due to the use of preconditioner which further ameliorates the terrible condition numbers we have been dealing with here."
   ]
  },
  {
   "cell_type": "code",
   "execution_count": null,
   "metadata": {},
   "outputs": [],
   "source": []
  }
 ],
 "metadata": {
  "colab": {
   "name": "hw3.ipynb",
   "provenance": []
  },
  "kernelspec": {
   "display_name": "Python 3",
   "language": "python",
   "name": "python3"
  },
  "language_info": {
   "codemirror_mode": {
    "name": "ipython",
    "version": 3
   },
   "file_extension": ".py",
   "mimetype": "text/x-python",
   "name": "python",
   "nbconvert_exporter": "python",
   "pygments_lexer": "ipython3",
   "version": "3.8.8"
  },
  "toc": {
   "base_numbering": 1,
   "nav_menu": {},
   "number_sections": true,
   "sideBar": true,
   "skip_h1_title": false,
   "title_cell": "Table of Contents",
   "title_sidebar": "Contents",
   "toc_cell": false,
   "toc_position": {},
   "toc_section_display": true,
   "toc_window_display": false
  }
 },
 "nbformat": 4,
 "nbformat_minor": 1
}
