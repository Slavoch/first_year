{
 "cells": [
  {
   "cell_type": "markdown",
   "metadata": {
    "id": "D3Ddko7T5VHe"
   },
   "source": [
    "# Problem set 3 (90 pts)\n",
    "\n",
    "## Important note: the template for your solution filename is Name_Surname_PS3.ipynb\n",
    "\n",
    "### The correct answer to the bonus question can be used as an additional reason to increase the final grade in the border case"
   ]
  },
  {
   "cell_type": "markdown",
   "metadata": {
    "id": "SiIRiwy_5VHj"
   },
   "source": [
    "## Problem 1 (25 pts)\n",
    "\n",
    "- (5 pts) Prove that $\\mathrm{vec}(AXB) = (B^\\top \\otimes A)\\, \\mathrm{vec}(X)$ if $\\mathrm{vec}(X)$ is a columnwise reshape of a matrix into a long vector. What does it change if the reshape is rowwise? \n",
    "\n",
    "**Note:** To make a columnwise reshape in Python one should use ```np.reshape(X, order='f')```, where the string ```'f'``` stands for the Fortran ordering. \n",
    "\n",
    "- (2 pts) What is the complexity of a naive computation of $(A \\otimes B) x$? Show how it can be reduced.\n",
    "\n",
    "- (3 pts) Let matrices $A$ and $B$ have eigendecompositions $A = S_A\\Lambda_A S_A^{-1}$ and $B = S_B\\Lambda_B S^{-1}_B$. Find eigenvectors and eigenvalues of the matrix $A\\otimes I + I \\otimes B$, where dimension of $I$ coincides with the dimension of $A$ and $B$.\n",
    "\n",
    "\n",
    "- (10 pts) Let $A = \\mathrm{diag}\\left(\\frac{1}{1000},\\frac{2}{1000},\\dots \\frac{999}{1000}, 1, 1000 \\right)$. Estimate analytically the number of iterations required  to solve linear system with $A$ with the relative accuracy $10^{-4}$ using\n",
    "    - Richardson iteration with the optimal choice of parameter (use $2$-norm)\n",
    "    - Chebyshev iteration (use $2$-norm)\n",
    "    - Conjugate gradient method (use $A$-norm).\n",
    "    \n",
    "- (5 pts) Provide numerical confirmation of your estimate from theoretical point of view"
   ]
  },
  {
   "cell_type": "markdown",
   "metadata": {
    "id": "Ld_bTEQN5VHm"
   },
   "source": [
    "- (5 pts) Prove that $\\mathrm{vec}(AXB) = (B^\\top \\otimes A)\\, \\mathrm{vec}(X)$ if $\\mathrm{vec}(X)$ is a columnwise reshape of a matrix into a long vector. What does it change if the reshape is rowwise?"
   ]
  },
  {
   "cell_type": "markdown",
   "metadata": {
    "id": "VYC43d-_5VHm"
   },
   "source": [
    "\n",
    "\n",
    "By definition if $A = [a_1 a_2 ... a_n]$ ,  then\n",
    "$ vec(A) = \\begin{bmatrix} a_1 \\\\ a_2 \\\\ ... \\\\ a_n \\end{bmatrix}$\n",
    "\n",
    "Let $B = \\begin{bmatrix} b_{11} & b_{12} & ... & b_{1n} \\\\ b_{21} & b_{22} & ... & b_{2n} \\\\ ...& & & \\\\  b_{m1} & b_{m2} & ... & b_{mn} \\end{bmatrix} = [b_1 b_2 ... b_n] $ m $\\times$ n \n",
    "\n",
    "$X = [x_1 x_2 .. x_m]$\n",
    "\n",
    "k column of $AXB$:\n",
    "\n",
    "$(AXB)_k = A(Xb_k) = A \\sum_{i=1}^m x_i b_{ik} = [b_{1k} A, b_{2k} A, ..., b_{mk} A] \\begin{bmatrix} x_1 \\\\ x_2 \\\\ ... \\\\ x_m \\end{bmatrix} = $\n",
    " \n",
    "$ \\begin{bmatrix} x_1 \\\\ x_2 \\\\ ... \\\\ x_m \\end{bmatrix} = vec(X)$\n",
    " \n",
    "By definition  $ A \\otimes B$\n",
    "\n",
    "$= ([b_{1k}, b_{2k}, ..., b_{mk}] \\otimes A) vec(X) = (b^T_k \\otimes A) vec(X)$\n",
    "\n",
    "Let put all columns together\n",
    "\n",
    "$\\mathrm{vec}(AXB) = \\begin{bmatrix} (AXB)_1 \\\\ (AXB)_2 \\\\ ... \\\\ (AXB)_n \\end{bmatrix} = \\begin{bmatrix} b^T_1 \\otimes A \\\\ b^T_2 \\otimes A \\\\ ... \\\\ b^T_n \\otimes A \\end{bmatrix} vec(X) = (B^\\top \\otimes A)\\, \\mathrm{vec}(X) $\n",
    "\n",
    "If we use rows:\n",
    "$(AXB)_k = (a_kX)B = \\sum_{i=1}^{m} a_{ki} x_i \\cdot B = \\sum_{i=1}^{m} x_i (a_{ki} B) = vec(X) \\cdot ([a_{k1}, \\ldots, a_{km}] \\otimes B) = vec(X) \\cdot (A_k^{T} \\otimes B)$ \n",
    "\n",
    "$\\mathrm{vec}(AXB) = vec(X) \\cdot (A^{T} \\otimes B)$"
   ]
  },
  {
   "cell_type": "markdown",
   "metadata": {
    "id": "lmRyO5wR5VHo"
   },
   "source": [
    "- (2 pts) What is the complexity of a naive computation of $(A \\otimes B) x$? Show how it can be reduced."
   ]
  },
  {
   "cell_type": "markdown",
   "metadata": {
    "id": "CQxcjo_s5VHp"
   },
   "source": [
    "Let $A \\in \\mathbb{R}_{n \\times m}$, $B \\in \\mathbb{R}_{k \\times l}$\n",
    "$x \\in \\mathbb{R}_{ml \\times 1}$, $X \\in \\mathbb{R}_{l \\times m}$ \n",
    "\n",
    "Complexity $(A \\otimes B)x$ is $\\mathcal{O}(nkml) = O(n^4)$ \n",
    "\n",
    "Let $x$ = vec($X$), then:\n",
    "$$ (A \\otimes B) \\mbox{vec}(X) = \\mbox{vec}(BXA^T) $$\n",
    "Complexity $\\mbox{vec}(BXA^T)$ is $\\mathcal{O}((n+l)km) = O(n^3) $"
   ]
  },
  {
   "cell_type": "markdown",
   "metadata": {
    "id": "WGx3_VKm5VHq"
   },
   "source": [
    "- (3 pts) Let matrices $A$ and $B$ have eigendecompositions $A = S_A\\Lambda_A S_A^{-1}$ and $B = S_B\\Lambda_B S^{-1}_B$. Find eigenvectors and eigenvalues of the matrix $A\\otimes I + I \\otimes B$, where dimension of $I$ coincides with the dimension of $A$ and $B$.\n",
    "​"
   ]
  },
  {
   "cell_type": "markdown",
   "metadata": {
    "id": "ZBxBOADT5VHs"
   },
   "source": [
    "Let's use some properties of a kronecker product"
   ]
  },
  {
   "cell_type": "markdown",
   "metadata": {
    "id": "It1UoJhI5VHt"
   },
   "source": [
    "$A \\otimes (B + C) = (A \\otimes B) + (A \\otimes C)$"
   ]
  },
  {
   "cell_type": "markdown",
   "metadata": {
    "id": "Es7vmf6A5VHu"
   },
   "source": [
    "$(A \\otimes B)(C \\otimes D) = AC \\otimes BD$"
   ]
  },
  {
   "cell_type": "markdown",
   "metadata": {
    "id": "T3lyTYiM5VHv"
   },
   "source": [
    "Suppose $v$ - eigenvector of B and $u$ - eigenvector of A,  $\\lambda_b$ and $\\lambda_a$ - eigenvalues."
   ]
  },
  {
   "cell_type": "markdown",
   "metadata": {
    "id": "vsmL6pPW5VHw"
   },
   "source": [
    "- $ (A\\otimes I + I \\otimes B)(v \\otimes u)  = Av \\otimes u + v \\otimes Bu = \\lambda_A v \\otimes u + v \\otimes \\lambda_Bu = (\\lambda_{A} + \\lambda_{B})(v \\otimes u)$"
   ]
  },
  {
   "cell_type": "markdown",
   "metadata": {
    "id": "L0eQVaIj5VHx"
   },
   "source": [
    "$\n",
    "(S_A^{-1} \\otimes S_B^{-1}) (A \\otimes I + I \\otimes B) (S_A \\otimes S_B) = (S_A^{-1} \\otimes S_B^{-1}) (A \\otimes I) (S_A \\otimes S_B) + (S_A^{-1} \\otimes S_B^{-1}) (I \\otimes B) (S_A \\otimes S_B) =  $\n",
    "\n",
    "$ = S_A^{-1} A S_A \\otimes S^{-1}_B I S_B + S_A^{-1} I S_A \\otimes S_B^{-1} B S_B =  \\Lambda_A \\otimes I + I \\otimes \\Lambda_B $"
   ]
  },
  {
   "cell_type": "markdown",
   "metadata": {
    "id": "LOPFUvt35VHx"
   },
   "source": [
    "- (10 pts) Let $A = \\mathrm{diag}\\left(\\frac{1}{1000},\\frac{2}{1000},\\dots \\frac{999}{1000}, 1, 1000 \\right)$. Estimate analytically the number of iterations required  to solve linear system with $A$ with the relative accuracy $10^{-4}$ using\n",
    "    - Richardson iteration with the optimal choice of parameter (use $2$-norm)\n",
    "    - Chebyshev iteration (use $2$-norm)\n",
    "    - Conjugate gradient method (use $A$-norm)."
   ]
  },
  {
   "cell_type": "markdown",
   "metadata": {
    "id": "vTACWvPB5VHz"
   },
   "source": [
    "Richardson iteration"
   ]
  },
  {
   "cell_type": "code",
   "execution_count": null,
   "metadata": {
    "id": "5X4a6g085VH1"
   },
   "outputs": [],
   "source": [
    "import numpy as np"
   ]
  },
  {
   "cell_type": "markdown",
   "metadata": {
    "id": "BAjJ5IQl5VH4"
   },
   "source": [
    "$\\varepsilon_k = x_k - x_* $, $\\varepsilon_k \\leq q^k \\varepsilon_0$\n",
    "\n",
    "$\\varepsilon_0 = \\|x_0 - x_*\\|_2 $, let $x_0 = 0$, then $\\varepsilon_0 = \\|x_*\\|_2$\n",
    "\n",
    "$10^{-4} \\geq q^k \\varepsilon_0$, $q^k \\leq 10^{-4} $,$k \\log q \\leq -4$\n",
    "\n",
    "$$q = \\frac{\\lambda_{max}-\\lambda_{min}}{\\lambda_{max}+\\lambda_{min}} $$\n",
    "$$\\frac{1000-\\frac{1}{1000}}{1000+\\frac{1}{1000}}$$\n",
    "$$=  \\frac{1000000 - 1}{1000000 + 1} = \\frac{999999}{1000001}= 0.999998000002$$ \n",
    "$$k \\geq \\frac{-4}{\\log 0.999998000002} $$ \n",
    "$$k \\geq \\frac{-4}{\\log 0.999998000002}  - \\log_q \\varepsilon_0$$\n",
    "\n",
    "\n",
    "Let $\\varepsilon_0 = 1$\n",
    "\n",
    "$k \\geq 4605170 $"
   ]
  },
  {
   "cell_type": "markdown",
   "metadata": {
    "id": "ZZ7nBb2R5VH6"
   },
   "source": [
    "Chebyshev iteration"
   ]
  },
  {
   "cell_type": "markdown",
   "metadata": {
    "id": "fjxbUs835VH6"
   },
   "source": [
    "For chebyshev iteration and 2-d norm we have \n",
    "\n",
    "$$q = \\frac{\\sqrt{cond A}-1}{\\sqrt{cond A}+1}$$"
   ]
  },
  {
   "cell_type": "markdown",
   "metadata": {
    "id": "J80tZkeM5VH7"
   },
   "source": [
    " $$\\varepsilon_{k+1} \\leq p(A) q^{k} \\varepsilon_0$$\n",
    " \n",
    "p(A) is a matrix polynomial"
   ]
  },
  {
   "cell_type": "markdown",
   "metadata": {
    "id": "Bd6adftc5VH8"
   },
   "source": [
    "$$\\varepsilon_k \\leq C q^{k-1} \\varepsilon_0$$"
   ]
  },
  {
   "cell_type": "markdown",
   "metadata": {
    "id": "TyJxZgsw5VH-"
   },
   "source": [
    "$$ \\log{\\varepsilon_k} \\leq \\log{C} +  \\log{q^{k-1}} + \\log{\\varepsilon_0}$$\n"
   ]
  },
  {
   "cell_type": "markdown",
   "metadata": {
    "id": "H0LCEI0G5VIA"
   },
   "source": [
    "$$ (k-1)\\log q \\geq \\log \\varepsilon_k - \\log C - \\log \\varepsilon_0 $$"
   ]
  },
  {
   "cell_type": "markdown",
   "metadata": {
    "id": "51nO01YD5VIB"
   },
   "source": [
    " $$condA = \\frac{\\lambda_{max}}{\\lambda_{min}} = \\frac{1000}{\\frac{1}{1000}}= 10^6$$"
   ]
  },
  {
   "cell_type": "markdown",
   "metadata": {
    "id": "1gF6-vut5VIC"
   },
   "source": [
    "$$ q^k = \\frac{10^3 - 1}{10^3+1} = 0.998002$$\n"
   ]
  },
  {
   "cell_type": "markdown",
   "metadata": {
    "id": "6VKaIE4W5VID"
   },
   "source": [
    "$$C = 1 $$"
   ]
  },
  {
   "cell_type": "markdown",
   "metadata": {
    "id": "glpVOsWf5VID"
   },
   "source": [
    "$$ \\varepsilon_0 = 1 $$"
   ]
  },
  {
   "cell_type": "markdown",
   "metadata": {
    "id": "2E1l5mu_5VIE"
   },
   "source": [
    "$$ (k-1) \\log 0.998002 \\geq -4 $$\n",
    "$$ k \\geq \\frac{-4}{ \\log 0.998002} +1$$"
   ]
  },
  {
   "cell_type": "markdown",
   "metadata": {
    "id": "pDKuxvkJ5VIF"
   },
   "source": [
    "$$ k \\geq 4606 $$"
   ]
  },
  {
   "cell_type": "code",
   "execution_count": null,
   "metadata": {
    "id": "PYbNS4BQ5VIG",
    "outputId": "e4c47a18-328a-4a05-d762-8fa7ae9df7cd"
   },
   "outputs": [
    {
     "data": {
      "text/plain": [
       "4605.168650930854"
      ]
     },
     "execution_count": 2,
     "metadata": {},
     "output_type": "execute_result"
    }
   ],
   "source": [
    "-4/np.log10(999/1001)"
   ]
  },
  {
   "cell_type": "markdown",
   "metadata": {
    "id": "_A5mdtZn5VIH"
   },
   "source": [
    "Conjugate gradient method (use  A -norm)"
   ]
  },
  {
   "cell_type": "markdown",
   "metadata": {
    "id": "2u9HXAVk5VII"
   },
   "source": [
    "$$q^k = \\gamma (\\frac{\\sqrt{cond A}-1}{\\sqrt{cond A}+1})^k = 2 (\\frac{\\sqrt{10^6} - 1}{\\sqrt{10^6} - 1})^k  $$"
   ]
  },
  {
   "cell_type": "markdown",
   "metadata": {
    "id": "0kyEbXHu5VII"
   },
   "source": [
    "$$ \\log_(2 \\Big( \\frac{999}{1001} \\Big)^k ) \\geq -4 $$\n",
    "\n",
    "$$ \\log 2 + k \\log_(\\frac{999}{1001})  \\geq -4 $$\n",
    "\n",
    "$$k \\geq \\frac{-4 \\log 2}{\\log_(\\frac{999}{1001})}  = 4952$$\n",
    "\n"
   ]
  },
  {
   "cell_type": "markdown",
   "metadata": {
    "id": "CE-CCKKT5VII"
   },
   "source": [
    "- (5 pts) Provide numerical confirmation of your estimate from theoretical point of view"
   ]
  },
  {
   "cell_type": "code",
   "execution_count": null,
   "metadata": {
    "id": "9XGs8VSN5VIJ"
   },
   "outputs": [],
   "source": [
    "# Your solution is here"
   ]
  },
  {
   "cell_type": "markdown",
   "metadata": {
    "id": "7CZWp7jq5VIJ"
   },
   "source": [
    "richardson"
   ]
  },
  {
   "cell_type": "code",
   "execution_count": null,
   "metadata": {
    "id": "6MvrVPUm5VIK"
   },
   "outputs": [],
   "source": [
    "import numpy as np\n",
    "import scipy \n",
    "import scipy.sparse\n",
    "import scipy.sparse.linalg\n",
    "import scipy\n",
    "from scipy.sparse import csc_matrix"
   ]
  },
  {
   "cell_type": "code",
   "execution_count": null,
   "metadata": {
    "id": "SHgRPxNu5VIK"
   },
   "outputs": [],
   "source": [
    "a = np.concatenate((np.array([(1/1000)*i for i in range(1,1001)]),np.array([1000])), axis=0)\n",
    "A = scipy.sparse.spdiags(a,0, len(a), len(a), 'csr')\n",
    "tau = 2.0/(a.max() + a.min())"
   ]
  },
  {
   "cell_type": "code",
   "execution_count": null,
   "metadata": {
    "id": "ZHPPwrj95VIL",
    "outputId": "67e8dc10-67c6-4eef-cb1b-feee68f97897"
   },
   "outputs": [
    {
     "data": {
      "text/plain": [
       "0.001999998000002"
      ]
     },
     "execution_count": 11,
     "metadata": {},
     "output_type": "execute_result"
    }
   ],
   "source": [
    "tau"
   ]
  },
  {
   "cell_type": "code",
   "execution_count": null,
   "metadata": {
    "id": "2abNe3jV5VIL"
   },
   "outputs": [],
   "source": [
    "iters = np.ones(len(a))\n",
    "num_iters = 4605170\n",
    "x = np.zeros(len(a))\n",
    "richardson_res = []"
   ]
  },
  {
   "cell_type": "code",
   "execution_count": null,
   "metadata": {
    "id": "lsLzzON75VIM"
   },
   "outputs": [],
   "source": [
    "for i in range(num_iters):\n",
    "    res = A.dot(x) - iters\n",
    "    x = x - tau * res\n",
    "    richardson_res.append(np.linalg.norm(res))"
   ]
  },
  {
   "cell_type": "code",
   "execution_count": null,
   "metadata": {
    "id": "CEsLQz4k5VIM"
   },
   "outputs": [],
   "source": [
    "import matplotlib.pyplot as plt\n",
    "%matplotlib inline"
   ]
  },
  {
   "cell_type": "code",
   "execution_count": null,
   "metadata": {
    "id": "3FbOVgLo5VIN",
    "outputId": "43442cbb-1bb5-4a70-dec0-a8f41abbcd7a"
   },
   "outputs": [
    {
     "data": {
      "image/png": "[encoded data removed]",
      "text/plain": [
       "<Figure size 600x400 with 1 Axes>"
      ]
     },
     "metadata": {
      "needs_background": "light"
     },
     "output_type": "display_data"
    }
   ],
   "source": [
    "plt.figure(dpi=100)\n",
    "plt.plot(richardson_res, color='red')\n",
    "plt.title('Richardson iteration')\n",
    "plt.xlabel('num iter')\n",
    "plt.ylabel('residual')\n",
    "plt.yscale('log')"
   ]
  },
  {
   "cell_type": "markdown",
   "metadata": {
    "id": "Ne2PqISB5VIO"
   },
   "source": [
    "Chebyshev iter"
   ]
  },
  {
   "cell_type": "code",
   "execution_count": null,
   "metadata": {
    "id": "9BxmyNiO5VIO"
   },
   "outputs": [],
   "source": []
  },
  {
   "cell_type": "code",
   "execution_count": null,
   "metadata": {
    "id": "2oVCG48d5VIP"
   },
   "outputs": [],
   "source": [
    "num_iters = 4096*2\n",
    "roots = [np.cos((np.pi * (2 * i + 1)) / (2 * num_iters)) for i in range(num_iters)]\n",
    "taus = [(a.max() + a.min() - (a.min() - a.max()) * r) / 2 for r in roots]\n",
    "x = np.zeros(A.shape[1])\n",
    "result = A.dot(x) - np.ones(A.shape[1])\n",
    "Chebyshev_list = [np.linalg.norm(result)]"
   ]
  },
  {
   "cell_type": "code",
   "execution_count": null,
   "metadata": {
    "id": "n15TZxiv5VIQ",
    "outputId": "78a0dea0-d481-4eb5-c137-714d035a7418"
   },
   "outputs": [
    {
     "data": {
      "text/plain": [
       "8192"
      ]
     },
     "execution_count": 62,
     "metadata": {},
     "output_type": "execute_result"
    }
   ],
   "source": [
    "num_iters"
   ]
  },
  {
   "cell_type": "code",
   "execution_count": null,
   "metadata": {
    "id": "n2xIsffW5VIR"
   },
   "outputs": [],
   "source": [
    "def leb_shuffle_2n(n):\n",
    "    if n == 1:\n",
    "        return np.array([0,], dtype=int)\n",
    "    else:\n",
    "        prev = leb_shuffle_2n(n // 2)\n",
    "        ans = np.zeros(n, dtype=int)\n",
    "        ans[::2] = prev\n",
    "        ans[1::2] = n - 1 - prev\n",
    "        return ans\n",
    "\n",
    "good_perm_even = leb_shuffle_2n(num_iters)\n",
    "    \n",
    "#x = x - 1.0/taus[good_perm_even[i] - 1] * r\n",
    "#    r = A.dot(x) - rhs\n",
    " #   res_cheb.append(np.linalg.norm(r))"
   ]
  },
  {
   "cell_type": "code",
   "execution_count": null,
   "metadata": {
    "id": "xclDu3rG5VIS",
    "outputId": "1e690592-0957-4ffb-8bc4-472c8b2b709a"
   },
   "outputs": [
    {
     "data": {
      "text/plain": [
       "array([   0, 8191, 4095, ..., 6826, 2730, 5461])"
      ]
     },
     "execution_count": 64,
     "metadata": {},
     "output_type": "execute_result"
    }
   ],
   "source": [
    "good_perm_even"
   ]
  },
  {
   "cell_type": "code",
   "execution_count": null,
   "metadata": {
    "id": "NlgyD5h75VIS"
   },
   "outputs": [],
   "source": [
    "for i in range(8192):\n",
    "    x = x - 1.0/taus[good_perm_even[i] - 1]  * result\n",
    "    result = A.dot(x) -  np.ones(A.shape[1])\n",
    "    Chebyshev_list.append(np.linalg.norm(result))"
   ]
  },
  {
   "cell_type": "code",
   "execution_count": null,
   "metadata": {
    "id": "pZhR135f5VIT",
    "outputId": "58275825-e126-4ff8-fc40-38f03a3d9690"
   },
   "outputs": [
    {
     "data": {
      "image/png": "[encoded data removed]",
      "text/plain": [
       "<Figure size 432x288 with 1 Axes>"
      ]
     },
     "metadata": {
      "needs_background": "light"
     },
     "output_type": "display_data"
    }
   ],
   "source": [
    "\n",
    "plt.semilogy(Chebyshev_list[:4606], label=\"Chebyshev\")\n",
    "plt.semilogy(richardson_res[:4606], label=\"Richardson\")\n",
    "plt.legend(fontsize=20)\n",
    "plt.xlabel(\"Number of iterations, $k$\", fontsize=20)\n",
    "plt.ylabel(\"Residual norm, $\\|Ax_k - b\\|_2$\", fontsize=20)\n",
    "plt.xticks(fontsize=20)\n",
    "_ = plt.yticks(fontsize=20)"
   ]
  },
  {
   "cell_type": "markdown",
   "metadata": {
    "id": "21BL31nk5VIU"
   },
   "source": [
    "Conjugate gradient"
   ]
  },
  {
   "cell_type": "code",
   "execution_count": null,
   "metadata": {
    "id": "4SqDfg235VIV"
   },
   "outputs": [],
   "source": [
    "x = scipy.sparse.linalg.cg(A, np.ones(len(a)), x0=np.zeros(len(a)), maxiter=10)"
   ]
  },
  {
   "cell_type": "code",
   "execution_count": null,
   "metadata": {
    "id": "fJXCiEuO5VIV"
   },
   "outputs": [],
   "source": [
    "res_cg = []\n",
    "for i in range (180):\n",
    "    \n",
    "    x = scipy.sparse.linalg.cg(A, np.ones(len(a)), x0=np.zeros(len(a)), maxiter=i)\n",
    "    result = A.dot(x[0]) - np.ones(A.shape[1])\n",
    "    res_cg.append(np.linalg.norm(result))"
   ]
  },
  {
   "cell_type": "code",
   "execution_count": null,
   "metadata": {
    "id": "kUjXn1Fu5VIW",
    "outputId": "3b147a0d-9029-4d00-9b1a-d0f153d199ba"
   },
   "outputs": [
    {
     "data": {
      "image/png": "[encoded data removed]",
      "text/plain": [
       "<Figure size 432x288 with 1 Axes>"
      ]
     },
     "metadata": {
      "needs_background": "light"
     },
     "output_type": "display_data"
    }
   ],
   "source": [
    "\n",
    "plt.semilogy(res_cg[1:], label=\"Conjugate gradient\")\n",
    "\n",
    "plt.legend(fontsize=20)\n",
    "plt.xlabel(\"Number of iterations, $k$\", fontsize=20)\n",
    "plt.ylabel(\"Residual norm, $\\|Ax_k - b\\|_2$\", fontsize=20)\n",
    "plt.xticks(fontsize=20)\n",
    "_ = plt.yticks(fontsize=20)"
   ]
  },
  {
   "cell_type": "markdown",
   "metadata": {
    "id": "dh0nKsm46hpo"
   },
   "source": [
    "## Problem 2 (65 pts)\n",
    "### On the performance of conjugate gradient method for BTTB matrices.\n",
    "\n",
    "You are given 2D image (QR-code) and convolution operator $T$. The application of $T$ results in smoothing of the image. In exact arithmetic, the proposed $T$ is non-singular. However, it becomes rather ill-conditioned with increasing $N$ in finite precision arithmetic. In this task you need to study how the conjugate gradient method performs in this case."
   ]
  },
  {
   "cell_type": "markdown",
   "metadata": {
    "id": "3gi5DJJz6hps"
   },
   "source": [
    "The original passcode is given below:"
   ]
  },
  {
   "cell_type": "code",
   "execution_count": 4,
   "metadata": {
    "colab": {
     "base_uri": "https://localhost:8080/",
     "height": 265
    },
    "id": "mxPusfbx6hps",
    "outputId": "c8e141e4-ae4f-405a-8091-b6b2a4a62c60"
   },
   "outputs": [
    {
     "data": {
      "text/plain": [
       "(-0.5, 329.5, 329.5, -0.5)"
      ]
     },
     "execution_count": 4,
     "metadata": {},
     "output_type": "execute_result"
    },
    {
     "data": {
      "image/png": "[encoded data removed]",
      "text/plain": [
       "<Figure size 432x288 with 1 Axes>"
      ]
     },
     "metadata": {
      "needs_background": "light"
     },
     "output_type": "display_data"
    }
   ],
   "source": [
    "import matplotlib.pyplot as plt\n",
    "x = plt.imread('qrcode.gif')[:,:,0]\n",
    "n = x.shape[0]\n",
    "plt.imshow(x, cmap=\"gray\")\n",
    "plt.axis(\"off\")"
   ]
  },
  {
   "cell_type": "markdown",
   "metadata": {
    "id": "uHzqVBAK6hpu"
   },
   "source": [
    "Blurring can be performed by convolving $n\\times n$ QR-code with the following filter:\n",
    "\n",
    "$$T_{i_1j_1,i_2j_2} = T_{i_1-j_1,i_2-j_2} = \\frac{\\alpha}{\\pi}e^{-\\alpha[(i_1-i_2)^2 + (j_1-j_2)^2]}, \\quad i_1,j_1,i_2,j_2 = 1 \\ldots n, \\quad 1 > \\alpha > 0.$$\n",
    "\n",
    "You know from lectures that this convolution can be viewed as a matrix-vector multiplication of some BTTB matrix $T$ of size $n^2 \\times n^2$."
   ]
  },
  {
   "cell_type": "markdown",
   "metadata": {
    "id": "nQSQVkG86hpu"
   },
   "source": [
    "## Task 1 (15 pts) \n",
    "\n",
    "- Write function `T_matvec()` that performs multiplication of $T$ by a given vector $x$ efficiently. Remember about FFT.\n",
    "- Use `scipy.sparse.linalg.LinearOperator` to create an object that has attribute `.dot()` (this object will be further used in the iterative process). Note that `.dot()` input and output must be 1D vectors, so do not forget to use reshape."
   ]
  },
  {
   "cell_type": "code",
   "execution_count": 7,
   "metadata": {
    "id": "fPDvSEWC5VIZ"
   },
   "outputs": [],
   "source": [
    "import scipy.linalg\n",
    "import numpy as np"
   ]
  },
  {
   "cell_type": "code",
   "execution_count": 15,
   "metadata": {
    "id": "06XrICto5VIZ"
   },
   "outputs": [],
   "source": [
    "circulant = np.fft.fft2(scipy.linalg.circulant([1,10,20]))"
   ]
  },
  {
   "cell_type": "code",
   "execution_count": 16,
   "metadata": {
    "colab": {
     "base_uri": "https://localhost:8080/"
    },
    "id": "8RuY2ZWb5VIa",
    "outputId": "1ec6818b-fb9f-4115-b576-329bcb16f8ad"
   },
   "outputs": [
    {
     "data": {
      "text/plain": [
       "array([[ 93. +0.j        ,   0. +0.j        ,   0. +0.j        ],\n",
       "       [  0. +0.j        ,   0. +0.j        , -42.+25.98076211j],\n",
       "       [  0. +0.j        , -42.-25.98076211j,   0. +0.j        ]])"
      ]
     },
     "execution_count": 16,
     "metadata": {},
     "output_type": "execute_result"
    }
   ],
   "source": [
    "circulant"
   ]
  },
  {
   "cell_type": "code",
   "execution_count": 17,
   "metadata": {
    "colab": {
     "base_uri": "https://localhost:8080/"
    },
    "id": "SRrcA_TV5VIa",
    "outputId": "e9da3433-7135-4541-ed10-1ed88cdfbea6"
   },
   "outputs": [
    {
     "data": {
      "text/plain": [
       "array([[255, 255, 255, ..., 255, 255, 255],\n",
       "       [255, 255, 255, ..., 255, 255, 255],\n",
       "       [255, 255, 255, ..., 255, 255, 255],\n",
       "       ...,\n",
       "       [255, 255, 255, ..., 255, 255, 255],\n",
       "       [255, 255, 255, ..., 255, 255, 255],\n",
       "       [255, 255, 255, ..., 255, 255, 255]], dtype=uint8)"
      ]
     },
     "execution_count": 17,
     "metadata": {},
     "output_type": "execute_result"
    }
   ],
   "source": [
    "x"
   ]
  },
  {
   "cell_type": "code",
   "execution_count": 96,
   "metadata": {
    "id": "SKiL6Iky6hpv"
   },
   "outputs": [],
   "source": [
    "def T_matvec(x, alpha):\n",
    "    #pass\n",
    "    x = x.reshape(int(np.sqrt(x.shape[0])),int(np.sqrt(x.shape[0])))\n",
    "    n = x.shape[0]\n",
    "    #x_cir = np.zeros((2*n-1,2*n-1))\\\n",
    "\n",
    "    T=np.exp(-alpha*(np.arange(n)**2))\n",
    "    T=np.array([*T,*T[1:][::-1]])\n",
    "    T=np.outer(T, T)\n",
    "    T = np.fft.ifft2(np.fft.fft2(T))\n",
    "    padded_m = np.fft.fft2(np.pad(x, (0,n-1)))\n",
    "    y = np.real(np.fft.ifft2( T * padded_m  ))\n",
    "                \n",
    "    return y[:n,:n].reshape(-1)\n",
    "    #return y.reshape(-1)\n",
    "\n",
    "# T = spla.LinearOperator((n**2, n**2), matvec = lambda x : T_matvec(x, alpha))\n",
    "# your code is here"
   ]
  },
  {
   "cell_type": "code",
   "execution_count": 97,
   "metadata": {
    "id": "cIUJr4bw5VIc"
   },
   "outputs": [],
   "source": [
    "from scipy.sparse import linalg\n",
    "alpha = 0.001\n",
    "LA = linalg.LinearOperator((n**2,n**2), matvec = lambda x : T_matvec(x, alpha))"
   ]
  },
  {
   "cell_type": "code",
   "execution_count": 98,
   "metadata": {
    "id": "hD5EYDV-7PMV"
   },
   "outputs": [],
   "source": [
    "img=T_matvec(x.reshape(-1), alpha).reshape(n,n)"
   ]
  },
  {
   "cell_type": "code",
   "execution_count": 99,
   "metadata": {
    "colab": {
     "base_uri": "https://localhost:8080/"
    },
    "id": "FKZHO1JE23-I",
    "outputId": "cb0d1201-d133-4b46-afe5-258b303863b5"
   },
   "outputs": [
    {
     "data": {
      "text/plain": [
       "array([[ 75.0554227 ,  86.55761804,  97.3017419 , ...,  97.3017419 ,\n",
       "         86.55761804,  75.0554227 ],\n",
       "       [ 86.55761804,  99.82251743, 112.21317137, ..., 112.21317137,\n",
       "         99.82251743,  86.55761804],\n",
       "       [ 97.3017419 , 112.21317137, 126.14183807, ..., 126.14183807,\n",
       "        112.21317137,  97.3017419 ],\n",
       "       ...,\n",
       "       [ 97.3017419 , 112.21317137, 126.14183807, ..., 126.14183807,\n",
       "        112.21317137,  97.3017419 ],\n",
       "       [ 86.55761804,  99.82251743, 112.21317137, ..., 112.21317137,\n",
       "         99.82251743,  86.55761804],\n",
       "       [ 75.0554227 ,  86.55761804,  97.3017419 , ...,  97.3017419 ,\n",
       "         86.55761804,  75.0554227 ]])"
      ]
     },
     "execution_count": 99,
     "metadata": {},
     "output_type": "execute_result"
    }
   ],
   "source": [
    "img"
   ]
  },
  {
   "cell_type": "code",
   "execution_count": 100,
   "metadata": {
    "colab": {
     "base_uri": "https://localhost:8080/",
     "height": 268
    },
    "id": "KznBBy_S26Ou",
    "outputId": "8421b82e-7c25-425f-eaf4-49cf218421cb"
   },
   "outputs": [
    {
     "data": {
      "image/png": "[encoded data removed]",
      "text/plain": [
       "<Figure size 432x288 with 1 Axes>"
      ]
     },
     "metadata": {
      "needs_background": "light"
     },
     "output_type": "display_data"
    }
   ],
   "source": [
    "plt.imshow(img, cmap='gray');"
   ]
  },
  {
   "cell_type": "markdown",
   "metadata": {
    "id": "Vpj3Llkc6hpv"
   },
   "source": [
    "**Remark.** The obtained matrix $T$ is positive definite (at least in the exact arithmetic), hence the conjugate gradient method can be applied to solve with $T$.\n",
    "\n",
    "**Bonus question: Prove the remark above.**"
   ]
  },
  {
   "cell_type": "markdown",
   "metadata": {
    "id": "fyoFYerG6hpw"
   },
   "source": [
    "## Task 2 (10 pts) \n",
    "- For $\\alpha \\in \\{ 0.1, 0.01,0.001\\}$ compute $y=Tx$ and deconvolve $x$ using `scipy.sparse.linalg.cg` with $tol \\in \\{10^{-3}, 10^{-4}, 10^{-5}, 10^{-6}, 10^{-7}\\}$. For each pair $\\alpha$, $tol$ write out `num_iters` and relative error $e = \\frac{\\|x - x^*\\|_2}{\\|x\\|_2}$ .\n",
    "- Comment on the results: \n",
    "\n",
    "    1) why the relative error does not converge to zero? \n",
    "    \n",
    "    2) why the relative error converges to different values for different $\\alpha$?"
   ]
  },
  {
   "cell_type": "code",
   "execution_count": 101,
   "metadata": {
    "id": "F_zm6N2s5VIe"
   },
   "outputs": [],
   "source": [
    "alpha_range = [.1, .01, .001]\n",
    "tolerance_range = [1e-3,1e-4,1e-5,1e-6,1e-7]\n",
    "def solve_sparse(A, b,tol):\n",
    "        num_iters = 0\n",
    "        def callback(xk):\n",
    "            nonlocal num_iters\n",
    "            num_iters+=1\n",
    "\n",
    "        x,status=scipy.sparse.linalg.cg(A, b,tol=tol, callback=callback,maxiter=10000)\n",
    "        return x,status,num_iters\n",
    "\n",
    "\n",
    "#linalg.cg(A, b,tol=tol, callback=callback, maxiter = maxiter)"
   ]
  },
  {
   "cell_type": "code",
   "execution_count": null,
   "metadata": {
    "id": "S6AnrtWZ8WET"
   },
   "outputs": [],
   "source": [
    "status"
   ]
  },
  {
   "cell_type": "code",
   "execution_count": 54,
   "metadata": {
    "colab": {
     "base_uri": "https://localhost:8080/"
    },
    "id": "V3bZf6285VIe",
    "outputId": "4bd42e5e-88e0-45a2-8821-b87edba1f6b6"
   },
   "outputs": [
    {
     "name": "stdout",
     "output_type": "stream",
     "text": [
      "Error of the parameters 0.1;0.001 is 0.4599548386414839 and took 9 iterations\n",
      "Error of the parameters 0.1;0.0001 is 0.45617350683279934 and took 19 iterations\n",
      "Error of the parameters 0.1;1e-05 is 0.4526195880496745 and took 42 iterations\n",
      "Error of the parameters 0.1;1e-06 is 0.449103056837371 and took 103 iterations\n",
      "Error of the parameters 0.1;1e-07 is 0.4457835584323039 and took 247 iterations\n",
      "Error of the parameters 0.01;0.001 is 0.37806471730571717 and took 19 iterations\n",
      "Error of the parameters 0.01;0.0001 is 0.3452031586663016 and took 74 iterations\n",
      "Error of the parameters 0.01;1e-05 is 0.29587221339180353 and took 265 iterations\n",
      "Error of the parameters 0.01;1e-06 is 0.27353122182996636 and took 818 iterations\n",
      "Error of the parameters 0.01;1e-07 is 0.2571582322850971 and took 2564 iterations\n",
      "Error of the parameters 0.001;0.001 is 0.19575366217225995 and took 12 iterations\n",
      "Error of the parameters 0.001;0.0001 is 0.17734798968827192 and took 56 iterations\n",
      "Error of the parameters 0.001;1e-05 is 0.15175144243111882 and took 237 iterations\n",
      "Error of the parameters 0.001;1e-06 is 0.14016157865791617 and took 871 iterations\n",
      "Error of the parameters 0.001;1e-07 is 0.13676440967320994 and took 2659 iterations\n"
     ]
    }
   ],
   "source": [
    "norm_list = []\n",
    "status_list = []\n",
    "iter_list = []\n",
    "num_iters = 0\n",
    "for a in alpha_range:\n",
    "    y = T_matvec(x.reshape(-1),a)\n",
    "    LA = linalg.LinearOperator((n**2,n**2), matvec = lambda x : T_matvec(x, a))\n",
    "    for t in tolerance_range:\n",
    "        x1,_,status = solve_sparse(LA, y,t)\n",
    "        norm = np.linalg.norm(x1-x.reshape(-1))/np.linalg.norm(x.reshape(-1))\n",
    "        norm_list.append(norm)\n",
    "        status_list.append(status)\n",
    "        iter_list.append(num_iters)\n",
    "        print(f'Error of the parameters {a},{t} is {norm} and took {status} iterations')"
   ]
  },
  {
   "cell_type": "code",
   "execution_count": 57,
   "metadata": {
    "colab": {
     "base_uri": "https://localhost:8080/"
    },
    "id": "1rQwDAqt5VIf",
    "outputId": "7db16863-036e-4600-f22c-2394f6e85ce5"
   },
   "outputs": [
    {
     "data": {
      "text/plain": [
       "[9, 19, 42, 103, 247, 19, 74, 265, 818, 2564, 12, 56, 237, 871, 2659]"
      ]
     },
     "execution_count": 57,
     "metadata": {},
     "output_type": "execute_result"
    }
   ],
   "source": [
    "status_list"
   ]
  },
  {
   "cell_type": "code",
   "execution_count": 58,
   "metadata": {
    "colab": {
     "base_uri": "https://localhost:8080/"
    },
    "id": "0jOwBx3q5VIf",
    "outputId": "660f92b7-e003-4b6a-b09b-be56af3644a2"
   },
   "outputs": [
    {
     "data": {
      "text/plain": [
       "[0.4599548386414839,\n",
       " 0.45617350683279934,\n",
       " 0.4526195880496745,\n",
       " 0.449103056837371,\n",
       " 0.4457835584323039,\n",
       " 0.37806471730571717,\n",
       " 0.3452031586663016,\n",
       " 0.29587221339180353,\n",
       " 0.27353122182996636,\n",
       " 0.2571582322850971,\n",
       " 0.19575366217225995,\n",
       " 0.17734798968827192,\n",
       " 0.15175144243111882,\n",
       " 0.14016157865791617,\n",
       " 0.13676440967320994]"
      ]
     },
     "execution_count": 58,
     "metadata": {},
     "output_type": "execute_result"
    }
   ],
   "source": [
    "norm_list"
   ]
  },
  {
   "cell_type": "code",
   "execution_count": null,
   "metadata": {
    "id": "1ZziAoPv6hpw"
   },
   "outputs": [],
   "source": [
    "# your code is here"
   ]
  },
  {
   "cell_type": "markdown",
   "metadata": {
    "id": "lJ4XOLfw6hpx"
   },
   "source": [
    "In all further tasks fix $\\alpha = 0.01$. Compute $y = Tx$, and add vector with Gaussian noise from $\\mathcal{N}(0, 1)$ to $y$ and get the final right-hand side $\\hat{y}$.\n",
    "\n",
    "## Task 3 (10 pts)\n",
    "- Try to deconvolve $\\hat{y}$ with matrix $T$ using $tol=10^{-5}$ in CG. Explain, why CG does not converge.\n",
    "- Suggest how CG can still be used to recover $x$. What are drawbacks of the suggested approach?"
   ]
  },
  {
   "cell_type": "code",
   "execution_count": 60,
   "metadata": {
    "id": "jCbUrmC-5VIi"
   },
   "outputs": [],
   "source": [
    "def solve_sparse(A, b,tol,iterations):\n",
    "        num_iters = 0\n",
    "        def callback(xk):\n",
    "            nonlocal num_iters\n",
    "            num_iters+=1\n",
    "\n",
    "        x,status=scipy.sparse.linalg.cg(A, b,tol=tol, callback=callback,maxiter=iterations)\n",
    "        return x,status,num_iters\n"
   ]
  },
  {
   "cell_type": "code",
   "execution_count": 61,
   "metadata": {
    "id": "UbfCgeft5VIi"
   },
   "outputs": [],
   "source": [
    "from scipy.sparse import linalg\n",
    "alpha = .01\n",
    "LA = linalg.LinearOperator((n**2,n**2), matvec = lambda x : T_matvec(x, alpha))\n",
    "y = T_matvec(x.reshape(-1),alpha)\n",
    "yhat = y+np.random.standard_normal(y.shape)\n"
   ]
  },
  {
   "cell_type": "code",
   "execution_count": 62,
   "metadata": {
    "colab": {
     "base_uri": "https://localhost:8080/"
    },
    "id": "oma6GkC0OmpD",
    "outputId": "232cd4b2-3c4b-44ea-e42d-59b5b0d2e2f8"
   },
   "outputs": [
    {
     "data": {
      "text/plain": [
       "(array([251.8659327 , 253.87916262, 255.23679408, ..., 255.5527627 ,\n",
       "        256.50445828, 257.14641503]), 0, 265)"
      ]
     },
     "execution_count": 62,
     "metadata": {},
     "output_type": "execute_result"
    }
   ],
   "source": [
    "x2,_,status1 = solve_sparse(LA, y, 10**-5, 1000)\n",
    "x2,_,status1"
   ]
  },
  {
   "cell_type": "code",
   "execution_count": 63,
   "metadata": {
    "colab": {
     "base_uri": "https://localhost:8080/"
    },
    "id": "XJUw89CdOnZ0",
    "outputId": "01b4c80f-3e03-4dda-81a8-a56c11d4d8da"
   },
   "outputs": [
    {
     "data": {
      "text/plain": [
       "1000"
      ]
     },
     "execution_count": 63,
     "metadata": {},
     "output_type": "execute_result"
    }
   ],
   "source": [
    "x3,_,status3 = solve_sparse(LA, yhat, 10**-5, 1000)\n",
    "status3"
   ]
  },
  {
   "cell_type": "markdown",
   "metadata": {
    "id": "TSVTvA9ROtF8"
   },
   "source": [
    "The main idea why conjigate gradient method doesn't converge in case of yhat because we have ill-conditioned key. We changed input values and our system became ill-conditioned. That's obvious"
   ]
  },
  {
   "cell_type": "markdown",
   "metadata": {
    "id": "uyyh8eKxQOO4"
   },
   "source": [
    "An efficient way to decrease comdition number is to use regularization to make our system more robust."
   ]
  },
  {
   "cell_type": "code",
   "execution_count": 3,
   "metadata": {
    "id": "O6_cLa9OQMlr"
   },
   "outputs": [
    {
     "data": {
      "text/plain": [
       "array([[1., 0., 0., 0.],\n",
       "       [0., 1., 0., 0.],\n",
       "       [0., 0., 1., 0.],\n",
       "       [0., 0., 0., 1.]])"
      ]
     },
     "execution_count": 3,
     "metadata": {},
     "output_type": "execute_result"
    }
   ],
   "source": [
    "import numpy as np\n",
    "np.eye(4)"
   ]
  },
  {
   "cell_type": "code",
   "execution_count": null,
   "metadata": {
    "id": "JzT0Wfzl6hpx"
   },
   "outputs": [],
   "source": [
    "# your code is here"
   ]
  },
  {
   "cell_type": "markdown",
   "metadata": {
    "id": "ez3m0Y-n6hpy"
   },
   "source": [
    "## Task 4 (10 pts)\n",
    "\n",
    "- Implement Tikhonov regularization, i.e. deconvolve $\\hat{y}$ with the perturbed matrix $T_{\\lambda} = T + \\lambda^2I$ instead of $T$. Modify `T_matvec()` according to the template below.\n",
    "- Perform computations for all $\\lambda \\in \\{10, 1, 0.1\\}$ and $tol \\in \\{10^{-3}, 10^{-4}, 10^{-5},10^{-6}, 10^{-7} \\}$. For each pair $(\\lambda, tol)$ write out `num_iters` and relative error $e = \\frac{\\|x - x^*\\|_2}{\\|x\\|_2}$. Comment on the results: \n",
    "    - Compare robustness of the convergence with task 2. What the observed results indicate?"
   ]
  },
  {
   "cell_type": "code",
   "execution_count": 4,
   "metadata": {
    "id": "IIs9QI7R6hpy"
   },
   "outputs": [],
   "source": [
    "def T_matvec_reg(x, alpha,lmbda):\n",
    "    #pass\n",
    "    x = x.reshape(int(np.sqrt(x.shape[0])),int(np.sqrt(x.shape[0])))\n",
    "    n = x.shape[0]\n",
    "    \n",
    "    T=np.exp(-alpha*(np.arange(n)**2))\n",
    "    T=np.array([*T,*T[1:][::-1]])\n",
    "    T=np.outer(T, T)\n",
    "    T += lmbda**2 *  np.eye(2*n -1)\n",
    "    \n",
    "    y = np.real(np.fft.ifft2(np.multiply( np.fft.fft2(T) * np.fft.fft2(np.pad(x, (0,n-1))))))\n",
    "                \n",
    "    return y[:n,:n].reshape(-1)\n"
   ]
  },
  {
   "cell_type": "code",
   "execution_count": 68,
   "metadata": {
    "id": "LlwFLKLqQ-Lk"
   },
   "outputs": [],
   "source": [
    "lambda_range = [10,1,0.1]\n",
    "tolerance_range = [1e-3,1e-4,1e-5,1e-6,1e-7]"
   ]
  },
  {
   "cell_type": "code",
   "execution_count": 74,
   "metadata": {
    "colab": {
     "base_uri": "https://localhost:8080/"
    },
    "id": "Hb6S9zohQesN",
    "outputId": "9ff3c1eb-e4a4-415d-ff84-4cf9928c3e02"
   },
   "outputs": [
    {
     "name": "stdout",
     "output_type": "stream",
     "text": [
      "Error of the parameters 10,0.001 is 0.0016511361197667272 and took 6 iterations\n",
      "Error of the parameters 10,0.0001 is 0.00017405492083654011 and took 8 iterations\n",
      "Error of the parameters 10,1e-05 is 1.952393283379317e-05 and took 10 iterations\n",
      "Error of the parameters 10,1e-06 is 7.879236867459353e-07 and took 13 iterations\n",
      "Error of the parameters 10,1e-07 is 8.569568823032777e-08 and took 15 iterations\n",
      "Error of the parameters 1,0.001 is 0.04071423129617523 and took 26 iterations\n",
      "Error of the parameters 1,0.0001 is 0.003794906425984894 and took 44 iterations\n",
      "Error of the parameters 1,1e-05 is 0.0003946301509833299 and took 63 iterations\n",
      "Error of the parameters 1,1e-06 is 4.128804722707793e-05 and took 82 iterations\n",
      "Error of the parameters 1,1e-07 is 4.330250842911788e-06 and took 101 iterations\n",
      "Error of the parameters 0.1,0.001 is 0.21985832810230313 and took 18 iterations\n",
      "Error of the parameters 0.1,0.0001 is 0.1969207478695381 and took 57 iterations\n",
      "Error of the parameters 0.1,1e-05 is 0.010076697648263118 and took 264 iterations\n",
      "Error of the parameters 0.1,1e-06 is 0.0014462484135170743 and took 416 iterations\n",
      "Error of the parameters 0.1,1e-07 is 0.00015293075923871767 and took 599 iterations\n"
     ]
    }
   ],
   "source": [
    "norm_list = []\n",
    "status_list = []\n",
    "iter_list = []\n",
    "num_iters = 0\n",
    "\n",
    "for lam in lambda_range:\n",
    "  y = T_matvec(x.reshape(-1),alpha,lam)\n",
    "  LA = linalg.LinearOperator((n**2,n**2), matvec = lambda x : T_matvec_reg(x,alpha,lam )) \n",
    "  for t in tolerance_range:\n",
    "        x1,_,status = solve_sparse(LA, y,t,10000)\n",
    "        norm = np.linalg.norm(x1-x.reshape(-1))/np.linalg.norm(x1.reshape(-1))\n",
    "        norm_list.append(norm)\n",
    "        status_list.append(status)\n",
    "        iter_list.append(num_iters)\n",
    "        print(f'Error of the parameters {lam},{t} is {norm} and took {status} iterations')"
   ]
  },
  {
   "cell_type": "markdown",
   "metadata": {
    "id": "ut0QG1AW6hpy"
   },
   "source": [
    "## Task 5 (20 pts)\n",
    "\n",
    "- Implement BCCB preconditioner for $T_{\\lambda}$ based on Strang preconditioner for Toeplitz matrix (hint: build circulants using first columns of Toeplitz matrices on both levels). You know from lectures that circulants can be explicitly inverted using convolution theorem. Implement the corresponding matvec according to the template provided below.\n",
    "- Check speedup in iterations and runtime that can be gained from the preconditioning for $\\alpha = 0.01$, $\\lambda = 1$ compared with Task 4. Explain results."
   ]
  },
  {
   "cell_type": "code",
   "execution_count": 77,
   "metadata": {
    "id": "sdNXCVrBZ9f7"
   },
   "outputs": [],
   "source": [
    "n = 100\n",
    "c = np.zeros(n)\n",
    "c[0] = -2\n",
    "c[1] = 1\n",
    "Tm = scipy.linalg.toeplitz(c, c)\n",
    "\n",
    "\n",
    "c1 = scipy.linalg.circulant(c) #Strang preconditioner\n",
    "\n",
    "mat = np.linalg.inv(c1).dot(Tm)"
   ]
  },
  {
   "cell_type": "code",
   "execution_count": null,
   "metadata": {
    "id": "cov9YppLqkmC"
   },
   "outputs": [],
   "source": [
    "def T_matvec_reg(x, alpha,lmbda):\n",
    "    #pass\n",
    "    x = x.reshape(int(np.sqrt(x.shape[0])),int(np.sqrt(x.shape[0])))\n",
    "    n = x.shape[0]\n",
    "    \n",
    "    T=np.exp(-alpha*(np.arange(n)**2))\n",
    "    T=np.array([*T,*T[1:][::-1]])\n",
    "    T=np.outer(T, T)\n",
    "\n",
    "\n",
    "    c = np.zeros(n)\n",
    "    c[0] = -2\n",
    "    c[1] = 1\n",
    "    Tm = scipy.linalg.toeplitz(c, c)\n",
    "    \n",
    "    padded_m = np.fft.fft2(np.pad(x, (0,n-1)))\n",
    "    y = np.real(np.fft.ifft2( np.fft.fft2(T) * padded_m  ))\n",
    "                \n",
    "    return y[:n,:n].reshape(-1)"
   ]
  },
  {
   "cell_type": "code",
   "execution_count": 73,
   "metadata": {
    "id": "DiJcm6XQ6hpz"
   },
   "outputs": [],
   "source": [
    "def C_inv_matvec(x, alpha, lmbda):\n",
    "    pass\n",
    "\n",
    "# your code is here"
   ]
  }
 ],
 "metadata": {
  "colab": {
   "name": "Pavlov_Maksimilian_PS3.ipynb",
   "provenance": []
  },
  "kernelspec": {
   "display_name": "Python 3 (ipykernel)",
   "language": "python",
   "name": "python3"
  },
  "language_info": {
   "codemirror_mode": {
    "name": "ipython",
    "version": 3
   },
   "file_extension": ".py",
   "mimetype": "text/x-python",
   "name": "python",
   "nbconvert_exporter": "python",
   "pygments_lexer": "ipython3",
   "version": "3.8.12"
  },
  "toc": {
   "base_numbering": 1,
   "nav_menu": {},
   "number_sections": true,
   "sideBar": true,
   "skip_h1_title": false,
   "title_cell": "Table of Contents",
   "title_sidebar": "Contents",
   "toc_cell": false,
   "toc_position": {},
   "toc_section_display": true,
   "toc_window_display": false
  }
 },
 "nbformat": 4,
 "nbformat_minor": 4
}
