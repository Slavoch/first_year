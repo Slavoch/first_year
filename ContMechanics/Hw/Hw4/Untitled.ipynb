{
 "cells": [
  {
   "cell_type": "code",
   "execution_count": 32,
   "id": "75400498-8bb0-4717-9651-9be152145fd2",
   "metadata": {},
   "outputs": [
    {
     "data": {
      "text/latex": [
       "$\\displaystyle \\left[\\begin{matrix}0.043\\\\0.0652\\\\0.6388\\\\0.025\\\\0\\\\0\\end{matrix}\\right]$"
      ],
      "text/plain": [
       "Matrix([\n",
       "[ 0.043],\n",
       "[0.0652],\n",
       "[0.6388],\n",
       "[ 0.025],\n",
       "[     0],\n",
       "[     0]])"
      ]
     },
     "execution_count": 32,
     "metadata": {},
     "output_type": "execute_result"
    }
   ],
   "source": [
    "import sympy as sp\n",
    "x1,x2,x3, rho,mu,k =sp.symbols('x_1 x_2 x_3 rho mu k')\n",
    "p = sp.Function('p')\n",
    "M = sp.Matrix([[3.56,1.34,1.48,0,0,0],[1.34,3.56,1.48,0,0,0],[1.48,1.48,31.2,0,0,0],[0,0,0,5,0,0],[0,0,0,0,5,0],[0,0,0,0,0,1.1]])\n",
    "S =sp.Matrix([[0,0.01,0.02,0.005,0,0]]).T\n",
    "M@S"
   ]
  },
  {
   "cell_type": "code",
   "execution_count": 3,
   "id": "02c208d5-01ed-4698-a6dd-9900c1148b49",
   "metadata": {},
   "outputs": [],
   "source": [
    "v1 = 0\n",
    "v2 = k * (x2 **2 -x3**2)\n",
    "v3 = -2*k*x2*x3"
   ]
  },
  {
   "cell_type": "code",
   "execution_count": 14,
   "id": "51cfad39-3a64-4849-a2f5-affe0bf14a9b",
   "metadata": {},
   "outputs": [],
   "source": [
    "eq2 = rho *( v2 * sp.diff(v2,x2) + v3 * sp.diff(v2,x3)) +sp.diff(p(x2),x2) - mu*sp.diff(v2,x2,x2)- mu*sp.diff(v2,x3,x3)"
   ]
  },
  {
   "cell_type": "code",
   "execution_count": 16,
   "id": "ea51aeea-7003-444b-88b0-86b94011d309",
   "metadata": {},
   "outputs": [
    {
     "data": {
      "text/latex": [
       "$\\displaystyle \\rho \\left(4 k^{2} x_{2} x_{3}^{2} + 2 k^{2} x_{2} \\left(x_{2}^{2} - x_{3}^{2}\\right)\\right) + \\frac{d}{d x_{2}} p{\\left(x_{2} \\right)}$"
      ],
      "text/plain": [
       "rho*(4*k**2*x_2*x_3**2 + 2*k**2*x_2*(x_2**2 - x_3**2)) + Derivative(p(x_2), x_2)"
      ]
     },
     "execution_count": 16,
     "metadata": {},
     "output_type": "execute_result"
    }
   ],
   "source": [
    "eq2"
   ]
  },
  {
   "cell_type": "code",
   "execution_count": 24,
   "id": "875f0ee4-74a3-42d1-94ab-17504a5fecc0",
   "metadata": {},
   "outputs": [
    {
     "data": {
      "text/latex": [
       "$\\displaystyle p{\\left(x_{2} \\right)} = C_{1} - \\frac{k^{2} \\rho x_{2}^{4}}{2} - k^{2} \\rho x_{2}^{2} x_{3}^{2}$"
      ],
      "text/plain": [
       "Eq(p(x_2), C1 - k**2*rho*x_2**4/2 - k**2*rho*x_2**2*x_3**2)"
      ]
     },
     "execution_count": 24,
     "metadata": {},
     "output_type": "execute_result"
    }
   ],
   "source": [
    "sp.dsolve(eq2,p(x2))"
   ]
  },
  {
   "cell_type": "code",
   "execution_count": 25,
   "id": "47520b76-9587-4f3c-8715-b212cdd3f1f5",
   "metadata": {},
   "outputs": [],
   "source": [
    "eq3 = rho *( v2 * sp.diff(v3,x2) + v3 * sp.diff(v3,x3)) +sp.diff(p(x3),x3) - mu*sp.diff(v3,x2,x2)- mu*sp.diff(v3,x3,x3)"
   ]
  },
  {
   "cell_type": "code",
   "execution_count": 26,
   "id": "558498d6-7f54-446a-ab3c-e63ed772e6df",
   "metadata": {},
   "outputs": [
    {
     "data": {
      "text/latex": [
       "$\\displaystyle \\rho \\left(4 k^{2} x_{2}^{2} x_{3} - 2 k^{2} x_{3} \\left(x_{2}^{2} - x_{3}^{2}\\right)\\right) + \\frac{d}{d x_{3}} p{\\left(x_{3} \\right)}$"
      ],
      "text/plain": [
       "rho*(4*k**2*x_2**2*x_3 - 2*k**2*x_3*(x_2**2 - x_3**2)) + Derivative(p(x_3), x_3)"
      ]
     },
     "execution_count": 26,
     "metadata": {},
     "output_type": "execute_result"
    }
   ],
   "source": [
    "eq3"
   ]
  },
  {
   "cell_type": "code",
   "execution_count": 27,
   "id": "c3173902-3263-4359-9845-eb68797257d0",
   "metadata": {},
   "outputs": [
    {
     "data": {
      "text/latex": [
       "$\\displaystyle p{\\left(x_{3} \\right)} = C_{1} - k^{2} \\rho x_{2}^{2} x_{3}^{2} - \\frac{k^{2} \\rho x_{3}^{4}}{2}$"
      ],
      "text/plain": [
       "Eq(p(x_3), C1 - k**2*rho*x_2**2*x_3**2 - k**2*rho*x_3**4/2)"
      ]
     },
     "execution_count": 27,
     "metadata": {},
     "output_type": "execute_result"
    }
   ],
   "source": [
    "sp.dsolve(eq3,p(x3))"
   ]
  },
  {
   "cell_type": "code",
   "execution_count": 28,
   "id": "bf879fe9-1fb7-40b7-8147-ca119dd966da",
   "metadata": {},
   "outputs": [
    {
     "data": {
      "text/latex": [
       "$\\displaystyle 0$"
      ],
      "text/plain": [
       "0"
      ]
     },
     "execution_count": 28,
     "metadata": {},
     "output_type": "execute_result"
    }
   ],
   "source": [
    "sp.diff(v1,x1)+sp.diff(v2,x2)+sp.diff(v3,x3)"
   ]
  },
  {
   "cell_type": "code",
   "execution_count": null,
   "id": "62f9bfff-5479-48f5-b51f-bb1d75efc599",
   "metadata": {},
   "outputs": [],
   "source": []
  }
 ],
 "metadata": {
  "kernelspec": {
   "display_name": "Python 3 (ipykernel)",
   "language": "python",
   "name": "python3"
  },
  "language_info": {
   "codemirror_mode": {
    "name": "ipython",
    "version": 3
   },
   "file_extension": ".py",
   "mimetype": "text/x-python",
   "name": "python",
   "nbconvert_exporter": "python",
   "pygments_lexer": "ipython3",
   "version": "3.8.12"
  }
 },
 "nbformat": 4,
 "nbformat_minor": 5
}
