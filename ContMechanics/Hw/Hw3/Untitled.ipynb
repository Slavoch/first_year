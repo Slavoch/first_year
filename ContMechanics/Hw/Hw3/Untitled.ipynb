{
 "cells": [
  {
   "cell_type": "code",
   "execution_count": 1,
   "id": "abb8670b-bb0a-430b-b595-3c9824f792f3",
   "metadata": {},
   "outputs": [],
   "source": [
    "import sympy as sp"
   ]
  },
  {
   "cell_type": "code",
   "execution_count": 2,
   "id": "d35b15ee-e756-4aac-ab10-1568ef6fd411",
   "metadata": {},
   "outputs": [],
   "source": [
    "M = sp.Matrix([[150,45,180],[45,0,-120],[180,-120,-60]])"
   ]
  },
  {
   "cell_type": "code",
   "execution_count": 3,
   "id": "74126840-88ad-4a98-b058-08f67cd670f2",
   "metadata": {},
   "outputs": [
    {
     "data": {
      "text/latex": [
       "$\\displaystyle \\left[\\begin{matrix}150 & 45 & 180\\\\45 & 0 & -120\\\\180 & -120 & -60\\end{matrix}\\right]$"
      ],
      "text/plain": [
       "Matrix([\n",
       "[150,   45,  180],\n",
       "[ 45,    0, -120],\n",
       "[180, -120,  -60]])"
      ]
     },
     "execution_count": 3,
     "metadata": {},
     "output_type": "execute_result"
    }
   ],
   "source": [
    "M"
   ]
  },
  {
   "cell_type": "code",
   "execution_count": 4,
   "id": "29eb47a9-c9bc-4c7c-89e4-d1339f767c73",
   "metadata": {},
   "outputs": [],
   "source": [
    "n = sp.Matrix([[2,2,1]]) / 3"
   ]
  },
  {
   "cell_type": "code",
   "execution_count": 5,
   "id": "64f156fd-4d4d-4a2d-895b-08c9db62ae43",
   "metadata": {},
   "outputs": [
    {
     "data": {
      "text/latex": [
       "$\\displaystyle \\left[\\begin{matrix}\\frac{380}{3}\\end{matrix}\\right]$"
      ],
      "text/plain": [
       "Matrix([[380/3]])"
      ]
     },
     "execution_count": 5,
     "metadata": {},
     "output_type": "execute_result"
    }
   ],
   "source": [
    "n @ M @ n.T "
   ]
  },
  {
   "cell_type": "code",
   "execution_count": 6,
   "id": "924468d6-d026-486e-b06c-9c9987ba8b92",
   "metadata": {},
   "outputs": [],
   "source": [
    "pn = n @ M"
   ]
  },
  {
   "cell_type": "code",
   "execution_count": 7,
   "id": "bb3c7b96-0765-4fcc-826b-7f2d48bdf7fd",
   "metadata": {},
   "outputs": [
    {
     "data": {
      "text/latex": [
       "$\\displaystyle \\left[\\begin{matrix}\\frac{109420 \\sqrt{327129}}{327129}\\end{matrix}\\right]$"
      ],
      "text/plain": [
       "Matrix([[109420*sqrt(327129)/327129]])"
      ]
     },
     "execution_count": 7,
     "metadata": {},
     "output_type": "execute_result"
    }
   ],
   "source": [
    "sp.simplify((pn @ pn.T - pn@ n.T)/(pn - n).norm())"
   ]
  },
  {
   "cell_type": "code",
   "execution_count": 8,
   "id": "35b4d1eb-613a-46e9-b43c-ee521851b449",
   "metadata": {},
   "outputs": [
    {
     "data": {
      "text/latex": [
       "$\\displaystyle \\left(\\left[\\begin{matrix}\\frac{185000}{9}\\end{matrix}\\right]\\right)^{\\frac{1}{2}}$"
      ],
      "text/plain": [
       "Matrix([[185000/9]])**(1/2)"
      ]
     },
     "execution_count": 8,
     "metadata": {},
     "output_type": "execute_result"
    }
   ],
   "source": [
    "sp.simplify(sp.sqrt(pn @ pn.T - (n @ M @ n.T )**2))"
   ]
  },
  {
   "cell_type": "code",
   "execution_count": 9,
   "id": "0ade67b9-0e7b-4c83-882a-e38430f57f2d",
   "metadata": {},
   "outputs": [],
   "source": [
    "sn = n @ M\n",
    "snn = n @ M @ n.T"
   ]
  },
  {
   "cell_type": "code",
   "execution_count": 10,
   "id": "253ef2e6-d607-4f25-9188-9381a6fb48f7",
   "metadata": {},
   "outputs": [
    {
     "data": {
      "text/latex": [
       "$\\displaystyle \\left[\\begin{matrix}\\frac{109420 \\sqrt{327129}}{327129}\\end{matrix}\\right]$"
      ],
      "text/plain": [
       "Matrix([[109420*sqrt(327129)/327129]])"
      ]
     },
     "execution_count": 10,
     "metadata": {},
     "output_type": "execute_result"
    }
   ],
   "source": [
    "sp.simplify((sn @ sn.T - sn @ n.T) / (sn -n).norm())"
   ]
  },
  {
   "cell_type": "code",
   "execution_count": 11,
   "id": "8e546bd9-0cc3-42d5-ab02-bdbc3797581c",
   "metadata": {},
   "outputs": [
    {
     "data": {
      "text/latex": [
       "$\\displaystyle \\left(\\left[\\begin{matrix}\\frac{185000}{9}\\end{matrix}\\right]\\right)^{\\frac{1}{2}}$"
      ],
      "text/plain": [
       "Matrix([[185000/9]])**(1/2)"
      ]
     },
     "execution_count": 11,
     "metadata": {},
     "output_type": "execute_result"
    }
   ],
   "source": [
    "sp.sqrt(sn @ sn.T - (sn @ n.T)**2)"
   ]
  },
  {
   "cell_type": "code",
   "execution_count": 12,
   "id": "9c789edb-5dbf-4651-92d7-05791cee0e39",
   "metadata": {},
   "outputs": [
    {
     "data": {
      "text/latex": [
       "$\\displaystyle \\frac{50 \\sqrt{74}}{3}$"
      ],
      "text/plain": [
       "50*sqrt(74)/3"
      ]
     },
     "execution_count": 12,
     "metadata": {},
     "output_type": "execute_result"
    }
   ],
   "source": [
    "(sn - snn @ n).norm()"
   ]
  },
  {
   "cell_type": "code",
   "execution_count": 13,
   "id": "beeeb5c8-a236-4c32-b209-f6eeebeadc2d",
   "metadata": {},
   "outputs": [],
   "source": [
    "snt = (sn - snn @ n)\n",
    "snt = sp.sqrt(snt @ snt.T)"
   ]
  },
  {
   "cell_type": "code",
   "execution_count": 14,
   "id": "a7a70319-1172-4d9a-9bfa-8402e89e5f41",
   "metadata": {},
   "outputs": [
    {
     "data": {
      "text/plain": [
       "True"
      ]
     },
     "execution_count": 14,
     "metadata": {},
     "output_type": "execute_result"
    }
   ],
   "source": [
    "sn @ sn.T == snt**2 + snn**2"
   ]
  },
  {
   "cell_type": "code",
   "execution_count": 15,
   "id": "b741226e-dc82-4dd1-9e88-6eebfb9321fa",
   "metadata": {},
   "outputs": [
    {
     "data": {
      "text/latex": [
       "$\\displaystyle \\left[\\begin{matrix}\\frac{185000}{9}\\end{matrix}\\right]$"
      ],
      "text/plain": [
       "Matrix([[185000/9]])"
      ]
     },
     "execution_count": 15,
     "metadata": {},
     "output_type": "execute_result"
    }
   ],
   "source": [
    "snt**2 "
   ]
  },
  {
   "cell_type": "code",
   "execution_count": 16,
   "id": "092d231e-1bb9-49c9-ae65-bb2cf9c36afd",
   "metadata": {},
   "outputs": [
    {
     "data": {
      "text/latex": [
       "$\\displaystyle 48.5399804251074$"
      ],
      "text/plain": [
       "48.5399804251074"
      ]
     },
     "execution_count": 16,
     "metadata": {},
     "output_type": "execute_result"
    }
   ],
   "source": [
    "sp.N(sp.acos((snn /sn.norm()).evalf()[0]).evalf() * 180/ sp.pi)"
   ]
  },
  {
   "cell_type": "code",
   "execution_count": 17,
   "id": "f3100e64-ee56-446c-86d6-82202a27b97b",
   "metadata": {},
   "outputs": [
    {
     "data": {
      "text/latex": [
       "$\\displaystyle 0.84718247727172$"
      ],
      "text/plain": [
       "0.847182477271720"
      ]
     },
     "execution_count": 17,
     "metadata": {},
     "output_type": "execute_result"
    }
   ],
   "source": [
    "sp.acos((snn /sn.norm()).evalf()[0]).evalf()"
   ]
  },
  {
   "cell_type": "code",
   "execution_count": 19,
   "id": "85bbeea4-509e-4e8b-933f-f81b2af76dc9",
   "metadata": {},
   "outputs": [],
   "source": [
    "s11,s22 = sp.symbols('sigma_11 sigma_22')\n"
   ]
  },
  {
   "cell_type": "code",
   "execution_count": 20,
   "id": "ea1bb8fe-8853-4693-a64e-4599f0e1c0fe",
   "metadata": {},
   "outputs": [],
   "source": [
    "S = sp.Matrix([[s11,0,0],[0,s22,3],[0,3,2]])"
   ]
  },
  {
   "cell_type": "code",
   "execution_count": 23,
   "id": "8df1a587-f3d0-48db-b18b-5be04bd46175",
   "metadata": {},
   "outputs": [],
   "source": [
    "ar = S.eigenvects()"
   ]
  },
  {
   "cell_type": "code",
   "execution_count": 28,
   "id": "14ba2308-92dd-4476-8593-b9fdefb4f6f3",
   "metadata": {},
   "outputs": [
    {
     "data": {
      "text/plain": [
       "(sigma_22/2 + sqrt(sigma_22**2 - 4*sigma_22 + 40)/2 + 1,\n",
       " 1,\n",
       " [Matrix([\n",
       "  [                                                       0],\n",
       "  [sigma_22/6 + sqrt(sigma_22**2 - 4*sigma_22 + 40)/6 - 1/3],\n",
       "  [                                                       1]])])"
      ]
     },
     "metadata": {},
     "output_type": "display_data"
    }
   ],
   "source": [
    "display(ar[2])"
   ]
  },
  {
   "cell_type": "code",
   "execution_count": 29,
   "id": "4811a689-5241-463e-85d0-6b72912b32bb",
   "metadata": {},
   "outputs": [
    {
     "data": {
      "text/plain": [
       "[(sigma_11,\n",
       "  1,\n",
       "  [Matrix([\n",
       "   [1],\n",
       "   [0],\n",
       "   [0]])]),\n",
       " (sigma_22/2 - sqrt(sigma_22**2 - 4*sigma_22 + 40)/2 + 1,\n",
       "  1,\n",
       "  [Matrix([\n",
       "   [                                                       0],\n",
       "   [sigma_22/6 - sqrt(sigma_22**2 - 4*sigma_22 + 40)/6 - 1/3],\n",
       "   [                                                       1]])]),\n",
       " (sigma_22/2 + sqrt(sigma_22**2 - 4*sigma_22 + 40)/2 + 1,\n",
       "  1,\n",
       "  [Matrix([\n",
       "   [                                                       0],\n",
       "   [sigma_22/6 + sqrt(sigma_22**2 - 4*sigma_22 + 40)/6 - 1/3],\n",
       "   [                                                       1]])])]"
      ]
     },
     "execution_count": 29,
     "metadata": {},
     "output_type": "execute_result"
    }
   ],
   "source": [
    "ar"
   ]
  },
  {
   "cell_type": "code",
   "execution_count": 30,
   "id": "0cec43a8-5f3a-43f5-83b7-007bd8cceb49",
   "metadata": {},
   "outputs": [],
   "source": [
    "x,y,A = sp.symbols('x y A')"
   ]
  },
  {
   "cell_type": "code",
   "execution_count": 31,
   "id": "05d2c257-6f88-4b14-88df-6d8aa0c05f0b",
   "metadata": {},
   "outputs": [],
   "source": [
    "r = sp.sqrt(x**2 +y**2)\n",
    "v_x =-A *y/r**2"
   ]
  },
  {
   "cell_type": "code",
   "execution_count": 32,
   "id": "3a7812f8-1250-4651-8c9c-fb70a2310e56",
   "metadata": {},
   "outputs": [
    {
     "data": {
      "text/latex": [
       "$\\displaystyle - \\frac{A y}{x^{2} + y^{2}}$"
      ],
      "text/plain": [
       "-A*y/(x**2 + y**2)"
      ]
     },
     "execution_count": 32,
     "metadata": {},
     "output_type": "execute_result"
    }
   ],
   "source": [
    "v_x"
   ]
  },
  {
   "cell_type": "code",
   "execution_count": 40,
   "id": "15757648-dfc7-4c08-be4f-44636e9fce19",
   "metadata": {},
   "outputs": [],
   "source": [
    "v_y = sp.simplify(sp.integrate(sp.diff(-v_x,x),y))"
   ]
  },
  {
   "cell_type": "code",
   "execution_count": 41,
   "id": "3a410a22-e152-4cac-b8e1-9cd5e173eb81",
   "metadata": {},
   "outputs": [
    {
     "data": {
      "text/latex": [
       "$\\displaystyle \\frac{A x}{x^{2} + y^{2}}$"
      ],
      "text/plain": [
       "A*x/(x**2 + y**2)"
      ]
     },
     "execution_count": 41,
     "metadata": {},
     "output_type": "execute_result"
    }
   ],
   "source": [
    "v_y"
   ]
  },
  {
   "cell_type": "code",
   "execution_count": 42,
   "id": "e579b2eb-90ee-49de-9234-1192c7111db0",
   "metadata": {},
   "outputs": [
    {
     "data": {
      "text/latex": [
       "$\\displaystyle 0$"
      ],
      "text/plain": [
       "0"
      ]
     },
     "execution_count": 42,
     "metadata": {},
     "output_type": "execute_result"
    }
   ],
   "source": [
    "sp.diff(v_y,y) +sp.diff(v_x,x)"
   ]
  },
  {
   "cell_type": "code",
   "execution_count": 44,
   "id": "a0e10f26-8b8a-43e2-9816-c03b43207dad",
   "metadata": {},
   "outputs": [
    {
     "data": {
      "text/latex": [
       "$\\displaystyle - \\frac{A y}{x^{2} + y^{2}}$"
      ],
      "text/plain": [
       "-A*y/(x**2 + y**2)"
      ]
     },
     "execution_count": 44,
     "metadata": {},
     "output_type": "execute_result"
    }
   ],
   "source": [
    "v_x"
   ]
  },
  {
   "cell_type": "code",
   "execution_count": 45,
   "id": "b64bc15b-d88f-4958-9b63-98d9dfb1ebdc",
   "metadata": {},
   "outputs": [],
   "source": [
    "v = sp.Matrix([[v_x,v_y,0]])"
   ]
  },
  {
   "cell_type": "code",
   "execution_count": 47,
   "id": "7b4d9365-2d4b-432a-9189-bfb855864361",
   "metadata": {},
   "outputs": [],
   "source": [
    "from sympy.vector import CoordSys3D\n",
    "R = CoordSys3D('R')"
   ]
  },
  {
   "cell_type": "code",
   "execution_count": 59,
   "id": "751a2ccd-2fdc-47c2-ac48-38f7d4a57030",
   "metadata": {},
   "outputs": [
    {
     "data": {
      "text/latex": [
       "$\\displaystyle (- \\frac{A y}{x^{2} + y^{2}})\\mathbf{\\hat{i}_{R}} + (\\frac{A x}{x^{2} + y^{2}})\\mathbf{\\hat{j}_{R}}$"
      ],
      "text/plain": [
       "(-A*y/(x**2 + y**2))*R.i + (A*x/(x**2 + y**2))*R.j"
      ]
     },
     "execution_count": 59,
     "metadata": {},
     "output_type": "execute_result"
    }
   ],
   "source": [
    "v = v_x *R.i+v_y *R.j\n",
    "v"
   ]
  },
  {
   "cell_type": "code",
   "execution_count": 53,
   "id": "2bab367b-b94e-4c34-8763-e9925a55a00d",
   "metadata": {},
   "outputs": [
    {
     "data": {
      "text/latex": [
       "$\\displaystyle \\mathbf{\\hat{0}}$"
      ],
      "text/plain": [
       "0"
      ]
     },
     "execution_count": 53,
     "metadata": {},
     "output_type": "execute_result"
    }
   ],
   "source": [
    "sp.vector.curl(v)"
   ]
  },
  {
   "cell_type": "code",
   "execution_count": 54,
   "id": "b1fbe6ee-0227-423d-8769-011321b33f7d",
   "metadata": {},
   "outputs": [
    {
     "data": {
      "text/latex": [
       "$\\displaystyle 0$"
      ],
      "text/plain": [
       "0"
      ]
     },
     "execution_count": 54,
     "metadata": {},
     "output_type": "execute_result"
    }
   ],
   "source": [
    "sp.vector.divergence(v)"
   ]
  },
  {
   "cell_type": "code",
   "execution_count": 61,
   "id": "f8a112c5-c16f-45d3-ac5a-6330f5f17fc1",
   "metadata": {},
   "outputs": [
    {
     "data": {
      "text/latex": [
       "$\\displaystyle 0$"
      ],
      "text/plain": [
       "0"
      ]
     },
     "execution_count": 61,
     "metadata": {},
     "output_type": "execute_result"
    }
   ],
   "source": [
    "sp.simplify(sp.diff(v_y,x) -sp.diff(v_x,y))"
   ]
  },
  {
   "cell_type": "code",
   "execution_count": 62,
   "id": "dd7dd837-9afb-4b87-8260-7491d93a2b26",
   "metadata": {},
   "outputs": [
    {
     "data": {
      "text/latex": [
       "$\\displaystyle - \\frac{2 A x^{2}}{\\left(x^{2} + y^{2}\\right)^{2}} - \\frac{2 A y^{2}}{\\left(x^{2} + y^{2}\\right)^{2}} + \\frac{2 A}{x^{2} + y^{2}}$"
      ],
      "text/plain": [
       "-2*A*x**2/(x**2 + y**2)**2 - 2*A*y**2/(x**2 + y**2)**2 + 2*A/(x**2 + y**2)"
      ]
     },
     "execution_count": 62,
     "metadata": {},
     "output_type": "execute_result"
    }
   ],
   "source": [
    "sp.diff(v_y,x) -sp.diff(v_x,y)"
   ]
  },
  {
   "cell_type": "code",
   "execution_count": null,
   "id": "1f57d997-fe7d-4720-b2b2-3d1c487ac0d4",
   "metadata": {},
   "outputs": [],
   "source": []
  }
 ],
 "metadata": {
  "kernelspec": {
   "display_name": "Python 3 (ipykernel)",
   "language": "python",
   "name": "python3"
  },
  "language_info": {
   "codemirror_mode": {
    "name": "ipython",
    "version": 3
   },
   "file_extension": ".py",
   "mimetype": "text/x-python",
   "name": "python",
   "nbconvert_exporter": "python",
   "pygments_lexer": "ipython3",
   "version": "3.8.12"
  }
 },
 "nbformat": 4,
 "nbformat_minor": 5
}
