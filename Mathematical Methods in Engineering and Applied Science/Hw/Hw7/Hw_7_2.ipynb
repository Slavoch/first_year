{
 "cells": [
  {
   "cell_type": "code",
   "execution_count": 374,
   "id": "cb8978f2-2e7c-4fc9-ba81-b4d3f848879d",
   "metadata": {},
   "outputs": [],
   "source": [
    "import sympy as sp\n",
    "import numpy as np\n",
    "import matplotlib.pyplot as plt"
   ]
  },
  {
   "cell_type": "code",
   "execution_count": 375,
   "id": "4cca10e7-c447-4b4a-94f2-56a85ae91b9f",
   "metadata": {},
   "outputs": [],
   "source": [
    "x = sp.symbols('x')\n",
    "n = sp.symbols('n',integer = True)"
   ]
  },
  {
   "cell_type": "code",
   "execution_count": 376,
   "id": "e60c3ee0-5aee-49bf-ba26-4b174d2ff19f",
   "metadata": {},
   "outputs": [
    {
     "data": {
      "text/latex": [
       "$\\displaystyle \\begin{cases} \\frac{i e^{i \\pi n}}{2 \\pi n} - \\frac{i}{\\pi n} + \\frac{i e^{- i \\pi n}}{2 \\pi n} & \\text{for}\\: n \\neq 0 \\\\0 & \\text{otherwise} \\end{cases}$"
      ],
      "text/plain": [
       "Piecewise((I*exp(I*pi*n)/(2*pi*n) - I/(pi*n) + I*exp(-I*pi*n)/(2*pi*n), Ne(n, 0)), (0, True))"
      ]
     },
     "execution_count": 376,
     "metadata": {},
     "output_type": "execute_result"
    }
   ],
   "source": [
    " sp.integrate(1/(2 *sp.pi) *sp.sign(x) * sp.exp(- sp.I * n * x),(x,-sp.pi,sp.pi))"
   ]
  },
  {
   "cell_type": "code",
   "execution_count": null,
   "id": "7776f888-a074-4595-8956-df91db45a831",
   "metadata": {},
   "outputs": [],
   "source": []
  },
  {
   "cell_type": "code",
   "execution_count": 377,
   "id": "c68f7ab4-c779-4a76-8155-f6d7e61cedad",
   "metadata": {},
   "outputs": [],
   "source": [
    "fun =sp.Sum( - 2 * sp.I / (sp.pi * (2*n+1)) * sp.exp(sp.I*x*(2*n+1)),(n,-100,100))"
   ]
  },
  {
   "cell_type": "code",
   "execution_count": 378,
   "id": "43c962db-e5b5-4604-90b8-69a47277e7b5",
   "metadata": {},
   "outputs": [],
   "source": [
    "f_im =sp.lambdify(x,sp.im(fun)) \n",
    "f_re =sp.lambdify(x,sp.re(fun))"
   ]
  },
  {
   "cell_type": "code",
   "execution_count": 379,
   "id": "3287a60e-1e72-435a-b937-f4f01b403b29",
   "metadata": {},
   "outputs": [
    {
     "data": {
      "text/plain": [
       "[<matplotlib.lines.Line2D at 0x247e1d2d100>]"
      ]
     },
     "execution_count": 379,
     "metadata": {},
     "output_type": "execute_result"
    },
    {
     "data": {
      "image/png": "[encoded data removed]",
      "text/plain": [
       "<Figure size 432x288 with 1 Axes>"
      ]
     },
     "metadata": {
      "needs_background": "light"
     },
     "output_type": "display_data"
    }
   ],
   "source": [
    "X = np.linspace(-np.pi,np.pi,100)\n",
    "Y_re = f_re(X)\n",
    "#Y_im = f_im(X)\n",
    "plt.plot(X,Y_re)\n",
    "#plt.plot(X,Y_im)"
   ]
  },
  {
   "cell_type": "code",
   "execution_count": 388,
   "id": "7ee0de60-2141-45e0-8aa3-fc09bbc58fc5",
   "metadata": {},
   "outputs": [],
   "source": [
    "c_n = (sp.cos(np.pi *n) - 1)*sp.I/(sp.pi * n)\n",
    "c_n_fun = sp.lambdify(n,c_n)"
   ]
  },
  {
   "cell_type": "code",
   "execution_count": 389,
   "id": "d8a1c004-47d8-4642-9d80-49bb6fe723e9",
   "metadata": {},
   "outputs": [
    {
     "ename": "ZeroDivisionError",
     "evalue": "complex division by zero",
     "output_type": "error",
     "traceback": [
      "\u001b[1;31m---------------------------------------------------------------------------\u001b[0m",
      "\u001b[1;31mZeroDivisionError\u001b[0m                         Traceback (most recent call last)",
      "\u001b[1;32m~\\AppData\\Local\\Temp/ipykernel_22228/1051805952.py\u001b[0m in \u001b[0;36m<module>\u001b[1;34m\u001b[0m\n\u001b[0;32m      1\u001b[0m \u001b[0mN\u001b[0m \u001b[1;33m=\u001b[0m \u001b[0mnp\u001b[0m\u001b[1;33m.\u001b[0m\u001b[0marange\u001b[0m\u001b[1;33m(\u001b[0m\u001b[1;33m-\u001b[0m\u001b[1;36m20\u001b[0m\u001b[1;33m,\u001b[0m\u001b[1;36m20\u001b[0m\u001b[1;33m)\u001b[0m\u001b[1;33m\u001b[0m\u001b[1;33m\u001b[0m\u001b[0m\n\u001b[1;32m----> 2\u001b[1;33m \u001b[0mplt\u001b[0m\u001b[1;33m.\u001b[0m\u001b[0mplot\u001b[0m\u001b[1;33m(\u001b[0m\u001b[0mN\u001b[0m\u001b[1;33m,\u001b[0m\u001b[1;33m[\u001b[0m\u001b[0mc_n_fun\u001b[0m\u001b[1;33m(\u001b[0m\u001b[0mx\u001b[0m\u001b[1;33m)\u001b[0m \u001b[1;32mfor\u001b[0m \u001b[0mx\u001b[0m \u001b[1;32min\u001b[0m \u001b[0mN\u001b[0m\u001b[1;33m]\u001b[0m\u001b[1;33m)\u001b[0m\u001b[1;33m\u001b[0m\u001b[1;33m\u001b[0m\u001b[0m\n\u001b[0m",
      "\u001b[1;32m~\\AppData\\Local\\Temp/ipykernel_22228/1051805952.py\u001b[0m in \u001b[0;36m<listcomp>\u001b[1;34m(.0)\u001b[0m\n\u001b[0;32m      1\u001b[0m \u001b[0mN\u001b[0m \u001b[1;33m=\u001b[0m \u001b[0mnp\u001b[0m\u001b[1;33m.\u001b[0m\u001b[0marange\u001b[0m\u001b[1;33m(\u001b[0m\u001b[1;33m-\u001b[0m\u001b[1;36m20\u001b[0m\u001b[1;33m,\u001b[0m\u001b[1;36m20\u001b[0m\u001b[1;33m)\u001b[0m\u001b[1;33m\u001b[0m\u001b[1;33m\u001b[0m\u001b[0m\n\u001b[1;32m----> 2\u001b[1;33m \u001b[0mplt\u001b[0m\u001b[1;33m.\u001b[0m\u001b[0mplot\u001b[0m\u001b[1;33m(\u001b[0m\u001b[0mN\u001b[0m\u001b[1;33m,\u001b[0m\u001b[1;33m[\u001b[0m\u001b[0mc_n_fun\u001b[0m\u001b[1;33m(\u001b[0m\u001b[0mx\u001b[0m\u001b[1;33m)\u001b[0m \u001b[1;32mfor\u001b[0m \u001b[0mx\u001b[0m \u001b[1;32min\u001b[0m \u001b[0mN\u001b[0m\u001b[1;33m]\u001b[0m\u001b[1;33m)\u001b[0m\u001b[1;33m\u001b[0m\u001b[1;33m\u001b[0m\u001b[0m\n\u001b[0m",
      "\u001b[1;32m<lambdifygenerated-78>\u001b[0m in \u001b[0;36m_lambdifygenerated\u001b[1;34m(n)\u001b[0m\n\u001b[0;32m      1\u001b[0m \u001b[1;32mdef\u001b[0m \u001b[0m_lambdifygenerated\u001b[0m\u001b[1;33m(\u001b[0m\u001b[0mn\u001b[0m\u001b[1;33m)\u001b[0m\u001b[1;33m:\u001b[0m\u001b[1;33m\u001b[0m\u001b[1;33m\u001b[0m\u001b[0m\n\u001b[1;32m----> 2\u001b[1;33m     \u001b[1;32mreturn\u001b[0m \u001b[1;36m1j\u001b[0m\u001b[1;33m*\u001b[0m\u001b[1;33m(\u001b[0m\u001b[0mcos\u001b[0m\u001b[1;33m(\u001b[0m\u001b[1;36m3.14159265358979\u001b[0m\u001b[1;33m*\u001b[0m\u001b[0mn\u001b[0m\u001b[1;33m)\u001b[0m \u001b[1;33m-\u001b[0m \u001b[1;36m1\u001b[0m\u001b[1;33m)\u001b[0m\u001b[1;33m/\u001b[0m\u001b[1;33m(\u001b[0m\u001b[0mpi\u001b[0m\u001b[1;33m*\u001b[0m\u001b[0mn\u001b[0m\u001b[1;33m)\u001b[0m\u001b[1;33m\u001b[0m\u001b[1;33m\u001b[0m\u001b[0m\n\u001b[0m",
      "\u001b[1;31mZeroDivisionError\u001b[0m: complex division by zero"
     ]
    }
   ],
   "source": [
    "N = np.arange(-20,20)\n",
    "plt.plot(N,[c_n_fun(x) for x in N])"
   ]
  },
  {
   "cell_type": "code",
   "execution_count": 390,
   "id": "4c0f4fc0-1c95-4c55-a754-973802fb5496",
   "metadata": {},
   "outputs": [
    {
     "data": {
      "text/latex": [
       "$\\displaystyle \\frac{i \\left(\\cos{\\left(3.14159265358979 n \\right)} - 1\\right)}{\\pi n}$"
      ],
      "text/plain": [
       "I*(cos(3.14159265358979*n) - 1)/(pi*n)"
      ]
     },
     "execution_count": 390,
     "metadata": {},
     "output_type": "execute_result"
    }
   ],
   "source": [
    "c_n.subs(n,[1,2])"
   ]
  },
  {
   "cell_type": "code",
   "execution_count": 383,
   "id": "7a70bdc9-5073-4846-9d3e-33055a5c8845",
   "metadata": {},
   "outputs": [
    {
     "name": "stderr",
     "output_type": "stream",
     "text": [
      "<lambdifygenerated-77>:2: RuntimeWarning: invalid value encountered in true_divide\n",
      "  return 1j*((-1)**n - 1)/(pi*n)\n"
     ]
    },
    {
     "data": {
      "text/plain": [
       "array([       nan, 0.63661977, 0.        , 0.21220659, 0.        ,\n",
       "       0.12732395, 0.        , 0.09094568, 0.        , 0.07073553,\n",
       "       0.        , 0.05787452, 0.        , 0.04897075, 0.        ,\n",
       "       0.04244132, 0.        , 0.03744822, 0.        , 0.0335063 ])"
      ]
     },
     "execution_count": 383,
     "metadata": {},
     "output_type": "execute_result"
    }
   ],
   "source": [
    "np.abs(c_n_fun(N))\n"
   ]
  },
  {
   "cell_type": "code",
   "execution_count": 384,
   "id": "49c8a3c4-5ce5-4117-85ac-484a419275c3",
   "metadata": {},
   "outputs": [
    {
     "data": {
      "text/latex": [
       "$\\displaystyle \\left(-1\\right)^{x} i \\pi$"
      ],
      "text/plain": [
       "(-1)**x*I*pi"
      ]
     },
     "execution_count": 384,
     "metadata": {},
     "output_type": "execute_result"
    }
   ],
   "source": [
    "sp.diff( (-1)**x,x)"
   ]
  },
  {
   "cell_type": "code",
   "execution_count": 393,
   "id": "a9ddaf60-ec0e-411a-983f-547061c45df0",
   "metadata": {},
   "outputs": [
    {
     "data": {
      "text/plain": [
       "Text(0.5, 0, 'n')"
      ]
     },
     "execution_count": 393,
     "metadata": {},
     "output_type": "execute_result"
    },
    {
     "data": {
      "image/png": "[encoded data removed]",
      "text/plain": [
       "<Figure size 432x288 with 1 Axes>"
      ]
     },
     "metadata": {
      "needs_background": "light"
     },
     "output_type": "display_data"
    }
   ],
   "source": [
    "plt.scatter(N[1:],np.abs(c_n_fun(N))[1:]**2,marker='.',c='r')\n",
    "plt.scatter(N[1:],np.abs(c_n_fun(N))[1:]**2,marker='.',c='r')\n",
    "plt.scatter(0,0,marker='.',c='r')\n",
    "plt.legend( [r\"$c_n$\"])\n",
    "plt.xlabel('n')\n"
   ]
  },
  {
   "cell_type": "code",
   "execution_count": 16,
   "id": "d4e13263-1253-4713-b769-2647eb1164e6",
   "metadata": {},
   "outputs": [
    {
     "data": {
      "text/latex": [
       "$\\displaystyle \\omega$"
      ],
      "text/plain": [
       "omega"
      ]
     },
     "execution_count": 16,
     "metadata": {},
     "output_type": "execute_result"
    }
   ],
   "source": [
    "sp.limit(((-1)**n - 1)/(sp.pi*n),n,0)\n",
    "w,t = sp.symbols('omega t')\n",
    "w"
   ]
  },
  {
   "cell_type": "code",
   "execution_count": 95,
   "id": "a7ccdeaf-6440-4607-8eb0-61ec8f11bd7f",
   "metadata": {},
   "outputs": [],
   "source": [
    "w_0 = sp.symbols('w_0')\n",
    "\n",
    "b = -2* sp.sin(w_0 *t)/((w_0**2 - (2*w+1)**2)* sp.pi*w_0)\n",
    "b = b.subs(w_0,1)\n",
    "b_sum = sp.Sum(b,(w,-10,10))\n",
    "b_sum_fun = sp.lambdify(t,b_sum)\n",
    "\n",
    "a = 2* sp.sin((2*w+1) *t)/((2*w+1)*(w_0**2 - (2*w+1)**2)* sp.pi)\n",
    "a = a.subs(w_0,1)\n",
    "a_sum = sp.Sum(a,(w,-1,1))\n",
    "a_sum_fun = sp.lambdify(t,a_sum)\n",
    "\n",
    "extra_left = sp.Sum(a+b, (w,-10,-2))\n",
    "extra_right = sp.Sum(a+b, (w,1,10))\n",
    "extra_0 = (sp.sin(t) - t*sp.cos(t))/sp.pi\n",
    "\n",
    "extra_left_fun = sp.lambdify(t,extra_left)\n",
    "extra_right_fun = sp.lambdify(t,extra_right)\n",
    "extra_0_fun = sp.lambdify(t,extra_0)"
   ]
  },
  {
   "cell_type": "code",
   "execution_count": 96,
   "id": "5b76153f-be9e-4517-971e-0ccab720b633",
   "metadata": {},
   "outputs": [
    {
     "data": {
      "text/plain": [
       "Text(0.5, 0, '$t$')"
      ]
     },
     "execution_count": 96,
     "metadata": {},
     "output_type": "execute_result"
    },
    {
     "data": {
      "image/png": "[encoded data removed]",
      "text/plain": [
       "<Figure size 432x288 with 1 Axes>"
      ]
     },
     "metadata": {
      "needs_background": "light"
     },
     "output_type": "display_data"
    }
   ],
   "source": [
    "\n",
    "T = np.linspace(0,10 *np.pi,100)\n",
    "Y = extra_right_fun(T) +extra_left_fun(T)\n",
    "plt.plot(T,Y)\n",
    "plt.xlabel(r'$t$')"
   ]
  },
  {
   "cell_type": "code",
   "execution_count": 94,
   "id": "cf834a36-bf15-4f29-a22a-8f64666af063",
   "metadata": {},
   "outputs": [
    {
     "data": {
      "text/latex": [
       "$\\displaystyle \\sum_{\\omega=-10}^{-1} \\left(- \\frac{2 \\sin{\\left(t \\right)}}{\\pi \\left(1 - \\left(2 \\omega + 1\\right)^{2}\\right)} + \\frac{2 \\sin{\\left(t \\left(2 \\omega + 1\\right) \\right)}}{\\pi \\left(1 - \\left(2 \\omega + 1\\right)^{2}\\right) \\left(2 \\omega + 1\\right)}\\right)$"
      ],
      "text/plain": [
       "Sum(-2*sin(t)/(pi*(1 - (2*omega + 1)**2)) + 2*sin(t*(2*omega + 1))/(pi*(1 - (2*omega + 1)**2)*(2*omega + 1)), (omega, -10, -1))"
      ]
     },
     "execution_count": 94,
     "metadata": {},
     "output_type": "execute_result"
    }
   ],
   "source": [
    "extra_left"
   ]
  },
  {
   "cell_type": "code",
   "execution_count": null,
   "id": "54a7161a-d17b-49be-9da8-d4c346f32784",
   "metadata": {},
   "outputs": [],
   "source": []
  },
  {
   "cell_type": "code",
   "execution_count": 40,
   "id": "c360a6ec-b789-4725-bbff-d44eee79d40d",
   "metadata": {},
   "outputs": [
    {
     "data": {
      "text/plain": [
       "1.1780347103885689"
      ]
     },
     "execution_count": 40,
     "metadata": {},
     "output_type": "execute_result"
    }
   ],
   "source": [
    "f_sum_fun(2)"
   ]
  },
  {
   "cell_type": "code",
   "execution_count": 98,
   "id": "9cca624d-8715-4420-a184-89234fe53fbe",
   "metadata": {},
   "outputs": [
    {
     "data": {
      "text/latex": [
       "$\\displaystyle e^{- \\frac{i \\pi}{4}}$"
      ],
      "text/plain": [
       "exp(-I*pi/4)"
      ]
     },
     "execution_count": 98,
     "metadata": {},
     "output_type": "execute_result"
    }
   ],
   "source": [
    "k = sp.symbols('omega')\n",
    "k = sp.exp(- sp.I *sp.pi / 4)\n",
    "k"
   ]
  },
  {
   "cell_type": "code",
   "execution_count": 100,
   "id": "412fb90e-11e2-4df8-97c8-acc66517ef99",
   "metadata": {},
   "outputs": [],
   "source": [
    "F_8 = sp.Matrix(8,8,lambda i,j: (k**i)**j)"
   ]
  },
  {
   "cell_type": "code",
   "execution_count": 112,
   "id": "855e03e8-7a1b-4354-8630-c771126ea054",
   "metadata": {},
   "outputs": [],
   "source": [
    "f_1 = sp.zeros(8,1)\n",
    "f_1[0] = 1\n",
    "\n",
    "f_2 = sp.zeros(8,1)\n",
    "f_2[0] = 1\n",
    "f_2[1] = 1\n",
    "\n",
    "f_3 = sp.zeros(8,1)\n",
    "f_3[0] = 1\n",
    "f_3[1] = 1\n",
    "f_3[2] = 1\n"
   ]
  },
  {
   "cell_type": "code",
   "execution_count": 116,
   "id": "40b25db5-ff33-4ad7-8545-5437563a3a14",
   "metadata": {},
   "outputs": [],
   "source": [
    "Ff_1 = F_8 @ f_1\n",
    "Ff_2 = F_8 @ f_2\n",
    "Ff_3 = F_8 @ f_3"
   ]
  },
  {
   "cell_type": "code",
   "execution_count": 159,
   "id": "0a6bacdb-f8f5-483c-8494-4dc0181ae49d",
   "metadata": {},
   "outputs": [],
   "source": [
    "Ff_2_norm = sp.N((Ff_2.conjugate()  @ Ff_2.T).diagonal())\n",
    "Ff_1_norm = sp.N((Ff_1.conjugate()  @ Ff_1.T).diagonal())\n",
    "Ff_3_norm = sp.N((Ff_3.conjugate()  @ Ff_3.T).diagonal())"
   ]
  },
  {
   "cell_type": "code",
   "execution_count": null,
   "id": "81f5ae7d-f051-439a-9aa2-2f05c445e713",
   "metadata": {},
   "outputs": [],
   "source": []
  },
  {
   "cell_type": "code",
   "execution_count": 160,
   "id": "dd752fde-9d62-4d58-806f-1b49b74979a9",
   "metadata": {},
   "outputs": [],
   "source": [
    "B_2 = np.array(Ff_2_norm).astype(np.float64)\n",
    "B_1 =np.array(Ff_1_norm).astype(np.float64)\n",
    "B_3 =np.array(Ff_3_norm).astype(np.float64)"
   ]
  },
  {
   "cell_type": "code",
   "execution_count": 165,
   "id": "07c73c86-237f-40b5-918f-c5cd03009442",
   "metadata": {},
   "outputs": [
    {
     "data": {
      "text/plain": [
       "<matplotlib.legend.Legend at 0x247dc1789a0>"
      ]
     },
     "execution_count": 165,
     "metadata": {},
     "output_type": "execute_result"
    },
    {
     "data": {
      "image/png": "[encoded data removed]",
      "text/plain": [
       "<Figure size 432x288 with 1 Axes>"
      ]
     },
     "metadata": {
      "needs_background": "light"
     },
     "output_type": "display_data"
    }
   ],
   "source": [
    "plt.plot(B_1[0])\n",
    "plt.plot(B_2[0])\n",
    "plt.plot(B_3[0])\n",
    "plt.legend([r\"$f_1$\",r\"$f_2$\",r\"$f_3$\"])"
   ]
  },
  {
   "cell_type": "code",
   "execution_count": 214,
   "id": "c3f985dc-b0c5-48b2-a66c-f5735f29af8a",
   "metadata": {},
   "outputs": [
    {
     "data": {
      "text/latex": [
       "$\\displaystyle \\left[\\begin{matrix}1 & 0.78\\\\2 & 1.27\\\\3 & 1.33\\\\4 & 1.69\\\\5 & 1.96\\\\6 & 1.67\\\\7 & 2.07\\\\8 & 2.11\\\\9 & 1.91\\\\10 & 1.92\\end{matrix}\\right]$"
      ],
      "text/plain": [
       "Matrix([\n",
       "[ 1, 0.78],\n",
       "[ 2, 1.27],\n",
       "[ 3, 1.33],\n",
       "[ 4, 1.69],\n",
       "[ 5, 1.96],\n",
       "[ 6, 1.67],\n",
       "[ 7, 2.07],\n",
       "[ 8, 2.11],\n",
       "[ 9, 1.91],\n",
       "[10, 1.92]])"
      ]
     },
     "execution_count": 214,
     "metadata": {},
     "output_type": "execute_result"
    }
   ],
   "source": [
    "Ff_2_norm[0]\n",
    "y_data = sp.Matrix([0.78, 1.27, 1.33, 1.69, 1.96, 1.67, 2.07, 2.11, 1.91, 1.92])\n",
    "x_data = sp.Matrix(range(1,11))\n",
    "Data = x_data.row_join(y_data)\n",
    "N = len(x_data)\n",
    "Data"
   ]
  },
  {
   "cell_type": "code",
   "execution_count": 296,
   "id": "1ba50c99-db14-4f54-baa7-7d660a64f6c4",
   "metadata": {},
   "outputs": [
    {
     "data": {
      "text/latex": [
       "$\\displaystyle \\left(-2 + 2 e^{- 10 b}\\right) \\left(- a \\left(1 - e^{- 10 b}\\right) + 1.92\\right) + \\left(-2 + 2 e^{- 9 b}\\right) \\left(- a \\left(1 - e^{- 9 b}\\right) + 1.91\\right) + \\left(-2 + 2 e^{- 8 b}\\right) \\left(- a \\left(1 - e^{- 8 b}\\right) + 2.11\\right) + \\left(-2 + 2 e^{- 7 b}\\right) \\left(- a \\left(1 - e^{- 7 b}\\right) + 2.07\\right) + \\left(-2 + 2 e^{- 6 b}\\right) \\left(- a \\left(1 - e^{- 6 b}\\right) + 1.67\\right) + \\left(-2 + 2 e^{- 5 b}\\right) \\left(- a \\left(1 - e^{- 5 b}\\right) + 1.96\\right) + \\left(-2 + 2 e^{- 4 b}\\right) \\left(- a \\left(1 - e^{- 4 b}\\right) + 1.69\\right) + \\left(-2 + 2 e^{- 3 b}\\right) \\left(- a \\left(1 - e^{- 3 b}\\right) + 1.33\\right) + \\left(-2 + 2 e^{- 2 b}\\right) \\left(- a \\left(1 - e^{- 2 b}\\right) + 1.27\\right) + \\left(-2 + 2 e^{- b}\\right) \\left(- a \\left(1 - e^{- b}\\right) + 0.78\\right)$"
      ],
      "text/plain": [
       "(-2 + 2*exp(-10*b))*(-a*(1 - exp(-10*b)) + 1.92) + (-2 + 2*exp(-9*b))*(-a*(1 - exp(-9*b)) + 1.91) + (-2 + 2*exp(-8*b))*(-a*(1 - exp(-8*b)) + 2.11) + (-2 + 2*exp(-7*b))*(-a*(1 - exp(-7*b)) + 2.07) + (-2 + 2*exp(-6*b))*(-a*(1 - exp(-6*b)) + 1.67) + (-2 + 2*exp(-5*b))*(-a*(1 - exp(-5*b)) + 1.96) + (-2 + 2*exp(-4*b))*(-a*(1 - exp(-4*b)) + 1.69) + (-2 + 2*exp(-3*b))*(-a*(1 - exp(-3*b)) + 1.33) + (-2 + 2*exp(-2*b))*(-a*(1 - exp(-2*b)) + 1.27) + (-2 + 2*exp(-b))*(-a*(1 - exp(-b)) + 0.78)"
      ]
     },
     "execution_count": 296,
     "metadata": {},
     "output_type": "execute_result"
    }
   ],
   "source": [
    "a,b,x,y,i,S =sp.symbols('a b x_i y_i i S')\n",
    "F = sp.Sum((y - a*(1 - sp.exp(-b * x)))**2,(i,1,10))\n",
    "F_i = (y - a*(1 - sp.exp(-b * x)))**2\n",
    "\n",
    "def Fun_sum(F):\n",
    "    S =sp.Abs(0)\n",
    "    for i in range(N):\n",
    "        x_i = Data[i,0]\n",
    "        y_i = Data[i,1]\n",
    "        S +=F.subs([(x,x_i),(y,y_i)])\n",
    "    return S\n",
    "Fun_sum(dF_a)"
   ]
  },
  {
   "cell_type": "code",
   "execution_count": 225,
   "id": "d80299a3-d795-49dd-9c96-d221cad6a78b",
   "metadata": {},
   "outputs": [
    {
     "data": {
      "text/latex": [
       "$\\displaystyle - 2 a x_{i} \\left(- a \\left(1 - e^{- b x_{i}}\\right) + y_{i}\\right) e^{- b x_{i}}$"
      ],
      "text/plain": [
       "-2*a*x_i*(-a*(1 - exp(-b*x_i)) + y_i)*exp(-b*x_i)"
      ]
     },
     "execution_count": 225,
     "metadata": {},
     "output_type": "execute_result"
    }
   ],
   "source": [
    "dF_b = F_i.diff(b)\n",
    "dF_a= F_i.diff(a)\n",
    "dF_b"
   ]
  },
  {
   "cell_type": "code",
   "execution_count": 366,
   "id": "7f5ba1a8-0acd-4f46-b17a-082a6b4862d4",
   "metadata": {},
   "outputs": [
    {
     "name": "stdout",
     "output_type": "stream",
     "text": [
      "106.416724797808 5 2\n",
      "0.544806228287648 1.70322187881954 0.673864954105524\n",
      "0.214776575944417 1.88282432398862 0.545135026238928\n",
      "0.172352628787160 1.94274623795466 0.500666311309739\n",
      "0.161217060763573 1.97564288755049 0.489829852452505\n",
      "0.158181572564494 1.98637780099638 0.472569515780715\n",
      "0.156009317464842 2.00414518099205 0.462478894448651\n",
      "0.155785135254788 2.00938295431986 0.460632487826948\n",
      "0.155785135254788 2.00938295431986 0.460632487826948\n",
      "0.155785135254788 2.00938295431986 0.460632487826948\n",
      "0.155785135254788 2.00938295431986 0.460632487826948\n",
      "0.155785135254788 2.00938295431986 0.460632487826948\n",
      "0.155785135254788 2.00938295431986 0.460632487826948\n",
      "0.155785135254788 2.00938295431986 0.460632487826948\n",
      "0.155785135254788 2.00938295431986 0.460632487826948\n",
      "0.155785135254788 2.00938295431986 0.460632487826948\n",
      "0.155785135254788 2.00938295431986 0.460632487826948\n",
      "0.155785135254788 2.00938295431986 0.460632487826948\n",
      "0.155785135254788 2.00938295431986 0.460632487826948\n",
      "0.155785135254788 2.00938295431986 0.460632487826948\n"
     ]
    }
   ],
   "source": [
    "a_k0 = 5\n",
    "b_k0 = 2\n",
    "a_min = a_k0\n",
    "b_min = b_k0\n",
    "\n",
    "FF = F_i.subs([(a,a_k0),(b,b_k0)])\n",
    "dFF_b= dF_b.subs([(a,a_k0),(b,b_k0)])\n",
    "dFF_a= dF_a.subs([(a,a_k0),(b,b_k0)])\n",
    "    \n",
    "E_min = sp.N(Fun_sum(FF))\n",
    "\n",
    "for i in range(20):\n",
    "    \n",
    "    \n",
    "    print(E_min,a_k0,b_k0)\n",
    "    \n",
    "    for j in range(100):\n",
    "        \n",
    "        \n",
    "        \n",
    "        FF = F_i.subs([(a,a_k0),(b,b_k0)])\n",
    "        dFF_a= dF_a.subs([(a,a_k0),(b,b_k0)])\n",
    "        \n",
    "        if(sp.N(Fun_sum(FF)) < E_min):\n",
    "            E_min = sp.N(Fun_sum(FF))\n",
    "            a_min = a_k0\n",
    "            \n",
    "        a_k1 = a_k0 - sp.N(Fun_sum(FF)) / sp.N(Fun_sum(dFF_a))\n",
    "        a_k0 = a_k1\n",
    "        \n",
    "    a_k0 = a_min\n",
    "    \n",
    "    for j in range(100):\n",
    "        \n",
    "        FF = F_i.subs([(a,a_k0),(b,b_k0)])\n",
    "        dFF_b= dF_b.subs([(a,a_k0),(b,b_k0)])\n",
    "        \n",
    "        if(sp.N(Fun_sum(FF)) < E_min):\n",
    "            E_min = sp.N(Fun_sum(FF))\n",
    "            b_min = b_k0\n",
    "\n",
    "        b_k1 = b_k0 - sp.N(Fun_sum(FF)) / sp.N(Fun_sum(dFF_b))\n",
    "        b_k0 = b_k1\n",
    "        #print(b_k0)\n",
    "        \n",
    "    b_k0 = b_min       \n",
    "    \n",
    "    "
   ]
  },
  {
   "cell_type": "code",
   "execution_count": 373,
   "id": "3dd1035b-5f59-4152-aec9-df69f4d9b385",
   "metadata": {},
   "outputs": [
    {
     "data": {
      "text/plain": [
       "<matplotlib.legend.Legend at 0x247dfd10550>"
      ]
     },
     "execution_count": 373,
     "metadata": {},
     "output_type": "execute_result"
    },
    {
     "data": {
      "image/png": "[encoded data removed]",
      "text/plain": [
       "<Figure size 432x288 with 1 Axes>"
      ]
     },
     "metadata": {
      "needs_background": "light"
     },
     "output_type": "display_data"
    }
   ],
   "source": [
    "X = np.array(x_data).astype(np.float64)\n",
    "Y = np.array(y_data).astype(np.float64)\n",
    "plt.scatter(X,Y)\n",
    "fun = 2.00938295431986 * (1 - np.exp( -0.460632487826948 * X))\n",
    "plt.plot(X,fun,'r')\n",
    "plt.xlabel('x')\n",
    "plt.ylabel('y')\n",
    "plt.legend(['Fit','Data'])"
   ]
  },
  {
   "cell_type": "code",
   "execution_count": 347,
   "id": "34cf474a-256a-4a8e-9fa2-a2e270bda3b3",
   "metadata": {},
   "outputs": [],
   "source": [
    "T = np.linspace(0,20,1000)\n",
    "My_Fun = sp.lambdify(b,Fun_sum(F_i.subs(a,2)))"
   ]
  },
  {
   "cell_type": "code",
   "execution_count": 348,
   "id": "fd9020b4-af29-422c-bcb4-9adb95972ddf",
   "metadata": {},
   "outputs": [
    {
     "data": {
      "text/plain": [
       "[<matplotlib.lines.Line2D at 0x247e5f9e220>]"
      ]
     },
     "execution_count": 348,
     "metadata": {},
     "output_type": "execute_result"
    },
    {
     "data": {
      "image/png": "[encoded data removed]",
      "text/plain": [
       "<Figure size 432x288 with 1 Axes>"
      ]
     },
     "metadata": {
      "needs_background": "light"
     },
     "output_type": "display_data"
    }
   ],
   "source": [
    "plt.plot(T,My_Fun(T))"
   ]
  },
  {
   "cell_type": "code",
   "execution_count": null,
   "id": "916130c7-31ee-4c99-b1d7-5544006224d5",
   "metadata": {},
   "outputs": [],
   "source": []
  }
 ],
 "metadata": {
  "kernelspec": {
   "display_name": "Python 3 (ipykernel)",
   "language": "python",
   "name": "python3"
  },
  "language_info": {
   "codemirror_mode": {
    "name": "ipython",
    "version": 3
   },
   "file_extension": ".py",
   "mimetype": "text/x-python",
   "name": "python",
   "nbconvert_exporter": "python",
   "pygments_lexer": "ipython3",
   "version": "3.8.12"
  }
 },
 "nbformat": 4,
 "nbformat_minor": 5
}
