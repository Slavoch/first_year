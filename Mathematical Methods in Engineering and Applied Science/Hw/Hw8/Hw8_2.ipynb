{
 "cells": [
  {
   "cell_type": "code",
   "execution_count": null,
   "id": "1f967db5-7255-454c-b15f-9e978ec26ccc",
   "metadata": {},
   "outputs": [],
   "source": []
  },
  {
   "cell_type": "code",
   "execution_count": 122,
   "id": "fcba4cfd-3c2b-4beb-ba30-6d38f03fd1b9",
   "metadata": {},
   "outputs": [],
   "source": [
    "import sympy as sp\n",
    "import numpy as np\n",
    "import matplotlib.pyplot as plt"
   ]
  },
  {
   "cell_type": "code",
   "execution_count": 12,
   "id": "c84c5e77-cf89-4dd9-a781-a237c5d05c62",
   "metadata": {},
   "outputs": [],
   "source": [
    "p,t= sp.symbols('p t')"
   ]
  },
  {
   "cell_type": "code",
   "execution_count": 13,
   "id": "d4fb911f-c520-436f-b502-4d4723c92aa5",
   "metadata": {},
   "outputs": [
    {
     "data": {
      "text/plain": [
       "{p: 0, t: 0}"
      ]
     },
     "execution_count": 13,
     "metadata": {},
     "output_type": "execute_result"
    }
   ],
   "source": [
    "p,t= sp.symbols('p t')\n",
    "M = sp.Matrix([[-3,2],[1,-2]])\n",
    "u = sp.Matrix([[p],[t]])\n",
    "eq = M @ u\n",
    "\n",
    "sp.solve(eq,[p,t])"
   ]
  },
  {
   "cell_type": "code",
   "execution_count": 14,
   "id": "20eab3e1-1bdb-430f-932a-b164fa76666d",
   "metadata": {},
   "outputs": [
    {
     "data": {
      "text/plain": [
       "[(-4,\n",
       "  1,\n",
       "  [Matrix([\n",
       "   [-2],\n",
       "   [ 1]])]),\n",
       " (-1,\n",
       "  1,\n",
       "  [Matrix([\n",
       "   [1],\n",
       "   [1]])])]"
      ]
     },
     "execution_count": 14,
     "metadata": {},
     "output_type": "execute_result"
    }
   ],
   "source": [
    "M.eigenvects()"
   ]
  },
  {
   "cell_type": "code",
   "execution_count": 15,
   "id": "c0d733c2-ea11-4fe6-b3e7-799ce1b4b974",
   "metadata": {},
   "outputs": [
    {
     "data": {
      "text/plain": [
       "{p: 0, t: 0}"
      ]
     },
     "execution_count": 15,
     "metadata": {},
     "output_type": "execute_result"
    }
   ],
   "source": [
    "p,t= sp.symbols('p t')\n",
    "M = sp.Matrix([[5,10],[-1,-1]])\n",
    "u = sp.Matrix([[p],[t]])\n",
    "eq = M @ u\n",
    "\n",
    "sp.solve(eq,[p,t])"
   ]
  },
  {
   "cell_type": "code",
   "execution_count": 16,
   "id": "b5f35109-b59f-436d-b45b-f4aeaaf78b99",
   "metadata": {},
   "outputs": [
    {
     "data": {
      "text/plain": [
       "[(2 - I,\n",
       "  1,\n",
       "  [Matrix([\n",
       "   [-3 + I],\n",
       "   [     1]])]),\n",
       " (2 + I,\n",
       "  1,\n",
       "  [Matrix([\n",
       "   [-3 - I],\n",
       "   [     1]])])]"
      ]
     },
     "execution_count": 16,
     "metadata": {},
     "output_type": "execute_result"
    }
   ],
   "source": [
    "M.eigenvects()"
   ]
  },
  {
   "cell_type": "code",
   "execution_count": 17,
   "id": "2e9f787f-01f6-48b1-8061-5830d6e450f1",
   "metadata": {},
   "outputs": [
    {
     "data": {
      "text/latex": [
       "$\\displaystyle \\left[\\begin{matrix}p\\\\t\\end{matrix}\\right]$"
      ],
      "text/plain": [
       "Matrix([\n",
       "[p],\n",
       "[t]])"
      ]
     },
     "execution_count": 17,
     "metadata": {},
     "output_type": "execute_result"
    }
   ],
   "source": [
    "u"
   ]
  },
  {
   "cell_type": "code",
   "execution_count": 163,
   "id": "c19eab5f-8855-48b9-8310-c8fb1553aeee",
   "metadata": {},
   "outputs": [
    {
     "data": {
      "image/png": "[encoded data removed]",
      "text/plain": [
       "<Figure size 432x288 with 1 Axes>"
      ]
     },
     "metadata": {
      "needs_background": "light"
     },
     "output_type": "display_data"
    }
   ],
   "source": [
    "def fa(Y):\n",
    "    x, y = Y\n",
    "    return [-3*x + 2 *y, x - 2*y]\n",
    "def fb(Y):\n",
    "    x, y = Y\n",
    "    return [5*x + 10 *y, -x - y]\n",
    "\n",
    "def fc(Y):\n",
    "    x, y = Y\n",
    "    return [  y, -x - 2*y]\n",
    "\n",
    "def f2(Y):\n",
    "    x, y = Y\n",
    "    a = 0\n",
    "    b = 6\n",
    "    return [  a* x + b*y, -b*x - a*y]\n",
    "\n",
    "def f3(Y):\n",
    "    x, y = Y\n",
    "    return [  x*y - 1, x - y**3]\n",
    "\n",
    "def f4(Y):\n",
    "    x, y = Y\n",
    "    return [  x *(3 -2*x -2*y) , y *(2 -x -y) ]\n",
    "\n",
    "def f5(Y):\n",
    "    x, y = Y\n",
    "    return [ -y-x**3 , x ]\n",
    "\n",
    "k = 10\n",
    "l = 3\n",
    "\n",
    "\n",
    "def f6(Y):\n",
    "    x, y = Y\n",
    "    return [ -k*x*y , k*x*y -l*y]\n",
    "\n",
    "\n",
    "\n",
    "x_lim = 4\n",
    "y_lim = 2\n",
    "x = np.linspace(-x_lim, x_lim, 20)\n",
    "y = np.linspace(-y_lim, y_lim, 20)\n",
    "\n",
    "X, Y = np.meshgrid(x, y)\n",
    "\n",
    "u, v = np.zeros(X.shape), np.zeros(Y.shape)\n",
    "\n",
    "NI, NJ = X.shape\n",
    "\n",
    "for i in range(NI):\n",
    "    for j in range(NJ):\n",
    "        x = X[i, j]\n",
    "        y = Y[i, j]\n",
    "        yprime = f6([x, y])\n",
    "        yprime = yprime / np.linalg.norm(yprime)\n",
    "        u[i,j] = yprime[0]\n",
    "        v[i,j] = yprime[1]\n",
    "     \n",
    "\n",
    "Q = plt.quiver(X,Y, u, v, color='r')\n",
    "\n",
    "\n",
    "x = np.linspace(-x_lim*2,x_lim*2,20)\n",
    "\n",
    "x0 = -2\n",
    "plt.plot(-k* x0 /(k*x0 - l)*x +x0, x,c='b')\n",
    "\n",
    "\n",
    "x0 = -1\n",
    "plt.plot(-k* x0 /(k*x0 - l)*x +x0, x,c='b')\n",
    "\n",
    "\n",
    "x0 = 0\n",
    "plt.plot(-k* x0 /(k*x0 - l)*x +x0, x,c='b')\n",
    "\n",
    "x0 = 1/2*l/k\n",
    "plt.plot(-k* x0 /(k*x0 - l)*x +x0, x,c='b')\n",
    "\n",
    "x0 = 2*l/k\n",
    "plt.plot(-k* x0 /(k*x0 - l)*x +x0, x,c='b')\n",
    "\n",
    "#plt.plot(-7/6 *x+3/2 , x,c='b')\n",
    "#plt.plot((2-np.sqrt(5))*x +1, x+1,c='b')\n",
    "\n",
    "#plt.plot(x -1, x-1,c='b')\n",
    "\n",
    "#plt.plot((-2-3**(1/2))*x,x,c='b')\n",
    "#plt.scatter(0,2,c='black')\n",
    "#plt.scatter(3/2,0,c='black')\n",
    "\n",
    "\n",
    "plt.axvline(x=0)\n",
    "plt.axhline(y=0)\n",
    "\n",
    "plt.xlabel('$x$')\n",
    "plt.ylabel('$y$')\n",
    "plt.xlim([-0.1, x_lim])\n",
    "plt.ylim([0, y_lim])\n",
    "#plt.grid()\n",
    "plt.savefig(\"8_HW_plots\")"
   ]
  },
  {
   "cell_type": "code",
   "execution_count": 45,
   "id": "b30dd201-2367-4cc8-a33c-9019d241c8a7",
   "metadata": {},
   "outputs": [
    {
     "data": {
      "text/plain": [
       "{p: 0, t: 0}"
      ]
     },
     "execution_count": 45,
     "metadata": {},
     "output_type": "execute_result"
    }
   ],
   "source": [
    "x,y,p,t= sp.symbols('x y p t')\n",
    "M = sp.Matrix([[y,-1/x],[-1,-2]])\n",
    "u = sp.Matrix([[p],[t]])\n",
    "eq = M @ u\n",
    "\n",
    "sp.solve(eq,[p,t])"
   ]
  },
  {
   "cell_type": "code",
   "execution_count": 46,
   "id": "032b0ba3-c030-4d1c-a316-06e23d6570ee",
   "metadata": {},
   "outputs": [
    {
     "data": {
      "text/plain": [
       "[(y/2 - 1 - sqrt(x*(x*y**2 + 4*x*y + 4*x + 4))/(2*x),\n",
       "  1,\n",
       "  [Matrix([\n",
       "   [-y/2 - 1 + sqrt(x*(x*y**2 + 4*x*y + 4*x + 4))/(2*x)],\n",
       "   [                                                  1]])]),\n",
       " (y/2 - 1 + sqrt(x*(x*y**2 + 4*x*y + 4*x + 4))/(2*x),\n",
       "  1,\n",
       "  [Matrix([\n",
       "   [-y/2 - 1 - sqrt(x*(x*y**2 + 4*x*y + 4*x + 4))/(2*x)],\n",
       "   [                                                  1]])])]"
      ]
     },
     "execution_count": 46,
     "metadata": {},
     "output_type": "execute_result"
    }
   ],
   "source": [
    "M.eigenvects()"
   ]
  },
  {
   "cell_type": "code",
   "execution_count": 47,
   "id": "2df465d7-1e96-428f-9432-9bf1f33f6d03",
   "metadata": {},
   "outputs": [
    {
     "data": {
      "text/plain": [
       "{p: 0, t: 0}"
      ]
     },
     "execution_count": 47,
     "metadata": {},
     "output_type": "execute_result"
    }
   ],
   "source": [
    "a,b,p,t= sp.symbols('a b p t')\n",
    "M = sp.Matrix([[a,b],[-b,-a]])\n",
    "u = sp.Matrix([[p],[t]])\n",
    "eq = M @ u\n",
    "\n",
    "sp.solve(eq,[p,t])"
   ]
  },
  {
   "cell_type": "code",
   "execution_count": 48,
   "id": "1bd8df72-6290-4a26-8098-0a1a3074e43d",
   "metadata": {},
   "outputs": [
    {
     "data": {
      "text/plain": [
       "[(-sqrt((a - b)*(a + b)),\n",
       "  1,\n",
       "  [Matrix([\n",
       "   [-a/b + sqrt((a - b)*(a + b))/b],\n",
       "   [                             1]])]),\n",
       " (sqrt((a - b)*(a + b)),\n",
       "  1,\n",
       "  [Matrix([\n",
       "   [-a/b - sqrt((a - b)*(a + b))/b],\n",
       "   [                             1]])])]"
      ]
     },
     "execution_count": 48,
     "metadata": {},
     "output_type": "execute_result"
    }
   ],
   "source": [
    "M.eigenvects()"
   ]
  },
  {
   "cell_type": "code",
   "execution_count": 49,
   "id": "d1f552a7-ec7a-43f5-ba34-ab3d419e6bc3",
   "metadata": {},
   "outputs": [
    {
     "data": {
      "text/plain": [
       "{-sqrt((a - b)*(a + b)): 1, sqrt((a - b)*(a + b)): 1}"
      ]
     },
     "execution_count": 49,
     "metadata": {},
     "output_type": "execute_result"
    }
   ],
   "source": [
    "M.eigenvals()"
   ]
  },
  {
   "cell_type": "code",
   "execution_count": null,
   "id": "e4779d0d-1b16-4e76-b62c-5a7c55ee052f",
   "metadata": {},
   "outputs": [],
   "source": []
  },
  {
   "cell_type": "code",
   "execution_count": 93,
   "id": "f05addca-0676-42ec-9552-acbcd26d0259",
   "metadata": {},
   "outputs": [
    {
     "data": {
      "text/latex": [
       "$\\displaystyle \\left[\\begin{matrix}5 p + 10 t\\\\- 10 p - 5 t\\end{matrix}\\right]$"
      ],
      "text/plain": [
       "Matrix([\n",
       "[ 5*p + 10*t],\n",
       "[-10*p - 5*t]])"
      ]
     },
     "execution_count": 93,
     "metadata": {},
     "output_type": "execute_result"
    }
   ],
   "source": [
    "l,k = sp.symbols('l k')\n",
    "p =sp.Function('p')\n",
    "t = sp.Function('t')\n",
    "eq.subs(((a, 5),(b,10)))"
   ]
  },
  {
   "cell_type": "code",
   "execution_count": 94,
   "id": "9def8559-02a1-447b-b808-7ed371d0dfd2",
   "metadata": {},
   "outputs": [
    {
     "data": {
      "text/latex": [
       "$\\displaystyle - \\left(\\frac{d}{d l} p{\\left(l \\right)}\\right)^{3} - \\frac{d^{2}}{d l^{2}} p{\\left(l \\right)}$"
      ],
      "text/plain": [
       "-Derivative(p(l), l)**3 - Derivative(p(l), (l, 2))"
      ]
     },
     "execution_count": 94,
     "metadata": {},
     "output_type": "execute_result"
    }
   ],
   "source": [
    "eq1"
   ]
  },
  {
   "cell_type": "code",
   "execution_count": 95,
   "id": "fa3ee692-6e7f-4750-8c47-cda4853b9df3",
   "metadata": {},
   "outputs": [],
   "source": [
    "eq1 = -sp.Derivative(p(l), l,l)  -sp.Derivative(p(l), l)**3\n",
    "eq2 = -sp.Derivative(t(l), l) + p(l)"
   ]
  },
  {
   "cell_type": "code",
   "execution_count": 96,
   "id": "a59c1007-ea15-48f3-8b05-8f57b21c50f4",
   "metadata": {},
   "outputs": [],
   "source": [
    "res1,res2 = sp.dsolve(eq1)\n",
    "#display(sp.simplify(res1.rhs**2  + res2.rhs**2))"
   ]
  },
  {
   "cell_type": "code",
   "execution_count": 97,
   "id": "3e9441df-bde0-447e-a20e-c99fe60b74f1",
   "metadata": {},
   "outputs": [
    {
     "data": {
      "text/latex": [
       "$\\displaystyle p{\\left(l \\right)} = C_{1} - \\sqrt{2} \\left(- C_{2} + l\\right) \\sqrt{\\frac{1}{- C_{2} + l}}$"
      ],
      "text/plain": [
       "Eq(p(l), C1 - sqrt(2)*(-C2 + l)*sqrt(1/(-C2 + l)))"
      ]
     },
     "metadata": {},
     "output_type": "display_data"
    },
    {
     "data": {
      "text/latex": [
       "$\\displaystyle p{\\left(l \\right)} = C_{1} + \\sqrt{2} \\left(- C_{2} + l\\right) \\sqrt{\\frac{1}{- C_{2} + l}}$"
      ],
      "text/plain": [
       "Eq(p(l), C1 + sqrt(2)*(-C2 + l)*sqrt(1/(-C2 + l)))"
      ]
     },
     "metadata": {},
     "output_type": "display_data"
    }
   ],
   "source": [
    "display(res1)\n",
    "display(res2)"
   ]
  },
  {
   "cell_type": "code",
   "execution_count": 125,
   "id": "a2451181-b4d4-44d4-b157-91821cb55aa1",
   "metadata": {},
   "outputs": [],
   "source": [
    "x,y,p,t= sp.symbols('x y p t')\n",
    "M = sp.Matrix([[-k*y, -k*x],[k*y,k*x -l]])"
   ]
  },
  {
   "cell_type": "code",
   "execution_count": 126,
   "id": "3524d681-a37f-4847-bd54-bdaf1a21e170",
   "metadata": {},
   "outputs": [
    {
     "data": {
      "text/plain": [
       "{k*x - l: 1, 0: 1}"
      ]
     },
     "execution_count": 126,
     "metadata": {},
     "output_type": "execute_result"
    }
   ],
   "source": [
    "A = M.subs([(y,0)])\n",
    "A.eigenvals()"
   ]
  },
  {
   "cell_type": "code",
   "execution_count": 127,
   "id": "fe42226a-3a32-4139-ab6d-05e6246ee4c0",
   "metadata": {},
   "outputs": [
    {
     "data": {
      "text/plain": [
       "[(0,\n",
       "  1,\n",
       "  [Matrix([\n",
       "   [1],\n",
       "   [0]])]),\n",
       " (k*x - l,\n",
       "  1,\n",
       "  [Matrix([\n",
       "   [-k*x/(k*x - l)],\n",
       "   [             1]])])]"
      ]
     },
     "execution_count": 127,
     "metadata": {},
     "output_type": "execute_result"
    }
   ],
   "source": [
    "A.eigenvects()"
   ]
  },
  {
   "cell_type": "code",
   "execution_count": 128,
   "id": "28ae2bde-d128-4be6-a8b6-5eb427ef3fc7",
   "metadata": {},
   "outputs": [
    {
     "data": {
      "text/latex": [
       "$\\displaystyle \\left[\\begin{matrix}0 & - k x\\\\0 & k x - l\\end{matrix}\\right]$"
      ],
      "text/plain": [
       "Matrix([\n",
       "[0,    -k*x],\n",
       "[0, k*x - l]])"
      ]
     },
     "execution_count": 128,
     "metadata": {},
     "output_type": "execute_result"
    }
   ],
   "source": [
    "A"
   ]
  },
  {
   "cell_type": "code",
   "execution_count": 58,
   "id": "8c7b64ed-b460-4597-b60f-cf5876237d09",
   "metadata": {},
   "outputs": [
    {
     "data": {
      "text/latex": [
       "$\\displaystyle - x - 2 y + 2$"
      ],
      "text/plain": [
       "-x - 2*y + 2"
      ]
     },
     "execution_count": 58,
     "metadata": {},
     "output_type": "execute_result"
    }
   ],
   "source": [
    "sp.diff(y*(2-x-y),y)"
   ]
  },
  {
   "cell_type": "code",
   "execution_count": 59,
   "id": "333259d6-4caa-43a0-ab3b-213ea4ded98f",
   "metadata": {},
   "outputs": [
    {
     "data": {
      "text/latex": [
       "$\\displaystyle 1$"
      ],
      "text/plain": [
       "1"
      ]
     },
     "execution_count": 59,
     "metadata": {},
     "output_type": "execute_result"
    }
   ],
   "source": [
    "A.det()"
   ]
  },
  {
   "cell_type": "code",
   "execution_count": 121,
   "id": "ba5bdb6d-bebb-4ee9-beb0-ee3ddfc729a8",
   "metadata": {},
   "outputs": [
    {
     "data": {
      "text/latex": [
       "$\\displaystyle k x - l$"
      ],
      "text/plain": [
       "k*x - l"
      ]
     },
     "execution_count": 121,
     "metadata": {},
     "output_type": "execute_result"
    }
   ],
   "source": [
    "sp.diff(k*x*y -l*y,y)"
   ]
  },
  {
   "cell_type": "code",
   "execution_count": 116,
   "id": "24f9a5b2-6e59-4ea2-a95c-e1bd9547a5e4",
   "metadata": {},
   "outputs": [
    {
     "data": {
      "text/plain": [
       "[]"
      ]
     },
     "execution_count": 116,
     "metadata": {},
     "output_type": "execute_result"
    }
   ],
   "source": [
    "sp.solve((-k*x*y, k*x*y -l*y),(x,y))"
   ]
  },
  {
   "cell_type": "code",
   "execution_count": 112,
   "id": "6fa3d033-fd54-4e7f-b222-4263913f0032",
   "metadata": {},
   "outputs": [
    {
     "data": {
      "text/latex": [
       "$\\displaystyle l$"
      ],
      "text/plain": [
       "l"
      ]
     },
     "execution_count": 112,
     "metadata": {},
     "output_type": "execute_result"
    }
   ],
   "source": []
  },
  {
   "cell_type": "code",
   "execution_count": null,
   "id": "430a6497-2169-4830-8c2e-304773961d53",
   "metadata": {},
   "outputs": [],
   "source": []
  }
 ],
 "metadata": {
  "kernelspec": {
   "display_name": "Python 3 (ipykernel)",
   "language": "python",
   "name": "python3"
  },
  "language_info": {
   "codemirror_mode": {
    "name": "ipython",
    "version": 3
   },
   "file_extension": ".py",
   "mimetype": "text/x-python",
   "name": "python",
   "nbconvert_exporter": "python",
   "pygments_lexer": "ipython3",
   "version": "3.8.12"
  }
 },
 "nbformat": 4,
 "nbformat_minor": 5
}
